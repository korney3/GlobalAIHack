{
  "nbformat": 4,
  "nbformat_minor": 0,
  "metadata": {
    "colab": {
      "name": "Neural_networks_Global AI Challenge.ipynb",
      "provenance": [],
      "collapsed_sections": []
    },
    "kernelspec": {
      "name": "python3",
      "display_name": "Python 3"
    },
    "language_info": {
      "name": "python"
    },
    "accelerator": "GPU"
  },
  "cells": [
    {
      "cell_type": "code",
      "execution_count": null,
      "metadata": {
        "id": "_-bz8UZnV9_O"
      },
      "outputs": [],
      "source": [
        "from tensorflow.keras.models import Model, Sequential \n",
        "from tensorflow.keras.layers import Dense, Flatten, Reshape, Input, Conv2DTranspose, concatenate, Activation, MaxPooling2D, Conv2D, BatchNormalization, Dropout\n",
        "from tensorflow.keras import backend as K \n",
        "from tensorflow.keras.optimizers import Adam \n",
        "from tensorflow.keras import utils \n",
        "import matplotlib.pyplot as plt \n",
        "from tensorflow.keras.preprocessing import image \n",
        "import numpy as np \n",
        "import pandas as pd \n",
        "from PIL import Image \n",
        "from sklearn.model_selection import train_test_split \n",
        "from sklearn.preprocessing import StandardScaler # модуль для стандартизации данных\n",
        "\n",
        "from tensorflow.keras.preprocessing.text import Tokenizer # Методы для работы с текстами и преобразования их в последовательности\n",
        "from tensorflow.keras.preprocessing.sequence import pad_sequences # Метод для работы с последовательностями\n",
        "from sklearn.preprocessing import LabelEncoder # Метод кодирования тестовых лейблов\n",
        "\n",
        "import os \n",
        "import time"
      ]
    },
    {
      "cell_type": "code",
      "source": [
        "#from google.colab import drive\n",
        "#drive.mount('/content/drive')"
      ],
      "metadata": {
        "id": "v_gOuEdiX1bc"
      },
      "execution_count": null,
      "outputs": []
    },
    {
      "cell_type": "code",
      "source": [
        "df_test = pd.read_csv('/content/test.csv')\n",
        "df_train = pd.read_csv('/content/train.csv')"
      ],
      "metadata": {
        "id": "sRVgmd9RX3re"
      },
      "execution_count": null,
      "outputs": []
    },
    {
      "cell_type": "code",
      "source": [
        "df_test"
      ],
      "metadata": {
        "colab": {
          "base_uri": "https://localhost:8080/",
          "height": 424
        },
        "id": "DYgd6WWzYu2B",
        "outputId": "f7e9c880-059f-4267-dca1-5724f632cb40"
      },
      "execution_count": null,
      "outputs": [
        {
          "output_type": "execute_result",
          "data": {
            "text/html": [
              "\n",
              "  <div id=\"df-197a2c51-78e5-4bc4-b2e2-11b4765771b3\">\n",
              "    <div class=\"colab-df-container\">\n",
              "      <div>\n",
              "<style scoped>\n",
              "    .dataframe tbody tr th:only-of-type {\n",
              "        vertical-align: middle;\n",
              "    }\n",
              "\n",
              "    .dataframe tbody tr th {\n",
              "        vertical-align: top;\n",
              "    }\n",
              "\n",
              "    .dataframe thead th {\n",
              "        text-align: right;\n",
              "    }\n",
              "</style>\n",
              "<table border=\"1\" class=\"dataframe\">\n",
              "  <thead>\n",
              "    <tr style=\"text-align: right;\">\n",
              "      <th></th>\n",
              "      <th>Unnamed: 0</th>\n",
              "      <th>Smiles</th>\n",
              "    </tr>\n",
              "  </thead>\n",
              "  <tbody>\n",
              "    <tr>\n",
              "      <th>0</th>\n",
              "      <td>0</td>\n",
              "      <td>COC(=O)Nc1ccc(-c2nc(N3CCOCC3)c3cnn(C4CCN(Cc5cc...</td>\n",
              "    </tr>\n",
              "    <tr>\n",
              "      <th>1</th>\n",
              "      <td>1</td>\n",
              "      <td>O=Cc1cn(Cc2ccc(Cl)cc2)c2ccccc12</td>\n",
              "    </tr>\n",
              "    <tr>\n",
              "      <th>2</th>\n",
              "      <td>2</td>\n",
              "      <td>NC(CO)C(=O)NNCc1ccc(O)c(O)c1O</td>\n",
              "    </tr>\n",
              "    <tr>\n",
              "      <th>3</th>\n",
              "      <td>3</td>\n",
              "      <td>Nc1nc(=O)n([C@H]2C[C@H](O)[C@@H](CO)O2)cc1Cl</td>\n",
              "    </tr>\n",
              "    <tr>\n",
              "      <th>4</th>\n",
              "      <td>4</td>\n",
              "      <td>Nc1ccc(C(=O)Nc2cccc(-c3nc(N4CCOCC4)c4oc5ncccc5...</td>\n",
              "    </tr>\n",
              "    <tr>\n",
              "      <th>...</th>\n",
              "      <td>...</td>\n",
              "      <td>...</td>\n",
              "    </tr>\n",
              "    <tr>\n",
              "      <th>1609</th>\n",
              "      <td>1609</td>\n",
              "      <td>NS(=O)(=O)c1cc2c(cc1Cl)NC(C1CC3C=CC1C3)NS2(=O)=O</td>\n",
              "    </tr>\n",
              "    <tr>\n",
              "      <th>1610</th>\n",
              "      <td>1610</td>\n",
              "      <td>Cc1cccc(Nc2ccncc2S(=O)(=O)NC(=O)NC(C)C)c1</td>\n",
              "    </tr>\n",
              "    <tr>\n",
              "      <th>1611</th>\n",
              "      <td>1611</td>\n",
              "      <td>CCCC(=O)O[C@]1(C(=O)CO)CC[C@H]2[C@@H]3CCC4=CC(...</td>\n",
              "    </tr>\n",
              "    <tr>\n",
              "      <th>1612</th>\n",
              "      <td>1612</td>\n",
              "      <td>CN(C)c1cccc(Oc2cnc(Nc3cccc(O)c3)nc2)c1</td>\n",
              "    </tr>\n",
              "    <tr>\n",
              "      <th>1613</th>\n",
              "      <td>1613</td>\n",
              "      <td>O=C(O)c1ccccc1-c1c2ccc(=O)cc-2oc2cc(O)ccc12</td>\n",
              "    </tr>\n",
              "  </tbody>\n",
              "</table>\n",
              "<p>1614 rows × 2 columns</p>\n",
              "</div>\n",
              "      <button class=\"colab-df-convert\" onclick=\"convertToInteractive('df-197a2c51-78e5-4bc4-b2e2-11b4765771b3')\"\n",
              "              title=\"Convert this dataframe to an interactive table.\"\n",
              "              style=\"display:none;\">\n",
              "        \n",
              "  <svg xmlns=\"http://www.w3.org/2000/svg\" height=\"24px\"viewBox=\"0 0 24 24\"\n",
              "       width=\"24px\">\n",
              "    <path d=\"M0 0h24v24H0V0z\" fill=\"none\"/>\n",
              "    <path d=\"M18.56 5.44l.94 2.06.94-2.06 2.06-.94-2.06-.94-.94-2.06-.94 2.06-2.06.94zm-11 1L8.5 8.5l.94-2.06 2.06-.94-2.06-.94L8.5 2.5l-.94 2.06-2.06.94zm10 10l.94 2.06.94-2.06 2.06-.94-2.06-.94-.94-2.06-.94 2.06-2.06.94z\"/><path d=\"M17.41 7.96l-1.37-1.37c-.4-.4-.92-.59-1.43-.59-.52 0-1.04.2-1.43.59L10.3 9.45l-7.72 7.72c-.78.78-.78 2.05 0 2.83L4 21.41c.39.39.9.59 1.41.59.51 0 1.02-.2 1.41-.59l7.78-7.78 2.81-2.81c.8-.78.8-2.07 0-2.86zM5.41 20L4 18.59l7.72-7.72 1.47 1.35L5.41 20z\"/>\n",
              "  </svg>\n",
              "      </button>\n",
              "      \n",
              "  <style>\n",
              "    .colab-df-container {\n",
              "      display:flex;\n",
              "      flex-wrap:wrap;\n",
              "      gap: 12px;\n",
              "    }\n",
              "\n",
              "    .colab-df-convert {\n",
              "      background-color: #E8F0FE;\n",
              "      border: none;\n",
              "      border-radius: 50%;\n",
              "      cursor: pointer;\n",
              "      display: none;\n",
              "      fill: #1967D2;\n",
              "      height: 32px;\n",
              "      padding: 0 0 0 0;\n",
              "      width: 32px;\n",
              "    }\n",
              "\n",
              "    .colab-df-convert:hover {\n",
              "      background-color: #E2EBFA;\n",
              "      box-shadow: 0px 1px 2px rgba(60, 64, 67, 0.3), 0px 1px 3px 1px rgba(60, 64, 67, 0.15);\n",
              "      fill: #174EA6;\n",
              "    }\n",
              "\n",
              "    [theme=dark] .colab-df-convert {\n",
              "      background-color: #3B4455;\n",
              "      fill: #D2E3FC;\n",
              "    }\n",
              "\n",
              "    [theme=dark] .colab-df-convert:hover {\n",
              "      background-color: #434B5C;\n",
              "      box-shadow: 0px 1px 3px 1px rgba(0, 0, 0, 0.15);\n",
              "      filter: drop-shadow(0px 1px 2px rgba(0, 0, 0, 0.3));\n",
              "      fill: #FFFFFF;\n",
              "    }\n",
              "  </style>\n",
              "\n",
              "      <script>\n",
              "        const buttonEl =\n",
              "          document.querySelector('#df-197a2c51-78e5-4bc4-b2e2-11b4765771b3 button.colab-df-convert');\n",
              "        buttonEl.style.display =\n",
              "          google.colab.kernel.accessAllowed ? 'block' : 'none';\n",
              "\n",
              "        async function convertToInteractive(key) {\n",
              "          const element = document.querySelector('#df-197a2c51-78e5-4bc4-b2e2-11b4765771b3');\n",
              "          const dataTable =\n",
              "            await google.colab.kernel.invokeFunction('convertToInteractive',\n",
              "                                                     [key], {});\n",
              "          if (!dataTable) return;\n",
              "\n",
              "          const docLinkHtml = 'Like what you see? Visit the ' +\n",
              "            '<a target=\"_blank\" href=https://colab.research.google.com/notebooks/data_table.ipynb>data table notebook</a>'\n",
              "            + ' to learn more about interactive tables.';\n",
              "          element.innerHTML = '';\n",
              "          dataTable['output_type'] = 'display_data';\n",
              "          await google.colab.output.renderOutput(dataTable, element);\n",
              "          const docLink = document.createElement('div');\n",
              "          docLink.innerHTML = docLinkHtml;\n",
              "          element.appendChild(docLink);\n",
              "        }\n",
              "      </script>\n",
              "    </div>\n",
              "  </div>\n",
              "  "
            ],
            "text/plain": [
              "      Unnamed: 0                                             Smiles\n",
              "0              0  COC(=O)Nc1ccc(-c2nc(N3CCOCC3)c3cnn(C4CCN(Cc5cc...\n",
              "1              1                    O=Cc1cn(Cc2ccc(Cl)cc2)c2ccccc12\n",
              "2              2                      NC(CO)C(=O)NNCc1ccc(O)c(O)c1O\n",
              "3              3       Nc1nc(=O)n([C@H]2C[C@H](O)[C@@H](CO)O2)cc1Cl\n",
              "4              4  Nc1ccc(C(=O)Nc2cccc(-c3nc(N4CCOCC4)c4oc5ncccc5...\n",
              "...          ...                                                ...\n",
              "1609        1609   NS(=O)(=O)c1cc2c(cc1Cl)NC(C1CC3C=CC1C3)NS2(=O)=O\n",
              "1610        1610          Cc1cccc(Nc2ccncc2S(=O)(=O)NC(=O)NC(C)C)c1\n",
              "1611        1611  CCCC(=O)O[C@]1(C(=O)CO)CC[C@H]2[C@@H]3CCC4=CC(...\n",
              "1612        1612             CN(C)c1cccc(Oc2cnc(Nc3cccc(O)c3)nc2)c1\n",
              "1613        1613        O=C(O)c1ccccc1-c1c2ccc(=O)cc-2oc2cc(O)ccc12\n",
              "\n",
              "[1614 rows x 2 columns]"
            ]
          },
          "metadata": {},
          "execution_count": 3
        }
      ]
    },
    {
      "cell_type": "code",
      "source": [
        "df_train"
      ],
      "metadata": {
        "colab": {
          "base_uri": "https://localhost:8080/",
          "height": 424
        },
        "id": "qEIVWapvYxZ1",
        "outputId": "826601c8-4e61-4810-a615-59a0945590ee"
      },
      "execution_count": null,
      "outputs": [
        {
          "output_type": "execute_result",
          "data": {
            "text/html": [
              "\n",
              "  <div id=\"df-4a130e7f-712c-44bf-bbff-6852dd118767\">\n",
              "    <div class=\"colab-df-container\">\n",
              "      <div>\n",
              "<style scoped>\n",
              "    .dataframe tbody tr th:only-of-type {\n",
              "        vertical-align: middle;\n",
              "    }\n",
              "\n",
              "    .dataframe tbody tr th {\n",
              "        vertical-align: top;\n",
              "    }\n",
              "\n",
              "    .dataframe thead th {\n",
              "        text-align: right;\n",
              "    }\n",
              "</style>\n",
              "<table border=\"1\" class=\"dataframe\">\n",
              "  <thead>\n",
              "    <tr style=\"text-align: right;\">\n",
              "      <th></th>\n",
              "      <th>Unnamed: 0</th>\n",
              "      <th>Smiles</th>\n",
              "      <th>Active</th>\n",
              "    </tr>\n",
              "  </thead>\n",
              "  <tbody>\n",
              "    <tr>\n",
              "      <th>0</th>\n",
              "      <td>0</td>\n",
              "      <td>COc1ccc2[nH]cc(CCN)c2c1</td>\n",
              "      <td>False</td>\n",
              "    </tr>\n",
              "    <tr>\n",
              "      <th>1</th>\n",
              "      <td>1</td>\n",
              "      <td>CCCN1CCC[C@H](c2cccc(O)c2)C1.Cl</td>\n",
              "      <td>False</td>\n",
              "    </tr>\n",
              "    <tr>\n",
              "      <th>2</th>\n",
              "      <td>2</td>\n",
              "      <td>O=C(NO)c1cnc(N2CCN(S(=O)(=O)c3ccc4ccccc4c3)CC2...</td>\n",
              "      <td>False</td>\n",
              "    </tr>\n",
              "    <tr>\n",
              "      <th>3</th>\n",
              "      <td>3</td>\n",
              "      <td>Nc1cccc(CNC(=O)c2ccc(Oc3ccc(OCc4cccc(F)c4)cc3)...</td>\n",
              "      <td>False</td>\n",
              "    </tr>\n",
              "    <tr>\n",
              "      <th>4</th>\n",
              "      <td>4</td>\n",
              "      <td>Fc1ccccc1CNCc1ccc(-c2ccnc3[nH]ccc23)cc1</td>\n",
              "      <td>False</td>\n",
              "    </tr>\n",
              "    <tr>\n",
              "      <th>...</th>\n",
              "      <td>...</td>\n",
              "      <td>...</td>\n",
              "      <td>...</td>\n",
              "    </tr>\n",
              "    <tr>\n",
              "      <th>5552</th>\n",
              "      <td>5552</td>\n",
              "      <td>O=C(Oc1ccc([N+](=O)[O-])cc1)N1CCC(C(O)(c2ccc3c...</td>\n",
              "      <td>False</td>\n",
              "    </tr>\n",
              "    <tr>\n",
              "      <th>5553</th>\n",
              "      <td>5553</td>\n",
              "      <td>Nc1nonc1/C(=N/O)Nc1ccc(F)c(Br)c1</td>\n",
              "      <td>False</td>\n",
              "    </tr>\n",
              "    <tr>\n",
              "      <th>5554</th>\n",
              "      <td>5554</td>\n",
              "      <td>Oc1cccc2cccnc12</td>\n",
              "      <td>False</td>\n",
              "    </tr>\n",
              "    <tr>\n",
              "      <th>5555</th>\n",
              "      <td>5555</td>\n",
              "      <td>OC(c1ccc(-c2ccc(CN3CCN(Cc4ccncc4)CC3)cc2)c(F)c...</td>\n",
              "      <td>False</td>\n",
              "    </tr>\n",
              "    <tr>\n",
              "      <th>5556</th>\n",
              "      <td>5556</td>\n",
              "      <td>CCCCNc1ccc(C(=O)OCCN(C)C)cc1.Cl</td>\n",
              "      <td>False</td>\n",
              "    </tr>\n",
              "  </tbody>\n",
              "</table>\n",
              "<p>5557 rows × 3 columns</p>\n",
              "</div>\n",
              "      <button class=\"colab-df-convert\" onclick=\"convertToInteractive('df-4a130e7f-712c-44bf-bbff-6852dd118767')\"\n",
              "              title=\"Convert this dataframe to an interactive table.\"\n",
              "              style=\"display:none;\">\n",
              "        \n",
              "  <svg xmlns=\"http://www.w3.org/2000/svg\" height=\"24px\"viewBox=\"0 0 24 24\"\n",
              "       width=\"24px\">\n",
              "    <path d=\"M0 0h24v24H0V0z\" fill=\"none\"/>\n",
              "    <path d=\"M18.56 5.44l.94 2.06.94-2.06 2.06-.94-2.06-.94-.94-2.06-.94 2.06-2.06.94zm-11 1L8.5 8.5l.94-2.06 2.06-.94-2.06-.94L8.5 2.5l-.94 2.06-2.06.94zm10 10l.94 2.06.94-2.06 2.06-.94-2.06-.94-.94-2.06-.94 2.06-2.06.94z\"/><path d=\"M17.41 7.96l-1.37-1.37c-.4-.4-.92-.59-1.43-.59-.52 0-1.04.2-1.43.59L10.3 9.45l-7.72 7.72c-.78.78-.78 2.05 0 2.83L4 21.41c.39.39.9.59 1.41.59.51 0 1.02-.2 1.41-.59l7.78-7.78 2.81-2.81c.8-.78.8-2.07 0-2.86zM5.41 20L4 18.59l7.72-7.72 1.47 1.35L5.41 20z\"/>\n",
              "  </svg>\n",
              "      </button>\n",
              "      \n",
              "  <style>\n",
              "    .colab-df-container {\n",
              "      display:flex;\n",
              "      flex-wrap:wrap;\n",
              "      gap: 12px;\n",
              "    }\n",
              "\n",
              "    .colab-df-convert {\n",
              "      background-color: #E8F0FE;\n",
              "      border: none;\n",
              "      border-radius: 50%;\n",
              "      cursor: pointer;\n",
              "      display: none;\n",
              "      fill: #1967D2;\n",
              "      height: 32px;\n",
              "      padding: 0 0 0 0;\n",
              "      width: 32px;\n",
              "    }\n",
              "\n",
              "    .colab-df-convert:hover {\n",
              "      background-color: #E2EBFA;\n",
              "      box-shadow: 0px 1px 2px rgba(60, 64, 67, 0.3), 0px 1px 3px 1px rgba(60, 64, 67, 0.15);\n",
              "      fill: #174EA6;\n",
              "    }\n",
              "\n",
              "    [theme=dark] .colab-df-convert {\n",
              "      background-color: #3B4455;\n",
              "      fill: #D2E3FC;\n",
              "    }\n",
              "\n",
              "    [theme=dark] .colab-df-convert:hover {\n",
              "      background-color: #434B5C;\n",
              "      box-shadow: 0px 1px 3px 1px rgba(0, 0, 0, 0.15);\n",
              "      filter: drop-shadow(0px 1px 2px rgba(0, 0, 0, 0.3));\n",
              "      fill: #FFFFFF;\n",
              "    }\n",
              "  </style>\n",
              "\n",
              "      <script>\n",
              "        const buttonEl =\n",
              "          document.querySelector('#df-4a130e7f-712c-44bf-bbff-6852dd118767 button.colab-df-convert');\n",
              "        buttonEl.style.display =\n",
              "          google.colab.kernel.accessAllowed ? 'block' : 'none';\n",
              "\n",
              "        async function convertToInteractive(key) {\n",
              "          const element = document.querySelector('#df-4a130e7f-712c-44bf-bbff-6852dd118767');\n",
              "          const dataTable =\n",
              "            await google.colab.kernel.invokeFunction('convertToInteractive',\n",
              "                                                     [key], {});\n",
              "          if (!dataTable) return;\n",
              "\n",
              "          const docLinkHtml = 'Like what you see? Visit the ' +\n",
              "            '<a target=\"_blank\" href=https://colab.research.google.com/notebooks/data_table.ipynb>data table notebook</a>'\n",
              "            + ' to learn more about interactive tables.';\n",
              "          element.innerHTML = '';\n",
              "          dataTable['output_type'] = 'display_data';\n",
              "          await google.colab.output.renderOutput(dataTable, element);\n",
              "          const docLink = document.createElement('div');\n",
              "          docLink.innerHTML = docLinkHtml;\n",
              "          element.appendChild(docLink);\n",
              "        }\n",
              "      </script>\n",
              "    </div>\n",
              "  </div>\n",
              "  "
            ],
            "text/plain": [
              "      Unnamed: 0                                             Smiles  Active\n",
              "0              0                            COc1ccc2[nH]cc(CCN)c2c1   False\n",
              "1              1                    CCCN1CCC[C@H](c2cccc(O)c2)C1.Cl   False\n",
              "2              2  O=C(NO)c1cnc(N2CCN(S(=O)(=O)c3ccc4ccccc4c3)CC2...   False\n",
              "3              3  Nc1cccc(CNC(=O)c2ccc(Oc3ccc(OCc4cccc(F)c4)cc3)...   False\n",
              "4              4            Fc1ccccc1CNCc1ccc(-c2ccnc3[nH]ccc23)cc1   False\n",
              "...          ...                                                ...     ...\n",
              "5552        5552  O=C(Oc1ccc([N+](=O)[O-])cc1)N1CCC(C(O)(c2ccc3c...   False\n",
              "5553        5553                   Nc1nonc1/C(=N/O)Nc1ccc(F)c(Br)c1   False\n",
              "5554        5554                                    Oc1cccc2cccnc12   False\n",
              "5555        5555  OC(c1ccc(-c2ccc(CN3CCN(Cc4ccncc4)CC3)cc2)c(F)c...   False\n",
              "5556        5556                    CCCCNc1ccc(C(=O)OCCN(C)C)cc1.Cl   False\n",
              "\n",
              "[5557 rows x 3 columns]"
            ]
          },
          "metadata": {},
          "execution_count": 4
        }
      ]
    },
    {
      "cell_type": "code",
      "source": [
        "# оцениваю на пропуски\n",
        "df_train.isna().sum()"
      ],
      "metadata": {
        "colab": {
          "base_uri": "https://localhost:8080/"
        },
        "id": "LrgVRmndY0sd",
        "outputId": "16898853-57b0-40b0-85a6-984ef168f94d"
      },
      "execution_count": null,
      "outputs": [
        {
          "output_type": "execute_result",
          "data": {
            "text/plain": [
              "Unnamed: 0    0\n",
              "Smiles        0\n",
              "Active        0\n",
              "dtype: int64"
            ]
          },
          "metadata": {},
          "execution_count": 5
        }
      ]
    },
    {
      "cell_type": "code",
      "source": [
        "df_train.info()"
      ],
      "metadata": {
        "colab": {
          "base_uri": "https://localhost:8080/"
        },
        "id": "QwrPMSnIY-zH",
        "outputId": "fa901c18-6bdd-4216-d9de-081527f7babe"
      },
      "execution_count": null,
      "outputs": [
        {
          "output_type": "stream",
          "name": "stdout",
          "text": [
            "<class 'pandas.core.frame.DataFrame'>\n",
            "RangeIndex: 5557 entries, 0 to 5556\n",
            "Data columns (total 3 columns):\n",
            " #   Column      Non-Null Count  Dtype \n",
            "---  ------      --------------  ----- \n",
            " 0   Unnamed: 0  5557 non-null   int64 \n",
            " 1   Smiles      5557 non-null   object\n",
            " 2   Active      5557 non-null   bool  \n",
            "dtypes: bool(1), int64(1), object(1)\n",
            "memory usage: 92.4+ KB\n"
          ]
        }
      ]
    },
    {
      "cell_type": "code",
      "source": [
        "df_train.describe()"
      ],
      "metadata": {
        "colab": {
          "base_uri": "https://localhost:8080/",
          "height": 300
        },
        "id": "WKQeZocsZCnk",
        "outputId": "f46be0e8-2801-4c5e-9ebe-c1d9cf76689c"
      },
      "execution_count": null,
      "outputs": [
        {
          "output_type": "execute_result",
          "data": {
            "text/html": [
              "\n",
              "  <div id=\"df-c4851f33-1857-4dfb-9e7e-baf340b0a00a\">\n",
              "    <div class=\"colab-df-container\">\n",
              "      <div>\n",
              "<style scoped>\n",
              "    .dataframe tbody tr th:only-of-type {\n",
              "        vertical-align: middle;\n",
              "    }\n",
              "\n",
              "    .dataframe tbody tr th {\n",
              "        vertical-align: top;\n",
              "    }\n",
              "\n",
              "    .dataframe thead th {\n",
              "        text-align: right;\n",
              "    }\n",
              "</style>\n",
              "<table border=\"1\" class=\"dataframe\">\n",
              "  <thead>\n",
              "    <tr style=\"text-align: right;\">\n",
              "      <th></th>\n",
              "      <th>Unnamed: 0</th>\n",
              "    </tr>\n",
              "  </thead>\n",
              "  <tbody>\n",
              "    <tr>\n",
              "      <th>count</th>\n",
              "      <td>5557.000000</td>\n",
              "    </tr>\n",
              "    <tr>\n",
              "      <th>mean</th>\n",
              "      <td>2778.000000</td>\n",
              "    </tr>\n",
              "    <tr>\n",
              "      <th>std</th>\n",
              "      <td>1604.312054</td>\n",
              "    </tr>\n",
              "    <tr>\n",
              "      <th>min</th>\n",
              "      <td>0.000000</td>\n",
              "    </tr>\n",
              "    <tr>\n",
              "      <th>25%</th>\n",
              "      <td>1389.000000</td>\n",
              "    </tr>\n",
              "    <tr>\n",
              "      <th>50%</th>\n",
              "      <td>2778.000000</td>\n",
              "    </tr>\n",
              "    <tr>\n",
              "      <th>75%</th>\n",
              "      <td>4167.000000</td>\n",
              "    </tr>\n",
              "    <tr>\n",
              "      <th>max</th>\n",
              "      <td>5556.000000</td>\n",
              "    </tr>\n",
              "  </tbody>\n",
              "</table>\n",
              "</div>\n",
              "      <button class=\"colab-df-convert\" onclick=\"convertToInteractive('df-c4851f33-1857-4dfb-9e7e-baf340b0a00a')\"\n",
              "              title=\"Convert this dataframe to an interactive table.\"\n",
              "              style=\"display:none;\">\n",
              "        \n",
              "  <svg xmlns=\"http://www.w3.org/2000/svg\" height=\"24px\"viewBox=\"0 0 24 24\"\n",
              "       width=\"24px\">\n",
              "    <path d=\"M0 0h24v24H0V0z\" fill=\"none\"/>\n",
              "    <path d=\"M18.56 5.44l.94 2.06.94-2.06 2.06-.94-2.06-.94-.94-2.06-.94 2.06-2.06.94zm-11 1L8.5 8.5l.94-2.06 2.06-.94-2.06-.94L8.5 2.5l-.94 2.06-2.06.94zm10 10l.94 2.06.94-2.06 2.06-.94-2.06-.94-.94-2.06-.94 2.06-2.06.94z\"/><path d=\"M17.41 7.96l-1.37-1.37c-.4-.4-.92-.59-1.43-.59-.52 0-1.04.2-1.43.59L10.3 9.45l-7.72 7.72c-.78.78-.78 2.05 0 2.83L4 21.41c.39.39.9.59 1.41.59.51 0 1.02-.2 1.41-.59l7.78-7.78 2.81-2.81c.8-.78.8-2.07 0-2.86zM5.41 20L4 18.59l7.72-7.72 1.47 1.35L5.41 20z\"/>\n",
              "  </svg>\n",
              "      </button>\n",
              "      \n",
              "  <style>\n",
              "    .colab-df-container {\n",
              "      display:flex;\n",
              "      flex-wrap:wrap;\n",
              "      gap: 12px;\n",
              "    }\n",
              "\n",
              "    .colab-df-convert {\n",
              "      background-color: #E8F0FE;\n",
              "      border: none;\n",
              "      border-radius: 50%;\n",
              "      cursor: pointer;\n",
              "      display: none;\n",
              "      fill: #1967D2;\n",
              "      height: 32px;\n",
              "      padding: 0 0 0 0;\n",
              "      width: 32px;\n",
              "    }\n",
              "\n",
              "    .colab-df-convert:hover {\n",
              "      background-color: #E2EBFA;\n",
              "      box-shadow: 0px 1px 2px rgba(60, 64, 67, 0.3), 0px 1px 3px 1px rgba(60, 64, 67, 0.15);\n",
              "      fill: #174EA6;\n",
              "    }\n",
              "\n",
              "    [theme=dark] .colab-df-convert {\n",
              "      background-color: #3B4455;\n",
              "      fill: #D2E3FC;\n",
              "    }\n",
              "\n",
              "    [theme=dark] .colab-df-convert:hover {\n",
              "      background-color: #434B5C;\n",
              "      box-shadow: 0px 1px 3px 1px rgba(0, 0, 0, 0.15);\n",
              "      filter: drop-shadow(0px 1px 2px rgba(0, 0, 0, 0.3));\n",
              "      fill: #FFFFFF;\n",
              "    }\n",
              "  </style>\n",
              "\n",
              "      <script>\n",
              "        const buttonEl =\n",
              "          document.querySelector('#df-c4851f33-1857-4dfb-9e7e-baf340b0a00a button.colab-df-convert');\n",
              "        buttonEl.style.display =\n",
              "          google.colab.kernel.accessAllowed ? 'block' : 'none';\n",
              "\n",
              "        async function convertToInteractive(key) {\n",
              "          const element = document.querySelector('#df-c4851f33-1857-4dfb-9e7e-baf340b0a00a');\n",
              "          const dataTable =\n",
              "            await google.colab.kernel.invokeFunction('convertToInteractive',\n",
              "                                                     [key], {});\n",
              "          if (!dataTable) return;\n",
              "\n",
              "          const docLinkHtml = 'Like what you see? Visit the ' +\n",
              "            '<a target=\"_blank\" href=https://colab.research.google.com/notebooks/data_table.ipynb>data table notebook</a>'\n",
              "            + ' to learn more about interactive tables.';\n",
              "          element.innerHTML = '';\n",
              "          dataTable['output_type'] = 'display_data';\n",
              "          await google.colab.output.renderOutput(dataTable, element);\n",
              "          const docLink = document.createElement('div');\n",
              "          docLink.innerHTML = docLinkHtml;\n",
              "          element.appendChild(docLink);\n",
              "        }\n",
              "      </script>\n",
              "    </div>\n",
              "  </div>\n",
              "  "
            ],
            "text/plain": [
              "        Unnamed: 0\n",
              "count  5557.000000\n",
              "mean   2778.000000\n",
              "std    1604.312054\n",
              "min       0.000000\n",
              "25%    1389.000000\n",
              "50%    2778.000000\n",
              "75%    4167.000000\n",
              "max    5556.000000"
            ]
          },
          "metadata": {},
          "execution_count": 8
        }
      ]
    },
    {
      "cell_type": "markdown",
      "source": [
        "#Автокодировщик"
      ],
      "metadata": {
        "id": "kgewJlm7ZGNP"
      }
    },
    {
      "cell_type": "markdown",
      "source": [
        "**Представляю Smiles в виде вектора**"
      ],
      "metadata": {
        "id": "02tmoXXFZJ82"
      }
    },
    {
      "cell_type": "code",
      "source": [
        "!pip install kora -q\n",
        "import kora.install.rdkit # по-дургому не запускалось\n",
        "from rdkit import Chem\n",
        "from rdkit.Chem import AllChem"
      ],
      "metadata": {
        "colab": {
          "base_uri": "https://localhost:8080/"
        },
        "id": "b8zW1qOVZNG0",
        "outputId": "2de2e4ee-f26d-48fe-dee6-1189a6c2d2d0"
      },
      "execution_count": null,
      "outputs": [
        {
          "output_type": "stream",
          "name": "stdout",
          "text": [
            "\u001b[?25l\r\u001b[K     |█████▊                          | 10 kB 29.1 MB/s eta 0:00:01\r\u001b[K     |███████████▍                    | 20 kB 34.5 MB/s eta 0:00:01\r\u001b[K     |█████████████████               | 30 kB 35.3 MB/s eta 0:00:01\r\u001b[K     |██████████████████████▊         | 40 kB 13.5 MB/s eta 0:00:01\r\u001b[K     |████████████████████████████▍   | 51 kB 14.4 MB/s eta 0:00:01\r\u001b[K     |████████████████████████████████| 57 kB 3.5 MB/s \n",
            "\u001b[?25h\u001b[?25l\r\u001b[K     |█████▊                          | 10 kB 30.0 MB/s eta 0:00:01\r\u001b[K     |███████████▌                    | 20 kB 31.2 MB/s eta 0:00:01\r\u001b[K     |█████████████████▎              | 30 kB 31.6 MB/s eta 0:00:01\r\u001b[K     |███████████████████████         | 40 kB 33.0 MB/s eta 0:00:01\r\u001b[K     |████████████████████████████▉   | 51 kB 33.4 MB/s eta 0:00:01\r\u001b[K     |████████████████████████████████| 56 kB 3.8 MB/s \n",
            "\u001b[?25h"
          ]
        }
      ]
    },
    {
      "cell_type": "code",
      "source": [
        "# загружаю датасет\n",
        "df_train_new = pd.read_csv('/content/train.csv', index_col = 0)\n",
        "df_train_new.head()"
      ],
      "metadata": {
        "colab": {
          "base_uri": "https://localhost:8080/",
          "height": 206
        },
        "id": "AIqYNgDOZQRJ",
        "outputId": "287f1d24-d6a3-44c9-edd5-9b9c27b94803"
      },
      "execution_count": null,
      "outputs": [
        {
          "output_type": "execute_result",
          "data": {
            "text/html": [
              "\n",
              "  <div id=\"df-658ec321-f6e9-4ef5-81d1-b44c7bf3b1c1\">\n",
              "    <div class=\"colab-df-container\">\n",
              "      <div>\n",
              "<style scoped>\n",
              "    .dataframe tbody tr th:only-of-type {\n",
              "        vertical-align: middle;\n",
              "    }\n",
              "\n",
              "    .dataframe tbody tr th {\n",
              "        vertical-align: top;\n",
              "    }\n",
              "\n",
              "    .dataframe thead th {\n",
              "        text-align: right;\n",
              "    }\n",
              "</style>\n",
              "<table border=\"1\" class=\"dataframe\">\n",
              "  <thead>\n",
              "    <tr style=\"text-align: right;\">\n",
              "      <th></th>\n",
              "      <th>Smiles</th>\n",
              "      <th>Active</th>\n",
              "    </tr>\n",
              "  </thead>\n",
              "  <tbody>\n",
              "    <tr>\n",
              "      <th>0</th>\n",
              "      <td>COc1ccc2[nH]cc(CCN)c2c1</td>\n",
              "      <td>False</td>\n",
              "    </tr>\n",
              "    <tr>\n",
              "      <th>1</th>\n",
              "      <td>CCCN1CCC[C@H](c2cccc(O)c2)C1.Cl</td>\n",
              "      <td>False</td>\n",
              "    </tr>\n",
              "    <tr>\n",
              "      <th>2</th>\n",
              "      <td>O=C(NO)c1cnc(N2CCN(S(=O)(=O)c3ccc4ccccc4c3)CC2...</td>\n",
              "      <td>False</td>\n",
              "    </tr>\n",
              "    <tr>\n",
              "      <th>3</th>\n",
              "      <td>Nc1cccc(CNC(=O)c2ccc(Oc3ccc(OCc4cccc(F)c4)cc3)...</td>\n",
              "      <td>False</td>\n",
              "    </tr>\n",
              "    <tr>\n",
              "      <th>4</th>\n",
              "      <td>Fc1ccccc1CNCc1ccc(-c2ccnc3[nH]ccc23)cc1</td>\n",
              "      <td>False</td>\n",
              "    </tr>\n",
              "  </tbody>\n",
              "</table>\n",
              "</div>\n",
              "      <button class=\"colab-df-convert\" onclick=\"convertToInteractive('df-658ec321-f6e9-4ef5-81d1-b44c7bf3b1c1')\"\n",
              "              title=\"Convert this dataframe to an interactive table.\"\n",
              "              style=\"display:none;\">\n",
              "        \n",
              "  <svg xmlns=\"http://www.w3.org/2000/svg\" height=\"24px\"viewBox=\"0 0 24 24\"\n",
              "       width=\"24px\">\n",
              "    <path d=\"M0 0h24v24H0V0z\" fill=\"none\"/>\n",
              "    <path d=\"M18.56 5.44l.94 2.06.94-2.06 2.06-.94-2.06-.94-.94-2.06-.94 2.06-2.06.94zm-11 1L8.5 8.5l.94-2.06 2.06-.94-2.06-.94L8.5 2.5l-.94 2.06-2.06.94zm10 10l.94 2.06.94-2.06 2.06-.94-2.06-.94-.94-2.06-.94 2.06-2.06.94z\"/><path d=\"M17.41 7.96l-1.37-1.37c-.4-.4-.92-.59-1.43-.59-.52 0-1.04.2-1.43.59L10.3 9.45l-7.72 7.72c-.78.78-.78 2.05 0 2.83L4 21.41c.39.39.9.59 1.41.59.51 0 1.02-.2 1.41-.59l7.78-7.78 2.81-2.81c.8-.78.8-2.07 0-2.86zM5.41 20L4 18.59l7.72-7.72 1.47 1.35L5.41 20z\"/>\n",
              "  </svg>\n",
              "      </button>\n",
              "      \n",
              "  <style>\n",
              "    .colab-df-container {\n",
              "      display:flex;\n",
              "      flex-wrap:wrap;\n",
              "      gap: 12px;\n",
              "    }\n",
              "\n",
              "    .colab-df-convert {\n",
              "      background-color: #E8F0FE;\n",
              "      border: none;\n",
              "      border-radius: 50%;\n",
              "      cursor: pointer;\n",
              "      display: none;\n",
              "      fill: #1967D2;\n",
              "      height: 32px;\n",
              "      padding: 0 0 0 0;\n",
              "      width: 32px;\n",
              "    }\n",
              "\n",
              "    .colab-df-convert:hover {\n",
              "      background-color: #E2EBFA;\n",
              "      box-shadow: 0px 1px 2px rgba(60, 64, 67, 0.3), 0px 1px 3px 1px rgba(60, 64, 67, 0.15);\n",
              "      fill: #174EA6;\n",
              "    }\n",
              "\n",
              "    [theme=dark] .colab-df-convert {\n",
              "      background-color: #3B4455;\n",
              "      fill: #D2E3FC;\n",
              "    }\n",
              "\n",
              "    [theme=dark] .colab-df-convert:hover {\n",
              "      background-color: #434B5C;\n",
              "      box-shadow: 0px 1px 3px 1px rgba(0, 0, 0, 0.15);\n",
              "      filter: drop-shadow(0px 1px 2px rgba(0, 0, 0, 0.3));\n",
              "      fill: #FFFFFF;\n",
              "    }\n",
              "  </style>\n",
              "\n",
              "      <script>\n",
              "        const buttonEl =\n",
              "          document.querySelector('#df-658ec321-f6e9-4ef5-81d1-b44c7bf3b1c1 button.colab-df-convert');\n",
              "        buttonEl.style.display =\n",
              "          google.colab.kernel.accessAllowed ? 'block' : 'none';\n",
              "\n",
              "        async function convertToInteractive(key) {\n",
              "          const element = document.querySelector('#df-658ec321-f6e9-4ef5-81d1-b44c7bf3b1c1');\n",
              "          const dataTable =\n",
              "            await google.colab.kernel.invokeFunction('convertToInteractive',\n",
              "                                                     [key], {});\n",
              "          if (!dataTable) return;\n",
              "\n",
              "          const docLinkHtml = 'Like what you see? Visit the ' +\n",
              "            '<a target=\"_blank\" href=https://colab.research.google.com/notebooks/data_table.ipynb>data table notebook</a>'\n",
              "            + ' to learn more about interactive tables.';\n",
              "          element.innerHTML = '';\n",
              "          dataTable['output_type'] = 'display_data';\n",
              "          await google.colab.output.renderOutput(dataTable, element);\n",
              "          const docLink = document.createElement('div');\n",
              "          docLink.innerHTML = docLinkHtml;\n",
              "          element.appendChild(docLink);\n",
              "        }\n",
              "      </script>\n",
              "    </div>\n",
              "  </div>\n",
              "  "
            ],
            "text/plain": [
              "                                              Smiles  Active\n",
              "0                            COc1ccc2[nH]cc(CCN)c2c1   False\n",
              "1                    CCCN1CCC[C@H](c2cccc(O)c2)C1.Cl   False\n",
              "2  O=C(NO)c1cnc(N2CCN(S(=O)(=O)c3ccc4ccccc4c3)CC2...   False\n",
              "3  Nc1cccc(CNC(=O)c2ccc(Oc3ccc(OCc4cccc(F)c4)cc3)...   False\n",
              "4            Fc1ccccc1CNCc1ccc(-c2ccnc3[nH]ccc23)cc1   False"
            ]
          },
          "metadata": {},
          "execution_count": 15
        }
      ]
    },
    {
      "cell_type": "code",
      "source": [
        "# df активные молекулы\n",
        "df_train_True = df_train_new[df_train_new.Active==True]\n",
        "df_train_True.head()"
      ],
      "metadata": {
        "colab": {
          "base_uri": "https://localhost:8080/",
          "height": 206
        },
        "id": "6dc2Eyb2Z8IG",
        "outputId": "6f678a7e-a438-4210-ccd2-0cc097973a98"
      },
      "execution_count": null,
      "outputs": [
        {
          "output_type": "execute_result",
          "data": {
            "text/html": [
              "\n",
              "  <div id=\"df-faf69180-77c3-4caf-a0b0-336e3079e2d8\">\n",
              "    <div class=\"colab-df-container\">\n",
              "      <div>\n",
              "<style scoped>\n",
              "    .dataframe tbody tr th:only-of-type {\n",
              "        vertical-align: middle;\n",
              "    }\n",
              "\n",
              "    .dataframe tbody tr th {\n",
              "        vertical-align: top;\n",
              "    }\n",
              "\n",
              "    .dataframe thead th {\n",
              "        text-align: right;\n",
              "    }\n",
              "</style>\n",
              "<table border=\"1\" class=\"dataframe\">\n",
              "  <thead>\n",
              "    <tr style=\"text-align: right;\">\n",
              "      <th></th>\n",
              "      <th>Smiles</th>\n",
              "      <th>Active</th>\n",
              "    </tr>\n",
              "  </thead>\n",
              "  <tbody>\n",
              "    <tr>\n",
              "      <th>17</th>\n",
              "      <td>Nc1ccc(O)c2ncccc12</td>\n",
              "      <td>True</td>\n",
              "    </tr>\n",
              "    <tr>\n",
              "      <th>38</th>\n",
              "      <td>C[C@H]1COc2c(N3CCN(C)CC3)c(F)cc3c(=O)c(C(=O)O)...</td>\n",
              "      <td>True</td>\n",
              "    </tr>\n",
              "    <tr>\n",
              "      <th>52</th>\n",
              "      <td>Cl.NCCc1cc(O)c(O)cc1O</td>\n",
              "      <td>True</td>\n",
              "    </tr>\n",
              "    <tr>\n",
              "      <th>111</th>\n",
              "      <td>Cc1ccc(-n2sc(=O)n(Cc3ccc(F)cc3)c2=O)cc1</td>\n",
              "      <td>True</td>\n",
              "    </tr>\n",
              "    <tr>\n",
              "      <th>122</th>\n",
              "      <td>Oc1cc2c(cc1C(c1ccc(C(F)(F)F)cc1)N1CCOCC1)OCO2</td>\n",
              "      <td>True</td>\n",
              "    </tr>\n",
              "  </tbody>\n",
              "</table>\n",
              "</div>\n",
              "      <button class=\"colab-df-convert\" onclick=\"convertToInteractive('df-faf69180-77c3-4caf-a0b0-336e3079e2d8')\"\n",
              "              title=\"Convert this dataframe to an interactive table.\"\n",
              "              style=\"display:none;\">\n",
              "        \n",
              "  <svg xmlns=\"http://www.w3.org/2000/svg\" height=\"24px\"viewBox=\"0 0 24 24\"\n",
              "       width=\"24px\">\n",
              "    <path d=\"M0 0h24v24H0V0z\" fill=\"none\"/>\n",
              "    <path d=\"M18.56 5.44l.94 2.06.94-2.06 2.06-.94-2.06-.94-.94-2.06-.94 2.06-2.06.94zm-11 1L8.5 8.5l.94-2.06 2.06-.94-2.06-.94L8.5 2.5l-.94 2.06-2.06.94zm10 10l.94 2.06.94-2.06 2.06-.94-2.06-.94-.94-2.06-.94 2.06-2.06.94z\"/><path d=\"M17.41 7.96l-1.37-1.37c-.4-.4-.92-.59-1.43-.59-.52 0-1.04.2-1.43.59L10.3 9.45l-7.72 7.72c-.78.78-.78 2.05 0 2.83L4 21.41c.39.39.9.59 1.41.59.51 0 1.02-.2 1.41-.59l7.78-7.78 2.81-2.81c.8-.78.8-2.07 0-2.86zM5.41 20L4 18.59l7.72-7.72 1.47 1.35L5.41 20z\"/>\n",
              "  </svg>\n",
              "      </button>\n",
              "      \n",
              "  <style>\n",
              "    .colab-df-container {\n",
              "      display:flex;\n",
              "      flex-wrap:wrap;\n",
              "      gap: 12px;\n",
              "    }\n",
              "\n",
              "    .colab-df-convert {\n",
              "      background-color: #E8F0FE;\n",
              "      border: none;\n",
              "      border-radius: 50%;\n",
              "      cursor: pointer;\n",
              "      display: none;\n",
              "      fill: #1967D2;\n",
              "      height: 32px;\n",
              "      padding: 0 0 0 0;\n",
              "      width: 32px;\n",
              "    }\n",
              "\n",
              "    .colab-df-convert:hover {\n",
              "      background-color: #E2EBFA;\n",
              "      box-shadow: 0px 1px 2px rgba(60, 64, 67, 0.3), 0px 1px 3px 1px rgba(60, 64, 67, 0.15);\n",
              "      fill: #174EA6;\n",
              "    }\n",
              "\n",
              "    [theme=dark] .colab-df-convert {\n",
              "      background-color: #3B4455;\n",
              "      fill: #D2E3FC;\n",
              "    }\n",
              "\n",
              "    [theme=dark] .colab-df-convert:hover {\n",
              "      background-color: #434B5C;\n",
              "      box-shadow: 0px 1px 3px 1px rgba(0, 0, 0, 0.15);\n",
              "      filter: drop-shadow(0px 1px 2px rgba(0, 0, 0, 0.3));\n",
              "      fill: #FFFFFF;\n",
              "    }\n",
              "  </style>\n",
              "\n",
              "      <script>\n",
              "        const buttonEl =\n",
              "          document.querySelector('#df-faf69180-77c3-4caf-a0b0-336e3079e2d8 button.colab-df-convert');\n",
              "        buttonEl.style.display =\n",
              "          google.colab.kernel.accessAllowed ? 'block' : 'none';\n",
              "\n",
              "        async function convertToInteractive(key) {\n",
              "          const element = document.querySelector('#df-faf69180-77c3-4caf-a0b0-336e3079e2d8');\n",
              "          const dataTable =\n",
              "            await google.colab.kernel.invokeFunction('convertToInteractive',\n",
              "                                                     [key], {});\n",
              "          if (!dataTable) return;\n",
              "\n",
              "          const docLinkHtml = 'Like what you see? Visit the ' +\n",
              "            '<a target=\"_blank\" href=https://colab.research.google.com/notebooks/data_table.ipynb>data table notebook</a>'\n",
              "            + ' to learn more about interactive tables.';\n",
              "          element.innerHTML = '';\n",
              "          dataTable['output_type'] = 'display_data';\n",
              "          await google.colab.output.renderOutput(dataTable, element);\n",
              "          const docLink = document.createElement('div');\n",
              "          docLink.innerHTML = docLinkHtml;\n",
              "          element.appendChild(docLink);\n",
              "        }\n",
              "      </script>\n",
              "    </div>\n",
              "  </div>\n",
              "  "
            ],
            "text/plain": [
              "                                                Smiles  Active\n",
              "17                                  Nc1ccc(O)c2ncccc12    True\n",
              "38   C[C@H]1COc2c(N3CCN(C)CC3)c(F)cc3c(=O)c(C(=O)O)...    True\n",
              "52                               Cl.NCCc1cc(O)c(O)cc1O    True\n",
              "111            Cc1ccc(-n2sc(=O)n(Cc3ccc(F)cc3)c2=O)cc1    True\n",
              "122      Oc1cc2c(cc1C(c1ccc(C(F)(F)F)cc1)N1CCOCC1)OCO2    True"
            ]
          },
          "metadata": {},
          "execution_count": 16
        }
      ]
    },
    {
      "cell_type": "code",
      "source": [
        "# df неактивные молекулы\n",
        "df_train_False = df_train_new[df_train_new.Active==False]\n",
        "df_train_False.head()"
      ],
      "metadata": {
        "colab": {
          "base_uri": "https://localhost:8080/",
          "height": 206
        },
        "id": "9NOeK4tjaDjC",
        "outputId": "d7b961f8-ab02-4b31-fb25-1afc703d2520"
      },
      "execution_count": null,
      "outputs": [
        {
          "output_type": "execute_result",
          "data": {
            "text/html": [
              "\n",
              "  <div id=\"df-3e6b9a85-1ab2-4659-9efe-dfec74e5c4de\">\n",
              "    <div class=\"colab-df-container\">\n",
              "      <div>\n",
              "<style scoped>\n",
              "    .dataframe tbody tr th:only-of-type {\n",
              "        vertical-align: middle;\n",
              "    }\n",
              "\n",
              "    .dataframe tbody tr th {\n",
              "        vertical-align: top;\n",
              "    }\n",
              "\n",
              "    .dataframe thead th {\n",
              "        text-align: right;\n",
              "    }\n",
              "</style>\n",
              "<table border=\"1\" class=\"dataframe\">\n",
              "  <thead>\n",
              "    <tr style=\"text-align: right;\">\n",
              "      <th></th>\n",
              "      <th>Smiles</th>\n",
              "      <th>Active</th>\n",
              "    </tr>\n",
              "  </thead>\n",
              "  <tbody>\n",
              "    <tr>\n",
              "      <th>0</th>\n",
              "      <td>COc1ccc2[nH]cc(CCN)c2c1</td>\n",
              "      <td>False</td>\n",
              "    </tr>\n",
              "    <tr>\n",
              "      <th>1</th>\n",
              "      <td>CCCN1CCC[C@H](c2cccc(O)c2)C1.Cl</td>\n",
              "      <td>False</td>\n",
              "    </tr>\n",
              "    <tr>\n",
              "      <th>2</th>\n",
              "      <td>O=C(NO)c1cnc(N2CCN(S(=O)(=O)c3ccc4ccccc4c3)CC2...</td>\n",
              "      <td>False</td>\n",
              "    </tr>\n",
              "    <tr>\n",
              "      <th>3</th>\n",
              "      <td>Nc1cccc(CNC(=O)c2ccc(Oc3ccc(OCc4cccc(F)c4)cc3)...</td>\n",
              "      <td>False</td>\n",
              "    </tr>\n",
              "    <tr>\n",
              "      <th>4</th>\n",
              "      <td>Fc1ccccc1CNCc1ccc(-c2ccnc3[nH]ccc23)cc1</td>\n",
              "      <td>False</td>\n",
              "    </tr>\n",
              "  </tbody>\n",
              "</table>\n",
              "</div>\n",
              "      <button class=\"colab-df-convert\" onclick=\"convertToInteractive('df-3e6b9a85-1ab2-4659-9efe-dfec74e5c4de')\"\n",
              "              title=\"Convert this dataframe to an interactive table.\"\n",
              "              style=\"display:none;\">\n",
              "        \n",
              "  <svg xmlns=\"http://www.w3.org/2000/svg\" height=\"24px\"viewBox=\"0 0 24 24\"\n",
              "       width=\"24px\">\n",
              "    <path d=\"M0 0h24v24H0V0z\" fill=\"none\"/>\n",
              "    <path d=\"M18.56 5.44l.94 2.06.94-2.06 2.06-.94-2.06-.94-.94-2.06-.94 2.06-2.06.94zm-11 1L8.5 8.5l.94-2.06 2.06-.94-2.06-.94L8.5 2.5l-.94 2.06-2.06.94zm10 10l.94 2.06.94-2.06 2.06-.94-2.06-.94-.94-2.06-.94 2.06-2.06.94z\"/><path d=\"M17.41 7.96l-1.37-1.37c-.4-.4-.92-.59-1.43-.59-.52 0-1.04.2-1.43.59L10.3 9.45l-7.72 7.72c-.78.78-.78 2.05 0 2.83L4 21.41c.39.39.9.59 1.41.59.51 0 1.02-.2 1.41-.59l7.78-7.78 2.81-2.81c.8-.78.8-2.07 0-2.86zM5.41 20L4 18.59l7.72-7.72 1.47 1.35L5.41 20z\"/>\n",
              "  </svg>\n",
              "      </button>\n",
              "      \n",
              "  <style>\n",
              "    .colab-df-container {\n",
              "      display:flex;\n",
              "      flex-wrap:wrap;\n",
              "      gap: 12px;\n",
              "    }\n",
              "\n",
              "    .colab-df-convert {\n",
              "      background-color: #E8F0FE;\n",
              "      border: none;\n",
              "      border-radius: 50%;\n",
              "      cursor: pointer;\n",
              "      display: none;\n",
              "      fill: #1967D2;\n",
              "      height: 32px;\n",
              "      padding: 0 0 0 0;\n",
              "      width: 32px;\n",
              "    }\n",
              "\n",
              "    .colab-df-convert:hover {\n",
              "      background-color: #E2EBFA;\n",
              "      box-shadow: 0px 1px 2px rgba(60, 64, 67, 0.3), 0px 1px 3px 1px rgba(60, 64, 67, 0.15);\n",
              "      fill: #174EA6;\n",
              "    }\n",
              "\n",
              "    [theme=dark] .colab-df-convert {\n",
              "      background-color: #3B4455;\n",
              "      fill: #D2E3FC;\n",
              "    }\n",
              "\n",
              "    [theme=dark] .colab-df-convert:hover {\n",
              "      background-color: #434B5C;\n",
              "      box-shadow: 0px 1px 3px 1px rgba(0, 0, 0, 0.15);\n",
              "      filter: drop-shadow(0px 1px 2px rgba(0, 0, 0, 0.3));\n",
              "      fill: #FFFFFF;\n",
              "    }\n",
              "  </style>\n",
              "\n",
              "      <script>\n",
              "        const buttonEl =\n",
              "          document.querySelector('#df-3e6b9a85-1ab2-4659-9efe-dfec74e5c4de button.colab-df-convert');\n",
              "        buttonEl.style.display =\n",
              "          google.colab.kernel.accessAllowed ? 'block' : 'none';\n",
              "\n",
              "        async function convertToInteractive(key) {\n",
              "          const element = document.querySelector('#df-3e6b9a85-1ab2-4659-9efe-dfec74e5c4de');\n",
              "          const dataTable =\n",
              "            await google.colab.kernel.invokeFunction('convertToInteractive',\n",
              "                                                     [key], {});\n",
              "          if (!dataTable) return;\n",
              "\n",
              "          const docLinkHtml = 'Like what you see? Visit the ' +\n",
              "            '<a target=\"_blank\" href=https://colab.research.google.com/notebooks/data_table.ipynb>data table notebook</a>'\n",
              "            + ' to learn more about interactive tables.';\n",
              "          element.innerHTML = '';\n",
              "          dataTable['output_type'] = 'display_data';\n",
              "          await google.colab.output.renderOutput(dataTable, element);\n",
              "          const docLink = document.createElement('div');\n",
              "          docLink.innerHTML = docLinkHtml;\n",
              "          element.appendChild(docLink);\n",
              "        }\n",
              "      </script>\n",
              "    </div>\n",
              "  </div>\n",
              "  "
            ],
            "text/plain": [
              "                                              Smiles  Active\n",
              "0                            COc1ccc2[nH]cc(CCN)c2c1   False\n",
              "1                    CCCN1CCC[C@H](c2cccc(O)c2)C1.Cl   False\n",
              "2  O=C(NO)c1cnc(N2CCN(S(=O)(=O)c3ccc4ccccc4c3)CC2...   False\n",
              "3  Nc1cccc(CNC(=O)c2ccc(Oc3ccc(OCc4cccc(F)c4)cc3)...   False\n",
              "4            Fc1ccccc1CNCc1ccc(-c2ccnc3[nH]ccc23)cc1   False"
            ]
          },
          "metadata": {},
          "execution_count": 17
        }
      ]
    },
    {
      "cell_type": "code",
      "source": [
        "# собираю значения Smiles неактивных молекул в лист\n",
        "s_inactive = []\n",
        "for i in df_train_False['Smiles']:\n",
        "  s_inactive.append(i)\n",
        "\n",
        "print('Длинна s_inactive:', len(s_inactive))\n",
        "print(\"Пример значения из s_inactive:\", s_inactive[1])"
      ],
      "metadata": {
        "colab": {
          "base_uri": "https://localhost:8080/"
        },
        "id": "aWwq4Sw8aI8K",
        "outputId": "81f77f5a-4563-42d0-8e6f-48036efae018"
      },
      "execution_count": null,
      "outputs": [
        {
          "output_type": "stream",
          "name": "stdout",
          "text": [
            "Длинна s_inactive: 5351\n",
            "Пример значения из s_inactive: CCCN1CCC[C@H](c2cccc(O)c2)C1.Cl\n"
          ]
        }
      ]
    },
    {
      "cell_type": "code",
      "source": [
        "# активные молекулы\n",
        "s_active = []\n",
        "for i in df_train_True['Smiles']:\n",
        "  s_active.append(i)\n",
        "\n",
        "print('Длинна s_active:', len(s_active))\n",
        "print(\"Пример значения из s_active:\", s_active[1])"
      ],
      "metadata": {
        "colab": {
          "base_uri": "https://localhost:8080/"
        },
        "id": "TaFxc_3UaN0s",
        "outputId": "fef7fb5d-ef0b-4231-cf6c-7a123b65b421"
      },
      "execution_count": null,
      "outputs": [
        {
          "output_type": "stream",
          "name": "stdout",
          "text": [
            "Длинна s_active: 206\n",
            "Пример значения из s_active: C[C@H]1COc2c(N3CCN(C)CC3)c(F)cc3c(=O)c(C(=O)O)cn1c23\n"
          ]
        }
      ]
    },
    {
      "cell_type": "code",
      "source": [
        "# функция перефода smiles в вектор 0 и 1\n",
        "def get_morgan_fingerprint(smiles: str, radius=2, nBits=4096): # сделал nBits=4096\n",
        "    mol = Chem.MolFromSmiles(smiles)\n",
        "    morgan_fp = AllChem.GetMorganFingerprintAsBitVect(mol, radius=radius, nBits=nBits)\n",
        "    return (list(morgan_fp))"
      ],
      "metadata": {
        "id": "yUqWtFOoaQ5w"
      },
      "execution_count": null,
      "outputs": []
    },
    {
      "cell_type": "code",
      "source": [
        "# для активных\n",
        "smal_active = []\n",
        "for i in s_active:\n",
        "  sm = get_morgan_fingerprint(i)      # получаю вектор из smiles\n",
        "  smal_active.append(sm)\n",
        "smal_active = np.array(smal_active)   # преобразую в numpy\n",
        "\n",
        "print(f\"Количество молекул активных: {len(smal_active)}\\nДлинна вектора одной молекулы: {len(smal_active[77])}\")\n",
        "print(f'Пример вектора smal_active: {smal_active[77]}')\n",
        "print(f'Размер массива smal_active: {smal_active.shape}')"
      ],
      "metadata": {
        "colab": {
          "base_uri": "https://localhost:8080/"
        },
        "id": "vDfju48oaTqv",
        "outputId": "131a5264-b606-42ce-edd9-b88fcb4aaf30"
      },
      "execution_count": null,
      "outputs": [
        {
          "output_type": "stream",
          "name": "stdout",
          "text": [
            "Количество молекул активных: 206\n",
            "Длинна вектора одной молекулы: 4096\n",
            "Пример вектора smal_active: [0 0 0 ... 0 0 0]\n",
            "Размер массива smal_active: (206, 4096)\n"
          ]
        }
      ]
    },
    {
      "cell_type": "code",
      "source": [
        "# для неактивных\n",
        "smal_inactive = []\n",
        "for i in s_inactive:\n",
        "  sm = get_morgan_fingerprint(i)       # получаю вектор из smiles\n",
        "  smal_inactive.append(sm)\n",
        "smal_inactive = np.array(smal_inactive)# преобразую в numpy"
      ],
      "metadata": {
        "id": "GqrdV_8tae0u"
      },
      "execution_count": null,
      "outputs": []
    },
    {
      "cell_type": "code",
      "source": [
        "# смотрю максимальные и минимальные значения\n",
        "smal_inactive.max(), smal_inactive.min(), "
      ],
      "metadata": {
        "colab": {
          "base_uri": "https://localhost:8080/"
        },
        "id": "Ku7XUgmSkLoz",
        "outputId": "bca5d39f-0b3e-4188-82bb-27d2b2293e64"
      },
      "execution_count": null,
      "outputs": [
        {
          "output_type": "execute_result",
          "data": {
            "text/plain": [
              "(1, 0)"
            ]
          },
          "metadata": {},
          "execution_count": 60
        }
      ]
    },
    {
      "cell_type": "code",
      "source": [
        "RANDOM_SEED = 42 # задаем случайное значение\n",
        "\n",
        "# берём неактивные молекулы разбиваем на train_test(только 'X')\n",
        "X_train, X_test = train_test_split(smal_inactive, test_size=0.2, random_state=RANDOM_SEED)"
      ],
      "metadata": {
        "id": "vxkT0d2Sak1G"
      },
      "execution_count": null,
      "outputs": []
    },
    {
      "cell_type": "code",
      "source": [
        "# размеры\n",
        "X_train.shape, X_test.shape, smal_active.shape"
      ],
      "metadata": {
        "colab": {
          "base_uri": "https://localhost:8080/"
        },
        "id": "Q8pwZqyLatci",
        "outputId": "f24c6bad-b696-4d2e-ad32-20641264c34d"
      },
      "execution_count": null,
      "outputs": [
        {
          "output_type": "execute_result",
          "data": {
            "text/plain": [
              "((4280, 4096), (1071, 4096), (206, 4096))"
            ]
          },
          "metadata": {},
          "execution_count": 24
        }
      ]
    },
    {
      "cell_type": "code",
      "source": [
        "'''\n",
        "# создаю Y_test для тестовой и Y_smal_active для активных молекул\n",
        "Y_test = np.zeros(1071)\n",
        "Y_smal_active = np.ones(206)\n",
        "\n",
        "# размеры\n",
        "Y_test.shape, Y_smal_active.shape\n",
        "'''"
      ],
      "metadata": {
        "colab": {
          "base_uri": "https://localhost:8080/"
        },
        "id": "5EKABgYua094",
        "outputId": "717db5f6-140b-4d73-8d5d-11c06f7fef66"
      },
      "execution_count": null,
      "outputs": [
        {
          "output_type": "execute_result",
          "data": {
            "text/plain": [
              "((1071,), (206,))"
            ]
          },
          "metadata": {},
          "execution_count": 25
        }
      ]
    },
    {
      "cell_type": "code",
      "source": [
        "# Добавляю все активные молекулы в тестовый набор данных для того, чтобы потом сравнивать mse после обучения\n",
        "X_test = np.concatenate((X_test, smal_active))\n",
        "Y_test = np.concatenate((Y_test, Y_smal_active))\n",
        "\n",
        "# размеры\n",
        "X_test.shape, Y_test.shape"
      ],
      "metadata": {
        "colab": {
          "base_uri": "https://localhost:8080/"
        },
        "id": "uIB5VyOSbY_s",
        "outputId": "c9c6d771-991f-40a4-fc79-c2d67dc03734"
      },
      "execution_count": null,
      "outputs": [
        {
          "output_type": "execute_result",
          "data": {
            "text/plain": [
              "((1277, 4096), (1277,))"
            ]
          },
          "metadata": {},
          "execution_count": 26
        }
      ]
    },
    {
      "cell_type": "markdown",
      "source": [
        "**Нейронная сеть**"
      ],
      "metadata": {
        "id": "10vXO_ovboeI"
      }
    },
    {
      "cell_type": "code",
      "source": [
        "def Smiles_Autoencoder(): \n",
        "  dataSize = 4096 # размер входного слоя\n",
        "  dataInput = Input(shape=(dataSize, )) # задаем эти размеры как входные в сеть\n",
        "  \n",
        "  x = Dense(10, activation='relu')(dataInput) # пропускаем через полносвязный слой размером 10\n",
        "  x = Dense(dataSize, activation='sigmoid')(x) # выход это полносвязный слой размером 4096\n",
        "  \n",
        "  autoencoder = Model(inputs=dataInput, outputs=x) # собрали модель \n",
        "  \n",
        "  autoencoder.compile(optimizer=Adam(learning_rate=0.0001), loss='mse') # компилируем модель также, с выбором оптимайзера и среднеквадратичной ошибки\n",
        "  \n",
        "  return autoencoder "
      ],
      "metadata": {
        "id": "8UvRq-yXbksT"
      },
      "execution_count": null,
      "outputs": []
    },
    {
      "cell_type": "code",
      "source": [
        "model = Smiles_Autoencoder()\n",
        "history = model.fit(X_train, X_train,\n",
        "                    epochs=100,\n",
        "                    batch_size=12) # загружаем данные в модель(X_train'ы) и обучаем"
      ],
      "metadata": {
        "colab": {
          "base_uri": "https://localhost:8080/"
        },
        "id": "6Vlx9GnZcCGT",
        "outputId": "fc141ff3-b07e-41e1-86eb-53a72cf0fbb9"
      },
      "execution_count": null,
      "outputs": [
        {
          "output_type": "stream",
          "name": "stdout",
          "text": [
            "Epoch 1/100\n",
            "357/357 [==============================] - 2s 3ms/step - loss: 0.1992\n",
            "Epoch 2/100\n",
            "357/357 [==============================] - 1s 3ms/step - loss: 0.0630\n",
            "Epoch 3/100\n",
            "357/357 [==============================] - 1s 3ms/step - loss: 0.0261\n",
            "Epoch 4/100\n",
            "357/357 [==============================] - 1s 3ms/step - loss: 0.0175\n",
            "Epoch 5/100\n",
            "357/357 [==============================] - 1s 4ms/step - loss: 0.0143\n",
            "Epoch 6/100\n",
            "357/357 [==============================] - 1s 4ms/step - loss: 0.0127\n",
            "Epoch 7/100\n",
            "357/357 [==============================] - 1s 3ms/step - loss: 0.0118\n",
            "Epoch 8/100\n",
            "357/357 [==============================] - 1s 4ms/step - loss: 0.0111\n",
            "Epoch 9/100\n",
            "357/357 [==============================] - 1s 3ms/step - loss: 0.0107\n",
            "Epoch 10/100\n",
            "357/357 [==============================] - 1s 4ms/step - loss: 0.0104\n",
            "Epoch 11/100\n",
            "357/357 [==============================] - 1s 4ms/step - loss: 0.0102\n",
            "Epoch 12/100\n",
            "357/357 [==============================] - 1s 3ms/step - loss: 0.0101\n",
            "Epoch 13/100\n",
            "357/357 [==============================] - 1s 3ms/step - loss: 0.0099\n",
            "Epoch 14/100\n",
            "357/357 [==============================] - 1s 3ms/step - loss: 0.0098\n",
            "Epoch 15/100\n",
            "357/357 [==============================] - 1s 3ms/step - loss: 0.0097\n",
            "Epoch 16/100\n",
            "357/357 [==============================] - 1s 3ms/step - loss: 0.0097\n",
            "Epoch 17/100\n",
            "357/357 [==============================] - 1s 3ms/step - loss: 0.0096\n",
            "Epoch 18/100\n",
            "357/357 [==============================] - 1s 3ms/step - loss: 0.0096\n",
            "Epoch 19/100\n",
            "357/357 [==============================] - 1s 3ms/step - loss: 0.0095\n",
            "Epoch 20/100\n",
            "357/357 [==============================] - 1s 3ms/step - loss: 0.0095\n",
            "Epoch 21/100\n",
            "357/357 [==============================] - 1s 3ms/step - loss: 0.0095\n",
            "Epoch 22/100\n",
            "357/357 [==============================] - 1s 3ms/step - loss: 0.0094\n",
            "Epoch 23/100\n",
            "357/357 [==============================] - 1s 3ms/step - loss: 0.0094\n",
            "Epoch 24/100\n",
            "357/357 [==============================] - 1s 3ms/step - loss: 0.0094\n",
            "Epoch 25/100\n",
            "357/357 [==============================] - 1s 3ms/step - loss: 0.0094\n",
            "Epoch 26/100\n",
            "357/357 [==============================] - 1s 3ms/step - loss: 0.0093\n",
            "Epoch 27/100\n",
            "357/357 [==============================] - 1s 3ms/step - loss: 0.0093\n",
            "Epoch 28/100\n",
            "357/357 [==============================] - 1s 3ms/step - loss: 0.0093\n",
            "Epoch 29/100\n",
            "357/357 [==============================] - 1s 3ms/step - loss: 0.0093\n",
            "Epoch 30/100\n",
            "357/357 [==============================] - 1s 3ms/step - loss: 0.0093\n",
            "Epoch 31/100\n",
            "357/357 [==============================] - 1s 3ms/step - loss: 0.0093\n",
            "Epoch 32/100\n",
            "357/357 [==============================] - 1s 4ms/step - loss: 0.0092\n",
            "Epoch 33/100\n",
            "357/357 [==============================] - 1s 3ms/step - loss: 0.0092\n",
            "Epoch 34/100\n",
            "357/357 [==============================] - 1s 4ms/step - loss: 0.0092\n",
            "Epoch 35/100\n",
            "357/357 [==============================] - 1s 3ms/step - loss: 0.0091\n",
            "Epoch 36/100\n",
            "357/357 [==============================] - 1s 3ms/step - loss: 0.0091\n",
            "Epoch 37/100\n",
            "357/357 [==============================] - 1s 3ms/step - loss: 0.0090\n",
            "Epoch 38/100\n",
            "357/357 [==============================] - 1s 3ms/step - loss: 0.0090\n",
            "Epoch 39/100\n",
            "357/357 [==============================] - 1s 3ms/step - loss: 0.0089\n",
            "Epoch 40/100\n",
            "357/357 [==============================] - 1s 3ms/step - loss: 0.0089\n",
            "Epoch 41/100\n",
            "357/357 [==============================] - 1s 3ms/step - loss: 0.0088\n",
            "Epoch 42/100\n",
            "357/357 [==============================] - 1s 3ms/step - loss: 0.0088\n",
            "Epoch 43/100\n",
            "357/357 [==============================] - 1s 3ms/step - loss: 0.0087\n",
            "Epoch 44/100\n",
            "357/357 [==============================] - 1s 3ms/step - loss: 0.0087\n",
            "Epoch 45/100\n",
            "357/357 [==============================] - 1s 3ms/step - loss: 0.0086\n",
            "Epoch 46/100\n",
            "357/357 [==============================] - 1s 3ms/step - loss: 0.0086\n",
            "Epoch 47/100\n",
            "357/357 [==============================] - 1s 3ms/step - loss: 0.0085\n",
            "Epoch 48/100\n",
            "357/357 [==============================] - 1s 3ms/step - loss: 0.0085\n",
            "Epoch 49/100\n",
            "357/357 [==============================] - 1s 3ms/step - loss: 0.0084\n",
            "Epoch 50/100\n",
            "357/357 [==============================] - 1s 3ms/step - loss: 0.0084\n",
            "Epoch 51/100\n",
            "357/357 [==============================] - 1s 3ms/step - loss: 0.0084\n",
            "Epoch 52/100\n",
            "357/357 [==============================] - 1s 3ms/step - loss: 0.0083\n",
            "Epoch 53/100\n",
            "357/357 [==============================] - 1s 3ms/step - loss: 0.0083\n",
            "Epoch 54/100\n",
            "357/357 [==============================] - 1s 3ms/step - loss: 0.0082\n",
            "Epoch 55/100\n",
            "357/357 [==============================] - 1s 3ms/step - loss: 0.0082\n",
            "Epoch 56/100\n",
            "357/357 [==============================] - 1s 3ms/step - loss: 0.0082\n",
            "Epoch 57/100\n",
            "357/357 [==============================] - 1s 3ms/step - loss: 0.0081\n",
            "Epoch 58/100\n",
            "357/357 [==============================] - 1s 3ms/step - loss: 0.0081\n",
            "Epoch 59/100\n",
            "357/357 [==============================] - 1s 4ms/step - loss: 0.0081\n",
            "Epoch 60/100\n",
            "357/357 [==============================] - 1s 3ms/step - loss: 0.0080\n",
            "Epoch 61/100\n",
            "357/357 [==============================] - 1s 3ms/step - loss: 0.0080\n",
            "Epoch 62/100\n",
            "357/357 [==============================] - 1s 3ms/step - loss: 0.0080\n",
            "Epoch 63/100\n",
            "357/357 [==============================] - 1s 4ms/step - loss: 0.0080\n",
            "Epoch 64/100\n",
            "357/357 [==============================] - 1s 3ms/step - loss: 0.0079\n",
            "Epoch 65/100\n",
            "357/357 [==============================] - 1s 3ms/step - loss: 0.0079\n",
            "Epoch 66/100\n",
            "357/357 [==============================] - 1s 3ms/step - loss: 0.0079\n",
            "Epoch 67/100\n",
            "357/357 [==============================] - 1s 3ms/step - loss: 0.0078\n",
            "Epoch 68/100\n",
            "357/357 [==============================] - 1s 3ms/step - loss: 0.0078\n",
            "Epoch 69/100\n",
            "357/357 [==============================] - 1s 3ms/step - loss: 0.0078\n",
            "Epoch 70/100\n",
            "357/357 [==============================] - 1s 4ms/step - loss: 0.0078\n",
            "Epoch 71/100\n",
            "357/357 [==============================] - 1s 3ms/step - loss: 0.0077\n",
            "Epoch 72/100\n",
            "357/357 [==============================] - 1s 4ms/step - loss: 0.0077\n",
            "Epoch 73/100\n",
            "357/357 [==============================] - 1s 3ms/step - loss: 0.0077\n",
            "Epoch 74/100\n",
            "357/357 [==============================] - 1s 3ms/step - loss: 0.0077\n",
            "Epoch 75/100\n",
            "357/357 [==============================] - 1s 3ms/step - loss: 0.0077\n",
            "Epoch 76/100\n",
            "357/357 [==============================] - 1s 3ms/step - loss: 0.0076\n",
            "Epoch 77/100\n",
            "357/357 [==============================] - 1s 3ms/step - loss: 0.0076\n",
            "Epoch 78/100\n",
            "357/357 [==============================] - 1s 3ms/step - loss: 0.0076\n",
            "Epoch 79/100\n",
            "357/357 [==============================] - 1s 3ms/step - loss: 0.0076\n",
            "Epoch 80/100\n",
            "357/357 [==============================] - 1s 3ms/step - loss: 0.0076\n",
            "Epoch 81/100\n",
            "357/357 [==============================] - 1s 3ms/step - loss: 0.0075\n",
            "Epoch 82/100\n",
            "357/357 [==============================] - 1s 3ms/step - loss: 0.0075\n",
            "Epoch 83/100\n",
            "357/357 [==============================] - 1s 3ms/step - loss: 0.0075\n",
            "Epoch 84/100\n",
            "357/357 [==============================] - 1s 3ms/step - loss: 0.0075\n",
            "Epoch 85/100\n",
            "357/357 [==============================] - 1s 3ms/step - loss: 0.0075\n",
            "Epoch 86/100\n",
            "357/357 [==============================] - 1s 3ms/step - loss: 0.0075\n",
            "Epoch 87/100\n",
            "357/357 [==============================] - 1s 3ms/step - loss: 0.0075\n",
            "Epoch 88/100\n",
            "357/357 [==============================] - 1s 4ms/step - loss: 0.0074\n",
            "Epoch 89/100\n",
            "357/357 [==============================] - 1s 3ms/step - loss: 0.0074\n",
            "Epoch 90/100\n",
            "357/357 [==============================] - 1s 3ms/step - loss: 0.0074\n",
            "Epoch 91/100\n",
            "357/357 [==============================] - 1s 3ms/step - loss: 0.0074\n",
            "Epoch 92/100\n",
            "357/357 [==============================] - 1s 4ms/step - loss: 0.0074\n",
            "Epoch 93/100\n",
            "357/357 [==============================] - 1s 3ms/step - loss: 0.0074\n",
            "Epoch 94/100\n",
            "357/357 [==============================] - 1s 3ms/step - loss: 0.0074\n",
            "Epoch 95/100\n",
            "357/357 [==============================] - 1s 3ms/step - loss: 0.0074\n",
            "Epoch 96/100\n",
            "357/357 [==============================] - 1s 3ms/step - loss: 0.0074\n",
            "Epoch 97/100\n",
            "357/357 [==============================] - 1s 4ms/step - loss: 0.0073\n",
            "Epoch 98/100\n",
            "357/357 [==============================] - 1s 3ms/step - loss: 0.0073\n",
            "Epoch 99/100\n",
            "357/357 [==============================] - 1s 3ms/step - loss: 0.0073\n",
            "Epoch 100/100\n",
            "357/357 [==============================] - 1s 3ms/step - loss: 0.0073\n"
          ]
        }
      ]
    },
    {
      "cell_type": "markdown",
      "source": [
        "**Проверка результата**"
      ],
      "metadata": {
        "id": "y3YtsGJIdfsd"
      }
    },
    {
      "cell_type": "code",
      "source": [
        "predictions = model.predict(X_test) # делаем предсказание по X_test на неактивных и активных молекулах\n",
        "predictions.shape"
      ],
      "metadata": {
        "colab": {
          "base_uri": "https://localhost:8080/"
        },
        "id": "sOVCTm8GdBz3",
        "outputId": "7124b573-f72c-427e-c459-588caf7fcb3e"
      },
      "execution_count": null,
      "outputs": [
        {
          "output_type": "execute_result",
          "data": {
            "text/plain": [
              "(1277, 4096)"
            ]
          },
          "metadata": {},
          "execution_count": 69
        }
      ]
    },
    {
      "cell_type": "code",
      "source": [
        "predictions[9]"
      ],
      "metadata": {
        "colab": {
          "base_uri": "https://localhost:8080/"
        },
        "id": "fmJpvCrojSl4",
        "outputId": "00402e1a-fc26-4cec-b439-363a25021134"
      },
      "execution_count": null,
      "outputs": [
        {
          "output_type": "execute_result",
          "data": {
            "text/plain": [
              "array([1.0093013e-04, 4.3236741e-05, 2.3633594e-02, ..., 2.5005715e-05,\n",
              "       2.5241254e-05, 2.0602742e-05], dtype=float32)"
            ]
          },
          "metadata": {},
          "execution_count": 70
        }
      ]
    },
    {
      "cell_type": "code",
      "source": [
        "# считаю mse\n",
        "mse = np.mean(np.power(X_test - predictions, 2), axis=1)"
      ],
      "metadata": {
        "id": "oqjBga65d14I"
      },
      "execution_count": null,
      "outputs": []
    },
    {
      "cell_type": "code",
      "source": [
        "mse_Inactivel = mse[:1071] # неактивные. Так как при concatenate X_test и smal_activeдо 1071 были неактивные, а после 1071 активные.\n",
        "mse_Active = mse[1071:] # активные\n",
        "\n",
        "# размеры\n",
        "print(mse_Inactivel.shape)\n",
        "print(mse_Active.shape)"
      ],
      "metadata": {
        "colab": {
          "base_uri": "https://localhost:8080/"
        },
        "id": "y9TxkUemd-sc",
        "outputId": "ae95d853-2b9e-4ca5-b882-90396f17df33"
      },
      "execution_count": null,
      "outputs": [
        {
          "output_type": "stream",
          "name": "stdout",
          "text": [
            "(1071,)\n",
            "(206,)\n"
          ]
        }
      ]
    },
    {
      "cell_type": "code",
      "source": [
        "print(\"Минимальная ошибка неактивных молекул:\", round(min(mse_Inactivel),4)) #\n",
        "print(\"Максимальная ошибка неактивных молекул:\", round(max(mse_Inactivel),4)) #\n",
        "print(\"Средняя ошибка неактивных молекул:\", round(sum(mse_Inactivel) / len(mse_Inactivel),8)) # средняя ошибка"
      ],
      "metadata": {
        "colab": {
          "base_uri": "https://localhost:8080/"
        },
        "id": "C9v3LncDgvHC",
        "outputId": "a05d69f8-7f3e-49a9-b995-96aae448dba4"
      },
      "execution_count": null,
      "outputs": [
        {
          "output_type": "stream",
          "name": "stdout",
          "text": [
            "Минимальная ошибка неактивных молекул: 0.001\n",
            "Максимальная ошибка неактивных молекул: 0.0198\n",
            "Средняя ошибка неактивных молекул: 0.0074242\n"
          ]
        }
      ]
    },
    {
      "cell_type": "code",
      "source": [
        "print(\"Минимальная ошибка активных молекул:\", round(min(mse_Active),4)) #\n",
        "print(\"Максимальная ошибка активных молекул:\", round(max(mse_Active),4)) #\n",
        "print(\"Средняя ошибка активных молекул:\", round(sum(mse_Active) / len(mse_Active),8)) # средняя ошибка"
      ],
      "metadata": {
        "colab": {
          "base_uri": "https://localhost:8080/"
        },
        "id": "N97PF3rYg1x2",
        "outputId": "08ebbe58-b071-4e01-855c-57910072f334"
      },
      "execution_count": null,
      "outputs": [
        {
          "output_type": "stream",
          "name": "stdout",
          "text": [
            "Минимальная ошибка активных молекул: 0.0023\n",
            "Максимальная ошибка активных молекул: 0.0203\n",
            "Средняя ошибка активных молекул: 0.00701959\n"
          ]
        }
      ]
    },
    {
      "cell_type": "markdown",
      "source": [
        "Я рассчитывал на то, что mse будет больше на активных молекулах, на которых сеть НЕ обучалась. Но по факту средняя ошибка на активных молекулах получилась практически одинаковая, чуть меньше. Активные => 0.0070, а неактивные => 0.0074"
      ],
      "metadata": {
        "id": "m2dHdHWUg9X0"
      }
    },
    {
      "cell_type": "code",
      "source": [
        "def getAccByBias(bias): # функция будет принимать какое то пороговое значение\n",
        "  isInactive = mse_Inactivel > bias # если ошибка больше порога - то неактивная\n",
        "  isActive = mse_Active < bias # если ошибка меньше порога - то активная\n",
        "\n",
        "  accInactive = sum(isInactive) / len(isInactive) # вычисляем процент неактивных\n",
        "  accActive = sum(isActive) / len(isActive) # вычисляем процент активных\n",
        "\n",
        "  print(\"Распознано неактивных молекул: \", round(100*accInactive), \"%\", sep=\"\")\n",
        "  print(\"Распознано активных молекул: \", round(100*accActive), \"%\", sep=\"\")\n",
        "  print(\"Средняя точность распознавания: \", round(50*(accInactive + accActive)), \"%\", sep=\"\")"
      ],
      "metadata": {
        "id": "n4lkewx5hm-U"
      },
      "execution_count": null,
      "outputs": []
    },
    {
      "cell_type": "code",
      "source": [
        "getAccByBias(0.007)"
      ],
      "metadata": {
        "colab": {
          "base_uri": "https://localhost:8080/"
        },
        "id": "cj34pusEhzga",
        "outputId": "0cddf2e3-ea20-41d9-ca37-e12966a8baa8"
      },
      "execution_count": null,
      "outputs": [
        {
          "output_type": "stream",
          "name": "stdout",
          "text": [
            "Распознано неактивных молекул: 51%\n",
            "Распознано активных молекул: 54%\n",
            "Средняя точность распознавания: 53%\n"
          ]
        }
      ]
    },
    {
      "cell_type": "markdown",
      "source": [
        "## Submit"
      ],
      "metadata": {
        "id": "X2VL4Aw0h6yy"
      }
    },
    {
      "cell_type": "code",
      "source": [
        "df_test = pd.read_csv('/content/test.csv', index_col = 0)\n",
        "df_test.head()"
      ],
      "metadata": {
        "colab": {
          "base_uri": "https://localhost:8080/",
          "height": 206
        },
        "id": "KIKfxILSiBx-",
        "outputId": "b7e11f41-f4e9-4866-8b19-763afc8d790d"
      },
      "execution_count": null,
      "outputs": [
        {
          "output_type": "execute_result",
          "data": {
            "text/html": [
              "\n",
              "  <div id=\"df-ca8085ad-5027-4ad1-8651-065591f121a0\">\n",
              "    <div class=\"colab-df-container\">\n",
              "      <div>\n",
              "<style scoped>\n",
              "    .dataframe tbody tr th:only-of-type {\n",
              "        vertical-align: middle;\n",
              "    }\n",
              "\n",
              "    .dataframe tbody tr th {\n",
              "        vertical-align: top;\n",
              "    }\n",
              "\n",
              "    .dataframe thead th {\n",
              "        text-align: right;\n",
              "    }\n",
              "</style>\n",
              "<table border=\"1\" class=\"dataframe\">\n",
              "  <thead>\n",
              "    <tr style=\"text-align: right;\">\n",
              "      <th></th>\n",
              "      <th>Smiles</th>\n",
              "    </tr>\n",
              "  </thead>\n",
              "  <tbody>\n",
              "    <tr>\n",
              "      <th>0</th>\n",
              "      <td>COC(=O)Nc1ccc(-c2nc(N3CCOCC3)c3cnn(C4CCN(Cc5cc...</td>\n",
              "    </tr>\n",
              "    <tr>\n",
              "      <th>1</th>\n",
              "      <td>O=Cc1cn(Cc2ccc(Cl)cc2)c2ccccc12</td>\n",
              "    </tr>\n",
              "    <tr>\n",
              "      <th>2</th>\n",
              "      <td>NC(CO)C(=O)NNCc1ccc(O)c(O)c1O</td>\n",
              "    </tr>\n",
              "    <tr>\n",
              "      <th>3</th>\n",
              "      <td>Nc1nc(=O)n([C@H]2C[C@H](O)[C@@H](CO)O2)cc1Cl</td>\n",
              "    </tr>\n",
              "    <tr>\n",
              "      <th>4</th>\n",
              "      <td>Nc1ccc(C(=O)Nc2cccc(-c3nc(N4CCOCC4)c4oc5ncccc5...</td>\n",
              "    </tr>\n",
              "  </tbody>\n",
              "</table>\n",
              "</div>\n",
              "      <button class=\"colab-df-convert\" onclick=\"convertToInteractive('df-ca8085ad-5027-4ad1-8651-065591f121a0')\"\n",
              "              title=\"Convert this dataframe to an interactive table.\"\n",
              "              style=\"display:none;\">\n",
              "        \n",
              "  <svg xmlns=\"http://www.w3.org/2000/svg\" height=\"24px\"viewBox=\"0 0 24 24\"\n",
              "       width=\"24px\">\n",
              "    <path d=\"M0 0h24v24H0V0z\" fill=\"none\"/>\n",
              "    <path d=\"M18.56 5.44l.94 2.06.94-2.06 2.06-.94-2.06-.94-.94-2.06-.94 2.06-2.06.94zm-11 1L8.5 8.5l.94-2.06 2.06-.94-2.06-.94L8.5 2.5l-.94 2.06-2.06.94zm10 10l.94 2.06.94-2.06 2.06-.94-2.06-.94-.94-2.06-.94 2.06-2.06.94z\"/><path d=\"M17.41 7.96l-1.37-1.37c-.4-.4-.92-.59-1.43-.59-.52 0-1.04.2-1.43.59L10.3 9.45l-7.72 7.72c-.78.78-.78 2.05 0 2.83L4 21.41c.39.39.9.59 1.41.59.51 0 1.02-.2 1.41-.59l7.78-7.78 2.81-2.81c.8-.78.8-2.07 0-2.86zM5.41 20L4 18.59l7.72-7.72 1.47 1.35L5.41 20z\"/>\n",
              "  </svg>\n",
              "      </button>\n",
              "      \n",
              "  <style>\n",
              "    .colab-df-container {\n",
              "      display:flex;\n",
              "      flex-wrap:wrap;\n",
              "      gap: 12px;\n",
              "    }\n",
              "\n",
              "    .colab-df-convert {\n",
              "      background-color: #E8F0FE;\n",
              "      border: none;\n",
              "      border-radius: 50%;\n",
              "      cursor: pointer;\n",
              "      display: none;\n",
              "      fill: #1967D2;\n",
              "      height: 32px;\n",
              "      padding: 0 0 0 0;\n",
              "      width: 32px;\n",
              "    }\n",
              "\n",
              "    .colab-df-convert:hover {\n",
              "      background-color: #E2EBFA;\n",
              "      box-shadow: 0px 1px 2px rgba(60, 64, 67, 0.3), 0px 1px 3px 1px rgba(60, 64, 67, 0.15);\n",
              "      fill: #174EA6;\n",
              "    }\n",
              "\n",
              "    [theme=dark] .colab-df-convert {\n",
              "      background-color: #3B4455;\n",
              "      fill: #D2E3FC;\n",
              "    }\n",
              "\n",
              "    [theme=dark] .colab-df-convert:hover {\n",
              "      background-color: #434B5C;\n",
              "      box-shadow: 0px 1px 3px 1px rgba(0, 0, 0, 0.15);\n",
              "      filter: drop-shadow(0px 1px 2px rgba(0, 0, 0, 0.3));\n",
              "      fill: #FFFFFF;\n",
              "    }\n",
              "  </style>\n",
              "\n",
              "      <script>\n",
              "        const buttonEl =\n",
              "          document.querySelector('#df-ca8085ad-5027-4ad1-8651-065591f121a0 button.colab-df-convert');\n",
              "        buttonEl.style.display =\n",
              "          google.colab.kernel.accessAllowed ? 'block' : 'none';\n",
              "\n",
              "        async function convertToInteractive(key) {\n",
              "          const element = document.querySelector('#df-ca8085ad-5027-4ad1-8651-065591f121a0');\n",
              "          const dataTable =\n",
              "            await google.colab.kernel.invokeFunction('convertToInteractive',\n",
              "                                                     [key], {});\n",
              "          if (!dataTable) return;\n",
              "\n",
              "          const docLinkHtml = 'Like what you see? Visit the ' +\n",
              "            '<a target=\"_blank\" href=https://colab.research.google.com/notebooks/data_table.ipynb>data table notebook</a>'\n",
              "            + ' to learn more about interactive tables.';\n",
              "          element.innerHTML = '';\n",
              "          dataTable['output_type'] = 'display_data';\n",
              "          await google.colab.output.renderOutput(dataTable, element);\n",
              "          const docLink = document.createElement('div');\n",
              "          docLink.innerHTML = docLinkHtml;\n",
              "          element.appendChild(docLink);\n",
              "        }\n",
              "      </script>\n",
              "    </div>\n",
              "  </div>\n",
              "  "
            ],
            "text/plain": [
              "                                              Smiles\n",
              "0  COC(=O)Nc1ccc(-c2nc(N3CCOCC3)c3cnn(C4CCN(Cc5cc...\n",
              "1                    O=Cc1cn(Cc2ccc(Cl)cc2)c2ccccc12\n",
              "2                      NC(CO)C(=O)NNCc1ccc(O)c(O)c1O\n",
              "3       Nc1nc(=O)n([C@H]2C[C@H](O)[C@@H](CO)O2)cc1Cl\n",
              "4  Nc1ccc(C(=O)Nc2cccc(-c3nc(N4CCOCC4)c4oc5ncccc5..."
            ]
          },
          "metadata": {},
          "execution_count": 83
        }
      ]
    },
    {
      "cell_type": "code",
      "source": [
        "# test\n",
        "test_smiles = []\n",
        "for i in df_test['Smiles']:\n",
        "  test_smiles.append(i)\n",
        "\n",
        "print('Длинна test_smiles:', len(test_smiles))\n",
        "print(\"Пример значения из test_smiles:\", test_smiles[1])"
      ],
      "metadata": {
        "colab": {
          "base_uri": "https://localhost:8080/"
        },
        "id": "2hUoukZ1nfV_",
        "outputId": "ccad1a30-4602-474b-ae80-a0dedf8262f7"
      },
      "execution_count": null,
      "outputs": [
        {
          "output_type": "stream",
          "name": "stdout",
          "text": [
            "Длинна test_smiles: 1614\n",
            "Пример значения из test_smiles: O=Cc1cn(Cc2ccc(Cl)cc2)c2ccccc12\n"
          ]
        }
      ]
    },
    {
      "cell_type": "code",
      "source": [
        "test = []\n",
        "for i in test_smiles:\n",
        "  sm = get_morgan_fingerprint(i)  # получаю вектор из smiles\n",
        "  test.append(sm)\n",
        "test = np.array(test)             # преобразую в numpy\n",
        "test.shape"
      ],
      "metadata": {
        "colab": {
          "base_uri": "https://localhost:8080/"
        },
        "id": "Eo-LBmZJnlzH",
        "outputId": "bf08cb8d-75bf-488a-c363-2127f72295ed"
      },
      "execution_count": null,
      "outputs": [
        {
          "output_type": "execute_result",
          "data": {
            "text/plain": [
              "(1614, 4096)"
            ]
          },
          "metadata": {},
          "execution_count": 85
        }
      ]
    },
    {
      "cell_type": "code",
      "source": [
        "predictions_test = model.predict(test) # делаем предсказание"
      ],
      "metadata": {
        "id": "WCgNAtZ1nq_A"
      },
      "execution_count": null,
      "outputs": []
    },
    {
      "cell_type": "code",
      "source": [
        "mse_test = np.mean(np.power(test - predictions_test, 2), axis=1)\n",
        "\n",
        "print(\"Минимальная ошибка молекул:\", round(min(mse_test),4)) #\n",
        "print(\"Максимальная ошибка молекул:\", round(max(mse_test),4)) #\n",
        "print(\"Средняя ошибка молекул:\", round(sum(mse_test) / len(mse_test),8)) # среднюю ошибку"
      ],
      "metadata": {
        "colab": {
          "base_uri": "https://localhost:8080/"
        },
        "id": "lk-rjftfn4KT",
        "outputId": "f485e28b-c371-42a3-e569-08446ea90bde"
      },
      "execution_count": null,
      "outputs": [
        {
          "output_type": "stream",
          "name": "stdout",
          "text": [
            "Минимальная ошибка молекул: 0.0009\n",
            "Максимальная ошибка молекул: 0.0258\n",
            "Средняя ошибка молекул: 0.00749708\n"
          ]
        }
      ]
    },
    {
      "cell_type": "code",
      "source": [
        "mse_test.shape"
      ],
      "metadata": {
        "colab": {
          "base_uri": "https://localhost:8080/"
        },
        "id": "GPK19t2CoB4D",
        "outputId": "cf0333fb-3acf-4827-8569-0c6441afc851"
      },
      "execution_count": null,
      "outputs": [
        {
          "output_type": "execute_result",
          "data": {
            "text/plain": [
              "(1614,)"
            ]
          },
          "metadata": {},
          "execution_count": 89
        }
      ]
    },
    {
      "cell_type": "code",
      "source": [
        "# Формирую табличку \n",
        "submission = df_test\n",
        "submission['Active'] = ''\n",
        "\n",
        "for i in range(len(mse_test)):\n",
        "  if mse_test[i] >= 0.007:\n",
        "    submission['Active'].values[i] = 0\n",
        "  else:\n",
        "    submission['Active'].values[i] = 1"
      ],
      "metadata": {
        "id": "kYqNq0vIoD5_"
      },
      "execution_count": null,
      "outputs": []
    },
    {
      "cell_type": "code",
      "source": [
        "submission"
      ],
      "metadata": {
        "colab": {
          "base_uri": "https://localhost:8080/",
          "height": 424
        },
        "id": "uP9ugUZSppLV",
        "outputId": "6e23feaa-eb59-4fad-ccd4-86d7fba239ae"
      },
      "execution_count": null,
      "outputs": [
        {
          "output_type": "execute_result",
          "data": {
            "text/html": [
              "\n",
              "  <div id=\"df-6b84cab4-3320-40e9-a49d-48612ea8d5c4\">\n",
              "    <div class=\"colab-df-container\">\n",
              "      <div>\n",
              "<style scoped>\n",
              "    .dataframe tbody tr th:only-of-type {\n",
              "        vertical-align: middle;\n",
              "    }\n",
              "\n",
              "    .dataframe tbody tr th {\n",
              "        vertical-align: top;\n",
              "    }\n",
              "\n",
              "    .dataframe thead th {\n",
              "        text-align: right;\n",
              "    }\n",
              "</style>\n",
              "<table border=\"1\" class=\"dataframe\">\n",
              "  <thead>\n",
              "    <tr style=\"text-align: right;\">\n",
              "      <th></th>\n",
              "      <th>Smiles</th>\n",
              "      <th>Active</th>\n",
              "    </tr>\n",
              "  </thead>\n",
              "  <tbody>\n",
              "    <tr>\n",
              "      <th>0</th>\n",
              "      <td>COC(=O)Nc1ccc(-c2nc(N3CCOCC3)c3cnn(C4CCN(Cc5cc...</td>\n",
              "      <td>0</td>\n",
              "    </tr>\n",
              "    <tr>\n",
              "      <th>1</th>\n",
              "      <td>O=Cc1cn(Cc2ccc(Cl)cc2)c2ccccc12</td>\n",
              "      <td>1</td>\n",
              "    </tr>\n",
              "    <tr>\n",
              "      <th>2</th>\n",
              "      <td>NC(CO)C(=O)NNCc1ccc(O)c(O)c1O</td>\n",
              "      <td>1</td>\n",
              "    </tr>\n",
              "    <tr>\n",
              "      <th>3</th>\n",
              "      <td>Nc1nc(=O)n([C@H]2C[C@H](O)[C@@H](CO)O2)cc1Cl</td>\n",
              "      <td>1</td>\n",
              "    </tr>\n",
              "    <tr>\n",
              "      <th>4</th>\n",
              "      <td>Nc1ccc(C(=O)Nc2cccc(-c3nc(N4CCOCC4)c4oc5ncccc5...</td>\n",
              "      <td>0</td>\n",
              "    </tr>\n",
              "    <tr>\n",
              "      <th>...</th>\n",
              "      <td>...</td>\n",
              "      <td>...</td>\n",
              "    </tr>\n",
              "    <tr>\n",
              "      <th>1609</th>\n",
              "      <td>NS(=O)(=O)c1cc2c(cc1Cl)NC(C1CC3C=CC1C3)NS2(=O)=O</td>\n",
              "      <td>0</td>\n",
              "    </tr>\n",
              "    <tr>\n",
              "      <th>1610</th>\n",
              "      <td>Cc1cccc(Nc2ccncc2S(=O)(=O)NC(=O)NC(C)C)c1</td>\n",
              "      <td>0</td>\n",
              "    </tr>\n",
              "    <tr>\n",
              "      <th>1611</th>\n",
              "      <td>CCCC(=O)O[C@]1(C(=O)CO)CC[C@H]2[C@@H]3CCC4=CC(...</td>\n",
              "      <td>0</td>\n",
              "    </tr>\n",
              "    <tr>\n",
              "      <th>1612</th>\n",
              "      <td>CN(C)c1cccc(Oc2cnc(Nc3cccc(O)c3)nc2)c1</td>\n",
              "      <td>0</td>\n",
              "    </tr>\n",
              "    <tr>\n",
              "      <th>1613</th>\n",
              "      <td>O=C(O)c1ccccc1-c1c2ccc(=O)cc-2oc2cc(O)ccc12</td>\n",
              "      <td>1</td>\n",
              "    </tr>\n",
              "  </tbody>\n",
              "</table>\n",
              "<p>1614 rows × 2 columns</p>\n",
              "</div>\n",
              "      <button class=\"colab-df-convert\" onclick=\"convertToInteractive('df-6b84cab4-3320-40e9-a49d-48612ea8d5c4')\"\n",
              "              title=\"Convert this dataframe to an interactive table.\"\n",
              "              style=\"display:none;\">\n",
              "        \n",
              "  <svg xmlns=\"http://www.w3.org/2000/svg\" height=\"24px\"viewBox=\"0 0 24 24\"\n",
              "       width=\"24px\">\n",
              "    <path d=\"M0 0h24v24H0V0z\" fill=\"none\"/>\n",
              "    <path d=\"M18.56 5.44l.94 2.06.94-2.06 2.06-.94-2.06-.94-.94-2.06-.94 2.06-2.06.94zm-11 1L8.5 8.5l.94-2.06 2.06-.94-2.06-.94L8.5 2.5l-.94 2.06-2.06.94zm10 10l.94 2.06.94-2.06 2.06-.94-2.06-.94-.94-2.06-.94 2.06-2.06.94z\"/><path d=\"M17.41 7.96l-1.37-1.37c-.4-.4-.92-.59-1.43-.59-.52 0-1.04.2-1.43.59L10.3 9.45l-7.72 7.72c-.78.78-.78 2.05 0 2.83L4 21.41c.39.39.9.59 1.41.59.51 0 1.02-.2 1.41-.59l7.78-7.78 2.81-2.81c.8-.78.8-2.07 0-2.86zM5.41 20L4 18.59l7.72-7.72 1.47 1.35L5.41 20z\"/>\n",
              "  </svg>\n",
              "      </button>\n",
              "      \n",
              "  <style>\n",
              "    .colab-df-container {\n",
              "      display:flex;\n",
              "      flex-wrap:wrap;\n",
              "      gap: 12px;\n",
              "    }\n",
              "\n",
              "    .colab-df-convert {\n",
              "      background-color: #E8F0FE;\n",
              "      border: none;\n",
              "      border-radius: 50%;\n",
              "      cursor: pointer;\n",
              "      display: none;\n",
              "      fill: #1967D2;\n",
              "      height: 32px;\n",
              "      padding: 0 0 0 0;\n",
              "      width: 32px;\n",
              "    }\n",
              "\n",
              "    .colab-df-convert:hover {\n",
              "      background-color: #E2EBFA;\n",
              "      box-shadow: 0px 1px 2px rgba(60, 64, 67, 0.3), 0px 1px 3px 1px rgba(60, 64, 67, 0.15);\n",
              "      fill: #174EA6;\n",
              "    }\n",
              "\n",
              "    [theme=dark] .colab-df-convert {\n",
              "      background-color: #3B4455;\n",
              "      fill: #D2E3FC;\n",
              "    }\n",
              "\n",
              "    [theme=dark] .colab-df-convert:hover {\n",
              "      background-color: #434B5C;\n",
              "      box-shadow: 0px 1px 3px 1px rgba(0, 0, 0, 0.15);\n",
              "      filter: drop-shadow(0px 1px 2px rgba(0, 0, 0, 0.3));\n",
              "      fill: #FFFFFF;\n",
              "    }\n",
              "  </style>\n",
              "\n",
              "      <script>\n",
              "        const buttonEl =\n",
              "          document.querySelector('#df-6b84cab4-3320-40e9-a49d-48612ea8d5c4 button.colab-df-convert');\n",
              "        buttonEl.style.display =\n",
              "          google.colab.kernel.accessAllowed ? 'block' : 'none';\n",
              "\n",
              "        async function convertToInteractive(key) {\n",
              "          const element = document.querySelector('#df-6b84cab4-3320-40e9-a49d-48612ea8d5c4');\n",
              "          const dataTable =\n",
              "            await google.colab.kernel.invokeFunction('convertToInteractive',\n",
              "                                                     [key], {});\n",
              "          if (!dataTable) return;\n",
              "\n",
              "          const docLinkHtml = 'Like what you see? Visit the ' +\n",
              "            '<a target=\"_blank\" href=https://colab.research.google.com/notebooks/data_table.ipynb>data table notebook</a>'\n",
              "            + ' to learn more about interactive tables.';\n",
              "          element.innerHTML = '';\n",
              "          dataTable['output_type'] = 'display_data';\n",
              "          await google.colab.output.renderOutput(dataTable, element);\n",
              "          const docLink = document.createElement('div');\n",
              "          docLink.innerHTML = docLinkHtml;\n",
              "          element.appendChild(docLink);\n",
              "        }\n",
              "      </script>\n",
              "    </div>\n",
              "  </div>\n",
              "  "
            ],
            "text/plain": [
              "                                                 Smiles Active\n",
              "0     COC(=O)Nc1ccc(-c2nc(N3CCOCC3)c3cnn(C4CCN(Cc5cc...      0\n",
              "1                       O=Cc1cn(Cc2ccc(Cl)cc2)c2ccccc12      1\n",
              "2                         NC(CO)C(=O)NNCc1ccc(O)c(O)c1O      1\n",
              "3          Nc1nc(=O)n([C@H]2C[C@H](O)[C@@H](CO)O2)cc1Cl      1\n",
              "4     Nc1ccc(C(=O)Nc2cccc(-c3nc(N4CCOCC4)c4oc5ncccc5...      0\n",
              "...                                                 ...    ...\n",
              "1609   NS(=O)(=O)c1cc2c(cc1Cl)NC(C1CC3C=CC1C3)NS2(=O)=O      0\n",
              "1610          Cc1cccc(Nc2ccncc2S(=O)(=O)NC(=O)NC(C)C)c1      0\n",
              "1611  CCCC(=O)O[C@]1(C(=O)CO)CC[C@H]2[C@@H]3CCC4=CC(...      0\n",
              "1612             CN(C)c1cccc(Oc2cnc(Nc3cccc(O)c3)nc2)c1      0\n",
              "1613        O=C(O)c1ccccc1-c1c2ccc(=O)cc-2oc2cc(O)ccc12      1\n",
              "\n",
              "[1614 rows x 2 columns]"
            ]
          },
          "metadata": {},
          "execution_count": 96
        }
      ]
    },
    {
      "cell_type": "code",
      "source": [
        "submission.to_csv('submission.csv', index=False)"
      ],
      "metadata": {
        "id": "mVxy4Ik-pxA2"
      },
      "execution_count": null,
      "outputs": []
    },
    {
      "cell_type": "code",
      "source": [
        "# соберу в функцию\n",
        "\n",
        "def submission(df_test, bias):\n",
        "\n",
        "  test_smiles = []\n",
        "  for i in df_test['Smiles']:\n",
        "    test_smiles.append(i)\n",
        "\n",
        "  test = []\n",
        "  for i in test_smiles:\n",
        "    sm = get_morgan_fingerprint(i)  # получаю вектор из smiles\n",
        "    test.append(sm)\n",
        "  test = np.array(test)             # преобразую в numpy\n",
        "  \n",
        "  predictions_test = model.predict(test) # делаем предсказание\n",
        "  \n",
        "  mse_test = np.mean(np.power(test - predictions_test, 2), axis=1)\n",
        "\n",
        "  # Формирую табличку \n",
        "  submission = df_test\n",
        "  submission['Active'] = ''\n",
        "  \n",
        "  for i in range(len(mse_test)):\n",
        "    if mse_test[i] >= bias:\n",
        "      submission['Active'].values[i] = 0\n",
        "    else:\n",
        "      submission['Active'].values[i] = 1\n",
        "  \n",
        "  submission.to_csv('submission.csv', index=False)\n",
        "\n",
        "   \n",
        "  print('Длинна test_smiles:', len(test_smiles))\n",
        "  print(\"Пример значения из test_smiles:\", test_smiles[1])\n",
        "  print(\"Минимальная ошибка молекул:\", round(min(mse_test),4)) #\n",
        "  print(\"Максимальная ошибка молекул:\", round(max(mse_test),4)) #\n",
        "  print(\"Средняя ошибка молекул:\", round(sum(mse_test) / len(mse_test),8)) # среднюю ошибку\n",
        "\n",
        "  return submission\n"
      ],
      "metadata": {
        "id": "qFuI3t0P0Rd2"
      },
      "execution_count": 192,
      "outputs": []
    },
    {
      "cell_type": "markdown",
      "source": [
        "##**Свертка Conv2D + Dense**"
      ],
      "metadata": {
        "id": "SZjH8R72p-Wy"
      }
    },
    {
      "cell_type": "code",
      "source": [
        "X_train.shape, X_test.shape, smal_active.shape"
      ],
      "metadata": {
        "colab": {
          "base_uri": "https://localhost:8080/"
        },
        "id": "QpgcHoHhqFCw",
        "outputId": "6126fc68-e9ab-45d1-bee6-054848c93a5d"
      },
      "execution_count": null,
      "outputs": [
        {
          "output_type": "execute_result",
          "data": {
            "text/plain": [
              "((4280, 4096), (1277, 4096), (206, 4096))"
            ]
          },
          "metadata": {},
          "execution_count": 98
        }
      ]
    },
    {
      "cell_type": "code",
      "source": [
        "def Autoencoder_Conv2D(): \n",
        "    img_input = Input(shape=(4096,)) \n",
        "\n",
        "    x = Reshape((64,64,1))(img_input)\n",
        "\n",
        "    x = Conv2D(32, (3, 3), strides=2, activation='relu', padding='same')(x)\n",
        "    x = Conv2D(64, (3, 3), strides=2, activation='relu', padding='same')(x)\n",
        "    x = Conv2D(128, (3, 3), strides=2, activation='relu', padding='same')(x)\n",
        "    x = Conv2D(256, (3, 3), strides=2, activation='relu', padding='same')(x)\n",
        "    x = Flatten()(x) # сплющиваем в одномерный вектор - размер 4*4*256\n",
        "    z = Dense(256, activation='relu')(x) # добавляем полносвязный слой\n",
        "    x = Dense(4*4*256, activation='relu')(z) # и еще полносвязный слой\n",
        "    x = Reshape((4,4,256))(x) # меняем размеры - картинка 4*4 , 256 ядер\n",
        "    x = Conv2DTranspose(256, (3, 3), strides=2, padding='same')(x) \n",
        "    x = Conv2DTranspose(128, (3, 3), strides=2, padding='same')(x) \n",
        "    x = Conv2DTranspose(64, (3, 3), strides=2, padding='same')(x) \n",
        "    x = Conv2DTranspose(32, (3, 3), strides=2, padding='same')(x) \n",
        "    x = Conv2D(1, (3, 3), activation='relu', padding='same')(x) \n",
        "    x = Flatten()(x) # выпрямляю в вектор\n",
        "\n",
        "    x = Dense(4096, activation='sigmoid')(x) # последний слой\n",
        "\n",
        "    model = Model(img_input, x) \n",
        "    model.compile(optimizer='adam',\n",
        "                  loss='mse') \n",
        "\n",
        "    return model "
      ],
      "metadata": {
        "id": "Q1z7zF-UqT_Y"
      },
      "execution_count": null,
      "outputs": []
    },
    {
      "cell_type": "code",
      "source": [
        "model_Conv2D = Autoencoder_Conv2D()\n",
        "model_Conv2D.summary()"
      ],
      "metadata": {
        "colab": {
          "base_uri": "https://localhost:8080/"
        },
        "id": "zM8-LLXLqqQc",
        "outputId": "326f8e19-fac1-4fbb-e81a-4b680af39279"
      },
      "execution_count": null,
      "outputs": [
        {
          "output_type": "stream",
          "name": "stdout",
          "text": [
            "Model: \"model_6\"\n",
            "_________________________________________________________________\n",
            " Layer (type)                Output Shape              Param #   \n",
            "=================================================================\n",
            " input_7 (InputLayer)        [(None, 4096)]            0         \n",
            "                                                                 \n",
            " reshape (Reshape)           (None, 64, 64, 1)         0         \n",
            "                                                                 \n",
            " conv2d (Conv2D)             (None, 32, 32, 32)        320       \n",
            "                                                                 \n",
            " conv2d_1 (Conv2D)           (None, 16, 16, 64)        18496     \n",
            "                                                                 \n",
            " conv2d_2 (Conv2D)           (None, 8, 8, 128)         73856     \n",
            "                                                                 \n",
            " conv2d_3 (Conv2D)           (None, 4, 4, 256)         295168    \n",
            "                                                                 \n",
            " flatten (Flatten)           (None, 4096)              0         \n",
            "                                                                 \n",
            " dense_12 (Dense)            (None, 256)               1048832   \n",
            "                                                                 \n",
            " dense_13 (Dense)            (None, 4096)              1052672   \n",
            "                                                                 \n",
            " reshape_1 (Reshape)         (None, 4, 4, 256)         0         \n",
            "                                                                 \n",
            " conv2d_transpose (Conv2DTra  (None, 8, 8, 256)        590080    \n",
            " nspose)                                                         \n",
            "                                                                 \n",
            " conv2d_transpose_1 (Conv2DT  (None, 16, 16, 128)      295040    \n",
            " ranspose)                                                       \n",
            "                                                                 \n",
            " conv2d_transpose_2 (Conv2DT  (None, 32, 32, 64)       73792     \n",
            " ranspose)                                                       \n",
            "                                                                 \n",
            " conv2d_transpose_3 (Conv2DT  (None, 64, 64, 32)       18464     \n",
            " ranspose)                                                       \n",
            "                                                                 \n",
            " conv2d_4 (Conv2D)           (None, 64, 64, 1)         289       \n",
            "                                                                 \n",
            " flatten_1 (Flatten)         (None, 4096)              0         \n",
            "                                                                 \n",
            " dense_14 (Dense)            (None, 4096)              16781312  \n",
            "                                                                 \n",
            "=================================================================\n",
            "Total params: 20,248,321\n",
            "Trainable params: 20,248,321\n",
            "Non-trainable params: 0\n",
            "_________________________________________________________________\n"
          ]
        }
      ]
    },
    {
      "cell_type": "code",
      "source": [
        "model_Conv2D = Autoencoder_Conv2D()\n",
        "\n",
        "history = model_Conv2D.fit(X_train, X_train, epochs=10, batch_size=16) "
      ],
      "metadata": {
        "colab": {
          "base_uri": "https://localhost:8080/"
        },
        "id": "T90n8cUZqwjK",
        "outputId": "96a8e2c3-5ac0-4e4e-eb29-ad6b34de0319"
      },
      "execution_count": null,
      "outputs": [
        {
          "output_type": "stream",
          "name": "stdout",
          "text": [
            "Epoch 1/10\n",
            "268/268 [==============================] - 16s 30ms/step - loss: 0.2198\n",
            "Epoch 2/10\n",
            "268/268 [==============================] - 8s 29ms/step - loss: 0.1678\n",
            "Epoch 3/10\n",
            "268/268 [==============================] - 8s 29ms/step - loss: 0.1284\n",
            "Epoch 4/10\n",
            "268/268 [==============================] - 8s 29ms/step - loss: 0.0994\n",
            "Epoch 5/10\n",
            "268/268 [==============================] - 8s 29ms/step - loss: 0.0782\n",
            "Epoch 6/10\n",
            "268/268 [==============================] - 8s 29ms/step - loss: 0.0627\n",
            "Epoch 7/10\n",
            "268/268 [==============================] - 8s 29ms/step - loss: 0.0512\n",
            "Epoch 8/10\n",
            "268/268 [==============================] - 8s 29ms/step - loss: 0.0425\n",
            "Epoch 9/10\n",
            "268/268 [==============================] - 8s 29ms/step - loss: 0.0360\n",
            "Epoch 10/10\n",
            "268/268 [==============================] - 8s 29ms/step - loss: 0.0309\n"
          ]
        }
      ]
    },
    {
      "cell_type": "markdown",
      "source": [
        "**Проверка**"
      ],
      "metadata": {
        "id": "15BpbuiytA43"
      }
    },
    {
      "cell_type": "code",
      "source": [
        "predictions = model_Conv2D.predict(X_test) # делаем предсказание по X_test на неактивных и активных молекулах\n",
        "predictions.shape"
      ],
      "metadata": {
        "colab": {
          "base_uri": "https://localhost:8080/"
        },
        "id": "_AKmOHxesaZl",
        "outputId": "5bdf15c3-d0d3-436c-9ed9-fe1cb79e0af0"
      },
      "execution_count": null,
      "outputs": [
        {
          "output_type": "execute_result",
          "data": {
            "text/plain": [
              "(1277, 4096)"
            ]
          },
          "metadata": {},
          "execution_count": 102
        }
      ]
    },
    {
      "cell_type": "code",
      "source": [
        "# считаю mse\n",
        "mse = np.mean(np.power(X_test - predictions, 2), axis=1)\n",
        "\n",
        "mse_Inactivel = mse[:1071] # неактивные. Так как при concatenate X_test и smal_activeдо 1071 были неактивные, а после 1071 активные.\n",
        "mse_Active = mse[1071:] # активные\n",
        "\n",
        "# размеры\n",
        "print(mse_Inactivel.shape)\n",
        "print(mse_Active.shape)"
      ],
      "metadata": {
        "colab": {
          "base_uri": "https://localhost:8080/"
        },
        "id": "ILZo26zpsjlf",
        "outputId": "65cd2051-945a-4e9e-b0e0-68fa6e398542"
      },
      "execution_count": null,
      "outputs": [
        {
          "output_type": "stream",
          "name": "stdout",
          "text": [
            "(1071,)\n",
            "(206,)\n"
          ]
        }
      ]
    },
    {
      "cell_type": "code",
      "source": [
        "print(\"Минимальная ошибка неактивных молекул:\", round(min(mse_Inactivel),4)) #\n",
        "print(\"Максимальная ошибка неактивных молекул:\", round(max(mse_Inactivel),4)) #\n",
        "print(\"Средняя ошибка неактивных молекул:\", round(sum(mse_Inactivel) / len(mse_Inactivel),8)) # средняя ошибка\n",
        "print()\n",
        "print(\"Минимальная ошибка активных молекул:\", round(min(mse_Active),4)) #\n",
        "print(\"Максимальная ошибка активных молекул:\", round(max(mse_Active),4)) #\n",
        "print(\"Средняя ошибка активных молекул:\", round(sum(mse_Active) / len(mse_Active),8)) # средняя ошибка"
      ],
      "metadata": {
        "colab": {
          "base_uri": "https://localhost:8080/"
        },
        "id": "1no-4qBPsySo",
        "outputId": "4cc7174f-4f16-49a4-8c3e-c8a5ce97ceea"
      },
      "execution_count": null,
      "outputs": [
        {
          "output_type": "stream",
          "name": "stdout",
          "text": [
            "Минимальная ошибка неактивных молекул: 0.0237\n",
            "Максимальная ошибка неактивных молекул: 0.0406\n",
            "Средняя ошибка неактивных молекул: 0.02867178\n",
            "\n",
            "Минимальная ошибка активных молекул: 0.0247\n",
            "Максимальная ошибка активных молекул: 0.0386\n",
            "Средняя ошибка активных молекул: 0.02819633\n"
          ]
        }
      ]
    },
    {
      "cell_type": "code",
      "source": [
        "def getAccByBias(bias): # функция будет принимать какое то пороговое значение\n",
        "  isInactive = mse_Inactivel > bias # если ошибка больше порога - то неактивная\n",
        "  isActive = mse_Active < bias # если ошибка меньше порога - то активная\n",
        "\n",
        "  accInactive = sum(isInactive) / len(isInactive) # вычисляем процент неактивных\n",
        "  accActive = sum(isActive) / len(isActive) # вычисляем процент активных\n",
        "\n",
        "  print(\"Распознано неактивных молекул: \", round(100*accInactive), \"%\", sep=\"\")\n",
        "  print(\"Распознано активных молекул: \", round(100*accActive), \"%\", sep=\"\")\n",
        "  print(\"Средняя точность распознавания: \", round(50*(accInactive + accActive)), \"%\", sep=\"\")"
      ],
      "metadata": {
        "id": "zhCzZCtHtDnV"
      },
      "execution_count": null,
      "outputs": []
    },
    {
      "cell_type": "code",
      "source": [
        "getAccByBias(0.028)"
      ],
      "metadata": {
        "colab": {
          "base_uri": "https://localhost:8080/"
        },
        "id": "MV9_tu8QtGtc",
        "outputId": "4a4ef150-fac5-4555-910c-d187497587e0"
      },
      "execution_count": null,
      "outputs": [
        {
          "output_type": "stream",
          "name": "stdout",
          "text": [
            "Распознано неактивных молекул: 59%\n",
            "Распознано активных молекул: 51%\n",
            "Средняя точность распознавания: 55%\n"
          ]
        }
      ]
    },
    {
      "cell_type": "markdown",
      "source": [
        "##**По-другому токенезирую, Tokenizer**"
      ],
      "metadata": {
        "id": "SEGLIn7ItkuQ"
      }
    },
    {
      "cell_type": "code",
      "source": [
        "# загружаю датасет\n",
        "df_train_new = pd.read_csv('/content/train.csv', index_col = 0)\n",
        "df_train_new.head()"
      ],
      "metadata": {
        "colab": {
          "base_uri": "https://localhost:8080/",
          "height": 206
        },
        "id": "k0Bq6kgqtrCH",
        "outputId": "2cade19e-69d9-4179-a19d-207d05a8d85c"
      },
      "execution_count": 138,
      "outputs": [
        {
          "output_type": "execute_result",
          "data": {
            "text/html": [
              "\n",
              "  <div id=\"df-becff94c-cb7e-4e99-b791-4ae2af40a41b\">\n",
              "    <div class=\"colab-df-container\">\n",
              "      <div>\n",
              "<style scoped>\n",
              "    .dataframe tbody tr th:only-of-type {\n",
              "        vertical-align: middle;\n",
              "    }\n",
              "\n",
              "    .dataframe tbody tr th {\n",
              "        vertical-align: top;\n",
              "    }\n",
              "\n",
              "    .dataframe thead th {\n",
              "        text-align: right;\n",
              "    }\n",
              "</style>\n",
              "<table border=\"1\" class=\"dataframe\">\n",
              "  <thead>\n",
              "    <tr style=\"text-align: right;\">\n",
              "      <th></th>\n",
              "      <th>Smiles</th>\n",
              "      <th>Active</th>\n",
              "    </tr>\n",
              "  </thead>\n",
              "  <tbody>\n",
              "    <tr>\n",
              "      <th>0</th>\n",
              "      <td>COc1ccc2[nH]cc(CCN)c2c1</td>\n",
              "      <td>False</td>\n",
              "    </tr>\n",
              "    <tr>\n",
              "      <th>1</th>\n",
              "      <td>CCCN1CCC[C@H](c2cccc(O)c2)C1.Cl</td>\n",
              "      <td>False</td>\n",
              "    </tr>\n",
              "    <tr>\n",
              "      <th>2</th>\n",
              "      <td>O=C(NO)c1cnc(N2CCN(S(=O)(=O)c3ccc4ccccc4c3)CC2...</td>\n",
              "      <td>False</td>\n",
              "    </tr>\n",
              "    <tr>\n",
              "      <th>3</th>\n",
              "      <td>Nc1cccc(CNC(=O)c2ccc(Oc3ccc(OCc4cccc(F)c4)cc3)...</td>\n",
              "      <td>False</td>\n",
              "    </tr>\n",
              "    <tr>\n",
              "      <th>4</th>\n",
              "      <td>Fc1ccccc1CNCc1ccc(-c2ccnc3[nH]ccc23)cc1</td>\n",
              "      <td>False</td>\n",
              "    </tr>\n",
              "  </tbody>\n",
              "</table>\n",
              "</div>\n",
              "      <button class=\"colab-df-convert\" onclick=\"convertToInteractive('df-becff94c-cb7e-4e99-b791-4ae2af40a41b')\"\n",
              "              title=\"Convert this dataframe to an interactive table.\"\n",
              "              style=\"display:none;\">\n",
              "        \n",
              "  <svg xmlns=\"http://www.w3.org/2000/svg\" height=\"24px\"viewBox=\"0 0 24 24\"\n",
              "       width=\"24px\">\n",
              "    <path d=\"M0 0h24v24H0V0z\" fill=\"none\"/>\n",
              "    <path d=\"M18.56 5.44l.94 2.06.94-2.06 2.06-.94-2.06-.94-.94-2.06-.94 2.06-2.06.94zm-11 1L8.5 8.5l.94-2.06 2.06-.94-2.06-.94L8.5 2.5l-.94 2.06-2.06.94zm10 10l.94 2.06.94-2.06 2.06-.94-2.06-.94-.94-2.06-.94 2.06-2.06.94z\"/><path d=\"M17.41 7.96l-1.37-1.37c-.4-.4-.92-.59-1.43-.59-.52 0-1.04.2-1.43.59L10.3 9.45l-7.72 7.72c-.78.78-.78 2.05 0 2.83L4 21.41c.39.39.9.59 1.41.59.51 0 1.02-.2 1.41-.59l7.78-7.78 2.81-2.81c.8-.78.8-2.07 0-2.86zM5.41 20L4 18.59l7.72-7.72 1.47 1.35L5.41 20z\"/>\n",
              "  </svg>\n",
              "      </button>\n",
              "      \n",
              "  <style>\n",
              "    .colab-df-container {\n",
              "      display:flex;\n",
              "      flex-wrap:wrap;\n",
              "      gap: 12px;\n",
              "    }\n",
              "\n",
              "    .colab-df-convert {\n",
              "      background-color: #E8F0FE;\n",
              "      border: none;\n",
              "      border-radius: 50%;\n",
              "      cursor: pointer;\n",
              "      display: none;\n",
              "      fill: #1967D2;\n",
              "      height: 32px;\n",
              "      padding: 0 0 0 0;\n",
              "      width: 32px;\n",
              "    }\n",
              "\n",
              "    .colab-df-convert:hover {\n",
              "      background-color: #E2EBFA;\n",
              "      box-shadow: 0px 1px 2px rgba(60, 64, 67, 0.3), 0px 1px 3px 1px rgba(60, 64, 67, 0.15);\n",
              "      fill: #174EA6;\n",
              "    }\n",
              "\n",
              "    [theme=dark] .colab-df-convert {\n",
              "      background-color: #3B4455;\n",
              "      fill: #D2E3FC;\n",
              "    }\n",
              "\n",
              "    [theme=dark] .colab-df-convert:hover {\n",
              "      background-color: #434B5C;\n",
              "      box-shadow: 0px 1px 3px 1px rgba(0, 0, 0, 0.15);\n",
              "      filter: drop-shadow(0px 1px 2px rgba(0, 0, 0, 0.3));\n",
              "      fill: #FFFFFF;\n",
              "    }\n",
              "  </style>\n",
              "\n",
              "      <script>\n",
              "        const buttonEl =\n",
              "          document.querySelector('#df-becff94c-cb7e-4e99-b791-4ae2af40a41b button.colab-df-convert');\n",
              "        buttonEl.style.display =\n",
              "          google.colab.kernel.accessAllowed ? 'block' : 'none';\n",
              "\n",
              "        async function convertToInteractive(key) {\n",
              "          const element = document.querySelector('#df-becff94c-cb7e-4e99-b791-4ae2af40a41b');\n",
              "          const dataTable =\n",
              "            await google.colab.kernel.invokeFunction('convertToInteractive',\n",
              "                                                     [key], {});\n",
              "          if (!dataTable) return;\n",
              "\n",
              "          const docLinkHtml = 'Like what you see? Visit the ' +\n",
              "            '<a target=\"_blank\" href=https://colab.research.google.com/notebooks/data_table.ipynb>data table notebook</a>'\n",
              "            + ' to learn more about interactive tables.';\n",
              "          element.innerHTML = '';\n",
              "          dataTable['output_type'] = 'display_data';\n",
              "          await google.colab.output.renderOutput(dataTable, element);\n",
              "          const docLink = document.createElement('div');\n",
              "          docLink.innerHTML = docLinkHtml;\n",
              "          element.appendChild(docLink);\n",
              "        }\n",
              "      </script>\n",
              "    </div>\n",
              "  </div>\n",
              "  "
            ],
            "text/plain": [
              "                                              Smiles  Active\n",
              "0                            COc1ccc2[nH]cc(CCN)c2c1   False\n",
              "1                    CCCN1CCC[C@H](c2cccc(O)c2)C1.Cl   False\n",
              "2  O=C(NO)c1cnc(N2CCN(S(=O)(=O)c3ccc4ccccc4c3)CC2...   False\n",
              "3  Nc1cccc(CNC(=O)c2ccc(Oc3ccc(OCc4cccc(F)c4)cc3)...   False\n",
              "4            Fc1ccccc1CNCc1ccc(-c2ccnc3[nH]ccc23)cc1   False"
            ]
          },
          "metadata": {},
          "execution_count": 138
        }
      ]
    },
    {
      "cell_type": "code",
      "source": [
        "# df активные молекулы\n",
        "df_train_True = df_train_new[df_train_new.Active==True]\n",
        "\n",
        "# df неактивные молекулы\n",
        "df_train_False = df_train_new[df_train_new.Active==False]"
      ],
      "metadata": {
        "id": "0t7WycXgt28U"
      },
      "execution_count": 142,
      "outputs": []
    },
    {
      "cell_type": "code",
      "source": [
        "# собираю значения Smiles неактивных молекул в лист\n",
        "s_inactive = []\n",
        "for i in df_train_False['Smiles']:\n",
        "  s_inactive.append(i)\n",
        "\n",
        "print('Длинна s_inactive:', len(s_inactive))\n",
        "print(\"Пример значения из s_inactive:\", s_inactive[1])"
      ],
      "metadata": {
        "colab": {
          "base_uri": "https://localhost:8080/"
        },
        "id": "F9fRx_S-t7ks",
        "outputId": "d4021ebc-7aa8-44b5-8de8-2d29614e81d5"
      },
      "execution_count": 143,
      "outputs": [
        {
          "output_type": "stream",
          "name": "stdout",
          "text": [
            "Длинна s_inactive: 5351\n",
            "Пример значения из s_inactive: CCCN1CCC[C@H](c2cccc(O)c2)C1.Cl\n"
          ]
        }
      ]
    },
    {
      "cell_type": "code",
      "source": [
        "# активные молекулы\n",
        "s_active = []\n",
        "for i in df_train_True['Smiles']:\n",
        "  s_active.append(i)\n",
        "\n",
        "print('Длинна s_active:', len(s_active))\n",
        "print(\"Пример значения из s_active:\", s_active[1])"
      ],
      "metadata": {
        "colab": {
          "base_uri": "https://localhost:8080/"
        },
        "id": "7wphRS2bt90Q",
        "outputId": "df7f7499-c478-470b-8e59-b34c672a923d"
      },
      "execution_count": 144,
      "outputs": [
        {
          "output_type": "stream",
          "name": "stdout",
          "text": [
            "Длинна s_active: 206\n",
            "Пример значения из s_active: C[C@H]1COc2c(N3CCN(C)CC3)c(F)cc3c(=O)c(C(=O)O)cn1c23\n"
          ]
        }
      ]
    },
    {
      "cell_type": "code",
      "source": [
        "# все молекулы\n",
        "Smiles = s_active + s_inactive\n",
        "len(Smiles)"
      ],
      "metadata": {
        "colab": {
          "base_uri": "https://localhost:8080/"
        },
        "id": "9G6YatLvuNDk",
        "outputId": "25b5e6b5-96c7-4415-eb37-032baf596636"
      },
      "execution_count": 145,
      "outputs": [
        {
          "output_type": "execute_result",
          "data": {
            "text/plain": [
              "5557"
            ]
          },
          "metadata": {},
          "execution_count": 145
        }
      ]
    },
    {
      "cell_type": "code",
      "source": [
        "maxWordsCount = 4096 # Определяем максимальное количество слов/индексов, учитываемое при обучении текстов\n",
        "\n",
        "# Воспользуемся встроенной в Keras функцией Tokenizer для разбиения текста и превращения в матрицу числовых значений\n",
        "# num_words=maxWordsCount - определяем максимальное количество слов/индексов, учитываемое при обучении текстов\n",
        "# filters='!\"#$%&()*+,-./:;<=>?@[\\\\]^_`{|}~\\t\\n' - избавляемся от ненужных символов\n",
        "# lower=True - приводим слова к нижнему регистру\n",
        "# split=' ' - разделяем слова по пробелу\n",
        "# char_level=False - токенизируем по словам (Если будет True - каждый символ будет рассматриваться как отдельный токен )\n",
        "tokenizer = Tokenizer(num_words=maxWordsCount, filters='', lower=False, split='', oov_token='unknown', char_level=True)\n",
        "\n",
        "tokenizer.fit_on_texts(Smiles) # \"Скармливаем\" наши тексты, т.е. даём в обработку методу, который соберет словарь частотности\n",
        "items = list(tokenizer.word_index.items()) # Вытаскиваем индексы слов для просмотра"
      ],
      "metadata": {
        "id": "AiqpFC2quCCo"
      },
      "execution_count": 146,
      "outputs": []
    },
    {
      "cell_type": "code",
      "source": [
        "print(items[:50]) # Посмотрим 10 самых часто встречающихся символов\n",
        "print(\"Размер словаря\", len(items)) # Длина словаря"
      ],
      "metadata": {
        "colab": {
          "base_uri": "https://localhost:8080/"
        },
        "id": "rUElqbk2uRzK",
        "outputId": "41351d2b-1f8a-41af-f230-c626f5ee67c0"
      },
      "execution_count": 147,
      "outputs": [
        {
          "output_type": "stream",
          "name": "stdout",
          "text": [
            "[('unknown', 1), ('c', 2), ('C', 3), ('(', 4), (')', 5), ('O', 6), ('1', 7), ('2', 8), ('=', 9), ('@', 10), ('N', 11), ('[', 12), (']', 13), ('H', 14), ('n', 15), ('3', 16), ('F', 17), ('4', 18), ('-', 19), ('l', 20), ('S', 21), ('/', 22), ('.', 23), ('5', 24), ('+', 25), ('s', 26), ('o', 27), ('#', 28), ('\\\\', 29), ('B', 30), ('r', 31), ('P', 32), ('I', 33), ('a', 34), ('6', 35), ('7', 36), ('A', 37), ('8', 38), ('i', 39), ('K', 40), ('Z', 41), ('g', 42), ('M', 43), ('L', 44), ('e', 45), ('9', 46)]\n",
            "Размер словаря 46\n"
          ]
        }
      ]
    },
    {
      "cell_type": "code",
      "source": [
        "# Преобразовываем текст в последовательность индексов согласно частотному словарю\n",
        "s_inactive_WordIndexes = tokenizer.texts_to_sequences(s_inactive) # тесты в индексы\n",
        "s_active_WordIndexes = tokenizer.texts_to_sequences(s_active) # тесты в индексы"
      ],
      "metadata": {
        "id": "xMO0julMuZyL"
      },
      "execution_count": 148,
      "outputs": []
    },
    {
      "cell_type": "code",
      "source": [
        "print(\"Взглянем на Smiles:\")\n",
        "print(\"Как в таблице:              \", s_inactive[1])\n",
        "print(\"В виде последовательности индексов: \", s_inactive_WordIndexes[1], '\\n')\n",
        "len(s_inactive[1]), len(s_inactive_WordIndexes[1])"
      ],
      "metadata": {
        "colab": {
          "base_uri": "https://localhost:8080/"
        },
        "id": "Z6slME7kudhd",
        "outputId": "f0ccf698-56e0-454c-ffd0-3f06864d03c6"
      },
      "execution_count": 149,
      "outputs": [
        {
          "output_type": "stream",
          "name": "stdout",
          "text": [
            "Взглянем на Smiles:\n",
            "Как в таблице:               CCCN1CCC[C@H](c2cccc(O)c2)C1.Cl\n",
            "В виде последовательности индексов:  [3, 3, 3, 11, 7, 3, 3, 3, 12, 3, 10, 14, 13, 4, 2, 8, 2, 2, 2, 2, 4, 6, 5, 2, 8, 5, 3, 7, 23, 3, 20] \n",
            "\n"
          ]
        },
        {
          "output_type": "execute_result",
          "data": {
            "text/plain": [
              "(31, 31)"
            ]
          },
          "metadata": {},
          "execution_count": 149
        }
      ]
    },
    {
      "cell_type": "code",
      "source": [
        "X_tr = tokenizer.sequences_to_matrix(s_inactive_WordIndexes)\n",
        "smal_active = tokenizer.sequences_to_matrix(s_active_WordIndexes)\n",
        "\n",
        "print(X_tr.shape, smal_active.shape)       # Размер обучающей выборки, сформированной по Bag of Words\n",
        "print(X_tr[0][0:100]) # Фрагмент в виде Bag of Words"
      ],
      "metadata": {
        "colab": {
          "base_uri": "https://localhost:8080/"
        },
        "id": "U-zvobUDuwS2",
        "outputId": "6f4296ac-f393-4192-eb01-75ee7b6ac197"
      },
      "execution_count": 150,
      "outputs": [
        {
          "output_type": "stream",
          "name": "stdout",
          "text": [
            "(5351, 4096) (206, 4096)\n",
            "[0. 0. 1. 1. 1. 1. 1. 1. 1. 0. 0. 1. 1. 1. 1. 1. 0. 0. 0. 0. 0. 0. 0. 0.\n",
            " 0. 0. 0. 0. 0. 0. 0. 0. 0. 0. 0. 0. 0. 0. 0. 0. 0. 0. 0. 0. 0. 0. 0. 0.\n",
            " 0. 0. 0. 0. 0. 0. 0. 0. 0. 0. 0. 0. 0. 0. 0. 0. 0. 0. 0. 0. 0. 0. 0. 0.\n",
            " 0. 0. 0. 0. 0. 0. 0. 0. 0. 0. 0. 0. 0. 0. 0. 0. 0. 0. 0. 0. 0. 0. 0. 0.\n",
            " 0. 0. 0. 0.]\n"
          ]
        }
      ]
    },
    {
      "cell_type": "code",
      "source": [
        "RANDOM_SEED = 42\n",
        "\n",
        "# берём неактивные молекулы разбиваем на train_test(только 'X')\n",
        "X_train, X_test = train_test_split(X_tr, test_size=0.2, random_state=RANDOM_SEED)"
      ],
      "metadata": {
        "id": "4YMw2--su-8w"
      },
      "execution_count": 162,
      "outputs": []
    },
    {
      "cell_type": "code",
      "source": [
        "X_test = np.concatenate((X_test, smal_active))\n",
        "X_test.shape"
      ],
      "metadata": {
        "colab": {
          "base_uri": "https://localhost:8080/"
        },
        "id": "tgnPiaz4xo21",
        "outputId": "cde0e88a-c861-47d4-879a-333d3a7d56c0"
      },
      "execution_count": 163,
      "outputs": [
        {
          "output_type": "execute_result",
          "data": {
            "text/plain": [
              "(1277, 4096)"
            ]
          },
          "metadata": {},
          "execution_count": 163
        }
      ]
    },
    {
      "cell_type": "code",
      "source": [
        "def Smiles_Autoencoder(): \n",
        "  dataSize = 4096 # размер входного слоя\n",
        "  dataInput = Input(shape=(dataSize, )) # задаем эти размеры как входные в сеть\n",
        "  \n",
        "  x = Dense(10, activation='relu')(dataInput) # пропускаем через полносвязный слой размером 10\n",
        "  x = Dense(dataSize, activation='sigmoid')(x) # выход это полносвязный слой размером 4096\n",
        "  \n",
        "  autoencoder = Model(inputs=dataInput, outputs=x) # собрали модель \n",
        "  \n",
        "  autoencoder.compile(optimizer=Adam(learning_rate=0.0001), loss='mse') # компилируем модель также, с выбором оптимайзера и среднеквадратичной ошибки\n",
        "  \n",
        "  return autoencoder "
      ],
      "metadata": {
        "id": "C6PIL6IdvG8S"
      },
      "execution_count": 152,
      "outputs": []
    },
    {
      "cell_type": "code",
      "source": [
        "model = Smiles_Autoencoder()\n",
        "model.summary()"
      ],
      "metadata": {
        "colab": {
          "base_uri": "https://localhost:8080/"
        },
        "id": "efRW2ZDgvI8E",
        "outputId": "05063538-8d21-4b51-9a79-8a61a3dbe4cb"
      },
      "execution_count": 153,
      "outputs": [
        {
          "output_type": "stream",
          "name": "stdout",
          "text": [
            "Model: \"model_10\"\n",
            "_________________________________________________________________\n",
            " Layer (type)                Output Shape              Param #   \n",
            "=================================================================\n",
            " input_11 (InputLayer)       [(None, 4096)]            0         \n",
            "                                                                 \n",
            " dense_22 (Dense)            (None, 10)                40970     \n",
            "                                                                 \n",
            " dense_23 (Dense)            (None, 4096)              45056     \n",
            "                                                                 \n",
            "=================================================================\n",
            "Total params: 86,026\n",
            "Trainable params: 86,026\n",
            "Non-trainable params: 0\n",
            "_________________________________________________________________\n"
          ]
        }
      ]
    },
    {
      "cell_type": "code",
      "source": [
        "model = Smiles_Autoencoder()\n",
        "history = model.fit(X_train, X_train,\n",
        "                    epochs=100,\n",
        "                    batch_size=12) # загружаем данные в модель(X_train'ы) и обучаем"
      ],
      "metadata": {
        "colab": {
          "base_uri": "https://localhost:8080/"
        },
        "id": "AAUGtySnvS5w",
        "outputId": "04f212e5-84bd-4ed6-c3e1-6dd05f012160"
      },
      "execution_count": 154,
      "outputs": [
        {
          "output_type": "stream",
          "name": "stdout",
          "text": [
            "Epoch 1/100\n",
            "357/357 [==============================] - 2s 3ms/step - loss: 0.2214\n",
            "Epoch 2/100\n",
            "357/357 [==============================] - 1s 3ms/step - loss: 0.1033\n",
            "Epoch 3/100\n",
            "357/357 [==============================] - 1s 3ms/step - loss: 0.0356\n",
            "Epoch 4/100\n",
            "357/357 [==============================] - 1s 3ms/step - loss: 0.0157\n",
            "Epoch 5/100\n",
            "357/357 [==============================] - 1s 3ms/step - loss: 0.0088\n",
            "Epoch 6/100\n",
            "357/357 [==============================] - 1s 3ms/step - loss: 0.0058\n",
            "Epoch 7/100\n",
            "357/357 [==============================] - 1s 3ms/step - loss: 0.0042\n",
            "Epoch 8/100\n",
            "357/357 [==============================] - 1s 3ms/step - loss: 0.0032\n",
            "Epoch 9/100\n",
            "357/357 [==============================] - 1s 3ms/step - loss: 0.0026\n",
            "Epoch 10/100\n",
            "357/357 [==============================] - 1s 3ms/step - loss: 0.0022\n",
            "Epoch 11/100\n",
            "357/357 [==============================] - 1s 3ms/step - loss: 0.0019\n",
            "Epoch 12/100\n",
            "357/357 [==============================] - 1s 3ms/step - loss: 0.0017\n",
            "Epoch 13/100\n",
            "357/357 [==============================] - 1s 3ms/step - loss: 0.0015\n",
            "Epoch 14/100\n",
            "357/357 [==============================] - 1s 3ms/step - loss: 0.0014\n",
            "Epoch 15/100\n",
            "357/357 [==============================] - 1s 3ms/step - loss: 0.0013\n",
            "Epoch 16/100\n",
            "357/357 [==============================] - 1s 3ms/step - loss: 0.0013\n",
            "Epoch 17/100\n",
            "357/357 [==============================] - 2s 5ms/step - loss: 0.0012\n",
            "Epoch 18/100\n",
            "357/357 [==============================] - 2s 6ms/step - loss: 0.0011\n",
            "Epoch 19/100\n",
            "357/357 [==============================] - 2s 6ms/step - loss: 0.0011\n",
            "Epoch 20/100\n",
            "357/357 [==============================] - 2s 5ms/step - loss: 0.0011\n",
            "Epoch 21/100\n",
            "357/357 [==============================] - 2s 5ms/step - loss: 0.0010\n",
            "Epoch 22/100\n",
            "357/357 [==============================] - 1s 3ms/step - loss: 0.0010\n",
            "Epoch 23/100\n",
            "357/357 [==============================] - 1s 3ms/step - loss: 0.0010\n",
            "Epoch 24/100\n",
            "357/357 [==============================] - 1s 3ms/step - loss: 9.8729e-04\n",
            "Epoch 25/100\n",
            "357/357 [==============================] - 1s 3ms/step - loss: 9.7243e-04\n",
            "Epoch 26/100\n",
            "357/357 [==============================] - 1s 3ms/step - loss: 9.5930e-04\n",
            "Epoch 27/100\n",
            "357/357 [==============================] - 1s 3ms/step - loss: 9.4735e-04\n",
            "Epoch 28/100\n",
            "357/357 [==============================] - 1s 4ms/step - loss: 9.3628e-04\n",
            "Epoch 29/100\n",
            "357/357 [==============================] - 1s 3ms/step - loss: 9.2569e-04\n",
            "Epoch 30/100\n",
            "357/357 [==============================] - 1s 3ms/step - loss: 9.1518e-04\n",
            "Epoch 31/100\n",
            "357/357 [==============================] - 1s 3ms/step - loss: 9.0437e-04\n",
            "Epoch 32/100\n",
            "357/357 [==============================] - 1s 3ms/step - loss: 8.9293e-04\n",
            "Epoch 33/100\n",
            "357/357 [==============================] - 1s 3ms/step - loss: 8.8047e-04\n",
            "Epoch 34/100\n",
            "357/357 [==============================] - 1s 3ms/step - loss: 8.6667e-04\n",
            "Epoch 35/100\n",
            "357/357 [==============================] - 1s 3ms/step - loss: 8.5142e-04\n",
            "Epoch 36/100\n",
            "357/357 [==============================] - 1s 3ms/step - loss: 8.3483e-04\n",
            "Epoch 37/100\n",
            "357/357 [==============================] - 1s 3ms/step - loss: 8.1704e-04\n",
            "Epoch 38/100\n",
            "357/357 [==============================] - 1s 3ms/step - loss: 7.9857e-04\n",
            "Epoch 39/100\n",
            "357/357 [==============================] - 1s 3ms/step - loss: 7.8010e-04\n",
            "Epoch 40/100\n",
            "357/357 [==============================] - 1s 3ms/step - loss: 7.6207e-04\n",
            "Epoch 41/100\n",
            "357/357 [==============================] - 1s 3ms/step - loss: 7.4512e-04\n",
            "Epoch 42/100\n",
            "357/357 [==============================] - 1s 3ms/step - loss: 7.2945e-04\n",
            "Epoch 43/100\n",
            "357/357 [==============================] - 1s 3ms/step - loss: 7.1507e-04\n",
            "Epoch 44/100\n",
            "357/357 [==============================] - 1s 3ms/step - loss: 7.0189e-04\n",
            "Epoch 45/100\n",
            "357/357 [==============================] - 1s 3ms/step - loss: 6.8964e-04\n",
            "Epoch 46/100\n",
            "357/357 [==============================] - 1s 3ms/step - loss: 6.7802e-04\n",
            "Epoch 47/100\n",
            "357/357 [==============================] - 1s 3ms/step - loss: 6.6683e-04\n",
            "Epoch 48/100\n",
            "357/357 [==============================] - 1s 3ms/step - loss: 6.5570e-04\n",
            "Epoch 49/100\n",
            "357/357 [==============================] - 1s 3ms/step - loss: 6.4457e-04\n",
            "Epoch 50/100\n",
            "357/357 [==============================] - 1s 4ms/step - loss: 6.3342e-04\n",
            "Epoch 51/100\n",
            "357/357 [==============================] - 1s 3ms/step - loss: 6.2217e-04\n",
            "Epoch 52/100\n",
            "357/357 [==============================] - 1s 3ms/step - loss: 6.1093e-04\n",
            "Epoch 53/100\n",
            "357/357 [==============================] - 1s 3ms/step - loss: 5.9983e-04\n",
            "Epoch 54/100\n",
            "357/357 [==============================] - 1s 3ms/step - loss: 5.8910e-04\n",
            "Epoch 55/100\n",
            "357/357 [==============================] - 1s 3ms/step - loss: 5.7874e-04\n",
            "Epoch 56/100\n",
            "357/357 [==============================] - 1s 3ms/step - loss: 5.6893e-04\n",
            "Epoch 57/100\n",
            "357/357 [==============================] - 1s 3ms/step - loss: 5.5972e-04\n",
            "Epoch 58/100\n",
            "357/357 [==============================] - 1s 3ms/step - loss: 5.5104e-04\n",
            "Epoch 59/100\n",
            "357/357 [==============================] - 1s 3ms/step - loss: 5.4287e-04\n",
            "Epoch 60/100\n",
            "357/357 [==============================] - 1s 3ms/step - loss: 5.3506e-04\n",
            "Epoch 61/100\n",
            "357/357 [==============================] - 1s 3ms/step - loss: 5.2762e-04\n",
            "Epoch 62/100\n",
            "357/357 [==============================] - 1s 3ms/step - loss: 5.2041e-04\n",
            "Epoch 63/100\n",
            "357/357 [==============================] - 1s 3ms/step - loss: 5.1347e-04\n",
            "Epoch 64/100\n",
            "357/357 [==============================] - 1s 3ms/step - loss: 5.0654e-04\n",
            "Epoch 65/100\n",
            "357/357 [==============================] - 1s 3ms/step - loss: 4.9976e-04\n",
            "Epoch 66/100\n",
            "357/357 [==============================] - 1s 3ms/step - loss: 4.9307e-04\n",
            "Epoch 67/100\n",
            "357/357 [==============================] - 1s 3ms/step - loss: 4.8645e-04\n",
            "Epoch 68/100\n",
            "357/357 [==============================] - 1s 3ms/step - loss: 4.7992e-04\n",
            "Epoch 69/100\n",
            "357/357 [==============================] - 1s 3ms/step - loss: 4.7359e-04\n",
            "Epoch 70/100\n",
            "357/357 [==============================] - 1s 3ms/step - loss: 4.6735e-04\n",
            "Epoch 71/100\n",
            "357/357 [==============================] - 1s 3ms/step - loss: 4.6119e-04\n",
            "Epoch 72/100\n",
            "357/357 [==============================] - 1s 3ms/step - loss: 4.5525e-04\n",
            "Epoch 73/100\n",
            "357/357 [==============================] - 1s 3ms/step - loss: 4.4938e-04\n",
            "Epoch 74/100\n",
            "357/357 [==============================] - 1s 3ms/step - loss: 4.4363e-04\n",
            "Epoch 75/100\n",
            "357/357 [==============================] - 1s 3ms/step - loss: 4.3796e-04\n",
            "Epoch 76/100\n",
            "357/357 [==============================] - 1s 3ms/step - loss: 4.3236e-04\n",
            "Epoch 77/100\n",
            "357/357 [==============================] - 1s 3ms/step - loss: 4.2683e-04\n",
            "Epoch 78/100\n",
            "357/357 [==============================] - 1s 3ms/step - loss: 4.2126e-04\n",
            "Epoch 79/100\n",
            "357/357 [==============================] - 1s 3ms/step - loss: 4.1563e-04\n",
            "Epoch 80/100\n",
            "357/357 [==============================] - 1s 3ms/step - loss: 4.1008e-04\n",
            "Epoch 81/100\n",
            "357/357 [==============================] - 1s 3ms/step - loss: 4.0452e-04\n",
            "Epoch 82/100\n",
            "357/357 [==============================] - 1s 3ms/step - loss: 3.9890e-04\n",
            "Epoch 83/100\n",
            "357/357 [==============================] - 1s 3ms/step - loss: 3.9329e-04\n",
            "Epoch 84/100\n",
            "357/357 [==============================] - 1s 3ms/step - loss: 3.8768e-04\n",
            "Epoch 85/100\n",
            "357/357 [==============================] - 1s 3ms/step - loss: 3.8205e-04\n",
            "Epoch 86/100\n",
            "357/357 [==============================] - 1s 3ms/step - loss: 3.7646e-04\n",
            "Epoch 87/100\n",
            "357/357 [==============================] - 1s 3ms/step - loss: 3.7087e-04\n",
            "Epoch 88/100\n",
            "357/357 [==============================] - 1s 3ms/step - loss: 3.6529e-04\n",
            "Epoch 89/100\n",
            "357/357 [==============================] - 1s 3ms/step - loss: 3.5978e-04\n",
            "Epoch 90/100\n",
            "357/357 [==============================] - 1s 3ms/step - loss: 3.5427e-04\n",
            "Epoch 91/100\n",
            "357/357 [==============================] - 1s 3ms/step - loss: 3.4884e-04\n",
            "Epoch 92/100\n",
            "357/357 [==============================] - 1s 3ms/step - loss: 3.4346e-04\n",
            "Epoch 93/100\n",
            "357/357 [==============================] - 1s 3ms/step - loss: 3.3814e-04\n",
            "Epoch 94/100\n",
            "357/357 [==============================] - 1s 3ms/step - loss: 3.3288e-04\n",
            "Epoch 95/100\n",
            "357/357 [==============================] - 1s 3ms/step - loss: 3.2776e-04\n",
            "Epoch 96/100\n",
            "357/357 [==============================] - 1s 3ms/step - loss: 3.2267e-04\n",
            "Epoch 97/100\n",
            "357/357 [==============================] - 1s 3ms/step - loss: 3.1761e-04\n",
            "Epoch 98/100\n",
            "357/357 [==============================] - 1s 4ms/step - loss: 3.1266e-04\n",
            "Epoch 99/100\n",
            "357/357 [==============================] - 2s 6ms/step - loss: 3.0776e-04\n",
            "Epoch 100/100\n",
            "357/357 [==============================] - 1s 4ms/step - loss: 3.0297e-04\n"
          ]
        }
      ]
    },
    {
      "cell_type": "code",
      "source": [
        "predictions = model.predict(X_test) # делаем предсказание по X_test на неактивных и активных молекулах\n",
        "print(predictions.shape)\n",
        "\n",
        "# считаю mse\n",
        "mse = np.mean(np.power(X_test - predictions, 2), axis=1)\n",
        "\n",
        "mse_Inactivel = mse[:1071] # неактивные. Так как при concatenate X_test и smal_activeдо 1071 были неактивные, а после 1071 активные.\n",
        "mse_Active = mse[1071:] # активные\n",
        "\n",
        "# размеры\n",
        "print(mse_Inactivel.shape)\n",
        "print(mse_Active.shape)"
      ],
      "metadata": {
        "colab": {
          "base_uri": "https://localhost:8080/"
        },
        "id": "eN1gTwNpviAp",
        "outputId": "74cadcce-ca6b-43bb-ecbf-24ea01729986"
      },
      "execution_count": 195,
      "outputs": [
        {
          "output_type": "stream",
          "name": "stdout",
          "text": [
            "(1277, 4096)\n",
            "(1071,)\n",
            "(206,)\n"
          ]
        }
      ]
    },
    {
      "cell_type": "code",
      "source": [
        "print(\"Минимальная ошибка неактивных молекул:\", round(min(mse_Inactivel),4)) #\n",
        "print(\"Максимальная ошибка неактивных молекул:\", round(max(mse_Inactivel),4)) #\n",
        "print(\"Средняя ошибка неактивных молекул:\", round(sum(mse_Inactivel) / len(mse_Inactivel),8)) # средняя ошибка\n",
        "print()\n",
        "print(\"Минимальная ошибка активных молекул:\", round(min(mse_Active),4)) #\n",
        "print(\"Максимальная ошибка активных молекул:\", round(max(mse_Active),4)) #\n",
        "print(\"Средняя ошибка активных молекул:\", round(sum(mse_Active) / len(mse_Active),8)) # средняя ошибка"
      ],
      "metadata": {
        "id": "bQuWdR6uvsEW",
        "colab": {
          "base_uri": "https://localhost:8080/"
        },
        "outputId": "9c49f972-b741-4fb9-9cb3-16ece889fcdd"
      },
      "execution_count": 196,
      "outputs": [
        {
          "output_type": "stream",
          "name": "stdout",
          "text": [
            "Минимальная ошибка неактивных молекул: 0.0001\n",
            "Максимальная ошибка неактивных молекул: 0.0018\n",
            "Средняя ошибка неактивных молекул: 0.00031974\n",
            "\n",
            "Минимальная ошибка активных молекул: 0.0001\n",
            "Максимальная ошибка активных молекул: 0.0015\n",
            "Средняя ошибка активных молекул: 0.00041945\n"
          ]
        }
      ]
    },
    {
      "cell_type": "code",
      "source": [
        "def getAccByBias(bias): \n",
        "  isInactive = mse_Inactivel < bias # тут поменял знаки, так как mse неактивных меньше\n",
        "  isActive = mse_Active > bias # поменял знаки\n",
        "\n",
        "  accInactive = sum(isInactive) / len(isInactive) # вычисляем процент неактивных\n",
        "  accActive = sum(isActive) / len(isActive) # вычисляем процент активных\n",
        "\n",
        "  print(\"Распознано неактивных молекул: \", round(100*accInactive), \"%\", sep=\"\")\n",
        "  print(\"Распознано активных молекул: \", round(100*accActive), \"%\", sep=\"\")\n",
        "  print(\"Средняя точность распознавания: \", round(50*(accInactive + accActive)), \"%\", sep=\"\")"
      ],
      "metadata": {
        "id": "7JGOGgG2v9cv"
      },
      "execution_count": 197,
      "outputs": []
    },
    {
      "cell_type": "code",
      "source": [
        "getAccByBias(0.00031)"
      ],
      "metadata": {
        "colab": {
          "base_uri": "https://localhost:8080/"
        },
        "id": "8FSyTdGvwvTB",
        "outputId": "3f9c582a-25a9-4b0d-858b-e7f7db88d73c"
      },
      "execution_count": 198,
      "outputs": [
        {
          "output_type": "stream",
          "name": "stdout",
          "text": [
            "Распознано неактивных молекул: 61%\n",
            "Распознано активных молекул: 57%\n",
            "Средняя точность распознавания: 59%\n"
          ]
        }
      ]
    },
    {
      "cell_type": "code",
      "source": [
        "# функцию submit\n",
        "\n",
        "def submission(df_test, model, bias):\n",
        "\n",
        "  test_smiles = []\n",
        "  for i in df_test['Smiles']:\n",
        "    test_smiles.append(i)\n",
        "\n",
        "  test = []\n",
        "  for i in test_smiles:\n",
        "    sm = get_morgan_fingerprint(i)  # получаю вектор из smiles\n",
        "    test.append(sm)\n",
        "  test = np.array(test)             # преобразую в numpy\n",
        "  \n",
        "  predictions_test = model.predict(test) # делаем предсказание\n",
        "  \n",
        "  mse_test = np.mean(np.power(test - predictions_test, 2), axis=1)\n",
        "\n",
        "  # Формирую табличку \n",
        "  submission = df_test\n",
        "  submission['Active'] = ''\n",
        "  \n",
        "  for i in range(len(mse_test)):\n",
        "    if mse_test[i] >= bias:\n",
        "      submission['Active'].values[i] = 0\n",
        "    else:\n",
        "      submission['Active'].values[i] = 1\n",
        "  \n",
        "  submission.to_csv('submission.csv', index=False)\n",
        "\n",
        "   \n",
        "  print('Длинна test_smiles:', len(test_smiles))\n",
        "  print(\"Пример значения из test_smiles:\", test_smiles[1])\n",
        "  print(\"Минимальная ошибка молекул:\", round(min(mse_test),4)) #\n",
        "  print(\"Максимальная ошибка молекул:\", round(max(mse_test),4)) #\n",
        "  print(\"Средняя ошибка молекул:\", round(sum(mse_test) / len(mse_test),8)) # среднюю ошибку\n",
        "\n",
        "  return submission"
      ],
      "metadata": {
        "id": "UAZ6qbsj3v7v"
      },
      "execution_count": 201,
      "outputs": []
    },
    {
      "cell_type": "code",
      "source": [
        "df_test = pd.read_csv('/content/test.csv', index_col = 0)\n",
        "df_test.head()"
      ],
      "metadata": {
        "colab": {
          "base_uri": "https://localhost:8080/",
          "height": 206
        },
        "id": "qiINr5Tl2M-m",
        "outputId": "2f20523a-c687-4583-9285-a53f149cc3ee"
      },
      "execution_count": 200,
      "outputs": [
        {
          "output_type": "execute_result",
          "data": {
            "text/html": [
              "\n",
              "  <div id=\"df-f8efd9da-f16f-44ac-b5ed-78465ad1d4f4\">\n",
              "    <div class=\"colab-df-container\">\n",
              "      <div>\n",
              "<style scoped>\n",
              "    .dataframe tbody tr th:only-of-type {\n",
              "        vertical-align: middle;\n",
              "    }\n",
              "\n",
              "    .dataframe tbody tr th {\n",
              "        vertical-align: top;\n",
              "    }\n",
              "\n",
              "    .dataframe thead th {\n",
              "        text-align: right;\n",
              "    }\n",
              "</style>\n",
              "<table border=\"1\" class=\"dataframe\">\n",
              "  <thead>\n",
              "    <tr style=\"text-align: right;\">\n",
              "      <th></th>\n",
              "      <th>Smiles</th>\n",
              "    </tr>\n",
              "  </thead>\n",
              "  <tbody>\n",
              "    <tr>\n",
              "      <th>0</th>\n",
              "      <td>COC(=O)Nc1ccc(-c2nc(N3CCOCC3)c3cnn(C4CCN(Cc5cc...</td>\n",
              "    </tr>\n",
              "    <tr>\n",
              "      <th>1</th>\n",
              "      <td>O=Cc1cn(Cc2ccc(Cl)cc2)c2ccccc12</td>\n",
              "    </tr>\n",
              "    <tr>\n",
              "      <th>2</th>\n",
              "      <td>NC(CO)C(=O)NNCc1ccc(O)c(O)c1O</td>\n",
              "    </tr>\n",
              "    <tr>\n",
              "      <th>3</th>\n",
              "      <td>Nc1nc(=O)n([C@H]2C[C@H](O)[C@@H](CO)O2)cc1Cl</td>\n",
              "    </tr>\n",
              "    <tr>\n",
              "      <th>4</th>\n",
              "      <td>Nc1ccc(C(=O)Nc2cccc(-c3nc(N4CCOCC4)c4oc5ncccc5...</td>\n",
              "    </tr>\n",
              "  </tbody>\n",
              "</table>\n",
              "</div>\n",
              "      <button class=\"colab-df-convert\" onclick=\"convertToInteractive('df-f8efd9da-f16f-44ac-b5ed-78465ad1d4f4')\"\n",
              "              title=\"Convert this dataframe to an interactive table.\"\n",
              "              style=\"display:none;\">\n",
              "        \n",
              "  <svg xmlns=\"http://www.w3.org/2000/svg\" height=\"24px\"viewBox=\"0 0 24 24\"\n",
              "       width=\"24px\">\n",
              "    <path d=\"M0 0h24v24H0V0z\" fill=\"none\"/>\n",
              "    <path d=\"M18.56 5.44l.94 2.06.94-2.06 2.06-.94-2.06-.94-.94-2.06-.94 2.06-2.06.94zm-11 1L8.5 8.5l.94-2.06 2.06-.94-2.06-.94L8.5 2.5l-.94 2.06-2.06.94zm10 10l.94 2.06.94-2.06 2.06-.94-2.06-.94-.94-2.06-.94 2.06-2.06.94z\"/><path d=\"M17.41 7.96l-1.37-1.37c-.4-.4-.92-.59-1.43-.59-.52 0-1.04.2-1.43.59L10.3 9.45l-7.72 7.72c-.78.78-.78 2.05 0 2.83L4 21.41c.39.39.9.59 1.41.59.51 0 1.02-.2 1.41-.59l7.78-7.78 2.81-2.81c.8-.78.8-2.07 0-2.86zM5.41 20L4 18.59l7.72-7.72 1.47 1.35L5.41 20z\"/>\n",
              "  </svg>\n",
              "      </button>\n",
              "      \n",
              "  <style>\n",
              "    .colab-df-container {\n",
              "      display:flex;\n",
              "      flex-wrap:wrap;\n",
              "      gap: 12px;\n",
              "    }\n",
              "\n",
              "    .colab-df-convert {\n",
              "      background-color: #E8F0FE;\n",
              "      border: none;\n",
              "      border-radius: 50%;\n",
              "      cursor: pointer;\n",
              "      display: none;\n",
              "      fill: #1967D2;\n",
              "      height: 32px;\n",
              "      padding: 0 0 0 0;\n",
              "      width: 32px;\n",
              "    }\n",
              "\n",
              "    .colab-df-convert:hover {\n",
              "      background-color: #E2EBFA;\n",
              "      box-shadow: 0px 1px 2px rgba(60, 64, 67, 0.3), 0px 1px 3px 1px rgba(60, 64, 67, 0.15);\n",
              "      fill: #174EA6;\n",
              "    }\n",
              "\n",
              "    [theme=dark] .colab-df-convert {\n",
              "      background-color: #3B4455;\n",
              "      fill: #D2E3FC;\n",
              "    }\n",
              "\n",
              "    [theme=dark] .colab-df-convert:hover {\n",
              "      background-color: #434B5C;\n",
              "      box-shadow: 0px 1px 3px 1px rgba(0, 0, 0, 0.15);\n",
              "      filter: drop-shadow(0px 1px 2px rgba(0, 0, 0, 0.3));\n",
              "      fill: #FFFFFF;\n",
              "    }\n",
              "  </style>\n",
              "\n",
              "      <script>\n",
              "        const buttonEl =\n",
              "          document.querySelector('#df-f8efd9da-f16f-44ac-b5ed-78465ad1d4f4 button.colab-df-convert');\n",
              "        buttonEl.style.display =\n",
              "          google.colab.kernel.accessAllowed ? 'block' : 'none';\n",
              "\n",
              "        async function convertToInteractive(key) {\n",
              "          const element = document.querySelector('#df-f8efd9da-f16f-44ac-b5ed-78465ad1d4f4');\n",
              "          const dataTable =\n",
              "            await google.colab.kernel.invokeFunction('convertToInteractive',\n",
              "                                                     [key], {});\n",
              "          if (!dataTable) return;\n",
              "\n",
              "          const docLinkHtml = 'Like what you see? Visit the ' +\n",
              "            '<a target=\"_blank\" href=https://colab.research.google.com/notebooks/data_table.ipynb>data table notebook</a>'\n",
              "            + ' to learn more about interactive tables.';\n",
              "          element.innerHTML = '';\n",
              "          dataTable['output_type'] = 'display_data';\n",
              "          await google.colab.output.renderOutput(dataTable, element);\n",
              "          const docLink = document.createElement('div');\n",
              "          docLink.innerHTML = docLinkHtml;\n",
              "          element.appendChild(docLink);\n",
              "        }\n",
              "      </script>\n",
              "    </div>\n",
              "  </div>\n",
              "  "
            ],
            "text/plain": [
              "                                              Smiles\n",
              "0  COC(=O)Nc1ccc(-c2nc(N3CCOCC3)c3cnn(C4CCN(Cc5cc...\n",
              "1                    O=Cc1cn(Cc2ccc(Cl)cc2)c2ccccc12\n",
              "2                      NC(CO)C(=O)NNCc1ccc(O)c(O)c1O\n",
              "3       Nc1nc(=O)n([C@H]2C[C@H](O)[C@@H](CO)O2)cc1Cl\n",
              "4  Nc1ccc(C(=O)Nc2cccc(-c3nc(N4CCOCC4)c4oc5ncccc5..."
            ]
          },
          "metadata": {},
          "execution_count": 200
        }
      ]
    },
    {
      "cell_type": "code",
      "source": [
        "submission = submission(df_test, model, 0.00031)"
      ],
      "metadata": {
        "colab": {
          "base_uri": "https://localhost:8080/"
        },
        "id": "NJbY3iAz1njI",
        "outputId": "220ce1e1-6ab1-4f9e-dc79-c417538ece0f"
      },
      "execution_count": 202,
      "outputs": [
        {
          "output_type": "stream",
          "name": "stdout",
          "text": [
            "Длинна test_smiles: 1614\n",
            "Пример значения из test_smiles: O=Cc1cn(Cc2ccc(Cl)cc2)c2ccccc12\n",
            "Минимальная ошибка молекул: 0.0058\n",
            "Максимальная ошибка молекул: 0.0805\n",
            "Средняя ошибка молекул: 0.03111169\n"
          ]
        }
      ]
    },
    {
      "cell_type": "code",
      "source": [
        "submission"
      ],
      "metadata": {
        "colab": {
          "base_uri": "https://localhost:8080/",
          "height": 424
        },
        "id": "VjyiW4-R2dNg",
        "outputId": "b492ebf4-c8bb-46dd-ee40-8a965d04b74f"
      },
      "execution_count": 203,
      "outputs": [
        {
          "output_type": "execute_result",
          "data": {
            "text/html": [
              "\n",
              "  <div id=\"df-8fd77aa6-92d8-49b8-b48a-65d62e5f7d2d\">\n",
              "    <div class=\"colab-df-container\">\n",
              "      <div>\n",
              "<style scoped>\n",
              "    .dataframe tbody tr th:only-of-type {\n",
              "        vertical-align: middle;\n",
              "    }\n",
              "\n",
              "    .dataframe tbody tr th {\n",
              "        vertical-align: top;\n",
              "    }\n",
              "\n",
              "    .dataframe thead th {\n",
              "        text-align: right;\n",
              "    }\n",
              "</style>\n",
              "<table border=\"1\" class=\"dataframe\">\n",
              "  <thead>\n",
              "    <tr style=\"text-align: right;\">\n",
              "      <th></th>\n",
              "      <th>Smiles</th>\n",
              "      <th>Active</th>\n",
              "    </tr>\n",
              "  </thead>\n",
              "  <tbody>\n",
              "    <tr>\n",
              "      <th>0</th>\n",
              "      <td>COC(=O)Nc1ccc(-c2nc(N3CCOCC3)c3cnn(C4CCN(Cc5cc...</td>\n",
              "      <td>0</td>\n",
              "    </tr>\n",
              "    <tr>\n",
              "      <th>1</th>\n",
              "      <td>O=Cc1cn(Cc2ccc(Cl)cc2)c2ccccc12</td>\n",
              "      <td>0</td>\n",
              "    </tr>\n",
              "    <tr>\n",
              "      <th>2</th>\n",
              "      <td>NC(CO)C(=O)NNCc1ccc(O)c(O)c1O</td>\n",
              "      <td>0</td>\n",
              "    </tr>\n",
              "    <tr>\n",
              "      <th>3</th>\n",
              "      <td>Nc1nc(=O)n([C@H]2C[C@H](O)[C@@H](CO)O2)cc1Cl</td>\n",
              "      <td>0</td>\n",
              "    </tr>\n",
              "    <tr>\n",
              "      <th>4</th>\n",
              "      <td>Nc1ccc(C(=O)Nc2cccc(-c3nc(N4CCOCC4)c4oc5ncccc5...</td>\n",
              "      <td>0</td>\n",
              "    </tr>\n",
              "    <tr>\n",
              "      <th>...</th>\n",
              "      <td>...</td>\n",
              "      <td>...</td>\n",
              "    </tr>\n",
              "    <tr>\n",
              "      <th>1609</th>\n",
              "      <td>NS(=O)(=O)c1cc2c(cc1Cl)NC(C1CC3C=CC1C3)NS2(=O)=O</td>\n",
              "      <td>0</td>\n",
              "    </tr>\n",
              "    <tr>\n",
              "      <th>1610</th>\n",
              "      <td>Cc1cccc(Nc2ccncc2S(=O)(=O)NC(=O)NC(C)C)c1</td>\n",
              "      <td>0</td>\n",
              "    </tr>\n",
              "    <tr>\n",
              "      <th>1611</th>\n",
              "      <td>CCCC(=O)O[C@]1(C(=O)CO)CC[C@H]2[C@@H]3CCC4=CC(...</td>\n",
              "      <td>0</td>\n",
              "    </tr>\n",
              "    <tr>\n",
              "      <th>1612</th>\n",
              "      <td>CN(C)c1cccc(Oc2cnc(Nc3cccc(O)c3)nc2)c1</td>\n",
              "      <td>0</td>\n",
              "    </tr>\n",
              "    <tr>\n",
              "      <th>1613</th>\n",
              "      <td>O=C(O)c1ccccc1-c1c2ccc(=O)cc-2oc2cc(O)ccc12</td>\n",
              "      <td>0</td>\n",
              "    </tr>\n",
              "  </tbody>\n",
              "</table>\n",
              "<p>1614 rows × 2 columns</p>\n",
              "</div>\n",
              "      <button class=\"colab-df-convert\" onclick=\"convertToInteractive('df-8fd77aa6-92d8-49b8-b48a-65d62e5f7d2d')\"\n",
              "              title=\"Convert this dataframe to an interactive table.\"\n",
              "              style=\"display:none;\">\n",
              "        \n",
              "  <svg xmlns=\"http://www.w3.org/2000/svg\" height=\"24px\"viewBox=\"0 0 24 24\"\n",
              "       width=\"24px\">\n",
              "    <path d=\"M0 0h24v24H0V0z\" fill=\"none\"/>\n",
              "    <path d=\"M18.56 5.44l.94 2.06.94-2.06 2.06-.94-2.06-.94-.94-2.06-.94 2.06-2.06.94zm-11 1L8.5 8.5l.94-2.06 2.06-.94-2.06-.94L8.5 2.5l-.94 2.06-2.06.94zm10 10l.94 2.06.94-2.06 2.06-.94-2.06-.94-.94-2.06-.94 2.06-2.06.94z\"/><path d=\"M17.41 7.96l-1.37-1.37c-.4-.4-.92-.59-1.43-.59-.52 0-1.04.2-1.43.59L10.3 9.45l-7.72 7.72c-.78.78-.78 2.05 0 2.83L4 21.41c.39.39.9.59 1.41.59.51 0 1.02-.2 1.41-.59l7.78-7.78 2.81-2.81c.8-.78.8-2.07 0-2.86zM5.41 20L4 18.59l7.72-7.72 1.47 1.35L5.41 20z\"/>\n",
              "  </svg>\n",
              "      </button>\n",
              "      \n",
              "  <style>\n",
              "    .colab-df-container {\n",
              "      display:flex;\n",
              "      flex-wrap:wrap;\n",
              "      gap: 12px;\n",
              "    }\n",
              "\n",
              "    .colab-df-convert {\n",
              "      background-color: #E8F0FE;\n",
              "      border: none;\n",
              "      border-radius: 50%;\n",
              "      cursor: pointer;\n",
              "      display: none;\n",
              "      fill: #1967D2;\n",
              "      height: 32px;\n",
              "      padding: 0 0 0 0;\n",
              "      width: 32px;\n",
              "    }\n",
              "\n",
              "    .colab-df-convert:hover {\n",
              "      background-color: #E2EBFA;\n",
              "      box-shadow: 0px 1px 2px rgba(60, 64, 67, 0.3), 0px 1px 3px 1px rgba(60, 64, 67, 0.15);\n",
              "      fill: #174EA6;\n",
              "    }\n",
              "\n",
              "    [theme=dark] .colab-df-convert {\n",
              "      background-color: #3B4455;\n",
              "      fill: #D2E3FC;\n",
              "    }\n",
              "\n",
              "    [theme=dark] .colab-df-convert:hover {\n",
              "      background-color: #434B5C;\n",
              "      box-shadow: 0px 1px 3px 1px rgba(0, 0, 0, 0.15);\n",
              "      filter: drop-shadow(0px 1px 2px rgba(0, 0, 0, 0.3));\n",
              "      fill: #FFFFFF;\n",
              "    }\n",
              "  </style>\n",
              "\n",
              "      <script>\n",
              "        const buttonEl =\n",
              "          document.querySelector('#df-8fd77aa6-92d8-49b8-b48a-65d62e5f7d2d button.colab-df-convert');\n",
              "        buttonEl.style.display =\n",
              "          google.colab.kernel.accessAllowed ? 'block' : 'none';\n",
              "\n",
              "        async function convertToInteractive(key) {\n",
              "          const element = document.querySelector('#df-8fd77aa6-92d8-49b8-b48a-65d62e5f7d2d');\n",
              "          const dataTable =\n",
              "            await google.colab.kernel.invokeFunction('convertToInteractive',\n",
              "                                                     [key], {});\n",
              "          if (!dataTable) return;\n",
              "\n",
              "          const docLinkHtml = 'Like what you see? Visit the ' +\n",
              "            '<a target=\"_blank\" href=https://colab.research.google.com/notebooks/data_table.ipynb>data table notebook</a>'\n",
              "            + ' to learn more about interactive tables.';\n",
              "          element.innerHTML = '';\n",
              "          dataTable['output_type'] = 'display_data';\n",
              "          await google.colab.output.renderOutput(dataTable, element);\n",
              "          const docLink = document.createElement('div');\n",
              "          docLink.innerHTML = docLinkHtml;\n",
              "          element.appendChild(docLink);\n",
              "        }\n",
              "      </script>\n",
              "    </div>\n",
              "  </div>\n",
              "  "
            ],
            "text/plain": [
              "                                                 Smiles Active\n",
              "0     COC(=O)Nc1ccc(-c2nc(N3CCOCC3)c3cnn(C4CCN(Cc5cc...      0\n",
              "1                       O=Cc1cn(Cc2ccc(Cl)cc2)c2ccccc12      0\n",
              "2                         NC(CO)C(=O)NNCc1ccc(O)c(O)c1O      0\n",
              "3          Nc1nc(=O)n([C@H]2C[C@H](O)[C@@H](CO)O2)cc1Cl      0\n",
              "4     Nc1ccc(C(=O)Nc2cccc(-c3nc(N4CCOCC4)c4oc5ncccc5...      0\n",
              "...                                                 ...    ...\n",
              "1609   NS(=O)(=O)c1cc2c(cc1Cl)NC(C1CC3C=CC1C3)NS2(=O)=O      0\n",
              "1610          Cc1cccc(Nc2ccncc2S(=O)(=O)NC(=O)NC(C)C)c1      0\n",
              "1611  CCCC(=O)O[C@]1(C(=O)CO)CC[C@H]2[C@@H]3CCC4=CC(...      0\n",
              "1612             CN(C)c1cccc(Oc2cnc(Nc3cccc(O)c3)nc2)c1      0\n",
              "1613        O=C(O)c1ccccc1-c1c2ccc(=O)cc-2oc2cc(O)ccc12      0\n",
              "\n",
              "[1614 rows x 2 columns]"
            ]
          },
          "metadata": {},
          "execution_count": 203
        }
      ]
    },
    {
      "cell_type": "markdown",
      "source": [
        "#**Классификация на маленькой выборке**"
      ],
      "metadata": {
        "id": "zPfccVpnwv59"
      }
    },
    {
      "cell_type": "markdown",
      "source": [
        "**Всего по 206 примеров**"
      ],
      "metadata": {
        "id": "2ViNY9p36pG_"
      }
    },
    {
      "cell_type": "code",
      "source": [
        "# загружаю датасет\n",
        "df_train_new = pd.read_csv('/content/train.csv', index_col = 0)\n",
        "df_train_new.head()"
      ],
      "metadata": {
        "colab": {
          "base_uri": "https://localhost:8080/",
          "height": 206
        },
        "id": "9BNiI3QF5RPN",
        "outputId": "26962a67-4266-435b-a4bb-1a33764671ae"
      },
      "execution_count": 223,
      "outputs": [
        {
          "output_type": "execute_result",
          "data": {
            "text/html": [
              "\n",
              "  <div id=\"df-390e0463-744f-4ff9-8dfc-f45383a75488\">\n",
              "    <div class=\"colab-df-container\">\n",
              "      <div>\n",
              "<style scoped>\n",
              "    .dataframe tbody tr th:only-of-type {\n",
              "        vertical-align: middle;\n",
              "    }\n",
              "\n",
              "    .dataframe tbody tr th {\n",
              "        vertical-align: top;\n",
              "    }\n",
              "\n",
              "    .dataframe thead th {\n",
              "        text-align: right;\n",
              "    }\n",
              "</style>\n",
              "<table border=\"1\" class=\"dataframe\">\n",
              "  <thead>\n",
              "    <tr style=\"text-align: right;\">\n",
              "      <th></th>\n",
              "      <th>Smiles</th>\n",
              "      <th>Active</th>\n",
              "    </tr>\n",
              "  </thead>\n",
              "  <tbody>\n",
              "    <tr>\n",
              "      <th>0</th>\n",
              "      <td>COc1ccc2[nH]cc(CCN)c2c1</td>\n",
              "      <td>False</td>\n",
              "    </tr>\n",
              "    <tr>\n",
              "      <th>1</th>\n",
              "      <td>CCCN1CCC[C@H](c2cccc(O)c2)C1.Cl</td>\n",
              "      <td>False</td>\n",
              "    </tr>\n",
              "    <tr>\n",
              "      <th>2</th>\n",
              "      <td>O=C(NO)c1cnc(N2CCN(S(=O)(=O)c3ccc4ccccc4c3)CC2...</td>\n",
              "      <td>False</td>\n",
              "    </tr>\n",
              "    <tr>\n",
              "      <th>3</th>\n",
              "      <td>Nc1cccc(CNC(=O)c2ccc(Oc3ccc(OCc4cccc(F)c4)cc3)...</td>\n",
              "      <td>False</td>\n",
              "    </tr>\n",
              "    <tr>\n",
              "      <th>4</th>\n",
              "      <td>Fc1ccccc1CNCc1ccc(-c2ccnc3[nH]ccc23)cc1</td>\n",
              "      <td>False</td>\n",
              "    </tr>\n",
              "  </tbody>\n",
              "</table>\n",
              "</div>\n",
              "      <button class=\"colab-df-convert\" onclick=\"convertToInteractive('df-390e0463-744f-4ff9-8dfc-f45383a75488')\"\n",
              "              title=\"Convert this dataframe to an interactive table.\"\n",
              "              style=\"display:none;\">\n",
              "        \n",
              "  <svg xmlns=\"http://www.w3.org/2000/svg\" height=\"24px\"viewBox=\"0 0 24 24\"\n",
              "       width=\"24px\">\n",
              "    <path d=\"M0 0h24v24H0V0z\" fill=\"none\"/>\n",
              "    <path d=\"M18.56 5.44l.94 2.06.94-2.06 2.06-.94-2.06-.94-.94-2.06-.94 2.06-2.06.94zm-11 1L8.5 8.5l.94-2.06 2.06-.94-2.06-.94L8.5 2.5l-.94 2.06-2.06.94zm10 10l.94 2.06.94-2.06 2.06-.94-2.06-.94-.94-2.06-.94 2.06-2.06.94z\"/><path d=\"M17.41 7.96l-1.37-1.37c-.4-.4-.92-.59-1.43-.59-.52 0-1.04.2-1.43.59L10.3 9.45l-7.72 7.72c-.78.78-.78 2.05 0 2.83L4 21.41c.39.39.9.59 1.41.59.51 0 1.02-.2 1.41-.59l7.78-7.78 2.81-2.81c.8-.78.8-2.07 0-2.86zM5.41 20L4 18.59l7.72-7.72 1.47 1.35L5.41 20z\"/>\n",
              "  </svg>\n",
              "      </button>\n",
              "      \n",
              "  <style>\n",
              "    .colab-df-container {\n",
              "      display:flex;\n",
              "      flex-wrap:wrap;\n",
              "      gap: 12px;\n",
              "    }\n",
              "\n",
              "    .colab-df-convert {\n",
              "      background-color: #E8F0FE;\n",
              "      border: none;\n",
              "      border-radius: 50%;\n",
              "      cursor: pointer;\n",
              "      display: none;\n",
              "      fill: #1967D2;\n",
              "      height: 32px;\n",
              "      padding: 0 0 0 0;\n",
              "      width: 32px;\n",
              "    }\n",
              "\n",
              "    .colab-df-convert:hover {\n",
              "      background-color: #E2EBFA;\n",
              "      box-shadow: 0px 1px 2px rgba(60, 64, 67, 0.3), 0px 1px 3px 1px rgba(60, 64, 67, 0.15);\n",
              "      fill: #174EA6;\n",
              "    }\n",
              "\n",
              "    [theme=dark] .colab-df-convert {\n",
              "      background-color: #3B4455;\n",
              "      fill: #D2E3FC;\n",
              "    }\n",
              "\n",
              "    [theme=dark] .colab-df-convert:hover {\n",
              "      background-color: #434B5C;\n",
              "      box-shadow: 0px 1px 3px 1px rgba(0, 0, 0, 0.15);\n",
              "      filter: drop-shadow(0px 1px 2px rgba(0, 0, 0, 0.3));\n",
              "      fill: #FFFFFF;\n",
              "    }\n",
              "  </style>\n",
              "\n",
              "      <script>\n",
              "        const buttonEl =\n",
              "          document.querySelector('#df-390e0463-744f-4ff9-8dfc-f45383a75488 button.colab-df-convert');\n",
              "        buttonEl.style.display =\n",
              "          google.colab.kernel.accessAllowed ? 'block' : 'none';\n",
              "\n",
              "        async function convertToInteractive(key) {\n",
              "          const element = document.querySelector('#df-390e0463-744f-4ff9-8dfc-f45383a75488');\n",
              "          const dataTable =\n",
              "            await google.colab.kernel.invokeFunction('convertToInteractive',\n",
              "                                                     [key], {});\n",
              "          if (!dataTable) return;\n",
              "\n",
              "          const docLinkHtml = 'Like what you see? Visit the ' +\n",
              "            '<a target=\"_blank\" href=https://colab.research.google.com/notebooks/data_table.ipynb>data table notebook</a>'\n",
              "            + ' to learn more about interactive tables.';\n",
              "          element.innerHTML = '';\n",
              "          dataTable['output_type'] = 'display_data';\n",
              "          await google.colab.output.renderOutput(dataTable, element);\n",
              "          const docLink = document.createElement('div');\n",
              "          docLink.innerHTML = docLinkHtml;\n",
              "          element.appendChild(docLink);\n",
              "        }\n",
              "      </script>\n",
              "    </div>\n",
              "  </div>\n",
              "  "
            ],
            "text/plain": [
              "                                              Smiles  Active\n",
              "0                            COc1ccc2[nH]cc(CCN)c2c1   False\n",
              "1                    CCCN1CCC[C@H](c2cccc(O)c2)C1.Cl   False\n",
              "2  O=C(NO)c1cnc(N2CCN(S(=O)(=O)c3ccc4ccccc4c3)CC2...   False\n",
              "3  Nc1cccc(CNC(=O)c2ccc(Oc3ccc(OCc4cccc(F)c4)cc3)...   False\n",
              "4            Fc1ccccc1CNCc1ccc(-c2ccnc3[nH]ccc23)cc1   False"
            ]
          },
          "metadata": {},
          "execution_count": 223
        }
      ]
    },
    {
      "cell_type": "code",
      "source": [
        "# df активные молекулы\n",
        "df_train_True = df_train_new[df_train_new.Active==True]\n",
        "# df неактивные молекулы\n",
        "df_train_False = df_train_new[df_train_new.Active==False]"
      ],
      "metadata": {
        "id": "rGsWLEnO5Tv8"
      },
      "execution_count": 224,
      "outputs": []
    },
    {
      "cell_type": "code",
      "source": [
        "# собираю значения Smiles неактивных молекул в лист\n",
        "s_inactive = []\n",
        "for i in df_train_False['Smiles']:\n",
        "  s_inactive.append(i)\n",
        "\n",
        "print('Длинна s_inactive:', len(s_inactive))\n",
        "print(\"Пример значения из s_inactive:\", s_inactive[1])"
      ],
      "metadata": {
        "colab": {
          "base_uri": "https://localhost:8080/"
        },
        "id": "Nk2nT8f-5WLp",
        "outputId": "2e2804d2-7794-493d-cf81-b7a4244470dc"
      },
      "execution_count": 225,
      "outputs": [
        {
          "output_type": "stream",
          "name": "stdout",
          "text": [
            "Длинна s_inactive: 5351\n",
            "Пример значения из s_inactive: CCCN1CCC[C@H](c2cccc(O)c2)C1.Cl\n"
          ]
        }
      ]
    },
    {
      "cell_type": "code",
      "source": [
        "# активные молекулы\n",
        "s_active = []\n",
        "for i in df_train_True['Smiles']:\n",
        "  s_active.append(i)\n",
        "\n",
        "print('Длинна s_active:', len(s_active))\n",
        "print(\"Пример значения из s_active:\", s_active[1])"
      ],
      "metadata": {
        "colab": {
          "base_uri": "https://localhost:8080/"
        },
        "id": "R2liU1g05Zxm",
        "outputId": "5801cf0d-c97f-475b-8076-83a2d008481e"
      },
      "execution_count": 226,
      "outputs": [
        {
          "output_type": "stream",
          "name": "stdout",
          "text": [
            "Длинна s_active: 206\n",
            "Пример значения из s_active: C[C@H]1COc2c(N3CCN(C)CC3)c(F)cc3c(=O)c(C(=O)O)cn1c23\n"
          ]
        }
      ]
    },
    {
      "cell_type": "code",
      "source": [
        "# функция перефода smiles в вектор 0 и 1\n",
        "def get_morgan_fingerprint(smiles: str, radius=2, nBits=4096):\n",
        "    mol = Chem.MolFromSmiles(smiles)\n",
        "    morgan_fp = AllChem.GetMorganFingerprintAsBitVect(mol, radius=radius, nBits=nBits)\n",
        "    return (list(morgan_fp))"
      ],
      "metadata": {
        "id": "lYLb8j_35cE3"
      },
      "execution_count": 227,
      "outputs": []
    },
    {
      "cell_type": "code",
      "source": [
        "# для активных\n",
        "smal_active = []\n",
        "for i in s_active:\n",
        "  sm = get_morgan_fingerprint(i)      # получаю вектор из smiles\n",
        "  smal_active.append(sm)\n",
        "smal_active = np.array(smal_active)   # преобразую в numpy\n",
        "\n",
        "print(f\"Количество молекул активных: {len(smal_active)}\\nДлинна вектора одной молекулы: {len(smal_active[77])}\")\n",
        "print(f'Пример вектора smal_active: {smal_active[77]}')\n",
        "print(f'Размер массива smal_active: {smal_active.shape}')"
      ],
      "metadata": {
        "colab": {
          "base_uri": "https://localhost:8080/"
        },
        "id": "52YRcN_l5e7r",
        "outputId": "d3b6186d-d866-4c7b-9c39-d74aced841c7"
      },
      "execution_count": 228,
      "outputs": [
        {
          "output_type": "stream",
          "name": "stdout",
          "text": [
            "Количество молекул активных: 206\n",
            "Длинна вектора одной молекулы: 4096\n",
            "Пример вектора smal_active: [0 0 0 ... 0 0 0]\n",
            "Размер массива smal_active: (206, 4096)\n"
          ]
        }
      ]
    },
    {
      "cell_type": "code",
      "source": [
        "# для неактивных\n",
        "smal_inactive = []\n",
        "for i in s_inactive:\n",
        "  sm = get_morgan_fingerprint(i)       # получаю вектор из smiles\n",
        "  smal_inactive.append(sm)\n",
        "smal_inactive = np.array(smal_inactive)# преобразую в numpy\n",
        "\n",
        "print(f\"Количество молекул не активных: {len(smal_inactive)}\\nДлинна вектора одной молекулы: {len(smal_inactive[77])}\")\n",
        "print(f'Пример вектора smal_active: {smal_inactive[77]}')\n",
        "print(f'Размер массива smal_inactive: {smal_inactive.shape}')"
      ],
      "metadata": {
        "colab": {
          "base_uri": "https://localhost:8080/"
        },
        "id": "8ova8rA85hPJ",
        "outputId": "a99a8cae-b7c1-4304-cb31-3790b785cf15"
      },
      "execution_count": 229,
      "outputs": [
        {
          "output_type": "stream",
          "name": "stdout",
          "text": [
            "Количество молекул не активных: 5351\n",
            "Длинна вектора одной молекулы: 4096\n",
            "Пример вектора smal_active: [0 0 0 ... 0 0 0]\n",
            "Размер массива smal_inactive: (5351, 4096)\n"
          ]
        }
      ]
    },
    {
      "cell_type": "code",
      "source": [
        "smal_i = np.random.choice(5351, 206, replace = False)\n",
        "smal_inactive = smal_inactive[smal_i]"
      ],
      "metadata": {
        "id": "Gu-fkTzN5kNB"
      },
      "execution_count": 230,
      "outputs": []
    },
    {
      "cell_type": "code",
      "source": [
        "Y_active = np.ones(206,)\n",
        "Y_active.shape"
      ],
      "metadata": {
        "colab": {
          "base_uri": "https://localhost:8080/"
        },
        "id": "y9uzgLLZ5vVq",
        "outputId": "5dc614af-5ff9-4b4f-ddad-c6b2f6b86adb"
      },
      "execution_count": 231,
      "outputs": [
        {
          "output_type": "execute_result",
          "data": {
            "text/plain": [
              "(206,)"
            ]
          },
          "metadata": {},
          "execution_count": 231
        }
      ]
    },
    {
      "cell_type": "code",
      "source": [
        "Y_inactive = np.zeros(206,)\n",
        "Y_inactive.shape"
      ],
      "metadata": {
        "colab": {
          "base_uri": "https://localhost:8080/"
        },
        "id": "gHtRh64G51Gl",
        "outputId": "9067cbfb-9544-4c26-c521-0842e48e4b90"
      },
      "execution_count": 232,
      "outputs": [
        {
          "output_type": "execute_result",
          "data": {
            "text/plain": [
              "(206,)"
            ]
          },
          "metadata": {},
          "execution_count": 232
        }
      ]
    },
    {
      "cell_type": "code",
      "source": [
        "X_tr = np.concatenate((smal_inactive, smal_active))\n",
        "Y_tr = np.concatenate((Y_inactive, Y_active))\n",
        "X_tr.shape, Y_tr.shape"
      ],
      "metadata": {
        "colab": {
          "base_uri": "https://localhost:8080/"
        },
        "id": "g6odhSqH55bh",
        "outputId": "010dae47-75ae-48d7-d16d-df5deae080d1"
      },
      "execution_count": 233,
      "outputs": [
        {
          "output_type": "execute_result",
          "data": {
            "text/plain": [
              "((412, 4096), (412,))"
            ]
          },
          "metadata": {},
          "execution_count": 233
        }
      ]
    },
    {
      "cell_type": "code",
      "source": [
        "# берём неактивные молекулы разбиваем на train_test(только 'X')\n",
        "X_train, X_test, Y_train, Y_test = train_test_split(X_tr, Y_tr, test_size=0.1, shuffle=True) #shuffle=True - перемешиваем"
      ],
      "metadata": {
        "id": "1P5_LINg581M"
      },
      "execution_count": 241,
      "outputs": []
    },
    {
      "cell_type": "code",
      "source": [
        "X_train.shape, Y_train.shape, X_test.shape, Y_test.shape"
      ],
      "metadata": {
        "colab": {
          "base_uri": "https://localhost:8080/"
        },
        "id": "dEXLALRf6Dix",
        "outputId": "33608d8e-5a86-481a-a661-bed3b44ec003"
      },
      "execution_count": 242,
      "outputs": [
        {
          "output_type": "execute_result",
          "data": {
            "text/plain": [
              "((370, 4096), (370,), (42, 4096), (42,))"
            ]
          },
          "metadata": {},
          "execution_count": 242
        }
      ]
    },
    {
      "cell_type": "code",
      "source": [
        "def Model_cl(): \n",
        "  dataSize = 4096 # размер входного слоя\n",
        "  dataInput = Input(shape=(dataSize)) \n",
        "  \n",
        "  x = Dense(99, activation='relu')(dataInput) \n",
        "  x = BatchNormalization()(x)\n",
        "  x = Dropout(0.7) (x)\n",
        "  x = Dense(13, activation='relu') (x)\n",
        "  x = BatchNormalization()(x)\n",
        "  x = Dropout(0.1) (x)\n",
        "  x = Dense(7, activation='relu') (x)\n",
        "  x = BatchNormalization()(x)\n",
        "  x = Dense(1, activation='sigmoid')(x) \n",
        "  \n",
        "  model = Model(inputs=dataInput, outputs=x) # собрали модель \n",
        "  \n",
        "  model.compile(loss='binary_crossentropy', optimizer=Adam(learning_rate=0.0001), metrics=['accuracy'])\n",
        "  \n",
        "  return model"
      ],
      "metadata": {
        "id": "V30wSL9I6Gts"
      },
      "execution_count": 243,
      "outputs": []
    },
    {
      "cell_type": "code",
      "source": [
        "model.summary()"
      ],
      "metadata": {
        "colab": {
          "base_uri": "https://localhost:8080/"
        },
        "id": "-Ii2bJ6C6JHA",
        "outputId": "5ccc35ca-c0ca-46dc-d026-140c8a6ec854"
      },
      "execution_count": 244,
      "outputs": [
        {
          "output_type": "stream",
          "name": "stdout",
          "text": [
            "Model: \"model_13\"\n",
            "_________________________________________________________________\n",
            " Layer (type)                Output Shape              Param #   \n",
            "=================================================================\n",
            " input_14 (InputLayer)       [(None, 4096)]            0         \n",
            "                                                                 \n",
            " dense_30 (Dense)            (None, 99)                405603    \n",
            "                                                                 \n",
            " batch_normalization_3 (Batc  (None, 99)               396       \n",
            " hNormalization)                                                 \n",
            "                                                                 \n",
            " dropout_2 (Dropout)         (None, 99)                0         \n",
            "                                                                 \n",
            " dense_31 (Dense)            (None, 13)                1300      \n",
            "                                                                 \n",
            " batch_normalization_4 (Batc  (None, 13)               52        \n",
            " hNormalization)                                                 \n",
            "                                                                 \n",
            " dropout_3 (Dropout)         (None, 13)                0         \n",
            "                                                                 \n",
            " dense_32 (Dense)            (None, 7)                 98        \n",
            "                                                                 \n",
            " batch_normalization_5 (Batc  (None, 7)                28        \n",
            " hNormalization)                                                 \n",
            "                                                                 \n",
            " dense_33 (Dense)            (None, 1)                 8         \n",
            "                                                                 \n",
            "=================================================================\n",
            "Total params: 407,485\n",
            "Trainable params: 407,247\n",
            "Non-trainable params: 238\n",
            "_________________________________________________________________\n"
          ]
        }
      ]
    },
    {
      "cell_type": "code",
      "source": [
        "# Создаём пустую сеть при помощи функции createModel()\n",
        "model = Model_cl()\n",
        "\n",
        "# Обучаем сеть\n",
        "history = model.fit(X_train,         \n",
        "          Y_train,         \n",
        "          batch_size=12,    # Размер батча\n",
        "          epochs=50,      # Количество эпох\n",
        "          validation_data= (X_test, Y_test),\n",
        "          verbose=1)       # Выводить процесс обучения на каждой эпохе\n",
        "\n",
        "plt.plot(history.history['accuracy'], label='Точность на обучающей выборке')\n",
        "plt.plot(history.history['val_accuracy'], label ='Точность на проверочной выборке')\n",
        "plt.xlabel('Эпохи обучения')\n",
        "plt.ylabel('Точность')\n",
        "plt.legend()\n",
        "plt.show()\n",
        "\n",
        "plt.plot(history.history['loss'], label ='Ошибка на обучающей')\n",
        "plt.plot(history.history['val_loss'], label ='Ошибка на проверочной')\n",
        "plt.xlabel('Эпохи обучения')\n",
        "plt.ylabel('Ошибка')\n",
        "plt.legend()\n",
        "plt.show()"
      ],
      "metadata": {
        "colab": {
          "base_uri": "https://localhost:8080/",
          "height": 1000
        },
        "id": "2QqvB6T06NJc",
        "outputId": "17e2e5cb-489b-48b3-fe70-e893ecd72fb4"
      },
      "execution_count": 247,
      "outputs": [
        {
          "output_type": "stream",
          "name": "stdout",
          "text": [
            "Epoch 1/50\n",
            "31/31 [==============================] - 5s 37ms/step - loss: 0.8314 - accuracy: 0.5189 - val_loss: 0.6991 - val_accuracy: 0.4286\n",
            "Epoch 2/50\n",
            "31/31 [==============================] - 1s 16ms/step - loss: 0.9456 - accuracy: 0.4703 - val_loss: 0.7015 - val_accuracy: 0.4762\n",
            "Epoch 3/50\n",
            "31/31 [==============================] - 1s 16ms/step - loss: 0.8027 - accuracy: 0.5514 - val_loss: 0.7081 - val_accuracy: 0.4762\n",
            "Epoch 4/50\n",
            "31/31 [==============================] - 0s 12ms/step - loss: 0.7491 - accuracy: 0.5784 - val_loss: 0.7142 - val_accuracy: 0.4762\n",
            "Epoch 5/50\n",
            "31/31 [==============================] - 0s 11ms/step - loss: 0.7767 - accuracy: 0.5622 - val_loss: 0.7147 - val_accuracy: 0.5000\n",
            "Epoch 6/50\n",
            "31/31 [==============================] - 1s 16ms/step - loss: 0.7224 - accuracy: 0.5865 - val_loss: 0.7214 - val_accuracy: 0.5000\n",
            "Epoch 7/50\n",
            "31/31 [==============================] - 1s 16ms/step - loss: 0.7178 - accuracy: 0.6270 - val_loss: 0.7280 - val_accuracy: 0.5000\n",
            "Epoch 8/50\n",
            "31/31 [==============================] - 0s 16ms/step - loss: 0.6889 - accuracy: 0.6135 - val_loss: 0.7300 - val_accuracy: 0.5000\n",
            "Epoch 9/50\n",
            "31/31 [==============================] - 1s 18ms/step - loss: 0.6727 - accuracy: 0.6216 - val_loss: 0.7358 - val_accuracy: 0.4762\n",
            "Epoch 10/50\n",
            "31/31 [==============================] - 0s 13ms/step - loss: 0.6775 - accuracy: 0.6054 - val_loss: 0.7430 - val_accuracy: 0.4762\n",
            "Epoch 11/50\n",
            "31/31 [==============================] - 0s 16ms/step - loss: 0.6815 - accuracy: 0.6324 - val_loss: 0.7479 - val_accuracy: 0.4762\n",
            "Epoch 12/50\n",
            "31/31 [==============================] - 1s 19ms/step - loss: 0.6272 - accuracy: 0.6541 - val_loss: 0.7582 - val_accuracy: 0.5000\n",
            "Epoch 13/50\n",
            "31/31 [==============================] - 1s 20ms/step - loss: 0.5777 - accuracy: 0.6946 - val_loss: 0.7672 - val_accuracy: 0.4524\n",
            "Epoch 14/50\n",
            "31/31 [==============================] - 0s 13ms/step - loss: 0.5439 - accuracy: 0.7243 - val_loss: 0.7765 - val_accuracy: 0.4524\n",
            "Epoch 15/50\n",
            "31/31 [==============================] - 0s 16ms/step - loss: 0.5935 - accuracy: 0.6811 - val_loss: 0.7740 - val_accuracy: 0.4524\n",
            "Epoch 16/50\n",
            "31/31 [==============================] - 0s 14ms/step - loss: 0.5651 - accuracy: 0.7459 - val_loss: 0.7737 - val_accuracy: 0.4762\n",
            "Epoch 17/50\n",
            "31/31 [==============================] - 1s 17ms/step - loss: 0.5321 - accuracy: 0.7378 - val_loss: 0.7718 - val_accuracy: 0.4762\n",
            "Epoch 18/50\n",
            "31/31 [==============================] - 0s 15ms/step - loss: 0.5028 - accuracy: 0.7649 - val_loss: 0.7667 - val_accuracy: 0.5000\n",
            "Epoch 19/50\n",
            "31/31 [==============================] - 0s 8ms/step - loss: 0.5310 - accuracy: 0.7405 - val_loss: 0.7635 - val_accuracy: 0.5000\n",
            "Epoch 20/50\n",
            "31/31 [==============================] - 0s 8ms/step - loss: 0.4932 - accuracy: 0.7432 - val_loss: 0.7574 - val_accuracy: 0.5476\n",
            "Epoch 21/50\n",
            "31/31 [==============================] - 0s 9ms/step - loss: 0.5310 - accuracy: 0.7162 - val_loss: 0.7567 - val_accuracy: 0.5476\n",
            "Epoch 22/50\n",
            "31/31 [==============================] - 0s 8ms/step - loss: 0.4910 - accuracy: 0.7784 - val_loss: 0.7501 - val_accuracy: 0.5476\n",
            "Epoch 23/50\n",
            "31/31 [==============================] - 0s 8ms/step - loss: 0.4592 - accuracy: 0.7784 - val_loss: 0.7431 - val_accuracy: 0.5714\n",
            "Epoch 24/50\n",
            "31/31 [==============================] - 0s 9ms/step - loss: 0.4722 - accuracy: 0.7811 - val_loss: 0.7335 - val_accuracy: 0.5714\n",
            "Epoch 25/50\n",
            "31/31 [==============================] - 0s 8ms/step - loss: 0.4950 - accuracy: 0.7432 - val_loss: 0.7326 - val_accuracy: 0.5714\n",
            "Epoch 26/50\n",
            "31/31 [==============================] - 0s 8ms/step - loss: 0.4677 - accuracy: 0.7676 - val_loss: 0.7269 - val_accuracy: 0.5714\n",
            "Epoch 27/50\n",
            "31/31 [==============================] - 0s 8ms/step - loss: 0.4822 - accuracy: 0.7676 - val_loss: 0.7199 - val_accuracy: 0.6190\n",
            "Epoch 28/50\n",
            "31/31 [==============================] - 0s 8ms/step - loss: 0.4622 - accuracy: 0.8000 - val_loss: 0.7109 - val_accuracy: 0.6429\n",
            "Epoch 29/50\n",
            "31/31 [==============================] - 0s 9ms/step - loss: 0.4668 - accuracy: 0.7757 - val_loss: 0.7074 - val_accuracy: 0.6429\n",
            "Epoch 30/50\n",
            "31/31 [==============================] - 0s 8ms/step - loss: 0.4149 - accuracy: 0.8459 - val_loss: 0.7005 - val_accuracy: 0.6667\n",
            "Epoch 31/50\n",
            "31/31 [==============================] - 0s 9ms/step - loss: 0.4588 - accuracy: 0.7784 - val_loss: 0.6968 - val_accuracy: 0.6667\n",
            "Epoch 32/50\n",
            "31/31 [==============================] - 0s 8ms/step - loss: 0.4449 - accuracy: 0.7703 - val_loss: 0.6943 - val_accuracy: 0.6190\n",
            "Epoch 33/50\n",
            "31/31 [==============================] - 0s 8ms/step - loss: 0.4374 - accuracy: 0.7973 - val_loss: 0.6898 - val_accuracy: 0.6190\n",
            "Epoch 34/50\n",
            "31/31 [==============================] - 0s 9ms/step - loss: 0.4183 - accuracy: 0.8432 - val_loss: 0.6885 - val_accuracy: 0.5952\n",
            "Epoch 35/50\n",
            "31/31 [==============================] - 0s 9ms/step - loss: 0.4498 - accuracy: 0.8027 - val_loss: 0.6964 - val_accuracy: 0.6667\n",
            "Epoch 36/50\n",
            "31/31 [==============================] - 0s 8ms/step - loss: 0.3909 - accuracy: 0.8432 - val_loss: 0.6992 - val_accuracy: 0.6667\n",
            "Epoch 37/50\n",
            "31/31 [==============================] - 0s 8ms/step - loss: 0.4087 - accuracy: 0.8514 - val_loss: 0.6987 - val_accuracy: 0.6667\n",
            "Epoch 38/50\n",
            "31/31 [==============================] - 0s 8ms/step - loss: 0.3927 - accuracy: 0.8514 - val_loss: 0.6890 - val_accuracy: 0.6667\n",
            "Epoch 39/50\n",
            "31/31 [==============================] - 0s 9ms/step - loss: 0.4034 - accuracy: 0.8432 - val_loss: 0.6887 - val_accuracy: 0.6667\n",
            "Epoch 40/50\n",
            "31/31 [==============================] - 0s 8ms/step - loss: 0.4012 - accuracy: 0.8162 - val_loss: 0.6861 - val_accuracy: 0.6667\n",
            "Epoch 41/50\n",
            "31/31 [==============================] - 0s 8ms/step - loss: 0.3967 - accuracy: 0.8216 - val_loss: 0.6794 - val_accuracy: 0.6905\n",
            "Epoch 42/50\n",
            "31/31 [==============================] - 0s 8ms/step - loss: 0.3984 - accuracy: 0.8378 - val_loss: 0.6822 - val_accuracy: 0.6667\n",
            "Epoch 43/50\n",
            "31/31 [==============================] - 0s 8ms/step - loss: 0.3997 - accuracy: 0.8541 - val_loss: 0.6801 - val_accuracy: 0.6429\n",
            "Epoch 44/50\n",
            "31/31 [==============================] - 0s 8ms/step - loss: 0.3558 - accuracy: 0.8811 - val_loss: 0.6752 - val_accuracy: 0.6667\n",
            "Epoch 45/50\n",
            "31/31 [==============================] - 0s 8ms/step - loss: 0.3454 - accuracy: 0.8622 - val_loss: 0.6760 - val_accuracy: 0.6429\n",
            "Epoch 46/50\n",
            "31/31 [==============================] - 0s 8ms/step - loss: 0.3929 - accuracy: 0.8081 - val_loss: 0.6750 - val_accuracy: 0.6667\n",
            "Epoch 47/50\n",
            "31/31 [==============================] - 0s 9ms/step - loss: 0.3807 - accuracy: 0.8432 - val_loss: 0.6767 - val_accuracy: 0.6429\n",
            "Epoch 48/50\n",
            "31/31 [==============================] - 0s 8ms/step - loss: 0.3774 - accuracy: 0.8459 - val_loss: 0.6732 - val_accuracy: 0.6429\n",
            "Epoch 49/50\n",
            "31/31 [==============================] - 0s 9ms/step - loss: 0.3407 - accuracy: 0.8676 - val_loss: 0.6770 - val_accuracy: 0.6667\n",
            "Epoch 50/50\n",
            "31/31 [==============================] - 0s 9ms/step - loss: 0.3638 - accuracy: 0.8838 - val_loss: 0.6797 - val_accuracy: 0.6429\n"
          ]
        },
        {
          "output_type": "display_data",
          "data": {
            "image/png": "[encoded data removed]",
            "text/plain": [
              "<Figure size 432x288 with 1 Axes>"
            ]
          },
          "metadata": {
            "needs_background": "light"
          }
        },
        {
          "output_type": "display_data",
          "data": {
            "image/png": "[encoded data removed]",
            "text/plain": [
              "<Figure size 432x288 with 1 Axes>"
            ]
          },
          "metadata": {
            "needs_background": "light"
          }
        }
      ]
    }
  ]
}