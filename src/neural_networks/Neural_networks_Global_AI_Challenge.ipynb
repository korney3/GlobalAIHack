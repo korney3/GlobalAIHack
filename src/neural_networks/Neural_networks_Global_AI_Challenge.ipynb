{
  "nbformat": 4,
  "nbformat_minor": 0,
  "metadata": {
    "colab": {
      "name": "Neural_networks_Global AI Challenge.ipynb",
      "provenance": [],
      "collapsed_sections": []
    },
    "kernelspec": {
      "name": "python3",
      "display_name": "Python 3"
    },
    "language_info": {
      "name": "python"
    },
    "accelerator": "GPU"
  },
  "cells": [
    {
      "cell_type": "code",
      "execution_count": null,
      "metadata": {
        "id": "_-bz8UZnV9_O"
      },
      "outputs": [],
      "source": [
        "from tensorflow.keras.models import Model, Sequential \n",
        "from tensorflow.keras.layers import Dense, Flatten, Reshape, Input, Conv2DTranspose, concatenate, Activation, MaxPooling2D, MaxPooling1D, Conv2D, BatchNormalization, Dropout, SpatialDropout1D, Embedding, Conv1D, LSTM\n",
        "from tensorflow.keras import backend as K \n",
        "from tensorflow.keras.optimizers import Adam \n",
        "from tensorflow.keras import utils \n",
        "import matplotlib.pyplot as plt \n",
        "from tensorflow.keras.preprocessing import image \n",
        "import numpy as np \n",
        "import pandas as pd \n",
        "from PIL import Image \n",
        "from sklearn.model_selection import train_test_split \n",
        "from sklearn.preprocessing import StandardScaler # модуль для стандартизации данных\n",
        "\n",
        "from tensorflow.keras.preprocessing.text import Tokenizer # Методы для работы с текстами и преобразования их в последовательности\n",
        "from tensorflow.keras.preprocessing.sequence import pad_sequences # Метод для работы с последовательностями\n",
        "from sklearn.preprocessing import LabelEncoder # Метод кодирования тестовых лейблов\n",
        "\n",
        "import os \n",
        "import time"
      ]
    },
    {
      "cell_type": "code",
      "source": [
        "#from google.colab import drive\n",
        "#drive.mount('/content/drive')"
      ],
      "metadata": {
        "id": "v_gOuEdiX1bc"
      },
      "execution_count": null,
      "outputs": []
    },
    {
      "cell_type": "code",
      "source": [
        "df_test = pd.read_csv('/content/test.csv')\n",
        "df_train = pd.read_csv('/content/train.csv')"
      ],
      "metadata": {
        "id": "sRVgmd9RX3re"
      },
      "execution_count": null,
      "outputs": []
    },
    {
      "cell_type": "code",
      "source": [
        "df_test"
      ],
      "metadata": {
        "colab": {
          "base_uri": "https://localhost:8080/",
          "height": 424
        },
        "id": "DYgd6WWzYu2B",
        "outputId": "f7e9c880-059f-4267-dca1-5724f632cb40"
      },
      "execution_count": null,
      "outputs": [
        {
          "output_type": "execute_result",
          "data": {
            "text/html": [
              "\n",
              "  <div id=\"df-197a2c51-78e5-4bc4-b2e2-11b4765771b3\">\n",
              "    <div class=\"colab-df-container\">\n",
              "      <div>\n",
              "<style scoped>\n",
              "    .dataframe tbody tr th:only-of-type {\n",
              "        vertical-align: middle;\n",
              "    }\n",
              "\n",
              "    .dataframe tbody tr th {\n",
              "        vertical-align: top;\n",
              "    }\n",
              "\n",
              "    .dataframe thead th {\n",
              "        text-align: right;\n",
              "    }\n",
              "</style>\n",
              "<table border=\"1\" class=\"dataframe\">\n",
              "  <thead>\n",
              "    <tr style=\"text-align: right;\">\n",
              "      <th></th>\n",
              "      <th>Unnamed: 0</th>\n",
              "      <th>Smiles</th>\n",
              "    </tr>\n",
              "  </thead>\n",
              "  <tbody>\n",
              "    <tr>\n",
              "      <th>0</th>\n",
              "      <td>0</td>\n",
              "      <td>COC(=O)Nc1ccc(-c2nc(N3CCOCC3)c3cnn(C4CCN(Cc5cc...</td>\n",
              "    </tr>\n",
              "    <tr>\n",
              "      <th>1</th>\n",
              "      <td>1</td>\n",
              "      <td>O=Cc1cn(Cc2ccc(Cl)cc2)c2ccccc12</td>\n",
              "    </tr>\n",
              "    <tr>\n",
              "      <th>2</th>\n",
              "      <td>2</td>\n",
              "      <td>NC(CO)C(=O)NNCc1ccc(O)c(O)c1O</td>\n",
              "    </tr>\n",
              "    <tr>\n",
              "      <th>3</th>\n",
              "      <td>3</td>\n",
              "      <td>Nc1nc(=O)n([C@H]2C[C@H](O)[C@@H](CO)O2)cc1Cl</td>\n",
              "    </tr>\n",
              "    <tr>\n",
              "      <th>4</th>\n",
              "      <td>4</td>\n",
              "      <td>Nc1ccc(C(=O)Nc2cccc(-c3nc(N4CCOCC4)c4oc5ncccc5...</td>\n",
              "    </tr>\n",
              "    <tr>\n",
              "      <th>...</th>\n",
              "      <td>...</td>\n",
              "      <td>...</td>\n",
              "    </tr>\n",
              "    <tr>\n",
              "      <th>1609</th>\n",
              "      <td>1609</td>\n",
              "      <td>NS(=O)(=O)c1cc2c(cc1Cl)NC(C1CC3C=CC1C3)NS2(=O)=O</td>\n",
              "    </tr>\n",
              "    <tr>\n",
              "      <th>1610</th>\n",
              "      <td>1610</td>\n",
              "      <td>Cc1cccc(Nc2ccncc2S(=O)(=O)NC(=O)NC(C)C)c1</td>\n",
              "    </tr>\n",
              "    <tr>\n",
              "      <th>1611</th>\n",
              "      <td>1611</td>\n",
              "      <td>CCCC(=O)O[C@]1(C(=O)CO)CC[C@H]2[C@@H]3CCC4=CC(...</td>\n",
              "    </tr>\n",
              "    <tr>\n",
              "      <th>1612</th>\n",
              "      <td>1612</td>\n",
              "      <td>CN(C)c1cccc(Oc2cnc(Nc3cccc(O)c3)nc2)c1</td>\n",
              "    </tr>\n",
              "    <tr>\n",
              "      <th>1613</th>\n",
              "      <td>1613</td>\n",
              "      <td>O=C(O)c1ccccc1-c1c2ccc(=O)cc-2oc2cc(O)ccc12</td>\n",
              "    </tr>\n",
              "  </tbody>\n",
              "</table>\n",
              "<p>1614 rows × 2 columns</p>\n",
              "</div>\n",
              "      <button class=\"colab-df-convert\" onclick=\"convertToInteractive('df-197a2c51-78e5-4bc4-b2e2-11b4765771b3')\"\n",
              "              title=\"Convert this dataframe to an interactive table.\"\n",
              "              style=\"display:none;\">\n",
              "        \n",
              "  <svg xmlns=\"http://www.w3.org/2000/svg\" height=\"24px\"viewBox=\"0 0 24 24\"\n",
              "       width=\"24px\">\n",
              "    <path d=\"M0 0h24v24H0V0z\" fill=\"none\"/>\n",
              "    <path d=\"M18.56 5.44l.94 2.06.94-2.06 2.06-.94-2.06-.94-.94-2.06-.94 2.06-2.06.94zm-11 1L8.5 8.5l.94-2.06 2.06-.94-2.06-.94L8.5 2.5l-.94 2.06-2.06.94zm10 10l.94 2.06.94-2.06 2.06-.94-2.06-.94-.94-2.06-.94 2.06-2.06.94z\"/><path d=\"M17.41 7.96l-1.37-1.37c-.4-.4-.92-.59-1.43-.59-.52 0-1.04.2-1.43.59L10.3 9.45l-7.72 7.72c-.78.78-.78 2.05 0 2.83L4 21.41c.39.39.9.59 1.41.59.51 0 1.02-.2 1.41-.59l7.78-7.78 2.81-2.81c.8-.78.8-2.07 0-2.86zM5.41 20L4 18.59l7.72-7.72 1.47 1.35L5.41 20z\"/>\n",
              "  </svg>\n",
              "      </button>\n",
              "      \n",
              "  <style>\n",
              "    .colab-df-container {\n",
              "      display:flex;\n",
              "      flex-wrap:wrap;\n",
              "      gap: 12px;\n",
              "    }\n",
              "\n",
              "    .colab-df-convert {\n",
              "      background-color: #E8F0FE;\n",
              "      border: none;\n",
              "      border-radius: 50%;\n",
              "      cursor: pointer;\n",
              "      display: none;\n",
              "      fill: #1967D2;\n",
              "      height: 32px;\n",
              "      padding: 0 0 0 0;\n",
              "      width: 32px;\n",
              "    }\n",
              "\n",
              "    .colab-df-convert:hover {\n",
              "      background-color: #E2EBFA;\n",
              "      box-shadow: 0px 1px 2px rgba(60, 64, 67, 0.3), 0px 1px 3px 1px rgba(60, 64, 67, 0.15);\n",
              "      fill: #174EA6;\n",
              "    }\n",
              "\n",
              "    [theme=dark] .colab-df-convert {\n",
              "      background-color: #3B4455;\n",
              "      fill: #D2E3FC;\n",
              "    }\n",
              "\n",
              "    [theme=dark] .colab-df-convert:hover {\n",
              "      background-color: #434B5C;\n",
              "      box-shadow: 0px 1px 3px 1px rgba(0, 0, 0, 0.15);\n",
              "      filter: drop-shadow(0px 1px 2px rgba(0, 0, 0, 0.3));\n",
              "      fill: #FFFFFF;\n",
              "    }\n",
              "  </style>\n",
              "\n",
              "      <script>\n",
              "        const buttonEl =\n",
              "          document.querySelector('#df-197a2c51-78e5-4bc4-b2e2-11b4765771b3 button.colab-df-convert');\n",
              "        buttonEl.style.display =\n",
              "          google.colab.kernel.accessAllowed ? 'block' : 'none';\n",
              "\n",
              "        async function convertToInteractive(key) {\n",
              "          const element = document.querySelector('#df-197a2c51-78e5-4bc4-b2e2-11b4765771b3');\n",
              "          const dataTable =\n",
              "            await google.colab.kernel.invokeFunction('convertToInteractive',\n",
              "                                                     [key], {});\n",
              "          if (!dataTable) return;\n",
              "\n",
              "          const docLinkHtml = 'Like what you see? Visit the ' +\n",
              "            '<a target=\"_blank\" href=https://colab.research.google.com/notebooks/data_table.ipynb>data table notebook</a>'\n",
              "            + ' to learn more about interactive tables.';\n",
              "          element.innerHTML = '';\n",
              "          dataTable['output_type'] = 'display_data';\n",
              "          await google.colab.output.renderOutput(dataTable, element);\n",
              "          const docLink = document.createElement('div');\n",
              "          docLink.innerHTML = docLinkHtml;\n",
              "          element.appendChild(docLink);\n",
              "        }\n",
              "      </script>\n",
              "    </div>\n",
              "  </div>\n",
              "  "
            ],
            "text/plain": [
              "      Unnamed: 0                                             Smiles\n",
              "0              0  COC(=O)Nc1ccc(-c2nc(N3CCOCC3)c3cnn(C4CCN(Cc5cc...\n",
              "1              1                    O=Cc1cn(Cc2ccc(Cl)cc2)c2ccccc12\n",
              "2              2                      NC(CO)C(=O)NNCc1ccc(O)c(O)c1O\n",
              "3              3       Nc1nc(=O)n([C@H]2C[C@H](O)[C@@H](CO)O2)cc1Cl\n",
              "4              4  Nc1ccc(C(=O)Nc2cccc(-c3nc(N4CCOCC4)c4oc5ncccc5...\n",
              "...          ...                                                ...\n",
              "1609        1609   NS(=O)(=O)c1cc2c(cc1Cl)NC(C1CC3C=CC1C3)NS2(=O)=O\n",
              "1610        1610          Cc1cccc(Nc2ccncc2S(=O)(=O)NC(=O)NC(C)C)c1\n",
              "1611        1611  CCCC(=O)O[C@]1(C(=O)CO)CC[C@H]2[C@@H]3CCC4=CC(...\n",
              "1612        1612             CN(C)c1cccc(Oc2cnc(Nc3cccc(O)c3)nc2)c1\n",
              "1613        1613        O=C(O)c1ccccc1-c1c2ccc(=O)cc-2oc2cc(O)ccc12\n",
              "\n",
              "[1614 rows x 2 columns]"
            ]
          },
          "metadata": {},
          "execution_count": 3
        }
      ]
    },
    {
      "cell_type": "code",
      "source": [
        "df_train"
      ],
      "metadata": {
        "colab": {
          "base_uri": "https://localhost:8080/",
          "height": 424
        },
        "id": "qEIVWapvYxZ1",
        "outputId": "826601c8-4e61-4810-a615-59a0945590ee"
      },
      "execution_count": null,
      "outputs": [
        {
          "output_type": "execute_result",
          "data": {
            "text/html": [
              "\n",
              "  <div id=\"df-4a130e7f-712c-44bf-bbff-6852dd118767\">\n",
              "    <div class=\"colab-df-container\">\n",
              "      <div>\n",
              "<style scoped>\n",
              "    .dataframe tbody tr th:only-of-type {\n",
              "        vertical-align: middle;\n",
              "    }\n",
              "\n",
              "    .dataframe tbody tr th {\n",
              "        vertical-align: top;\n",
              "    }\n",
              "\n",
              "    .dataframe thead th {\n",
              "        text-align: right;\n",
              "    }\n",
              "</style>\n",
              "<table border=\"1\" class=\"dataframe\">\n",
              "  <thead>\n",
              "    <tr style=\"text-align: right;\">\n",
              "      <th></th>\n",
              "      <th>Unnamed: 0</th>\n",
              "      <th>Smiles</th>\n",
              "      <th>Active</th>\n",
              "    </tr>\n",
              "  </thead>\n",
              "  <tbody>\n",
              "    <tr>\n",
              "      <th>0</th>\n",
              "      <td>0</td>\n",
              "      <td>COc1ccc2[nH]cc(CCN)c2c1</td>\n",
              "      <td>False</td>\n",
              "    </tr>\n",
              "    <tr>\n",
              "      <th>1</th>\n",
              "      <td>1</td>\n",
              "      <td>CCCN1CCC[C@H](c2cccc(O)c2)C1.Cl</td>\n",
              "      <td>False</td>\n",
              "    </tr>\n",
              "    <tr>\n",
              "      <th>2</th>\n",
              "      <td>2</td>\n",
              "      <td>O=C(NO)c1cnc(N2CCN(S(=O)(=O)c3ccc4ccccc4c3)CC2...</td>\n",
              "      <td>False</td>\n",
              "    </tr>\n",
              "    <tr>\n",
              "      <th>3</th>\n",
              "      <td>3</td>\n",
              "      <td>Nc1cccc(CNC(=O)c2ccc(Oc3ccc(OCc4cccc(F)c4)cc3)...</td>\n",
              "      <td>False</td>\n",
              "    </tr>\n",
              "    <tr>\n",
              "      <th>4</th>\n",
              "      <td>4</td>\n",
              "      <td>Fc1ccccc1CNCc1ccc(-c2ccnc3[nH]ccc23)cc1</td>\n",
              "      <td>False</td>\n",
              "    </tr>\n",
              "    <tr>\n",
              "      <th>...</th>\n",
              "      <td>...</td>\n",
              "      <td>...</td>\n",
              "      <td>...</td>\n",
              "    </tr>\n",
              "    <tr>\n",
              "      <th>5552</th>\n",
              "      <td>5552</td>\n",
              "      <td>O=C(Oc1ccc([N+](=O)[O-])cc1)N1CCC(C(O)(c2ccc3c...</td>\n",
              "      <td>False</td>\n",
              "    </tr>\n",
              "    <tr>\n",
              "      <th>5553</th>\n",
              "      <td>5553</td>\n",
              "      <td>Nc1nonc1/C(=N/O)Nc1ccc(F)c(Br)c1</td>\n",
              "      <td>False</td>\n",
              "    </tr>\n",
              "    <tr>\n",
              "      <th>5554</th>\n",
              "      <td>5554</td>\n",
              "      <td>Oc1cccc2cccnc12</td>\n",
              "      <td>False</td>\n",
              "    </tr>\n",
              "    <tr>\n",
              "      <th>5555</th>\n",
              "      <td>5555</td>\n",
              "      <td>OC(c1ccc(-c2ccc(CN3CCN(Cc4ccncc4)CC3)cc2)c(F)c...</td>\n",
              "      <td>False</td>\n",
              "    </tr>\n",
              "    <tr>\n",
              "      <th>5556</th>\n",
              "      <td>5556</td>\n",
              "      <td>CCCCNc1ccc(C(=O)OCCN(C)C)cc1.Cl</td>\n",
              "      <td>False</td>\n",
              "    </tr>\n",
              "  </tbody>\n",
              "</table>\n",
              "<p>5557 rows × 3 columns</p>\n",
              "</div>\n",
              "      <button class=\"colab-df-convert\" onclick=\"convertToInteractive('df-4a130e7f-712c-44bf-bbff-6852dd118767')\"\n",
              "              title=\"Convert this dataframe to an interactive table.\"\n",
              "              style=\"display:none;\">\n",
              "        \n",
              "  <svg xmlns=\"http://www.w3.org/2000/svg\" height=\"24px\"viewBox=\"0 0 24 24\"\n",
              "       width=\"24px\">\n",
              "    <path d=\"M0 0h24v24H0V0z\" fill=\"none\"/>\n",
              "    <path d=\"M18.56 5.44l.94 2.06.94-2.06 2.06-.94-2.06-.94-.94-2.06-.94 2.06-2.06.94zm-11 1L8.5 8.5l.94-2.06 2.06-.94-2.06-.94L8.5 2.5l-.94 2.06-2.06.94zm10 10l.94 2.06.94-2.06 2.06-.94-2.06-.94-.94-2.06-.94 2.06-2.06.94z\"/><path d=\"M17.41 7.96l-1.37-1.37c-.4-.4-.92-.59-1.43-.59-.52 0-1.04.2-1.43.59L10.3 9.45l-7.72 7.72c-.78.78-.78 2.05 0 2.83L4 21.41c.39.39.9.59 1.41.59.51 0 1.02-.2 1.41-.59l7.78-7.78 2.81-2.81c.8-.78.8-2.07 0-2.86zM5.41 20L4 18.59l7.72-7.72 1.47 1.35L5.41 20z\"/>\n",
              "  </svg>\n",
              "      </button>\n",
              "      \n",
              "  <style>\n",
              "    .colab-df-container {\n",
              "      display:flex;\n",
              "      flex-wrap:wrap;\n",
              "      gap: 12px;\n",
              "    }\n",
              "\n",
              "    .colab-df-convert {\n",
              "      background-color: #E8F0FE;\n",
              "      border: none;\n",
              "      border-radius: 50%;\n",
              "      cursor: pointer;\n",
              "      display: none;\n",
              "      fill: #1967D2;\n",
              "      height: 32px;\n",
              "      padding: 0 0 0 0;\n",
              "      width: 32px;\n",
              "    }\n",
              "\n",
              "    .colab-df-convert:hover {\n",
              "      background-color: #E2EBFA;\n",
              "      box-shadow: 0px 1px 2px rgba(60, 64, 67, 0.3), 0px 1px 3px 1px rgba(60, 64, 67, 0.15);\n",
              "      fill: #174EA6;\n",
              "    }\n",
              "\n",
              "    [theme=dark] .colab-df-convert {\n",
              "      background-color: #3B4455;\n",
              "      fill: #D2E3FC;\n",
              "    }\n",
              "\n",
              "    [theme=dark] .colab-df-convert:hover {\n",
              "      background-color: #434B5C;\n",
              "      box-shadow: 0px 1px 3px 1px rgba(0, 0, 0, 0.15);\n",
              "      filter: drop-shadow(0px 1px 2px rgba(0, 0, 0, 0.3));\n",
              "      fill: #FFFFFF;\n",
              "    }\n",
              "  </style>\n",
              "\n",
              "      <script>\n",
              "        const buttonEl =\n",
              "          document.querySelector('#df-4a130e7f-712c-44bf-bbff-6852dd118767 button.colab-df-convert');\n",
              "        buttonEl.style.display =\n",
              "          google.colab.kernel.accessAllowed ? 'block' : 'none';\n",
              "\n",
              "        async function convertToInteractive(key) {\n",
              "          const element = document.querySelector('#df-4a130e7f-712c-44bf-bbff-6852dd118767');\n",
              "          const dataTable =\n",
              "            await google.colab.kernel.invokeFunction('convertToInteractive',\n",
              "                                                     [key], {});\n",
              "          if (!dataTable) return;\n",
              "\n",
              "          const docLinkHtml = 'Like what you see? Visit the ' +\n",
              "            '<a target=\"_blank\" href=https://colab.research.google.com/notebooks/data_table.ipynb>data table notebook</a>'\n",
              "            + ' to learn more about interactive tables.';\n",
              "          element.innerHTML = '';\n",
              "          dataTable['output_type'] = 'display_data';\n",
              "          await google.colab.output.renderOutput(dataTable, element);\n",
              "          const docLink = document.createElement('div');\n",
              "          docLink.innerHTML = docLinkHtml;\n",
              "          element.appendChild(docLink);\n",
              "        }\n",
              "      </script>\n",
              "    </div>\n",
              "  </div>\n",
              "  "
            ],
            "text/plain": [
              "      Unnamed: 0                                             Smiles  Active\n",
              "0              0                            COc1ccc2[nH]cc(CCN)c2c1   False\n",
              "1              1                    CCCN1CCC[C@H](c2cccc(O)c2)C1.Cl   False\n",
              "2              2  O=C(NO)c1cnc(N2CCN(S(=O)(=O)c3ccc4ccccc4c3)CC2...   False\n",
              "3              3  Nc1cccc(CNC(=O)c2ccc(Oc3ccc(OCc4cccc(F)c4)cc3)...   False\n",
              "4              4            Fc1ccccc1CNCc1ccc(-c2ccnc3[nH]ccc23)cc1   False\n",
              "...          ...                                                ...     ...\n",
              "5552        5552  O=C(Oc1ccc([N+](=O)[O-])cc1)N1CCC(C(O)(c2ccc3c...   False\n",
              "5553        5553                   Nc1nonc1/C(=N/O)Nc1ccc(F)c(Br)c1   False\n",
              "5554        5554                                    Oc1cccc2cccnc12   False\n",
              "5555        5555  OC(c1ccc(-c2ccc(CN3CCN(Cc4ccncc4)CC3)cc2)c(F)c...   False\n",
              "5556        5556                    CCCCNc1ccc(C(=O)OCCN(C)C)cc1.Cl   False\n",
              "\n",
              "[5557 rows x 3 columns]"
            ]
          },
          "metadata": {},
          "execution_count": 4
        }
      ]
    },
    {
      "cell_type": "code",
      "source": [
        "# оцениваю на пропуски\n",
        "df_train.isna().sum()"
      ],
      "metadata": {
        "colab": {
          "base_uri": "https://localhost:8080/"
        },
        "id": "LrgVRmndY0sd",
        "outputId": "16898853-57b0-40b0-85a6-984ef168f94d"
      },
      "execution_count": null,
      "outputs": [
        {
          "output_type": "execute_result",
          "data": {
            "text/plain": [
              "Unnamed: 0    0\n",
              "Smiles        0\n",
              "Active        0\n",
              "dtype: int64"
            ]
          },
          "metadata": {},
          "execution_count": 5
        }
      ]
    },
    {
      "cell_type": "code",
      "source": [
        "df_train.info()"
      ],
      "metadata": {
        "colab": {
          "base_uri": "https://localhost:8080/"
        },
        "id": "QwrPMSnIY-zH",
        "outputId": "fa901c18-6bdd-4216-d9de-081527f7babe"
      },
      "execution_count": null,
      "outputs": [
        {
          "output_type": "stream",
          "name": "stdout",
          "text": [
            "<class 'pandas.core.frame.DataFrame'>\n",
            "RangeIndex: 5557 entries, 0 to 5556\n",
            "Data columns (total 3 columns):\n",
            " #   Column      Non-Null Count  Dtype \n",
            "---  ------      --------------  ----- \n",
            " 0   Unnamed: 0  5557 non-null   int64 \n",
            " 1   Smiles      5557 non-null   object\n",
            " 2   Active      5557 non-null   bool  \n",
            "dtypes: bool(1), int64(1), object(1)\n",
            "memory usage: 92.4+ KB\n"
          ]
        }
      ]
    },
    {
      "cell_type": "code",
      "source": [
        "df_train.describe()"
      ],
      "metadata": {
        "colab": {
          "base_uri": "https://localhost:8080/",
          "height": 300
        },
        "id": "WKQeZocsZCnk",
        "outputId": "f46be0e8-2801-4c5e-9ebe-c1d9cf76689c"
      },
      "execution_count": null,
      "outputs": [
        {
          "output_type": "execute_result",
          "data": {
            "text/html": [
              "\n",
              "  <div id=\"df-c4851f33-1857-4dfb-9e7e-baf340b0a00a\">\n",
              "    <div class=\"colab-df-container\">\n",
              "      <div>\n",
              "<style scoped>\n",
              "    .dataframe tbody tr th:only-of-type {\n",
              "        vertical-align: middle;\n",
              "    }\n",
              "\n",
              "    .dataframe tbody tr th {\n",
              "        vertical-align: top;\n",
              "    }\n",
              "\n",
              "    .dataframe thead th {\n",
              "        text-align: right;\n",
              "    }\n",
              "</style>\n",
              "<table border=\"1\" class=\"dataframe\">\n",
              "  <thead>\n",
              "    <tr style=\"text-align: right;\">\n",
              "      <th></th>\n",
              "      <th>Unnamed: 0</th>\n",
              "    </tr>\n",
              "  </thead>\n",
              "  <tbody>\n",
              "    <tr>\n",
              "      <th>count</th>\n",
              "      <td>5557.000000</td>\n",
              "    </tr>\n",
              "    <tr>\n",
              "      <th>mean</th>\n",
              "      <td>2778.000000</td>\n",
              "    </tr>\n",
              "    <tr>\n",
              "      <th>std</th>\n",
              "      <td>1604.312054</td>\n",
              "    </tr>\n",
              "    <tr>\n",
              "      <th>min</th>\n",
              "      <td>0.000000</td>\n",
              "    </tr>\n",
              "    <tr>\n",
              "      <th>25%</th>\n",
              "      <td>1389.000000</td>\n",
              "    </tr>\n",
              "    <tr>\n",
              "      <th>50%</th>\n",
              "      <td>2778.000000</td>\n",
              "    </tr>\n",
              "    <tr>\n",
              "      <th>75%</th>\n",
              "      <td>4167.000000</td>\n",
              "    </tr>\n",
              "    <tr>\n",
              "      <th>max</th>\n",
              "      <td>5556.000000</td>\n",
              "    </tr>\n",
              "  </tbody>\n",
              "</table>\n",
              "</div>\n",
              "      <button class=\"colab-df-convert\" onclick=\"convertToInteractive('df-c4851f33-1857-4dfb-9e7e-baf340b0a00a')\"\n",
              "              title=\"Convert this dataframe to an interactive table.\"\n",
              "              style=\"display:none;\">\n",
              "        \n",
              "  <svg xmlns=\"http://www.w3.org/2000/svg\" height=\"24px\"viewBox=\"0 0 24 24\"\n",
              "       width=\"24px\">\n",
              "    <path d=\"M0 0h24v24H0V0z\" fill=\"none\"/>\n",
              "    <path d=\"M18.56 5.44l.94 2.06.94-2.06 2.06-.94-2.06-.94-.94-2.06-.94 2.06-2.06.94zm-11 1L8.5 8.5l.94-2.06 2.06-.94-2.06-.94L8.5 2.5l-.94 2.06-2.06.94zm10 10l.94 2.06.94-2.06 2.06-.94-2.06-.94-.94-2.06-.94 2.06-2.06.94z\"/><path d=\"M17.41 7.96l-1.37-1.37c-.4-.4-.92-.59-1.43-.59-.52 0-1.04.2-1.43.59L10.3 9.45l-7.72 7.72c-.78.78-.78 2.05 0 2.83L4 21.41c.39.39.9.59 1.41.59.51 0 1.02-.2 1.41-.59l7.78-7.78 2.81-2.81c.8-.78.8-2.07 0-2.86zM5.41 20L4 18.59l7.72-7.72 1.47 1.35L5.41 20z\"/>\n",
              "  </svg>\n",
              "      </button>\n",
              "      \n",
              "  <style>\n",
              "    .colab-df-container {\n",
              "      display:flex;\n",
              "      flex-wrap:wrap;\n",
              "      gap: 12px;\n",
              "    }\n",
              "\n",
              "    .colab-df-convert {\n",
              "      background-color: #E8F0FE;\n",
              "      border: none;\n",
              "      border-radius: 50%;\n",
              "      cursor: pointer;\n",
              "      display: none;\n",
              "      fill: #1967D2;\n",
              "      height: 32px;\n",
              "      padding: 0 0 0 0;\n",
              "      width: 32px;\n",
              "    }\n",
              "\n",
              "    .colab-df-convert:hover {\n",
              "      background-color: #E2EBFA;\n",
              "      box-shadow: 0px 1px 2px rgba(60, 64, 67, 0.3), 0px 1px 3px 1px rgba(60, 64, 67, 0.15);\n",
              "      fill: #174EA6;\n",
              "    }\n",
              "\n",
              "    [theme=dark] .colab-df-convert {\n",
              "      background-color: #3B4455;\n",
              "      fill: #D2E3FC;\n",
              "    }\n",
              "\n",
              "    [theme=dark] .colab-df-convert:hover {\n",
              "      background-color: #434B5C;\n",
              "      box-shadow: 0px 1px 3px 1px rgba(0, 0, 0, 0.15);\n",
              "      filter: drop-shadow(0px 1px 2px rgba(0, 0, 0, 0.3));\n",
              "      fill: #FFFFFF;\n",
              "    }\n",
              "  </style>\n",
              "\n",
              "      <script>\n",
              "        const buttonEl =\n",
              "          document.querySelector('#df-c4851f33-1857-4dfb-9e7e-baf340b0a00a button.colab-df-convert');\n",
              "        buttonEl.style.display =\n",
              "          google.colab.kernel.accessAllowed ? 'block' : 'none';\n",
              "\n",
              "        async function convertToInteractive(key) {\n",
              "          const element = document.querySelector('#df-c4851f33-1857-4dfb-9e7e-baf340b0a00a');\n",
              "          const dataTable =\n",
              "            await google.colab.kernel.invokeFunction('convertToInteractive',\n",
              "                                                     [key], {});\n",
              "          if (!dataTable) return;\n",
              "\n",
              "          const docLinkHtml = 'Like what you see? Visit the ' +\n",
              "            '<a target=\"_blank\" href=https://colab.research.google.com/notebooks/data_table.ipynb>data table notebook</a>'\n",
              "            + ' to learn more about interactive tables.';\n",
              "          element.innerHTML = '';\n",
              "          dataTable['output_type'] = 'display_data';\n",
              "          await google.colab.output.renderOutput(dataTable, element);\n",
              "          const docLink = document.createElement('div');\n",
              "          docLink.innerHTML = docLinkHtml;\n",
              "          element.appendChild(docLink);\n",
              "        }\n",
              "      </script>\n",
              "    </div>\n",
              "  </div>\n",
              "  "
            ],
            "text/plain": [
              "        Unnamed: 0\n",
              "count  5557.000000\n",
              "mean   2778.000000\n",
              "std    1604.312054\n",
              "min       0.000000\n",
              "25%    1389.000000\n",
              "50%    2778.000000\n",
              "75%    4167.000000\n",
              "max    5556.000000"
            ]
          },
          "metadata": {},
          "execution_count": 8
        }
      ]
    },
    {
      "cell_type": "markdown",
      "source": [
        "#Автокодировщик"
      ],
      "metadata": {
        "id": "kgewJlm7ZGNP"
      }
    },
    {
      "cell_type": "markdown",
      "source": [
        "**Представляю Smiles в виде вектора**"
      ],
      "metadata": {
        "id": "02tmoXXFZJ82"
      }
    },
    {
      "cell_type": "code",
      "source": [
        "!pip install kora -q\n",
        "import kora.install.rdkit # по-дургому не запускалось\n",
        "from rdkit import Chem\n",
        "from rdkit.Chem import AllChem"
      ],
      "metadata": {
        "colab": {
          "base_uri": "https://localhost:8080/"
        },
        "id": "b8zW1qOVZNG0",
        "outputId": "a63dae4b-bd5e-4d17-9cfa-11286de466bc"
      },
      "execution_count": null,
      "outputs": [
        {
          "output_type": "stream",
          "name": "stdout",
          "text": [
            "\u001b[K     |████████████████████████████████| 57 kB 2.5 MB/s \n",
            "\u001b[K     |████████████████████████████████| 56 kB 3.6 MB/s \n",
            "\u001b[?25h"
          ]
        }
      ]
    },
    {
      "cell_type": "code",
      "source": [
        "# загружаю датасет\n",
        "df_train_new = pd.read_csv('/content/train.csv', index_col = 0)\n",
        "df_train_new.head()"
      ],
      "metadata": {
        "colab": {
          "base_uri": "https://localhost:8080/",
          "height": 206
        },
        "id": "AIqYNgDOZQRJ",
        "outputId": "60a2b4be-8397-4d22-9e95-d53897f0fef3"
      },
      "execution_count": null,
      "outputs": [
        {
          "output_type": "execute_result",
          "data": {
            "text/html": [
              "\n",
              "  <div id=\"df-2eb3ea7d-7ae4-4395-8d1f-6a454f6e279f\">\n",
              "    <div class=\"colab-df-container\">\n",
              "      <div>\n",
              "<style scoped>\n",
              "    .dataframe tbody tr th:only-of-type {\n",
              "        vertical-align: middle;\n",
              "    }\n",
              "\n",
              "    .dataframe tbody tr th {\n",
              "        vertical-align: top;\n",
              "    }\n",
              "\n",
              "    .dataframe thead th {\n",
              "        text-align: right;\n",
              "    }\n",
              "</style>\n",
              "<table border=\"1\" class=\"dataframe\">\n",
              "  <thead>\n",
              "    <tr style=\"text-align: right;\">\n",
              "      <th></th>\n",
              "      <th>Smiles</th>\n",
              "      <th>Active</th>\n",
              "    </tr>\n",
              "  </thead>\n",
              "  <tbody>\n",
              "    <tr>\n",
              "      <th>0</th>\n",
              "      <td>COc1ccc2[nH]cc(CCN)c2c1</td>\n",
              "      <td>False</td>\n",
              "    </tr>\n",
              "    <tr>\n",
              "      <th>1</th>\n",
              "      <td>CCCN1CCC[C@H](c2cccc(O)c2)C1.Cl</td>\n",
              "      <td>False</td>\n",
              "    </tr>\n",
              "    <tr>\n",
              "      <th>2</th>\n",
              "      <td>O=C(NO)c1cnc(N2CCN(S(=O)(=O)c3ccc4ccccc4c3)CC2...</td>\n",
              "      <td>False</td>\n",
              "    </tr>\n",
              "    <tr>\n",
              "      <th>3</th>\n",
              "      <td>Nc1cccc(CNC(=O)c2ccc(Oc3ccc(OCc4cccc(F)c4)cc3)...</td>\n",
              "      <td>False</td>\n",
              "    </tr>\n",
              "    <tr>\n",
              "      <th>4</th>\n",
              "      <td>Fc1ccccc1CNCc1ccc(-c2ccnc3[nH]ccc23)cc1</td>\n",
              "      <td>False</td>\n",
              "    </tr>\n",
              "  </tbody>\n",
              "</table>\n",
              "</div>\n",
              "      <button class=\"colab-df-convert\" onclick=\"convertToInteractive('df-2eb3ea7d-7ae4-4395-8d1f-6a454f6e279f')\"\n",
              "              title=\"Convert this dataframe to an interactive table.\"\n",
              "              style=\"display:none;\">\n",
              "        \n",
              "  <svg xmlns=\"http://www.w3.org/2000/svg\" height=\"24px\"viewBox=\"0 0 24 24\"\n",
              "       width=\"24px\">\n",
              "    <path d=\"M0 0h24v24H0V0z\" fill=\"none\"/>\n",
              "    <path d=\"M18.56 5.44l.94 2.06.94-2.06 2.06-.94-2.06-.94-.94-2.06-.94 2.06-2.06.94zm-11 1L8.5 8.5l.94-2.06 2.06-.94-2.06-.94L8.5 2.5l-.94 2.06-2.06.94zm10 10l.94 2.06.94-2.06 2.06-.94-2.06-.94-.94-2.06-.94 2.06-2.06.94z\"/><path d=\"M17.41 7.96l-1.37-1.37c-.4-.4-.92-.59-1.43-.59-.52 0-1.04.2-1.43.59L10.3 9.45l-7.72 7.72c-.78.78-.78 2.05 0 2.83L4 21.41c.39.39.9.59 1.41.59.51 0 1.02-.2 1.41-.59l7.78-7.78 2.81-2.81c.8-.78.8-2.07 0-2.86zM5.41 20L4 18.59l7.72-7.72 1.47 1.35L5.41 20z\"/>\n",
              "  </svg>\n",
              "      </button>\n",
              "      \n",
              "  <style>\n",
              "    .colab-df-container {\n",
              "      display:flex;\n",
              "      flex-wrap:wrap;\n",
              "      gap: 12px;\n",
              "    }\n",
              "\n",
              "    .colab-df-convert {\n",
              "      background-color: #E8F0FE;\n",
              "      border: none;\n",
              "      border-radius: 50%;\n",
              "      cursor: pointer;\n",
              "      display: none;\n",
              "      fill: #1967D2;\n",
              "      height: 32px;\n",
              "      padding: 0 0 0 0;\n",
              "      width: 32px;\n",
              "    }\n",
              "\n",
              "    .colab-df-convert:hover {\n",
              "      background-color: #E2EBFA;\n",
              "      box-shadow: 0px 1px 2px rgba(60, 64, 67, 0.3), 0px 1px 3px 1px rgba(60, 64, 67, 0.15);\n",
              "      fill: #174EA6;\n",
              "    }\n",
              "\n",
              "    [theme=dark] .colab-df-convert {\n",
              "      background-color: #3B4455;\n",
              "      fill: #D2E3FC;\n",
              "    }\n",
              "\n",
              "    [theme=dark] .colab-df-convert:hover {\n",
              "      background-color: #434B5C;\n",
              "      box-shadow: 0px 1px 3px 1px rgba(0, 0, 0, 0.15);\n",
              "      filter: drop-shadow(0px 1px 2px rgba(0, 0, 0, 0.3));\n",
              "      fill: #FFFFFF;\n",
              "    }\n",
              "  </style>\n",
              "\n",
              "      <script>\n",
              "        const buttonEl =\n",
              "          document.querySelector('#df-2eb3ea7d-7ae4-4395-8d1f-6a454f6e279f button.colab-df-convert');\n",
              "        buttonEl.style.display =\n",
              "          google.colab.kernel.accessAllowed ? 'block' : 'none';\n",
              "\n",
              "        async function convertToInteractive(key) {\n",
              "          const element = document.querySelector('#df-2eb3ea7d-7ae4-4395-8d1f-6a454f6e279f');\n",
              "          const dataTable =\n",
              "            await google.colab.kernel.invokeFunction('convertToInteractive',\n",
              "                                                     [key], {});\n",
              "          if (!dataTable) return;\n",
              "\n",
              "          const docLinkHtml = 'Like what you see? Visit the ' +\n",
              "            '<a target=\"_blank\" href=https://colab.research.google.com/notebooks/data_table.ipynb>data table notebook</a>'\n",
              "            + ' to learn more about interactive tables.';\n",
              "          element.innerHTML = '';\n",
              "          dataTable['output_type'] = 'display_data';\n",
              "          await google.colab.output.renderOutput(dataTable, element);\n",
              "          const docLink = document.createElement('div');\n",
              "          docLink.innerHTML = docLinkHtml;\n",
              "          element.appendChild(docLink);\n",
              "        }\n",
              "      </script>\n",
              "    </div>\n",
              "  </div>\n",
              "  "
            ],
            "text/plain": [
              "                                              Smiles  Active\n",
              "0                            COc1ccc2[nH]cc(CCN)c2c1   False\n",
              "1                    CCCN1CCC[C@H](c2cccc(O)c2)C1.Cl   False\n",
              "2  O=C(NO)c1cnc(N2CCN(S(=O)(=O)c3ccc4ccccc4c3)CC2...   False\n",
              "3  Nc1cccc(CNC(=O)c2ccc(Oc3ccc(OCc4cccc(F)c4)cc3)...   False\n",
              "4            Fc1ccccc1CNCc1ccc(-c2ccnc3[nH]ccc23)cc1   False"
            ]
          },
          "metadata": {},
          "execution_count": 47
        }
      ]
    },
    {
      "cell_type": "code",
      "source": [
        "# df активные молекулы\n",
        "df_train_True = df_train_new[df_train_new.Active==True]\n",
        "df_train_True.head()"
      ],
      "metadata": {
        "colab": {
          "base_uri": "https://localhost:8080/",
          "height": 206
        },
        "id": "6dc2Eyb2Z8IG",
        "outputId": "9609cde2-92a8-418d-f42a-5e5215df61c6"
      },
      "execution_count": null,
      "outputs": [
        {
          "output_type": "execute_result",
          "data": {
            "text/html": [
              "\n",
              "  <div id=\"df-9cd047ea-1fdd-40f6-b88d-b8ada5f83884\">\n",
              "    <div class=\"colab-df-container\">\n",
              "      <div>\n",
              "<style scoped>\n",
              "    .dataframe tbody tr th:only-of-type {\n",
              "        vertical-align: middle;\n",
              "    }\n",
              "\n",
              "    .dataframe tbody tr th {\n",
              "        vertical-align: top;\n",
              "    }\n",
              "\n",
              "    .dataframe thead th {\n",
              "        text-align: right;\n",
              "    }\n",
              "</style>\n",
              "<table border=\"1\" class=\"dataframe\">\n",
              "  <thead>\n",
              "    <tr style=\"text-align: right;\">\n",
              "      <th></th>\n",
              "      <th>Smiles</th>\n",
              "      <th>Active</th>\n",
              "    </tr>\n",
              "  </thead>\n",
              "  <tbody>\n",
              "    <tr>\n",
              "      <th>17</th>\n",
              "      <td>Nc1ccc(O)c2ncccc12</td>\n",
              "      <td>True</td>\n",
              "    </tr>\n",
              "    <tr>\n",
              "      <th>38</th>\n",
              "      <td>C[C@H]1COc2c(N3CCN(C)CC3)c(F)cc3c(=O)c(C(=O)O)...</td>\n",
              "      <td>True</td>\n",
              "    </tr>\n",
              "    <tr>\n",
              "      <th>52</th>\n",
              "      <td>Cl.NCCc1cc(O)c(O)cc1O</td>\n",
              "      <td>True</td>\n",
              "    </tr>\n",
              "    <tr>\n",
              "      <th>111</th>\n",
              "      <td>Cc1ccc(-n2sc(=O)n(Cc3ccc(F)cc3)c2=O)cc1</td>\n",
              "      <td>True</td>\n",
              "    </tr>\n",
              "    <tr>\n",
              "      <th>122</th>\n",
              "      <td>Oc1cc2c(cc1C(c1ccc(C(F)(F)F)cc1)N1CCOCC1)OCO2</td>\n",
              "      <td>True</td>\n",
              "    </tr>\n",
              "  </tbody>\n",
              "</table>\n",
              "</div>\n",
              "      <button class=\"colab-df-convert\" onclick=\"convertToInteractive('df-9cd047ea-1fdd-40f6-b88d-b8ada5f83884')\"\n",
              "              title=\"Convert this dataframe to an interactive table.\"\n",
              "              style=\"display:none;\">\n",
              "        \n",
              "  <svg xmlns=\"http://www.w3.org/2000/svg\" height=\"24px\"viewBox=\"0 0 24 24\"\n",
              "       width=\"24px\">\n",
              "    <path d=\"M0 0h24v24H0V0z\" fill=\"none\"/>\n",
              "    <path d=\"M18.56 5.44l.94 2.06.94-2.06 2.06-.94-2.06-.94-.94-2.06-.94 2.06-2.06.94zm-11 1L8.5 8.5l.94-2.06 2.06-.94-2.06-.94L8.5 2.5l-.94 2.06-2.06.94zm10 10l.94 2.06.94-2.06 2.06-.94-2.06-.94-.94-2.06-.94 2.06-2.06.94z\"/><path d=\"M17.41 7.96l-1.37-1.37c-.4-.4-.92-.59-1.43-.59-.52 0-1.04.2-1.43.59L10.3 9.45l-7.72 7.72c-.78.78-.78 2.05 0 2.83L4 21.41c.39.39.9.59 1.41.59.51 0 1.02-.2 1.41-.59l7.78-7.78 2.81-2.81c.8-.78.8-2.07 0-2.86zM5.41 20L4 18.59l7.72-7.72 1.47 1.35L5.41 20z\"/>\n",
              "  </svg>\n",
              "      </button>\n",
              "      \n",
              "  <style>\n",
              "    .colab-df-container {\n",
              "      display:flex;\n",
              "      flex-wrap:wrap;\n",
              "      gap: 12px;\n",
              "    }\n",
              "\n",
              "    .colab-df-convert {\n",
              "      background-color: #E8F0FE;\n",
              "      border: none;\n",
              "      border-radius: 50%;\n",
              "      cursor: pointer;\n",
              "      display: none;\n",
              "      fill: #1967D2;\n",
              "      height: 32px;\n",
              "      padding: 0 0 0 0;\n",
              "      width: 32px;\n",
              "    }\n",
              "\n",
              "    .colab-df-convert:hover {\n",
              "      background-color: #E2EBFA;\n",
              "      box-shadow: 0px 1px 2px rgba(60, 64, 67, 0.3), 0px 1px 3px 1px rgba(60, 64, 67, 0.15);\n",
              "      fill: #174EA6;\n",
              "    }\n",
              "\n",
              "    [theme=dark] .colab-df-convert {\n",
              "      background-color: #3B4455;\n",
              "      fill: #D2E3FC;\n",
              "    }\n",
              "\n",
              "    [theme=dark] .colab-df-convert:hover {\n",
              "      background-color: #434B5C;\n",
              "      box-shadow: 0px 1px 3px 1px rgba(0, 0, 0, 0.15);\n",
              "      filter: drop-shadow(0px 1px 2px rgba(0, 0, 0, 0.3));\n",
              "      fill: #FFFFFF;\n",
              "    }\n",
              "  </style>\n",
              "\n",
              "      <script>\n",
              "        const buttonEl =\n",
              "          document.querySelector('#df-9cd047ea-1fdd-40f6-b88d-b8ada5f83884 button.colab-df-convert');\n",
              "        buttonEl.style.display =\n",
              "          google.colab.kernel.accessAllowed ? 'block' : 'none';\n",
              "\n",
              "        async function convertToInteractive(key) {\n",
              "          const element = document.querySelector('#df-9cd047ea-1fdd-40f6-b88d-b8ada5f83884');\n",
              "          const dataTable =\n",
              "            await google.colab.kernel.invokeFunction('convertToInteractive',\n",
              "                                                     [key], {});\n",
              "          if (!dataTable) return;\n",
              "\n",
              "          const docLinkHtml = 'Like what you see? Visit the ' +\n",
              "            '<a target=\"_blank\" href=https://colab.research.google.com/notebooks/data_table.ipynb>data table notebook</a>'\n",
              "            + ' to learn more about interactive tables.';\n",
              "          element.innerHTML = '';\n",
              "          dataTable['output_type'] = 'display_data';\n",
              "          await google.colab.output.renderOutput(dataTable, element);\n",
              "          const docLink = document.createElement('div');\n",
              "          docLink.innerHTML = docLinkHtml;\n",
              "          element.appendChild(docLink);\n",
              "        }\n",
              "      </script>\n",
              "    </div>\n",
              "  </div>\n",
              "  "
            ],
            "text/plain": [
              "                                                Smiles  Active\n",
              "17                                  Nc1ccc(O)c2ncccc12    True\n",
              "38   C[C@H]1COc2c(N3CCN(C)CC3)c(F)cc3c(=O)c(C(=O)O)...    True\n",
              "52                               Cl.NCCc1cc(O)c(O)cc1O    True\n",
              "111            Cc1ccc(-n2sc(=O)n(Cc3ccc(F)cc3)c2=O)cc1    True\n",
              "122      Oc1cc2c(cc1C(c1ccc(C(F)(F)F)cc1)N1CCOCC1)OCO2    True"
            ]
          },
          "metadata": {},
          "execution_count": 48
        }
      ]
    },
    {
      "cell_type": "code",
      "source": [
        "# df неактивные молекулы\n",
        "df_train_False = df_train_new[df_train_new.Active==False]\n",
        "df_train_False.head()"
      ],
      "metadata": {
        "colab": {
          "base_uri": "https://localhost:8080/",
          "height": 206
        },
        "id": "9NOeK4tjaDjC",
        "outputId": "8cbcd69d-b9e9-4ca7-e312-d9482e256ba7"
      },
      "execution_count": null,
      "outputs": [
        {
          "output_type": "execute_result",
          "data": {
            "text/html": [
              "\n",
              "  <div id=\"df-a56fb6d1-3216-40d2-9aa1-48d2bf558f93\">\n",
              "    <div class=\"colab-df-container\">\n",
              "      <div>\n",
              "<style scoped>\n",
              "    .dataframe tbody tr th:only-of-type {\n",
              "        vertical-align: middle;\n",
              "    }\n",
              "\n",
              "    .dataframe tbody tr th {\n",
              "        vertical-align: top;\n",
              "    }\n",
              "\n",
              "    .dataframe thead th {\n",
              "        text-align: right;\n",
              "    }\n",
              "</style>\n",
              "<table border=\"1\" class=\"dataframe\">\n",
              "  <thead>\n",
              "    <tr style=\"text-align: right;\">\n",
              "      <th></th>\n",
              "      <th>Smiles</th>\n",
              "      <th>Active</th>\n",
              "    </tr>\n",
              "  </thead>\n",
              "  <tbody>\n",
              "    <tr>\n",
              "      <th>0</th>\n",
              "      <td>COc1ccc2[nH]cc(CCN)c2c1</td>\n",
              "      <td>False</td>\n",
              "    </tr>\n",
              "    <tr>\n",
              "      <th>1</th>\n",
              "      <td>CCCN1CCC[C@H](c2cccc(O)c2)C1.Cl</td>\n",
              "      <td>False</td>\n",
              "    </tr>\n",
              "    <tr>\n",
              "      <th>2</th>\n",
              "      <td>O=C(NO)c1cnc(N2CCN(S(=O)(=O)c3ccc4ccccc4c3)CC2...</td>\n",
              "      <td>False</td>\n",
              "    </tr>\n",
              "    <tr>\n",
              "      <th>3</th>\n",
              "      <td>Nc1cccc(CNC(=O)c2ccc(Oc3ccc(OCc4cccc(F)c4)cc3)...</td>\n",
              "      <td>False</td>\n",
              "    </tr>\n",
              "    <tr>\n",
              "      <th>4</th>\n",
              "      <td>Fc1ccccc1CNCc1ccc(-c2ccnc3[nH]ccc23)cc1</td>\n",
              "      <td>False</td>\n",
              "    </tr>\n",
              "  </tbody>\n",
              "</table>\n",
              "</div>\n",
              "      <button class=\"colab-df-convert\" onclick=\"convertToInteractive('df-a56fb6d1-3216-40d2-9aa1-48d2bf558f93')\"\n",
              "              title=\"Convert this dataframe to an interactive table.\"\n",
              "              style=\"display:none;\">\n",
              "        \n",
              "  <svg xmlns=\"http://www.w3.org/2000/svg\" height=\"24px\"viewBox=\"0 0 24 24\"\n",
              "       width=\"24px\">\n",
              "    <path d=\"M0 0h24v24H0V0z\" fill=\"none\"/>\n",
              "    <path d=\"M18.56 5.44l.94 2.06.94-2.06 2.06-.94-2.06-.94-.94-2.06-.94 2.06-2.06.94zm-11 1L8.5 8.5l.94-2.06 2.06-.94-2.06-.94L8.5 2.5l-.94 2.06-2.06.94zm10 10l.94 2.06.94-2.06 2.06-.94-2.06-.94-.94-2.06-.94 2.06-2.06.94z\"/><path d=\"M17.41 7.96l-1.37-1.37c-.4-.4-.92-.59-1.43-.59-.52 0-1.04.2-1.43.59L10.3 9.45l-7.72 7.72c-.78.78-.78 2.05 0 2.83L4 21.41c.39.39.9.59 1.41.59.51 0 1.02-.2 1.41-.59l7.78-7.78 2.81-2.81c.8-.78.8-2.07 0-2.86zM5.41 20L4 18.59l7.72-7.72 1.47 1.35L5.41 20z\"/>\n",
              "  </svg>\n",
              "      </button>\n",
              "      \n",
              "  <style>\n",
              "    .colab-df-container {\n",
              "      display:flex;\n",
              "      flex-wrap:wrap;\n",
              "      gap: 12px;\n",
              "    }\n",
              "\n",
              "    .colab-df-convert {\n",
              "      background-color: #E8F0FE;\n",
              "      border: none;\n",
              "      border-radius: 50%;\n",
              "      cursor: pointer;\n",
              "      display: none;\n",
              "      fill: #1967D2;\n",
              "      height: 32px;\n",
              "      padding: 0 0 0 0;\n",
              "      width: 32px;\n",
              "    }\n",
              "\n",
              "    .colab-df-convert:hover {\n",
              "      background-color: #E2EBFA;\n",
              "      box-shadow: 0px 1px 2px rgba(60, 64, 67, 0.3), 0px 1px 3px 1px rgba(60, 64, 67, 0.15);\n",
              "      fill: #174EA6;\n",
              "    }\n",
              "\n",
              "    [theme=dark] .colab-df-convert {\n",
              "      background-color: #3B4455;\n",
              "      fill: #D2E3FC;\n",
              "    }\n",
              "\n",
              "    [theme=dark] .colab-df-convert:hover {\n",
              "      background-color: #434B5C;\n",
              "      box-shadow: 0px 1px 3px 1px rgba(0, 0, 0, 0.15);\n",
              "      filter: drop-shadow(0px 1px 2px rgba(0, 0, 0, 0.3));\n",
              "      fill: #FFFFFF;\n",
              "    }\n",
              "  </style>\n",
              "\n",
              "      <script>\n",
              "        const buttonEl =\n",
              "          document.querySelector('#df-a56fb6d1-3216-40d2-9aa1-48d2bf558f93 button.colab-df-convert');\n",
              "        buttonEl.style.display =\n",
              "          google.colab.kernel.accessAllowed ? 'block' : 'none';\n",
              "\n",
              "        async function convertToInteractive(key) {\n",
              "          const element = document.querySelector('#df-a56fb6d1-3216-40d2-9aa1-48d2bf558f93');\n",
              "          const dataTable =\n",
              "            await google.colab.kernel.invokeFunction('convertToInteractive',\n",
              "                                                     [key], {});\n",
              "          if (!dataTable) return;\n",
              "\n",
              "          const docLinkHtml = 'Like what you see? Visit the ' +\n",
              "            '<a target=\"_blank\" href=https://colab.research.google.com/notebooks/data_table.ipynb>data table notebook</a>'\n",
              "            + ' to learn more about interactive tables.';\n",
              "          element.innerHTML = '';\n",
              "          dataTable['output_type'] = 'display_data';\n",
              "          await google.colab.output.renderOutput(dataTable, element);\n",
              "          const docLink = document.createElement('div');\n",
              "          docLink.innerHTML = docLinkHtml;\n",
              "          element.appendChild(docLink);\n",
              "        }\n",
              "      </script>\n",
              "    </div>\n",
              "  </div>\n",
              "  "
            ],
            "text/plain": [
              "                                              Smiles  Active\n",
              "0                            COc1ccc2[nH]cc(CCN)c2c1   False\n",
              "1                    CCCN1CCC[C@H](c2cccc(O)c2)C1.Cl   False\n",
              "2  O=C(NO)c1cnc(N2CCN(S(=O)(=O)c3ccc4ccccc4c3)CC2...   False\n",
              "3  Nc1cccc(CNC(=O)c2ccc(Oc3ccc(OCc4cccc(F)c4)cc3)...   False\n",
              "4            Fc1ccccc1CNCc1ccc(-c2ccnc3[nH]ccc23)cc1   False"
            ]
          },
          "metadata": {},
          "execution_count": 49
        }
      ]
    },
    {
      "cell_type": "code",
      "source": [
        "# собираю значения Smiles неактивных молекул в лист\n",
        "s_inactive = []\n",
        "for i in df_train_False['Smiles']:\n",
        "  s_inactive.append(i)\n",
        "\n",
        "print('Длинна s_inactive:', len(s_inactive))\n",
        "print(\"Пример значения из s_inactive:\", s_inactive[1])"
      ],
      "metadata": {
        "colab": {
          "base_uri": "https://localhost:8080/"
        },
        "id": "aWwq4Sw8aI8K",
        "outputId": "7ed6b051-0d82-452c-c8f5-6a0fed681aa6"
      },
      "execution_count": null,
      "outputs": [
        {
          "output_type": "stream",
          "name": "stdout",
          "text": [
            "Длинна s_inactive: 5351\n",
            "Пример значения из s_inactive: CCCN1CCC[C@H](c2cccc(O)c2)C1.Cl\n"
          ]
        }
      ]
    },
    {
      "cell_type": "code",
      "source": [
        "l = []\n",
        "for i in s_inactive:\n",
        "  l.append(len(i))\n",
        "print(max(l), min(l))\n"
      ],
      "metadata": {
        "colab": {
          "base_uri": "https://localhost:8080/"
        },
        "id": "J6t-_iUXg65q",
        "outputId": "88e4a059-7761-4538-a4b8-163890ed5340"
      },
      "execution_count": null,
      "outputs": [
        {
          "output_type": "stream",
          "name": "stdout",
          "text": [
            "598 6\n"
          ]
        }
      ]
    },
    {
      "cell_type": "code",
      "source": [
        "# самая длинная молекула\n",
        "for i in s_inactive:\n",
        "  if len(i)== 598:\n",
        "    print(i)"
      ],
      "metadata": {
        "colab": {
          "base_uri": "https://localhost:8080/"
        },
        "id": "ePhPUhwtlxFS",
        "outputId": "d784ec5f-5269-4aaa-a54c-ce67cfc99a85"
      },
      "execution_count": null,
      "outputs": [
        {
          "output_type": "stream",
          "name": "stdout",
          "text": [
            "C=C(NC(=O)[C@@H](NC(=O)[C@H](Cc1cnc[nH]1)NC(=O)[C@@H](NC(=O)[C@H](CO)NC(=O)[C@@H]1CS[C@@H](C)[C@H]2NC(=O)C(=C)NC(=O)[C@H](NC(=O)[C@H](CCCCN)NC(=O)[C@H](CCSC)NC(=O)[C@H](CC(N)=O)NC(=O)[C@@H]3CS[C@@H](C)[C@@H](NC(=O)[C@H](CCCNN)NC(=O)[C@@H]4CS[C@@H](C)[C@@H](NC(=O)[C@@H]5CSC[C@@H](NC(=O)/C(=C\\C)NC(=O)[C@@H](N)[C@@H](C)CC)C(=O)N[C@@H]([C@@H](C)CC)C(=O)NC(=C)C(=O)N[C@@H]([C@@H](C)CC)C(=O)N5)C(=O)N5CCC[C@H]5C(=O)NCC(=O)N4)C(=O)NCC(=O)N[C@@H](C)C(=O)N[C@@H]([C@@H](C)CC)C(=O)N[C@@H](CCSC)C(=O)NCC(=O)N3)[C@H](C)SC[C@H](NC2=O)C(=O)N[C@H](Cc2cnc[nH]2)C(=O)N1)[C@@H](C)CC)C(C)C)C(=O)N[C@@H](CCCCN)C(=O)O\n"
          ]
        }
      ]
    },
    {
      "cell_type": "code",
      "source": [
        "# активные молекулы\n",
        "s_active = []\n",
        "for i in df_train_True['Smiles']:\n",
        "  s_active.append(i)\n",
        "\n",
        "print('Длинна s_active:', len(s_active))\n",
        "print(\"Пример значения из s_active:\", s_active[1])"
      ],
      "metadata": {
        "colab": {
          "base_uri": "https://localhost:8080/"
        },
        "id": "TaFxc_3UaN0s",
        "outputId": "faa51235-e3ef-49b9-ef19-14aba740d12e"
      },
      "execution_count": null,
      "outputs": [
        {
          "output_type": "stream",
          "name": "stdout",
          "text": [
            "Длинна s_active: 206\n",
            "Пример значения из s_active: C[C@H]1COc2c(N3CCN(C)CC3)c(F)cc3c(=O)c(C(=O)O)cn1c23\n"
          ]
        }
      ]
    },
    {
      "cell_type": "code",
      "source": [
        "l = []\n",
        "for i in s_active:\n",
        "  l.append(len(i))\n",
        "print(max(l), min(l))"
      ],
      "metadata": {
        "colab": {
          "base_uri": "https://localhost:8080/"
        },
        "id": "3LDJI5XshWkx",
        "outputId": "63c5ded6-8a0c-4e8e-8d69-69adf45ef697"
      },
      "execution_count": null,
      "outputs": [
        {
          "output_type": "stream",
          "name": "stdout",
          "text": [
            "262 14\n"
          ]
        }
      ]
    },
    {
      "cell_type": "code",
      "source": [
        "# функция перефода smiles в вектор 0 и 1\n",
        "def get_morgan_fingerprint(smiles: str, radius=2, nBits=4096): # сделал nBits=4096\n",
        "    mol = Chem.MolFromSmiles(smiles)\n",
        "    morgan_fp = AllChem.GetMorganFingerprintAsBitVect(mol, radius=radius, nBits=nBits)\n",
        "    return (list(morgan_fp))"
      ],
      "metadata": {
        "id": "yUqWtFOoaQ5w"
      },
      "execution_count": null,
      "outputs": []
    },
    {
      "cell_type": "code",
      "source": [
        "# для активных\n",
        "smal_active = []\n",
        "for i in s_active:\n",
        "  sm = get_morgan_fingerprint(i)      # получаю вектор из smiles\n",
        "  smal_active.append(sm)\n",
        "smal_active = np.array(smal_active)   # преобразую в numpy\n",
        "\n",
        "print(f\"Количество молекул активных: {len(smal_active)}\\nДлинна вектора одной молекулы: {len(smal_active[77])}\")\n",
        "print(f'Пример вектора smal_active: {smal_active[77]}')\n",
        "print(f'Размер массива smal_active: {smal_active.shape}')"
      ],
      "metadata": {
        "colab": {
          "base_uri": "https://localhost:8080/"
        },
        "id": "vDfju48oaTqv",
        "outputId": "0114a94e-e31e-4938-d4ba-34922687847d"
      },
      "execution_count": null,
      "outputs": [
        {
          "output_type": "stream",
          "name": "stdout",
          "text": [
            "Количество молекул активных: 206\n",
            "Длинна вектора одной молекулы: 4096\n",
            "Пример вектора smal_active: [0 0 0 ... 0 0 0]\n",
            "Размер массива smal_active: (206, 4096)\n"
          ]
        }
      ]
    },
    {
      "cell_type": "code",
      "source": [
        "# для неактивных\n",
        "smal_inactive = []\n",
        "for i in s_inactive:\n",
        "  sm = get_morgan_fingerprint(i)       # получаю вектор из smiles\n",
        "  smal_inactive.append(sm)\n",
        "smal_inactive = np.array(smal_inactive)# преобразую в numpy\n",
        "\n",
        "print(f\"Количество молекул не активных: {len(smal_inactive)}\\nДлинна вектора одной молекулы: {len(smal_inactive[77])}\")\n",
        "print(f'Пример вектора smal_active: {smal_inactive[77]}')\n",
        "print(f'Размер массива smal_inactive: {smal_inactive.shape}')"
      ],
      "metadata": {
        "id": "GqrdV_8tae0u"
      },
      "execution_count": null,
      "outputs": []
    },
    {
      "cell_type": "code",
      "source": [
        "# смотрю максимальные и минимальные значения\n",
        "smal_inactive.max(), smal_inactive.min(), "
      ],
      "metadata": {
        "colab": {
          "base_uri": "https://localhost:8080/"
        },
        "id": "Ku7XUgmSkLoz",
        "outputId": "4585e63d-c5cf-4187-d3f2-16018e47a63a"
      },
      "execution_count": null,
      "outputs": [
        {
          "output_type": "execute_result",
          "data": {
            "text/plain": [
              "(1, 0)"
            ]
          },
          "metadata": {},
          "execution_count": 14
        }
      ]
    },
    {
      "cell_type": "code",
      "source": [
        "RANDOM_SEED = 42 # задаем случайное значение\n",
        "\n",
        "# берём неактивные молекулы разбиваем на train_test(только 'X')\n",
        "X_train, X_test = train_test_split(smal_inactive, test_size=0.2, random_state=RANDOM_SEED)"
      ],
      "metadata": {
        "id": "vxkT0d2Sak1G"
      },
      "execution_count": null,
      "outputs": []
    },
    {
      "cell_type": "code",
      "source": [
        "# размеры\n",
        "X_train.shape, X_test.shape, smal_active.shape"
      ],
      "metadata": {
        "colab": {
          "base_uri": "https://localhost:8080/"
        },
        "id": "Q8pwZqyLatci",
        "outputId": "d22a6e27-13b1-4826-d256-6c16bb825515"
      },
      "execution_count": null,
      "outputs": [
        {
          "output_type": "execute_result",
          "data": {
            "text/plain": [
              "((4280, 4096), (1071, 4096), (206, 4096))"
            ]
          },
          "metadata": {},
          "execution_count": 16
        }
      ]
    },
    {
      "cell_type": "code",
      "source": [
        "'''\n",
        "# создаю Y_test для тестовой и Y_smal_active для активных молекул\n",
        "Y_test = np.zeros(1071)\n",
        "Y_smal_active = np.ones(206)\n",
        "\n",
        "# размеры\n",
        "Y_test.shape, Y_smal_active.shape\n",
        "'''"
      ],
      "metadata": {
        "colab": {
          "base_uri": "https://localhost:8080/"
        },
        "id": "5EKABgYua094",
        "outputId": "717db5f6-140b-4d73-8d5d-11c06f7fef66"
      },
      "execution_count": null,
      "outputs": [
        {
          "output_type": "execute_result",
          "data": {
            "text/plain": [
              "((1071,), (206,))"
            ]
          },
          "metadata": {},
          "execution_count": 25
        }
      ]
    },
    {
      "cell_type": "code",
      "source": [
        "# Добавляю все активные молекулы в тестовый набор данных для того, чтобы потом сравнивать mse после обучения\n",
        "X_test = np.concatenate((X_test, smal_active))\n",
        "Y_test = np.concatenate((Y_test, Y_smal_active))\n",
        "\n",
        "# размеры\n",
        "X_test.shape, Y_test.shape"
      ],
      "metadata": {
        "id": "uIB5VyOSbY_s"
      },
      "execution_count": null,
      "outputs": []
    },
    {
      "cell_type": "markdown",
      "source": [
        "**Нейронная сеть**"
      ],
      "metadata": {
        "id": "10vXO_ovboeI"
      }
    },
    {
      "cell_type": "code",
      "source": [
        "def Smiles_Autoencoder(): \n",
        "  dataSize = 4096 # размер входного слоя\n",
        "  dataInput = Input(shape=(dataSize, )) # задаем эти размеры как входные в сеть\n",
        "  \n",
        "  x = Dense(10, activation='relu')(dataInput) # пропускаем через полносвязный слой размером 10\n",
        "  x = Dense(dataSize, activation='sigmoid')(x) # выход это полносвязный слой размером 4096\n",
        "  \n",
        "  autoencoder = Model(inputs=dataInput, outputs=x) # собрали модель \n",
        "  \n",
        "  autoencoder.compile(optimizer=Adam(learning_rate=0.0001), loss='mse') # компилируем модель также, с выбором оптимайзера и среднеквадратичной ошибки\n",
        "  \n",
        "  return autoencoder "
      ],
      "metadata": {
        "id": "8UvRq-yXbksT"
      },
      "execution_count": null,
      "outputs": []
    },
    {
      "cell_type": "code",
      "source": [
        "model = Smiles_Autoencoder()\n",
        "history = model.fit(X_train, X_train,\n",
        "                    epochs=100,\n",
        "                    batch_size=12) # загружаем данные в модель(X_train'ы) и обучаем"
      ],
      "metadata": {
        "colab": {
          "base_uri": "https://localhost:8080/"
        },
        "id": "6Vlx9GnZcCGT",
        "outputId": "fc141ff3-b07e-41e1-86eb-53a72cf0fbb9"
      },
      "execution_count": null,
      "outputs": [
        {
          "output_type": "stream",
          "name": "stdout",
          "text": [
            "Epoch 1/100\n",
            "357/357 [==============================] - 2s 3ms/step - loss: 0.1992\n",
            "Epoch 2/100\n",
            "357/357 [==============================] - 1s 3ms/step - loss: 0.0630\n",
            "Epoch 3/100\n",
            "357/357 [==============================] - 1s 3ms/step - loss: 0.0261\n",
            "Epoch 4/100\n",
            "357/357 [==============================] - 1s 3ms/step - loss: 0.0175\n",
            "Epoch 5/100\n",
            "357/357 [==============================] - 1s 4ms/step - loss: 0.0143\n",
            "Epoch 6/100\n",
            "357/357 [==============================] - 1s 4ms/step - loss: 0.0127\n",
            "Epoch 7/100\n",
            "357/357 [==============================] - 1s 3ms/step - loss: 0.0118\n",
            "Epoch 8/100\n",
            "357/357 [==============================] - 1s 4ms/step - loss: 0.0111\n",
            "Epoch 9/100\n",
            "357/357 [==============================] - 1s 3ms/step - loss: 0.0107\n",
            "Epoch 10/100\n",
            "357/357 [==============================] - 1s 4ms/step - loss: 0.0104\n",
            "Epoch 11/100\n",
            "357/357 [==============================] - 1s 4ms/step - loss: 0.0102\n",
            "Epoch 12/100\n",
            "357/357 [==============================] - 1s 3ms/step - loss: 0.0101\n",
            "Epoch 13/100\n",
            "357/357 [==============================] - 1s 3ms/step - loss: 0.0099\n",
            "Epoch 14/100\n",
            "357/357 [==============================] - 1s 3ms/step - loss: 0.0098\n",
            "Epoch 15/100\n",
            "357/357 [==============================] - 1s 3ms/step - loss: 0.0097\n",
            "Epoch 16/100\n",
            "357/357 [==============================] - 1s 3ms/step - loss: 0.0097\n",
            "Epoch 17/100\n",
            "357/357 [==============================] - 1s 3ms/step - loss: 0.0096\n",
            "Epoch 18/100\n",
            "357/357 [==============================] - 1s 3ms/step - loss: 0.0096\n",
            "Epoch 19/100\n",
            "357/357 [==============================] - 1s 3ms/step - loss: 0.0095\n",
            "Epoch 20/100\n",
            "357/357 [==============================] - 1s 3ms/step - loss: 0.0095\n",
            "Epoch 21/100\n",
            "357/357 [==============================] - 1s 3ms/step - loss: 0.0095\n",
            "Epoch 22/100\n",
            "357/357 [==============================] - 1s 3ms/step - loss: 0.0094\n",
            "Epoch 23/100\n",
            "357/357 [==============================] - 1s 3ms/step - loss: 0.0094\n",
            "Epoch 24/100\n",
            "357/357 [==============================] - 1s 3ms/step - loss: 0.0094\n",
            "Epoch 25/100\n",
            "357/357 [==============================] - 1s 3ms/step - loss: 0.0094\n",
            "Epoch 26/100\n",
            "357/357 [==============================] - 1s 3ms/step - loss: 0.0093\n",
            "Epoch 27/100\n",
            "357/357 [==============================] - 1s 3ms/step - loss: 0.0093\n",
            "Epoch 28/100\n",
            "357/357 [==============================] - 1s 3ms/step - loss: 0.0093\n",
            "Epoch 29/100\n",
            "357/357 [==============================] - 1s 3ms/step - loss: 0.0093\n",
            "Epoch 30/100\n",
            "357/357 [==============================] - 1s 3ms/step - loss: 0.0093\n",
            "Epoch 31/100\n",
            "357/357 [==============================] - 1s 3ms/step - loss: 0.0093\n",
            "Epoch 32/100\n",
            "357/357 [==============================] - 1s 4ms/step - loss: 0.0092\n",
            "Epoch 33/100\n",
            "357/357 [==============================] - 1s 3ms/step - loss: 0.0092\n",
            "Epoch 34/100\n",
            "357/357 [==============================] - 1s 4ms/step - loss: 0.0092\n",
            "Epoch 35/100\n",
            "357/357 [==============================] - 1s 3ms/step - loss: 0.0091\n",
            "Epoch 36/100\n",
            "357/357 [==============================] - 1s 3ms/step - loss: 0.0091\n",
            "Epoch 37/100\n",
            "357/357 [==============================] - 1s 3ms/step - loss: 0.0090\n",
            "Epoch 38/100\n",
            "357/357 [==============================] - 1s 3ms/step - loss: 0.0090\n",
            "Epoch 39/100\n",
            "357/357 [==============================] - 1s 3ms/step - loss: 0.0089\n",
            "Epoch 40/100\n",
            "357/357 [==============================] - 1s 3ms/step - loss: 0.0089\n",
            "Epoch 41/100\n",
            "357/357 [==============================] - 1s 3ms/step - loss: 0.0088\n",
            "Epoch 42/100\n",
            "357/357 [==============================] - 1s 3ms/step - loss: 0.0088\n",
            "Epoch 43/100\n",
            "357/357 [==============================] - 1s 3ms/step - loss: 0.0087\n",
            "Epoch 44/100\n",
            "357/357 [==============================] - 1s 3ms/step - loss: 0.0087\n",
            "Epoch 45/100\n",
            "357/357 [==============================] - 1s 3ms/step - loss: 0.0086\n",
            "Epoch 46/100\n",
            "357/357 [==============================] - 1s 3ms/step - loss: 0.0086\n",
            "Epoch 47/100\n",
            "357/357 [==============================] - 1s 3ms/step - loss: 0.0085\n",
            "Epoch 48/100\n",
            "357/357 [==============================] - 1s 3ms/step - loss: 0.0085\n",
            "Epoch 49/100\n",
            "357/357 [==============================] - 1s 3ms/step - loss: 0.0084\n",
            "Epoch 50/100\n",
            "357/357 [==============================] - 1s 3ms/step - loss: 0.0084\n",
            "Epoch 51/100\n",
            "357/357 [==============================] - 1s 3ms/step - loss: 0.0084\n",
            "Epoch 52/100\n",
            "357/357 [==============================] - 1s 3ms/step - loss: 0.0083\n",
            "Epoch 53/100\n",
            "357/357 [==============================] - 1s 3ms/step - loss: 0.0083\n",
            "Epoch 54/100\n",
            "357/357 [==============================] - 1s 3ms/step - loss: 0.0082\n",
            "Epoch 55/100\n",
            "357/357 [==============================] - 1s 3ms/step - loss: 0.0082\n",
            "Epoch 56/100\n",
            "357/357 [==============================] - 1s 3ms/step - loss: 0.0082\n",
            "Epoch 57/100\n",
            "357/357 [==============================] - 1s 3ms/step - loss: 0.0081\n",
            "Epoch 58/100\n",
            "357/357 [==============================] - 1s 3ms/step - loss: 0.0081\n",
            "Epoch 59/100\n",
            "357/357 [==============================] - 1s 4ms/step - loss: 0.0081\n",
            "Epoch 60/100\n",
            "357/357 [==============================] - 1s 3ms/step - loss: 0.0080\n",
            "Epoch 61/100\n",
            "357/357 [==============================] - 1s 3ms/step - loss: 0.0080\n",
            "Epoch 62/100\n",
            "357/357 [==============================] - 1s 3ms/step - loss: 0.0080\n",
            "Epoch 63/100\n",
            "357/357 [==============================] - 1s 4ms/step - loss: 0.0080\n",
            "Epoch 64/100\n",
            "357/357 [==============================] - 1s 3ms/step - loss: 0.0079\n",
            "Epoch 65/100\n",
            "357/357 [==============================] - 1s 3ms/step - loss: 0.0079\n",
            "Epoch 66/100\n",
            "357/357 [==============================] - 1s 3ms/step - loss: 0.0079\n",
            "Epoch 67/100\n",
            "357/357 [==============================] - 1s 3ms/step - loss: 0.0078\n",
            "Epoch 68/100\n",
            "357/357 [==============================] - 1s 3ms/step - loss: 0.0078\n",
            "Epoch 69/100\n",
            "357/357 [==============================] - 1s 3ms/step - loss: 0.0078\n",
            "Epoch 70/100\n",
            "357/357 [==============================] - 1s 4ms/step - loss: 0.0078\n",
            "Epoch 71/100\n",
            "357/357 [==============================] - 1s 3ms/step - loss: 0.0077\n",
            "Epoch 72/100\n",
            "357/357 [==============================] - 1s 4ms/step - loss: 0.0077\n",
            "Epoch 73/100\n",
            "357/357 [==============================] - 1s 3ms/step - loss: 0.0077\n",
            "Epoch 74/100\n",
            "357/357 [==============================] - 1s 3ms/step - loss: 0.0077\n",
            "Epoch 75/100\n",
            "357/357 [==============================] - 1s 3ms/step - loss: 0.0077\n",
            "Epoch 76/100\n",
            "357/357 [==============================] - 1s 3ms/step - loss: 0.0076\n",
            "Epoch 77/100\n",
            "357/357 [==============================] - 1s 3ms/step - loss: 0.0076\n",
            "Epoch 78/100\n",
            "357/357 [==============================] - 1s 3ms/step - loss: 0.0076\n",
            "Epoch 79/100\n",
            "357/357 [==============================] - 1s 3ms/step - loss: 0.0076\n",
            "Epoch 80/100\n",
            "357/357 [==============================] - 1s 3ms/step - loss: 0.0076\n",
            "Epoch 81/100\n",
            "357/357 [==============================] - 1s 3ms/step - loss: 0.0075\n",
            "Epoch 82/100\n",
            "357/357 [==============================] - 1s 3ms/step - loss: 0.0075\n",
            "Epoch 83/100\n",
            "357/357 [==============================] - 1s 3ms/step - loss: 0.0075\n",
            "Epoch 84/100\n",
            "357/357 [==============================] - 1s 3ms/step - loss: 0.0075\n",
            "Epoch 85/100\n",
            "357/357 [==============================] - 1s 3ms/step - loss: 0.0075\n",
            "Epoch 86/100\n",
            "357/357 [==============================] - 1s 3ms/step - loss: 0.0075\n",
            "Epoch 87/100\n",
            "357/357 [==============================] - 1s 3ms/step - loss: 0.0075\n",
            "Epoch 88/100\n",
            "357/357 [==============================] - 1s 4ms/step - loss: 0.0074\n",
            "Epoch 89/100\n",
            "357/357 [==============================] - 1s 3ms/step - loss: 0.0074\n",
            "Epoch 90/100\n",
            "357/357 [==============================] - 1s 3ms/step - loss: 0.0074\n",
            "Epoch 91/100\n",
            "357/357 [==============================] - 1s 3ms/step - loss: 0.0074\n",
            "Epoch 92/100\n",
            "357/357 [==============================] - 1s 4ms/step - loss: 0.0074\n",
            "Epoch 93/100\n",
            "357/357 [==============================] - 1s 3ms/step - loss: 0.0074\n",
            "Epoch 94/100\n",
            "357/357 [==============================] - 1s 3ms/step - loss: 0.0074\n",
            "Epoch 95/100\n",
            "357/357 [==============================] - 1s 3ms/step - loss: 0.0074\n",
            "Epoch 96/100\n",
            "357/357 [==============================] - 1s 3ms/step - loss: 0.0074\n",
            "Epoch 97/100\n",
            "357/357 [==============================] - 1s 4ms/step - loss: 0.0073\n",
            "Epoch 98/100\n",
            "357/357 [==============================] - 1s 3ms/step - loss: 0.0073\n",
            "Epoch 99/100\n",
            "357/357 [==============================] - 1s 3ms/step - loss: 0.0073\n",
            "Epoch 100/100\n",
            "357/357 [==============================] - 1s 3ms/step - loss: 0.0073\n"
          ]
        }
      ]
    },
    {
      "cell_type": "markdown",
      "source": [
        "**Проверка результата**"
      ],
      "metadata": {
        "id": "y3YtsGJIdfsd"
      }
    },
    {
      "cell_type": "code",
      "source": [
        "predictions = model.predict(X_test) # делаем предсказание по X_test на неактивных и активных молекулах\n",
        "predictions.shape"
      ],
      "metadata": {
        "colab": {
          "base_uri": "https://localhost:8080/"
        },
        "id": "sOVCTm8GdBz3",
        "outputId": "7124b573-f72c-427e-c459-588caf7fcb3e"
      },
      "execution_count": null,
      "outputs": [
        {
          "output_type": "execute_result",
          "data": {
            "text/plain": [
              "(1277, 4096)"
            ]
          },
          "metadata": {},
          "execution_count": 69
        }
      ]
    },
    {
      "cell_type": "code",
      "source": [
        "predictions[9]"
      ],
      "metadata": {
        "colab": {
          "base_uri": "https://localhost:8080/"
        },
        "id": "fmJpvCrojSl4",
        "outputId": "00402e1a-fc26-4cec-b439-363a25021134"
      },
      "execution_count": null,
      "outputs": [
        {
          "output_type": "execute_result",
          "data": {
            "text/plain": [
              "array([1.0093013e-04, 4.3236741e-05, 2.3633594e-02, ..., 2.5005715e-05,\n",
              "       2.5241254e-05, 2.0602742e-05], dtype=float32)"
            ]
          },
          "metadata": {},
          "execution_count": 70
        }
      ]
    },
    {
      "cell_type": "code",
      "source": [
        "# считаю mse\n",
        "mse = np.mean(np.power(X_test - predictions, 2), axis=1)"
      ],
      "metadata": {
        "id": "oqjBga65d14I"
      },
      "execution_count": null,
      "outputs": []
    },
    {
      "cell_type": "code",
      "source": [
        "mse_Inactivel = mse[:1071] # неактивные. Так как при concatenate X_test и smal_activeдо 1071 были неактивные, а после 1071 активные.\n",
        "mse_Active = mse[1071:] # активные\n",
        "\n",
        "# размеры\n",
        "print(mse_Inactivel.shape)\n",
        "print(mse_Active.shape)"
      ],
      "metadata": {
        "colab": {
          "base_uri": "https://localhost:8080/"
        },
        "id": "y9TxkUemd-sc",
        "outputId": "ae95d853-2b9e-4ca5-b882-90396f17df33"
      },
      "execution_count": null,
      "outputs": [
        {
          "output_type": "stream",
          "name": "stdout",
          "text": [
            "(1071,)\n",
            "(206,)\n"
          ]
        }
      ]
    },
    {
      "cell_type": "code",
      "source": [
        "print(\"Минимальная ошибка неактивных молекул:\", round(min(mse_Inactivel),4)) #\n",
        "print(\"Максимальная ошибка неактивных молекул:\", round(max(mse_Inactivel),4)) #\n",
        "print(\"Средняя ошибка неактивных молекул:\", round(sum(mse_Inactivel) / len(mse_Inactivel),8)) # средняя ошибка"
      ],
      "metadata": {
        "colab": {
          "base_uri": "https://localhost:8080/"
        },
        "id": "C9v3LncDgvHC",
        "outputId": "a05d69f8-7f3e-49a9-b995-96aae448dba4"
      },
      "execution_count": null,
      "outputs": [
        {
          "output_type": "stream",
          "name": "stdout",
          "text": [
            "Минимальная ошибка неактивных молекул: 0.001\n",
            "Максимальная ошибка неактивных молекул: 0.0198\n",
            "Средняя ошибка неактивных молекул: 0.0074242\n"
          ]
        }
      ]
    },
    {
      "cell_type": "code",
      "source": [
        "print(\"Минимальная ошибка активных молекул:\", round(min(mse_Active),4)) #\n",
        "print(\"Максимальная ошибка активных молекул:\", round(max(mse_Active),4)) #\n",
        "print(\"Средняя ошибка активных молекул:\", round(sum(mse_Active) / len(mse_Active),8)) # средняя ошибка"
      ],
      "metadata": {
        "colab": {
          "base_uri": "https://localhost:8080/"
        },
        "id": "N97PF3rYg1x2",
        "outputId": "08ebbe58-b071-4e01-855c-57910072f334"
      },
      "execution_count": null,
      "outputs": [
        {
          "output_type": "stream",
          "name": "stdout",
          "text": [
            "Минимальная ошибка активных молекул: 0.0023\n",
            "Максимальная ошибка активных молекул: 0.0203\n",
            "Средняя ошибка активных молекул: 0.00701959\n"
          ]
        }
      ]
    },
    {
      "cell_type": "markdown",
      "source": [
        "Я рассчитывал на то, что mse будет больше на активных молекулах, на которых сеть НЕ обучалась. Но по факту средняя ошибка на активных молекулах получилась практически одинаковая, чуть меньше. Активные => 0.0070, а неактивные => 0.0074"
      ],
      "metadata": {
        "id": "m2dHdHWUg9X0"
      }
    },
    {
      "cell_type": "code",
      "source": [
        "def getAccByBias(bias): # функция будет принимать какое то пороговое значение\n",
        "  isInactive = mse_Inactivel > bias # если ошибка больше порога - то неактивная\n",
        "  isActive = mse_Active < bias # если ошибка меньше порога - то активная\n",
        "\n",
        "  accInactive = sum(isInactive) / len(isInactive) # вычисляем процент неактивных\n",
        "  accActive = sum(isActive) / len(isActive) # вычисляем процент активных\n",
        "\n",
        "  print(\"Распознано неактивных молекул: \", round(100*accInactive), \"%\", sep=\"\")\n",
        "  print(\"Распознано активных молекул: \", round(100*accActive), \"%\", sep=\"\")\n",
        "  print(\"Средняя точность распознавания: \", round(50*(accInactive + accActive)), \"%\", sep=\"\")"
      ],
      "metadata": {
        "id": "n4lkewx5hm-U"
      },
      "execution_count": null,
      "outputs": []
    },
    {
      "cell_type": "code",
      "source": [
        "getAccByBias(0.007)"
      ],
      "metadata": {
        "colab": {
          "base_uri": "https://localhost:8080/"
        },
        "id": "cj34pusEhzga",
        "outputId": "0cddf2e3-ea20-41d9-ca37-e12966a8baa8"
      },
      "execution_count": null,
      "outputs": [
        {
          "output_type": "stream",
          "name": "stdout",
          "text": [
            "Распознано неактивных молекул: 51%\n",
            "Распознано активных молекул: 54%\n",
            "Средняя точность распознавания: 53%\n"
          ]
        }
      ]
    },
    {
      "cell_type": "markdown",
      "source": [
        "## Submit"
      ],
      "metadata": {
        "id": "X2VL4Aw0h6yy"
      }
    },
    {
      "cell_type": "code",
      "source": [
        "df_test = pd.read_csv('/content/test.csv', index_col = 0)\n",
        "df_test.head()"
      ],
      "metadata": {
        "colab": {
          "base_uri": "https://localhost:8080/",
          "height": 206
        },
        "id": "KIKfxILSiBx-",
        "outputId": "b8a672da-80e5-4091-d96c-964f4775dc35"
      },
      "execution_count": null,
      "outputs": [
        {
          "output_type": "execute_result",
          "data": {
            "text/html": [
              "\n",
              "  <div id=\"df-aa61233a-8646-467a-83fb-116d8ff49cb4\">\n",
              "    <div class=\"colab-df-container\">\n",
              "      <div>\n",
              "<style scoped>\n",
              "    .dataframe tbody tr th:only-of-type {\n",
              "        vertical-align: middle;\n",
              "    }\n",
              "\n",
              "    .dataframe tbody tr th {\n",
              "        vertical-align: top;\n",
              "    }\n",
              "\n",
              "    .dataframe thead th {\n",
              "        text-align: right;\n",
              "    }\n",
              "</style>\n",
              "<table border=\"1\" class=\"dataframe\">\n",
              "  <thead>\n",
              "    <tr style=\"text-align: right;\">\n",
              "      <th></th>\n",
              "      <th>Smiles</th>\n",
              "    </tr>\n",
              "  </thead>\n",
              "  <tbody>\n",
              "    <tr>\n",
              "      <th>0</th>\n",
              "      <td>COC(=O)Nc1ccc(-c2nc(N3CCOCC3)c3cnn(C4CCN(Cc5cc...</td>\n",
              "    </tr>\n",
              "    <tr>\n",
              "      <th>1</th>\n",
              "      <td>O=Cc1cn(Cc2ccc(Cl)cc2)c2ccccc12</td>\n",
              "    </tr>\n",
              "    <tr>\n",
              "      <th>2</th>\n",
              "      <td>NC(CO)C(=O)NNCc1ccc(O)c(O)c1O</td>\n",
              "    </tr>\n",
              "    <tr>\n",
              "      <th>3</th>\n",
              "      <td>Nc1nc(=O)n([C@H]2C[C@H](O)[C@@H](CO)O2)cc1Cl</td>\n",
              "    </tr>\n",
              "    <tr>\n",
              "      <th>4</th>\n",
              "      <td>Nc1ccc(C(=O)Nc2cccc(-c3nc(N4CCOCC4)c4oc5ncccc5...</td>\n",
              "    </tr>\n",
              "  </tbody>\n",
              "</table>\n",
              "</div>\n",
              "      <button class=\"colab-df-convert\" onclick=\"convertToInteractive('df-aa61233a-8646-467a-83fb-116d8ff49cb4')\"\n",
              "              title=\"Convert this dataframe to an interactive table.\"\n",
              "              style=\"display:none;\">\n",
              "        \n",
              "  <svg xmlns=\"http://www.w3.org/2000/svg\" height=\"24px\"viewBox=\"0 0 24 24\"\n",
              "       width=\"24px\">\n",
              "    <path d=\"M0 0h24v24H0V0z\" fill=\"none\"/>\n",
              "    <path d=\"M18.56 5.44l.94 2.06.94-2.06 2.06-.94-2.06-.94-.94-2.06-.94 2.06-2.06.94zm-11 1L8.5 8.5l.94-2.06 2.06-.94-2.06-.94L8.5 2.5l-.94 2.06-2.06.94zm10 10l.94 2.06.94-2.06 2.06-.94-2.06-.94-.94-2.06-.94 2.06-2.06.94z\"/><path d=\"M17.41 7.96l-1.37-1.37c-.4-.4-.92-.59-1.43-.59-.52 0-1.04.2-1.43.59L10.3 9.45l-7.72 7.72c-.78.78-.78 2.05 0 2.83L4 21.41c.39.39.9.59 1.41.59.51 0 1.02-.2 1.41-.59l7.78-7.78 2.81-2.81c.8-.78.8-2.07 0-2.86zM5.41 20L4 18.59l7.72-7.72 1.47 1.35L5.41 20z\"/>\n",
              "  </svg>\n",
              "      </button>\n",
              "      \n",
              "  <style>\n",
              "    .colab-df-container {\n",
              "      display:flex;\n",
              "      flex-wrap:wrap;\n",
              "      gap: 12px;\n",
              "    }\n",
              "\n",
              "    .colab-df-convert {\n",
              "      background-color: #E8F0FE;\n",
              "      border: none;\n",
              "      border-radius: 50%;\n",
              "      cursor: pointer;\n",
              "      display: none;\n",
              "      fill: #1967D2;\n",
              "      height: 32px;\n",
              "      padding: 0 0 0 0;\n",
              "      width: 32px;\n",
              "    }\n",
              "\n",
              "    .colab-df-convert:hover {\n",
              "      background-color: #E2EBFA;\n",
              "      box-shadow: 0px 1px 2px rgba(60, 64, 67, 0.3), 0px 1px 3px 1px rgba(60, 64, 67, 0.15);\n",
              "      fill: #174EA6;\n",
              "    }\n",
              "\n",
              "    [theme=dark] .colab-df-convert {\n",
              "      background-color: #3B4455;\n",
              "      fill: #D2E3FC;\n",
              "    }\n",
              "\n",
              "    [theme=dark] .colab-df-convert:hover {\n",
              "      background-color: #434B5C;\n",
              "      box-shadow: 0px 1px 3px 1px rgba(0, 0, 0, 0.15);\n",
              "      filter: drop-shadow(0px 1px 2px rgba(0, 0, 0, 0.3));\n",
              "      fill: #FFFFFF;\n",
              "    }\n",
              "  </style>\n",
              "\n",
              "      <script>\n",
              "        const buttonEl =\n",
              "          document.querySelector('#df-aa61233a-8646-467a-83fb-116d8ff49cb4 button.colab-df-convert');\n",
              "        buttonEl.style.display =\n",
              "          google.colab.kernel.accessAllowed ? 'block' : 'none';\n",
              "\n",
              "        async function convertToInteractive(key) {\n",
              "          const element = document.querySelector('#df-aa61233a-8646-467a-83fb-116d8ff49cb4');\n",
              "          const dataTable =\n",
              "            await google.colab.kernel.invokeFunction('convertToInteractive',\n",
              "                                                     [key], {});\n",
              "          if (!dataTable) return;\n",
              "\n",
              "          const docLinkHtml = 'Like what you see? Visit the ' +\n",
              "            '<a target=\"_blank\" href=https://colab.research.google.com/notebooks/data_table.ipynb>data table notebook</a>'\n",
              "            + ' to learn more about interactive tables.';\n",
              "          element.innerHTML = '';\n",
              "          dataTable['output_type'] = 'display_data';\n",
              "          await google.colab.output.renderOutput(dataTable, element);\n",
              "          const docLink = document.createElement('div');\n",
              "          docLink.innerHTML = docLinkHtml;\n",
              "          element.appendChild(docLink);\n",
              "        }\n",
              "      </script>\n",
              "    </div>\n",
              "  </div>\n",
              "  "
            ],
            "text/plain": [
              "                                              Smiles\n",
              "0  COC(=O)Nc1ccc(-c2nc(N3CCOCC3)c3cnn(C4CCN(Cc5cc...\n",
              "1                    O=Cc1cn(Cc2ccc(Cl)cc2)c2ccccc12\n",
              "2                      NC(CO)C(=O)NNCc1ccc(O)c(O)c1O\n",
              "3       Nc1nc(=O)n([C@H]2C[C@H](O)[C@@H](CO)O2)cc1Cl\n",
              "4  Nc1ccc(C(=O)Nc2cccc(-c3nc(N4CCOCC4)c4oc5ncccc5..."
            ]
          },
          "metadata": {},
          "execution_count": 407
        }
      ]
    },
    {
      "cell_type": "code",
      "source": [
        "# test\n",
        "test_smiles = []\n",
        "for i in df_test['Smiles']:\n",
        "  test_smiles.append(i)\n",
        "\n",
        "print('Длинна test_smiles:', len(test_smiles))\n",
        "print(\"Пример значения из test_smiles:\", test_smiles[1])"
      ],
      "metadata": {
        "colab": {
          "base_uri": "https://localhost:8080/"
        },
        "id": "2hUoukZ1nfV_",
        "outputId": "59ab3873-de1f-4035-da6e-2914e86fe2ab"
      },
      "execution_count": null,
      "outputs": [
        {
          "output_type": "stream",
          "name": "stdout",
          "text": [
            "Длинна test_smiles: 1614\n",
            "Пример значения из test_smiles: O=Cc1cn(Cc2ccc(Cl)cc2)c2ccccc12\n"
          ]
        }
      ]
    },
    {
      "cell_type": "code",
      "source": [
        "test = []\n",
        "for i in test_smiles:\n",
        "  sm = get_morgan_fingerprint(i)  # получаю вектор из smiles\n",
        "  test.append(sm)\n",
        "test = np.array(test)             # преобразую в numpy\n",
        "test.shape"
      ],
      "metadata": {
        "colab": {
          "base_uri": "https://localhost:8080/"
        },
        "id": "Eo-LBmZJnlzH",
        "outputId": "b8d9e0db-3b9e-4e5b-ccf7-bae1521681a6"
      },
      "execution_count": null,
      "outputs": [
        {
          "output_type": "execute_result",
          "data": {
            "text/plain": [
              "(1614, 16384)"
            ]
          },
          "metadata": {},
          "execution_count": 409
        }
      ]
    },
    {
      "cell_type": "code",
      "source": [
        "predictions_test = model.predict(test) # делаем предсказание"
      ],
      "metadata": {
        "id": "WCgNAtZ1nq_A"
      },
      "execution_count": null,
      "outputs": []
    },
    {
      "cell_type": "code",
      "source": [
        "mse_test = np.mean(np.power(test - predictions_test, 2), axis=1)\n",
        "\n",
        "print(\"Минимальная ошибка молекул:\", round(min(mse_test),4)) #\n",
        "print(\"Максимальная ошибка молекул:\", round(max(mse_test),4)) #\n",
        "print(\"Средняя ошибка молекул:\", round(sum(mse_test) / len(mse_test),8)) # среднюю ошибку"
      ],
      "metadata": {
        "colab": {
          "base_uri": "https://localhost:8080/"
        },
        "id": "lk-rjftfn4KT",
        "outputId": "950232d2-cdeb-4617-cfe1-7be62bccf9f0"
      },
      "execution_count": null,
      "outputs": [
        {
          "output_type": "stream",
          "name": "stdout",
          "text": [
            "Минимальная ошибка молекул: 0.0009\n",
            "Максимальная ошибка молекул: 0.9688\n",
            "Средняя ошибка молекул: 0.35042097\n"
          ]
        }
      ]
    },
    {
      "cell_type": "code",
      "source": [
        "mse_test.shape"
      ],
      "metadata": {
        "colab": {
          "base_uri": "https://localhost:8080/"
        },
        "id": "GPK19t2CoB4D",
        "outputId": "e76e6365-5402-41e9-f97c-ea3cabad5a7d"
      },
      "execution_count": null,
      "outputs": [
        {
          "output_type": "execute_result",
          "data": {
            "text/plain": [
              "(1614,)"
            ]
          },
          "metadata": {},
          "execution_count": 412
        }
      ]
    },
    {
      "cell_type": "code",
      "source": [
        "# Формирую табличку \n",
        "submission = df_test\n",
        "submission['Active'] = ''\n",
        "\n",
        "for i in range(len(mse_test)):\n",
        "  if mse_test[i] >= 0.7:\n",
        "    submission['Active'].values[i] = 1\n",
        "  else:\n",
        "    submission['Active'].values[i] = 0"
      ],
      "metadata": {
        "id": "kYqNq0vIoD5_"
      },
      "execution_count": null,
      "outputs": []
    },
    {
      "cell_type": "code",
      "source": [
        "submission"
      ],
      "metadata": {
        "colab": {
          "base_uri": "https://localhost:8080/",
          "height": 424
        },
        "id": "uP9ugUZSppLV",
        "outputId": "e77ea080-6baa-4aeb-bb82-41aa4719e253"
      },
      "execution_count": null,
      "outputs": [
        {
          "output_type": "execute_result",
          "data": {
            "text/html": [
              "\n",
              "  <div id=\"df-86f7ba17-c235-44d3-a02b-ebc7c1cd6b08\">\n",
              "    <div class=\"colab-df-container\">\n",
              "      <div>\n",
              "<style scoped>\n",
              "    .dataframe tbody tr th:only-of-type {\n",
              "        vertical-align: middle;\n",
              "    }\n",
              "\n",
              "    .dataframe tbody tr th {\n",
              "        vertical-align: top;\n",
              "    }\n",
              "\n",
              "    .dataframe thead th {\n",
              "        text-align: right;\n",
              "    }\n",
              "</style>\n",
              "<table border=\"1\" class=\"dataframe\">\n",
              "  <thead>\n",
              "    <tr style=\"text-align: right;\">\n",
              "      <th></th>\n",
              "      <th>Smiles</th>\n",
              "      <th>Active</th>\n",
              "    </tr>\n",
              "  </thead>\n",
              "  <tbody>\n",
              "    <tr>\n",
              "      <th>0</th>\n",
              "      <td>COC(=O)Nc1ccc(-c2nc(N3CCOCC3)c3cnn(C4CCN(Cc5cc...</td>\n",
              "      <td>0</td>\n",
              "    </tr>\n",
              "    <tr>\n",
              "      <th>1</th>\n",
              "      <td>O=Cc1cn(Cc2ccc(Cl)cc2)c2ccccc12</td>\n",
              "      <td>0</td>\n",
              "    </tr>\n",
              "    <tr>\n",
              "      <th>2</th>\n",
              "      <td>NC(CO)C(=O)NNCc1ccc(O)c(O)c1O</td>\n",
              "      <td>1</td>\n",
              "    </tr>\n",
              "    <tr>\n",
              "      <th>3</th>\n",
              "      <td>Nc1nc(=O)n([C@H]2C[C@H](O)[C@@H](CO)O2)cc1Cl</td>\n",
              "      <td>0</td>\n",
              "    </tr>\n",
              "    <tr>\n",
              "      <th>4</th>\n",
              "      <td>Nc1ccc(C(=O)Nc2cccc(-c3nc(N4CCOCC4)c4oc5ncccc5...</td>\n",
              "      <td>0</td>\n",
              "    </tr>\n",
              "    <tr>\n",
              "      <th>...</th>\n",
              "      <td>...</td>\n",
              "      <td>...</td>\n",
              "    </tr>\n",
              "    <tr>\n",
              "      <th>1609</th>\n",
              "      <td>NS(=O)(=O)c1cc2c(cc1Cl)NC(C1CC3C=CC1C3)NS2(=O)=O</td>\n",
              "      <td>0</td>\n",
              "    </tr>\n",
              "    <tr>\n",
              "      <th>1610</th>\n",
              "      <td>Cc1cccc(Nc2ccncc2S(=O)(=O)NC(=O)NC(C)C)c1</td>\n",
              "      <td>0</td>\n",
              "    </tr>\n",
              "    <tr>\n",
              "      <th>1611</th>\n",
              "      <td>CCCC(=O)O[C@]1(C(=O)CO)CC[C@H]2[C@@H]3CCC4=CC(...</td>\n",
              "      <td>0</td>\n",
              "    </tr>\n",
              "    <tr>\n",
              "      <th>1612</th>\n",
              "      <td>CN(C)c1cccc(Oc2cnc(Nc3cccc(O)c3)nc2)c1</td>\n",
              "      <td>0</td>\n",
              "    </tr>\n",
              "    <tr>\n",
              "      <th>1613</th>\n",
              "      <td>O=C(O)c1ccccc1-c1c2ccc(=O)cc-2oc2cc(O)ccc12</td>\n",
              "      <td>1</td>\n",
              "    </tr>\n",
              "  </tbody>\n",
              "</table>\n",
              "<p>1614 rows × 2 columns</p>\n",
              "</div>\n",
              "      <button class=\"colab-df-convert\" onclick=\"convertToInteractive('df-86f7ba17-c235-44d3-a02b-ebc7c1cd6b08')\"\n",
              "              title=\"Convert this dataframe to an interactive table.\"\n",
              "              style=\"display:none;\">\n",
              "        \n",
              "  <svg xmlns=\"http://www.w3.org/2000/svg\" height=\"24px\"viewBox=\"0 0 24 24\"\n",
              "       width=\"24px\">\n",
              "    <path d=\"M0 0h24v24H0V0z\" fill=\"none\"/>\n",
              "    <path d=\"M18.56 5.44l.94 2.06.94-2.06 2.06-.94-2.06-.94-.94-2.06-.94 2.06-2.06.94zm-11 1L8.5 8.5l.94-2.06 2.06-.94-2.06-.94L8.5 2.5l-.94 2.06-2.06.94zm10 10l.94 2.06.94-2.06 2.06-.94-2.06-.94-.94-2.06-.94 2.06-2.06.94z\"/><path d=\"M17.41 7.96l-1.37-1.37c-.4-.4-.92-.59-1.43-.59-.52 0-1.04.2-1.43.59L10.3 9.45l-7.72 7.72c-.78.78-.78 2.05 0 2.83L4 21.41c.39.39.9.59 1.41.59.51 0 1.02-.2 1.41-.59l7.78-7.78 2.81-2.81c.8-.78.8-2.07 0-2.86zM5.41 20L4 18.59l7.72-7.72 1.47 1.35L5.41 20z\"/>\n",
              "  </svg>\n",
              "      </button>\n",
              "      \n",
              "  <style>\n",
              "    .colab-df-container {\n",
              "      display:flex;\n",
              "      flex-wrap:wrap;\n",
              "      gap: 12px;\n",
              "    }\n",
              "\n",
              "    .colab-df-convert {\n",
              "      background-color: #E8F0FE;\n",
              "      border: none;\n",
              "      border-radius: 50%;\n",
              "      cursor: pointer;\n",
              "      display: none;\n",
              "      fill: #1967D2;\n",
              "      height: 32px;\n",
              "      padding: 0 0 0 0;\n",
              "      width: 32px;\n",
              "    }\n",
              "\n",
              "    .colab-df-convert:hover {\n",
              "      background-color: #E2EBFA;\n",
              "      box-shadow: 0px 1px 2px rgba(60, 64, 67, 0.3), 0px 1px 3px 1px rgba(60, 64, 67, 0.15);\n",
              "      fill: #174EA6;\n",
              "    }\n",
              "\n",
              "    [theme=dark] .colab-df-convert {\n",
              "      background-color: #3B4455;\n",
              "      fill: #D2E3FC;\n",
              "    }\n",
              "\n",
              "    [theme=dark] .colab-df-convert:hover {\n",
              "      background-color: #434B5C;\n",
              "      box-shadow: 0px 1px 3px 1px rgba(0, 0, 0, 0.15);\n",
              "      filter: drop-shadow(0px 1px 2px rgba(0, 0, 0, 0.3));\n",
              "      fill: #FFFFFF;\n",
              "    }\n",
              "  </style>\n",
              "\n",
              "      <script>\n",
              "        const buttonEl =\n",
              "          document.querySelector('#df-86f7ba17-c235-44d3-a02b-ebc7c1cd6b08 button.colab-df-convert');\n",
              "        buttonEl.style.display =\n",
              "          google.colab.kernel.accessAllowed ? 'block' : 'none';\n",
              "\n",
              "        async function convertToInteractive(key) {\n",
              "          const element = document.querySelector('#df-86f7ba17-c235-44d3-a02b-ebc7c1cd6b08');\n",
              "          const dataTable =\n",
              "            await google.colab.kernel.invokeFunction('convertToInteractive',\n",
              "                                                     [key], {});\n",
              "          if (!dataTable) return;\n",
              "\n",
              "          const docLinkHtml = 'Like what you see? Visit the ' +\n",
              "            '<a target=\"_blank\" href=https://colab.research.google.com/notebooks/data_table.ipynb>data table notebook</a>'\n",
              "            + ' to learn more about interactive tables.';\n",
              "          element.innerHTML = '';\n",
              "          dataTable['output_type'] = 'display_data';\n",
              "          await google.colab.output.renderOutput(dataTable, element);\n",
              "          const docLink = document.createElement('div');\n",
              "          docLink.innerHTML = docLinkHtml;\n",
              "          element.appendChild(docLink);\n",
              "        }\n",
              "      </script>\n",
              "    </div>\n",
              "  </div>\n",
              "  "
            ],
            "text/plain": [
              "                                                 Smiles Active\n",
              "0     COC(=O)Nc1ccc(-c2nc(N3CCOCC3)c3cnn(C4CCN(Cc5cc...      0\n",
              "1                       O=Cc1cn(Cc2ccc(Cl)cc2)c2ccccc12      0\n",
              "2                         NC(CO)C(=O)NNCc1ccc(O)c(O)c1O      1\n",
              "3          Nc1nc(=O)n([C@H]2C[C@H](O)[C@@H](CO)O2)cc1Cl      0\n",
              "4     Nc1ccc(C(=O)Nc2cccc(-c3nc(N4CCOCC4)c4oc5ncccc5...      0\n",
              "...                                                 ...    ...\n",
              "1609   NS(=O)(=O)c1cc2c(cc1Cl)NC(C1CC3C=CC1C3)NS2(=O)=O      0\n",
              "1610          Cc1cccc(Nc2ccncc2S(=O)(=O)NC(=O)NC(C)C)c1      0\n",
              "1611  CCCC(=O)O[C@]1(C(=O)CO)CC[C@H]2[C@@H]3CCC4=CC(...      0\n",
              "1612             CN(C)c1cccc(Oc2cnc(Nc3cccc(O)c3)nc2)c1      0\n",
              "1613        O=C(O)c1ccccc1-c1c2ccc(=O)cc-2oc2cc(O)ccc12      1\n",
              "\n",
              "[1614 rows x 2 columns]"
            ]
          },
          "metadata": {},
          "execution_count": 414
        }
      ]
    },
    {
      "cell_type": "code",
      "source": [
        "submission.to_csv('submission.csv', index=False)"
      ],
      "metadata": {
        "id": "mVxy4Ik-pxA2"
      },
      "execution_count": null,
      "outputs": []
    },
    {
      "cell_type": "code",
      "source": [
        "# соберу в функцию\n",
        "\n",
        "def submission(df_test, bias):\n",
        "\n",
        "  test_smiles = []\n",
        "  for i in df_test['Smiles']:\n",
        "    test_smiles.append(i)\n",
        "\n",
        "  test = []\n",
        "  for i in test_smiles:\n",
        "    sm = get_morgan_fingerprint(i)  # получаю вектор из smiles\n",
        "    test.append(sm)\n",
        "  test = np.array(test)             # преобразую в numpy\n",
        "  \n",
        "  predictions_test = model.predict(test) # делаем предсказание\n",
        "  \n",
        "  mse_test = np.mean(np.power(test - predictions_test, 2), axis=1)\n",
        "\n",
        "  # Формирую табличку \n",
        "  submission = df_test\n",
        "  submission['Active'] = ''\n",
        "  \n",
        "  for i in range(len(mse_test)):\n",
        "    if mse_test[i] >= bias:\n",
        "      submission['Active'].values[i] = 0\n",
        "    else:\n",
        "      submission['Active'].values[i] = 1\n",
        "  \n",
        "  submission.to_csv('submission.csv', index=False)\n",
        "\n",
        "   \n",
        "  print('Длинна test_smiles:', len(test_smiles))\n",
        "  print(\"Пример значения из test_smiles:\", test_smiles[1])\n",
        "  print(\"Минимальная ошибка молекул:\", round(min(mse_test),4)) #\n",
        "  print(\"Максимальная ошибка молекул:\", round(max(mse_test),4)) #\n",
        "  print(\"Средняя ошибка молекул:\", round(sum(mse_test) / len(mse_test),8)) # среднюю ошибку\n",
        "\n",
        "  return submission\n"
      ],
      "metadata": {
        "id": "qFuI3t0P0Rd2"
      },
      "execution_count": null,
      "outputs": []
    },
    {
      "cell_type": "markdown",
      "source": [
        "##**Свертка Conv2D + Dense**"
      ],
      "metadata": {
        "id": "SZjH8R72p-Wy"
      }
    },
    {
      "cell_type": "code",
      "source": [
        "X_train.shape, X_test.shape, smal_active.shape"
      ],
      "metadata": {
        "colab": {
          "base_uri": "https://localhost:8080/"
        },
        "id": "QpgcHoHhqFCw",
        "outputId": "8ff371e8-60a0-4139-adbf-d2ea09a5e0d3"
      },
      "execution_count": null,
      "outputs": [
        {
          "output_type": "execute_result",
          "data": {
            "text/plain": [
              "((4280, 1024), (1277, 1024), (206, 1024))"
            ]
          },
          "metadata": {},
          "execution_count": 30
        }
      ]
    },
    {
      "cell_type": "code",
      "source": [
        "def Autoencoder_Conv2D(): \n",
        "    img_input = Input(shape=(1024,)) \n",
        "\n",
        "    x = Reshape((32,32,1))(img_input)\n",
        "\n",
        "    x = Conv2D(32, (3, 3), strides=2, activation='relu', padding='same')(x)\n",
        "    x = Conv2D(64, (3, 3), strides=2, activation='relu', padding='same')(x)\n",
        "    x = Conv2D(128, (3, 3), strides=2, activation='relu', padding='same')(x)\n",
        "    x = Conv2D(256, (3, 3), strides=2, activation='relu', padding='same')(x)\n",
        "    x = Flatten()(x) # сплющиваем в одномерный вектор - размер 4*4*256\n",
        "    z = Dense(256, activation='relu')(x) # добавляем полносвязный слой\n",
        "    x = Dense(4*4*256, activation='relu')(z) # и еще полносвязный слой\n",
        "    x = Reshape((4,4,256))(x) # меняем размеры - картинка 4*4 , 256 ядер\n",
        "    x = Conv2DTranspose(256, (3, 3), strides=2, padding='same')(x) \n",
        "    x = Conv2DTranspose(128, (3, 3), strides=2, padding='same')(x) \n",
        "    x = Conv2DTranspose(64, (3, 3), strides=2, padding='same')(x) \n",
        "    x = Conv2DTranspose(32, (3, 3), strides=2, padding='same')(x) \n",
        "    x = Conv2D(1, (3, 3), activation='relu', padding='same')(x) \n",
        "    x = Flatten()(x) # выпрямляю в вектор\n",
        "\n",
        "    x = Dense(1024, activation='sigmoid')(x) # последний слой\n",
        "\n",
        "    model = Model(img_input, x) \n",
        "    model.compile(optimizer='adam',\n",
        "                  loss='mse') \n",
        "\n",
        "    return model "
      ],
      "metadata": {
        "id": "Q1z7zF-UqT_Y"
      },
      "execution_count": null,
      "outputs": []
    },
    {
      "cell_type": "code",
      "source": [
        "model_Conv2D = Autoencoder_Conv2D()\n",
        "model_Conv2D.summary()"
      ],
      "metadata": {
        "colab": {
          "base_uri": "https://localhost:8080/"
        },
        "id": "zM8-LLXLqqQc",
        "outputId": "a0038254-4494-4392-c825-10bad6552170"
      },
      "execution_count": null,
      "outputs": [
        {
          "output_type": "stream",
          "name": "stdout",
          "text": [
            "Model: \"model_1\"\n",
            "_________________________________________________________________\n",
            " Layer (type)                Output Shape              Param #   \n",
            "=================================================================\n",
            " input_2 (InputLayer)        [(None, 1024)]            0         \n",
            "                                                                 \n",
            " reshape (Reshape)           (None, 32, 32, 1)         0         \n",
            "                                                                 \n",
            " conv2d (Conv2D)             (None, 16, 16, 32)        320       \n",
            "                                                                 \n",
            " conv2d_1 (Conv2D)           (None, 8, 8, 64)          18496     \n",
            "                                                                 \n",
            " conv2d_2 (Conv2D)           (None, 4, 4, 128)         73856     \n",
            "                                                                 \n",
            " conv2d_3 (Conv2D)           (None, 2, 2, 256)         295168    \n",
            "                                                                 \n",
            " flatten (Flatten)           (None, 1024)              0         \n",
            "                                                                 \n",
            " dense_2 (Dense)             (None, 256)               262400    \n",
            "                                                                 \n",
            " dense_3 (Dense)             (None, 4096)              1052672   \n",
            "                                                                 \n",
            " reshape_1 (Reshape)         (None, 4, 4, 256)         0         \n",
            "                                                                 \n",
            " conv2d_transpose (Conv2DTra  (None, 8, 8, 256)        590080    \n",
            " nspose)                                                         \n",
            "                                                                 \n",
            " conv2d_transpose_1 (Conv2DT  (None, 16, 16, 128)      295040    \n",
            " ranspose)                                                       \n",
            "                                                                 \n",
            " conv2d_transpose_2 (Conv2DT  (None, 32, 32, 64)       73792     \n",
            " ranspose)                                                       \n",
            "                                                                 \n",
            " conv2d_transpose_3 (Conv2DT  (None, 64, 64, 32)       18464     \n",
            " ranspose)                                                       \n",
            "                                                                 \n",
            " conv2d_4 (Conv2D)           (None, 64, 64, 1)         289       \n",
            "                                                                 \n",
            " flatten_1 (Flatten)         (None, 4096)              0         \n",
            "                                                                 \n",
            " dense_4 (Dense)             (None, 1024)              4195328   \n",
            "                                                                 \n",
            "=================================================================\n",
            "Total params: 6,875,905\n",
            "Trainable params: 6,875,905\n",
            "Non-trainable params: 0\n",
            "_________________________________________________________________\n"
          ]
        }
      ]
    },
    {
      "cell_type": "code",
      "source": [
        "model_Conv2D = Autoencoder_Conv2D()\n",
        "\n",
        "history = model_Conv2D.fit(X_train, X_train, epochs=10, batch_size=16) "
      ],
      "metadata": {
        "colab": {
          "base_uri": "https://localhost:8080/"
        },
        "id": "T90n8cUZqwjK",
        "outputId": "82ed39e1-bd39-48df-8675-283738cd552c"
      },
      "execution_count": null,
      "outputs": [
        {
          "output_type": "stream",
          "name": "stdout",
          "text": [
            "Epoch 1/10\n",
            "268/268 [==============================] - 18s 22ms/step - loss: 0.2192\n",
            "Epoch 2/10\n",
            "268/268 [==============================] - 6s 21ms/step - loss: 0.1665\n",
            "Epoch 3/10\n",
            "268/268 [==============================] - 6s 21ms/step - loss: 0.1265\n",
            "Epoch 4/10\n",
            "268/268 [==============================] - 6s 21ms/step - loss: 0.0969\n",
            "Epoch 5/10\n",
            "268/268 [==============================] - 6s 21ms/step - loss: 0.0753\n",
            "Epoch 6/10\n",
            "268/268 [==============================] - 6s 21ms/step - loss: 0.0594\n",
            "Epoch 7/10\n",
            "268/268 [==============================] - 6s 21ms/step - loss: 0.0476\n",
            "Epoch 8/10\n",
            "268/268 [==============================] - 6s 21ms/step - loss: 0.0387\n",
            "Epoch 9/10\n",
            "268/268 [==============================] - 6s 21ms/step - loss: 0.0320\n",
            "Epoch 10/10\n",
            "268/268 [==============================] - 6s 21ms/step - loss: 0.0267\n"
          ]
        }
      ]
    },
    {
      "cell_type": "markdown",
      "source": [
        "**Проверка**"
      ],
      "metadata": {
        "id": "15BpbuiytA43"
      }
    },
    {
      "cell_type": "code",
      "source": [
        "predictions = model_Conv2D.predict(X_test) # делаем предсказание по X_test на неактивных и активных молекулах\n",
        "predictions.shape"
      ],
      "metadata": {
        "colab": {
          "base_uri": "https://localhost:8080/"
        },
        "id": "_AKmOHxesaZl",
        "outputId": "d2b2ac0e-23e6-45d5-d1d6-f8293d8a14d7"
      },
      "execution_count": null,
      "outputs": [
        {
          "output_type": "execute_result",
          "data": {
            "text/plain": [
              "(1277, 1024)"
            ]
          },
          "metadata": {},
          "execution_count": 35
        }
      ]
    },
    {
      "cell_type": "code",
      "source": [
        "# считаю mse\n",
        "mse = np.mean(np.power(X_test - predictions, 2), axis=1)\n",
        "\n",
        "mse_Inactivel = mse[:1071] # неактивные. Так как при concatenate X_test и smal_activeдо 1071 были неактивные, а после 1071 активные.\n",
        "mse_Active = mse[1071:] # активные\n",
        "\n",
        "# размеры\n",
        "print(mse_Inactivel.shape)\n",
        "print(mse_Active.shape)"
      ],
      "metadata": {
        "colab": {
          "base_uri": "https://localhost:8080/"
        },
        "id": "ILZo26zpsjlf",
        "outputId": "1012a855-5f15-4067-9e22-5a0f7ec094fb"
      },
      "execution_count": null,
      "outputs": [
        {
          "output_type": "stream",
          "name": "stdout",
          "text": [
            "(1071,)\n",
            "(206,)\n"
          ]
        }
      ]
    },
    {
      "cell_type": "code",
      "source": [
        "print(\"Минимальная ошибка неактивных молекул:\", round(min(mse_Inactivel),4)) #\n",
        "print(\"Максимальная ошибка неактивных молекул:\", round(max(mse_Inactivel),4)) #\n",
        "print(\"Средняя ошибка неактивных молекул:\", round(sum(mse_Inactivel) / len(mse_Inactivel),8)) # средняя ошибка\n",
        "print()\n",
        "print(\"Минимальная ошибка активных молекул:\", round(min(mse_Active),4)) #\n",
        "print(\"Максимальная ошибка активных молекул:\", round(max(mse_Active),4)) #\n",
        "print(\"Средняя ошибка активных молекул:\", round(sum(mse_Active) / len(mse_Active),8)) # средняя ошибка"
      ],
      "metadata": {
        "colab": {
          "base_uri": "https://localhost:8080/"
        },
        "id": "1no-4qBPsySo",
        "outputId": "b11e218d-abd3-4d0d-e266-42b4c759e789"
      },
      "execution_count": null,
      "outputs": [
        {
          "output_type": "stream",
          "name": "stdout",
          "text": [
            "Минимальная ошибка неактивных молекул: 0.0227\n",
            "Максимальная ошибка неактивных молекул: 0.0314\n",
            "Средняя ошибка неактивных молекул: 0.02456381\n",
            "\n",
            "Минимальная ошибка активных молекул: 0.0227\n",
            "Максимальная ошибка активных молекул: 0.0284\n",
            "Средняя ошибка активных молекул: 0.02491298\n"
          ]
        }
      ]
    },
    {
      "cell_type": "code",
      "source": [
        "def getAccByBias(bias): # функция будет принимать какое то пороговое значение\n",
        "  isInactive = mse_Inactivel < bias # если ошибка больше порога - то неактивная\n",
        "  isActive = mse_Active > bias # если ошибка меньше порога - то активная\n",
        "\n",
        "  accInactive = sum(isInactive) / len(isInactive) # вычисляем процент неактивных\n",
        "  accActive = sum(isActive) / len(isActive) # вычисляем процент активных\n",
        "\n",
        "  print(\"Распознано неактивных молекул: \", round(100*accInactive), \"%\", sep=\"\")\n",
        "  print(\"Распознано активных молекул: \", round(100*accActive), \"%\", sep=\"\")\n",
        "  print(\"Средняя точность распознавания: \", round(50*(accInactive + accActive)), \"%\", sep=\"\")"
      ],
      "metadata": {
        "id": "zhCzZCtHtDnV"
      },
      "execution_count": null,
      "outputs": []
    },
    {
      "cell_type": "code",
      "source": [
        "getAccByBias(0.0249)"
      ],
      "metadata": {
        "colab": {
          "base_uri": "https://localhost:8080/"
        },
        "id": "MV9_tu8QtGtc",
        "outputId": "0499c501-381a-45f4-9cf6-4d852c8ba037"
      },
      "execution_count": null,
      "outputs": [
        {
          "output_type": "stream",
          "name": "stdout",
          "text": [
            "Распознано неактивных молекул: 65%\n",
            "Распознано активных молекул: 46%\n",
            "Средняя точность распознавания: 56%\n"
          ]
        }
      ]
    },
    {
      "cell_type": "markdown",
      "source": [
        "##**По-другому токенезирую, Bag Of Words**"
      ],
      "metadata": {
        "id": "SEGLIn7ItkuQ"
      }
    },
    {
      "cell_type": "code",
      "source": [
        "# загружаю датасет\n",
        "df_train_new = pd.read_csv('/content/train.csv', index_col = 0)\n",
        "df_train_new.head()"
      ],
      "metadata": {
        "colab": {
          "base_uri": "https://localhost:8080/",
          "height": 206
        },
        "id": "k0Bq6kgqtrCH",
        "outputId": "4aff9cfa-0769-4d85-c01e-667076fbdc6c"
      },
      "execution_count": null,
      "outputs": [
        {
          "output_type": "execute_result",
          "data": {
            "text/html": [
              "\n",
              "  <div id=\"df-cf758c54-4cf5-4e61-a1fb-d2f1fb4b2686\">\n",
              "    <div class=\"colab-df-container\">\n",
              "      <div>\n",
              "<style scoped>\n",
              "    .dataframe tbody tr th:only-of-type {\n",
              "        vertical-align: middle;\n",
              "    }\n",
              "\n",
              "    .dataframe tbody tr th {\n",
              "        vertical-align: top;\n",
              "    }\n",
              "\n",
              "    .dataframe thead th {\n",
              "        text-align: right;\n",
              "    }\n",
              "</style>\n",
              "<table border=\"1\" class=\"dataframe\">\n",
              "  <thead>\n",
              "    <tr style=\"text-align: right;\">\n",
              "      <th></th>\n",
              "      <th>Smiles</th>\n",
              "      <th>Active</th>\n",
              "    </tr>\n",
              "  </thead>\n",
              "  <tbody>\n",
              "    <tr>\n",
              "      <th>0</th>\n",
              "      <td>COc1ccc2[nH]cc(CCN)c2c1</td>\n",
              "      <td>False</td>\n",
              "    </tr>\n",
              "    <tr>\n",
              "      <th>1</th>\n",
              "      <td>CCCN1CCC[C@H](c2cccc(O)c2)C1.Cl</td>\n",
              "      <td>False</td>\n",
              "    </tr>\n",
              "    <tr>\n",
              "      <th>2</th>\n",
              "      <td>O=C(NO)c1cnc(N2CCN(S(=O)(=O)c3ccc4ccccc4c3)CC2...</td>\n",
              "      <td>False</td>\n",
              "    </tr>\n",
              "    <tr>\n",
              "      <th>3</th>\n",
              "      <td>Nc1cccc(CNC(=O)c2ccc(Oc3ccc(OCc4cccc(F)c4)cc3)...</td>\n",
              "      <td>False</td>\n",
              "    </tr>\n",
              "    <tr>\n",
              "      <th>4</th>\n",
              "      <td>Fc1ccccc1CNCc1ccc(-c2ccnc3[nH]ccc23)cc1</td>\n",
              "      <td>False</td>\n",
              "    </tr>\n",
              "  </tbody>\n",
              "</table>\n",
              "</div>\n",
              "      <button class=\"colab-df-convert\" onclick=\"convertToInteractive('df-cf758c54-4cf5-4e61-a1fb-d2f1fb4b2686')\"\n",
              "              title=\"Convert this dataframe to an interactive table.\"\n",
              "              style=\"display:none;\">\n",
              "        \n",
              "  <svg xmlns=\"http://www.w3.org/2000/svg\" height=\"24px\"viewBox=\"0 0 24 24\"\n",
              "       width=\"24px\">\n",
              "    <path d=\"M0 0h24v24H0V0z\" fill=\"none\"/>\n",
              "    <path d=\"M18.56 5.44l.94 2.06.94-2.06 2.06-.94-2.06-.94-.94-2.06-.94 2.06-2.06.94zm-11 1L8.5 8.5l.94-2.06 2.06-.94-2.06-.94L8.5 2.5l-.94 2.06-2.06.94zm10 10l.94 2.06.94-2.06 2.06-.94-2.06-.94-.94-2.06-.94 2.06-2.06.94z\"/><path d=\"M17.41 7.96l-1.37-1.37c-.4-.4-.92-.59-1.43-.59-.52 0-1.04.2-1.43.59L10.3 9.45l-7.72 7.72c-.78.78-.78 2.05 0 2.83L4 21.41c.39.39.9.59 1.41.59.51 0 1.02-.2 1.41-.59l7.78-7.78 2.81-2.81c.8-.78.8-2.07 0-2.86zM5.41 20L4 18.59l7.72-7.72 1.47 1.35L5.41 20z\"/>\n",
              "  </svg>\n",
              "      </button>\n",
              "      \n",
              "  <style>\n",
              "    .colab-df-container {\n",
              "      display:flex;\n",
              "      flex-wrap:wrap;\n",
              "      gap: 12px;\n",
              "    }\n",
              "\n",
              "    .colab-df-convert {\n",
              "      background-color: #E8F0FE;\n",
              "      border: none;\n",
              "      border-radius: 50%;\n",
              "      cursor: pointer;\n",
              "      display: none;\n",
              "      fill: #1967D2;\n",
              "      height: 32px;\n",
              "      padding: 0 0 0 0;\n",
              "      width: 32px;\n",
              "    }\n",
              "\n",
              "    .colab-df-convert:hover {\n",
              "      background-color: #E2EBFA;\n",
              "      box-shadow: 0px 1px 2px rgba(60, 64, 67, 0.3), 0px 1px 3px 1px rgba(60, 64, 67, 0.15);\n",
              "      fill: #174EA6;\n",
              "    }\n",
              "\n",
              "    [theme=dark] .colab-df-convert {\n",
              "      background-color: #3B4455;\n",
              "      fill: #D2E3FC;\n",
              "    }\n",
              "\n",
              "    [theme=dark] .colab-df-convert:hover {\n",
              "      background-color: #434B5C;\n",
              "      box-shadow: 0px 1px 3px 1px rgba(0, 0, 0, 0.15);\n",
              "      filter: drop-shadow(0px 1px 2px rgba(0, 0, 0, 0.3));\n",
              "      fill: #FFFFFF;\n",
              "    }\n",
              "  </style>\n",
              "\n",
              "      <script>\n",
              "        const buttonEl =\n",
              "          document.querySelector('#df-cf758c54-4cf5-4e61-a1fb-d2f1fb4b2686 button.colab-df-convert');\n",
              "        buttonEl.style.display =\n",
              "          google.colab.kernel.accessAllowed ? 'block' : 'none';\n",
              "\n",
              "        async function convertToInteractive(key) {\n",
              "          const element = document.querySelector('#df-cf758c54-4cf5-4e61-a1fb-d2f1fb4b2686');\n",
              "          const dataTable =\n",
              "            await google.colab.kernel.invokeFunction('convertToInteractive',\n",
              "                                                     [key], {});\n",
              "          if (!dataTable) return;\n",
              "\n",
              "          const docLinkHtml = 'Like what you see? Visit the ' +\n",
              "            '<a target=\"_blank\" href=https://colab.research.google.com/notebooks/data_table.ipynb>data table notebook</a>'\n",
              "            + ' to learn more about interactive tables.';\n",
              "          element.innerHTML = '';\n",
              "          dataTable['output_type'] = 'display_data';\n",
              "          await google.colab.output.renderOutput(dataTable, element);\n",
              "          const docLink = document.createElement('div');\n",
              "          docLink.innerHTML = docLinkHtml;\n",
              "          element.appendChild(docLink);\n",
              "        }\n",
              "      </script>\n",
              "    </div>\n",
              "  </div>\n",
              "  "
            ],
            "text/plain": [
              "                                              Smiles  Active\n",
              "0                            COc1ccc2[nH]cc(CCN)c2c1   False\n",
              "1                    CCCN1CCC[C@H](c2cccc(O)c2)C1.Cl   False\n",
              "2  O=C(NO)c1cnc(N2CCN(S(=O)(=O)c3ccc4ccccc4c3)CC2...   False\n",
              "3  Nc1cccc(CNC(=O)c2ccc(Oc3ccc(OCc4cccc(F)c4)cc3)...   False\n",
              "4            Fc1ccccc1CNCc1ccc(-c2ccnc3[nH]ccc23)cc1   False"
            ]
          },
          "metadata": {},
          "execution_count": 214
        }
      ]
    },
    {
      "cell_type": "code",
      "source": [
        "# df активные молекулы\n",
        "df_train_True = df_train_new[df_train_new.Active==True]\n",
        "\n",
        "# df неактивные молекулы\n",
        "df_train_False = df_train_new[df_train_new.Active==False]"
      ],
      "metadata": {
        "id": "0t7WycXgt28U"
      },
      "execution_count": null,
      "outputs": []
    },
    {
      "cell_type": "code",
      "source": [
        "# собираю значения Smiles неактивных молекул в лист\n",
        "s_inactive = []\n",
        "for i in df_train_False['Smiles']:\n",
        "  s_inactive.append(i)\n",
        "\n",
        "print('Длинна s_inactive:', len(s_inactive))\n",
        "print(\"Пример значения из s_inactive:\", s_inactive[1])"
      ],
      "metadata": {
        "colab": {
          "base_uri": "https://localhost:8080/"
        },
        "id": "F9fRx_S-t7ks",
        "outputId": "b41f4b8b-5621-4565-b1b8-8bec19f37e6d"
      },
      "execution_count": null,
      "outputs": [
        {
          "output_type": "stream",
          "name": "stdout",
          "text": [
            "Длинна s_inactive: 5351\n",
            "Пример значения из s_inactive: CCCN1CCC[C@H](c2cccc(O)c2)C1.Cl\n"
          ]
        }
      ]
    },
    {
      "cell_type": "code",
      "source": [
        "# активные молекулы\n",
        "s_active = []\n",
        "for i in df_train_True['Smiles']:\n",
        "  s_active.append(i)\n",
        "\n",
        "print('Длинна s_active:', len(s_active))\n",
        "print(\"Пример значения из s_active:\", s_active[1])"
      ],
      "metadata": {
        "colab": {
          "base_uri": "https://localhost:8080/"
        },
        "id": "7wphRS2bt90Q",
        "outputId": "a83a4aee-b5f4-49a1-85ae-cea4b743f43d"
      },
      "execution_count": null,
      "outputs": [
        {
          "output_type": "stream",
          "name": "stdout",
          "text": [
            "Длинна s_active: 206\n",
            "Пример значения из s_active: C[C@H]1COc2c(N3CCN(C)CC3)c(F)cc3c(=O)c(C(=O)O)cn1c23\n"
          ]
        }
      ]
    },
    {
      "cell_type": "code",
      "source": [
        "# все молекулы\n",
        "Smiles = s_active + s_inactive\n",
        "len(Smiles)"
      ],
      "metadata": {
        "colab": {
          "base_uri": "https://localhost:8080/"
        },
        "id": "9G6YatLvuNDk",
        "outputId": "523b6558-92de-4c3a-8fe2-bfee97b05770"
      },
      "execution_count": null,
      "outputs": [
        {
          "output_type": "execute_result",
          "data": {
            "text/plain": [
              "5557"
            ]
          },
          "metadata": {},
          "execution_count": 218
        }
      ]
    },
    {
      "cell_type": "code",
      "source": [
        "maxWordsCount = 10000 # Определяем максимальное количество слов/индексов, учитываемое при обучении текстов\n",
        "\n",
        "# Воспользуемся встроенной в Keras функцией Tokenizer для разбиения текста и превращения в матрицу числовых значений\n",
        "# num_words=maxWordsCount - определяем максимальное количество слов/индексов, учитываемое при обучении текстов\n",
        "# filters='!\"#$%&()*+,-./:;<=>?@[\\\\]^_`{|}~\\t\\n' - избавляемся от ненужных символов\n",
        "# lower=True - приводим слова к нижнему регистру\n",
        "# split=' ' - разделяем слова по пробелу\n",
        "# char_level=False - токенизируем по словам (Если будет True - каждый символ будет рассматриваться как отдельный токен )\n",
        "tokenizer = Tokenizer(num_words=maxWordsCount, filters='', lower=False, split='', oov_token=None,   char_level=True)\n",
        "\n",
        "tokenizer.fit_on_texts(Smiles) # \"Скармливаем\" наши тексты, т.е. даём в обработку методу, который соберет словарь частотности\n",
        "items = list(tokenizer.word_index.items()) # Вытаскиваем индексы слов для просмотра"
      ],
      "metadata": {
        "id": "AiqpFC2quCCo"
      },
      "execution_count": null,
      "outputs": []
    },
    {
      "cell_type": "code",
      "source": [
        "print(items[:50]) # Посмотрим 10 самых часто встречающихся символов\n",
        "print(\"Размер словаря\", len(items)) # Длина словаря"
      ],
      "metadata": {
        "colab": {
          "base_uri": "https://localhost:8080/"
        },
        "id": "rUElqbk2uRzK",
        "outputId": "2ab9924e-8640-47cd-9d39-68f18c22715a"
      },
      "execution_count": null,
      "outputs": [
        {
          "output_type": "stream",
          "name": "stdout",
          "text": [
            "[('c', 1), ('C', 2), ('(', 3), (')', 4), ('O', 5), ('1', 6), ('2', 7), ('=', 8), ('@', 9), ('N', 10), ('[', 11), (']', 12), ('H', 13), ('n', 14), ('3', 15), ('F', 16), ('4', 17), ('-', 18), ('l', 19), ('S', 20), ('/', 21), ('.', 22), ('5', 23), ('+', 24), ('s', 25), ('o', 26), ('#', 27), ('\\\\', 28), ('B', 29), ('r', 30), ('P', 31), ('I', 32), ('a', 33), ('6', 34), ('7', 35), ('A', 36), ('8', 37), ('i', 38), ('K', 39), ('Z', 40), ('g', 41), ('M', 42), ('L', 43), ('e', 44), ('9', 45)]\n",
            "Размер словаря 45\n"
          ]
        }
      ]
    },
    {
      "cell_type": "code",
      "source": [
        "# Преобразовываем текст в последовательность индексов согласно частотному словарю\n",
        "s_inactive_WordIndexes = tokenizer.texts_to_sequences(s_inactive) # тесты в индексы\n",
        "s_active_WordIndexes = tokenizer.texts_to_sequences(s_active) # тесты в индексы\n",
        "\n",
        "print(\"Взглянем на Smiles:\")\n",
        "print(\"Как в таблице:              \", s_inactive[1])\n",
        "print(\"В виде последовательности индексов: \", s_inactive_WordIndexes[1], '\\n')\n",
        "len(s_inactive[1]), len(s_inactive_WordIndexes[1])"
      ],
      "metadata": {
        "id": "xMO0julMuZyL",
        "colab": {
          "base_uri": "https://localhost:8080/"
        },
        "outputId": "5cb0f2cf-f6f8-4da8-86ae-f7755280f609"
      },
      "execution_count": null,
      "outputs": [
        {
          "output_type": "stream",
          "name": "stdout",
          "text": [
            "Взглянем на Smiles:\n",
            "Как в таблице:               CCCN1CCC[C@H](c2cccc(O)c2)C1.Cl\n",
            "В виде последовательности индексов:  [2, 2, 2, 10, 6, 2, 2, 2, 11, 2, 9, 13, 12, 3, 1, 7, 1, 1, 1, 1, 3, 5, 4, 1, 7, 4, 2, 6, 22, 2, 19] \n",
            "\n"
          ]
        },
        {
          "output_type": "execute_result",
          "data": {
            "text/plain": [
              "(31, 31)"
            ]
          },
          "metadata": {},
          "execution_count": 221
        }
      ]
    },
    {
      "cell_type": "code",
      "source": [
        "len(s_inactive), len(s_inactive_WordIndexes)"
      ],
      "metadata": {
        "colab": {
          "base_uri": "https://localhost:8080/"
        },
        "id": "txxBBCUprqZv",
        "outputId": "9b9f7968-c6ce-4147-80a8-979295db59b4"
      },
      "execution_count": null,
      "outputs": [
        {
          "output_type": "execute_result",
          "data": {
            "text/plain": [
              "(5351, 5351)"
            ]
          },
          "metadata": {},
          "execution_count": 222
        }
      ]
    },
    {
      "cell_type": "code",
      "source": [
        "X_tr = tokenizer.sequences_to_matrix(s_inactive_WordIndexes)\n",
        "smal_active = tokenizer.sequences_to_matrix(s_active_WordIndexes)\n",
        "\n",
        "print(X_tr.shape, smal_active.shape)       # Размер обучающей выборки, сформированной по Bag of Words\n",
        "print(X_tr[0][0:100]) # Фрагмент в виде Bag of Words"
      ],
      "metadata": {
        "colab": {
          "base_uri": "https://localhost:8080/"
        },
        "id": "U-zvobUDuwS2",
        "outputId": "847833f3-2e60-4fd6-84bd-342f07cd301f"
      },
      "execution_count": null,
      "outputs": [
        {
          "output_type": "stream",
          "name": "stdout",
          "text": [
            "(5351, 10000) (206, 10000)\n",
            "[0. 1. 1. 1. 1. 1. 1. 1. 0. 0. 1. 1. 1. 1. 1. 0. 0. 0. 0. 0. 0. 0. 0. 0.\n",
            " 0. 0. 0. 0. 0. 0. 0. 0. 0. 0. 0. 0. 0. 0. 0. 0. 0. 0. 0. 0. 0. 0. 0. 0.\n",
            " 0. 0. 0. 0. 0. 0. 0. 0. 0. 0. 0. 0. 0. 0. 0. 0. 0. 0. 0. 0. 0. 0. 0. 0.\n",
            " 0. 0. 0. 0. 0. 0. 0. 0. 0. 0. 0. 0. 0. 0. 0. 0. 0. 0. 0. 0. 0. 0. 0. 0.\n",
            " 0. 0. 0. 0.]\n"
          ]
        }
      ]
    },
    {
      "cell_type": "code",
      "source": [
        "X_tr.max()"
      ],
      "metadata": {
        "colab": {
          "base_uri": "https://localhost:8080/"
        },
        "id": "7M2H44VFcim8",
        "outputId": "71b012ad-0d54-404f-b67e-ec7cab9ad5e6"
      },
      "execution_count": null,
      "outputs": [
        {
          "output_type": "execute_result",
          "data": {
            "text/plain": [
              "1.0"
            ]
          },
          "metadata": {},
          "execution_count": 194
        }
      ]
    },
    {
      "cell_type": "code",
      "source": [
        "RANDOM_SEED = 42\n",
        "\n",
        "# берём неактивные молекулы разбиваем на train_test(только 'X')\n",
        "X_train, X_test = train_test_split(X_tr, test_size=0.2, random_state=RANDOM_SEED)"
      ],
      "metadata": {
        "id": "4YMw2--su-8w"
      },
      "execution_count": null,
      "outputs": []
    },
    {
      "cell_type": "code",
      "source": [
        "X_test = np.concatenate((X_test, smal_active))\n",
        "X_test.shape"
      ],
      "metadata": {
        "colab": {
          "base_uri": "https://localhost:8080/"
        },
        "id": "tgnPiaz4xo21",
        "outputId": "5db915bd-e2ef-453e-b1e8-85b471254fc3"
      },
      "execution_count": null,
      "outputs": [
        {
          "output_type": "execute_result",
          "data": {
            "text/plain": [
              "(1277, 1024)"
            ]
          },
          "metadata": {},
          "execution_count": 28
        }
      ]
    },
    {
      "cell_type": "code",
      "source": [
        "def Smiles_Autoencoder(): \n",
        "  dataSize = 100 # размер входного слоя\n",
        "  dataInput = Input(shape=(dataSize, )) # задаем эти размеры как входные в сеть\n",
        "  \n",
        "  x = Dense(10, activation='relu')(dataInput) # пропускаем через полносвязный слой размером 10\n",
        "  x = Dense(dataSize, activation='sigmoid')(x) # выход это полносвязный слой размером 4096\n",
        "  \n",
        "  autoencoder = Model(inputs=dataInput, outputs=x) # собрали модель \n",
        "  \n",
        "  autoencoder.compile(optimizer=Adam(learning_rate=0.0001), loss='mse') # компилируем модель также, с выбором оптимайзера и среднеквадратичной ошибки\n",
        "  \n",
        "  return autoencoder "
      ],
      "metadata": {
        "id": "C6PIL6IdvG8S"
      },
      "execution_count": null,
      "outputs": []
    },
    {
      "cell_type": "code",
      "source": [
        "model = Smiles_Autoencoder()\n",
        "model.summary()"
      ],
      "metadata": {
        "colab": {
          "base_uri": "https://localhost:8080/"
        },
        "id": "efRW2ZDgvI8E",
        "outputId": "6c00377f-e27f-4516-ab70-e5362eda555b"
      },
      "execution_count": null,
      "outputs": [
        {
          "output_type": "stream",
          "name": "stdout",
          "text": [
            "Model: \"model\"\n",
            "_________________________________________________________________\n",
            " Layer (type)                Output Shape              Param #   \n",
            "=================================================================\n",
            " input_1 (InputLayer)        [(None, 100)]             0         \n",
            "                                                                 \n",
            " dense (Dense)               (None, 10)                1010      \n",
            "                                                                 \n",
            " dense_1 (Dense)             (None, 100)               1100      \n",
            "                                                                 \n",
            "=================================================================\n",
            "Total params: 2,110\n",
            "Trainable params: 2,110\n",
            "Non-trainable params: 0\n",
            "_________________________________________________________________\n"
          ]
        }
      ]
    },
    {
      "cell_type": "code",
      "source": [
        "model = Smiles_Autoencoder()\n",
        "history = model.fit(X_train, X_train,\n",
        "                    epochs=100,\n",
        "                    batch_size=12) # загружаем данные в модель(X_train'ы) и обучаем"
      ],
      "metadata": {
        "colab": {
          "base_uri": "https://localhost:8080/"
        },
        "id": "AAUGtySnvS5w",
        "outputId": "d79ca9ec-6d17-4d80-fb65-e46a5496f93f"
      },
      "execution_count": null,
      "outputs": [
        {
          "output_type": "stream",
          "name": "stdout",
          "text": [
            "Epoch 1/100\n",
            "357/357 [==============================] - 3s 2ms/step - loss: 0.2266\n",
            "Epoch 2/100\n",
            "357/357 [==============================] - 1s 2ms/step - loss: 0.1495\n",
            "Epoch 3/100\n",
            "357/357 [==============================] - 1s 2ms/step - loss: 0.0821\n",
            "Epoch 4/100\n",
            "357/357 [==============================] - 1s 2ms/step - loss: 0.0537\n",
            "Epoch 5/100\n",
            "357/357 [==============================] - 1s 2ms/step - loss: 0.0438\n",
            "Epoch 6/100\n",
            "357/357 [==============================] - 1s 2ms/step - loss: 0.0396\n",
            "Epoch 7/100\n",
            "357/357 [==============================] - 1s 2ms/step - loss: 0.0373\n",
            "Epoch 8/100\n",
            "357/357 [==============================] - 1s 2ms/step - loss: 0.0355\n",
            "Epoch 9/100\n",
            "357/357 [==============================] - 1s 2ms/step - loss: 0.0338\n",
            "Epoch 10/100\n",
            "357/357 [==============================] - 1s 2ms/step - loss: 0.0324\n",
            "Epoch 11/100\n",
            "357/357 [==============================] - 1s 2ms/step - loss: 0.0311\n",
            "Epoch 12/100\n",
            "357/357 [==============================] - 1s 2ms/step - loss: 0.0301\n",
            "Epoch 13/100\n",
            "357/357 [==============================] - 1s 2ms/step - loss: 0.0291\n",
            "Epoch 14/100\n",
            "357/357 [==============================] - 1s 2ms/step - loss: 0.0282\n",
            "Epoch 15/100\n",
            "357/357 [==============================] - 1s 2ms/step - loss: 0.0274\n",
            "Epoch 16/100\n",
            "357/357 [==============================] - 1s 2ms/step - loss: 0.0267\n",
            "Epoch 17/100\n",
            "357/357 [==============================] - 1s 2ms/step - loss: 0.0260\n",
            "Epoch 18/100\n",
            "357/357 [==============================] - 1s 2ms/step - loss: 0.0254\n",
            "Epoch 19/100\n",
            "357/357 [==============================] - 1s 2ms/step - loss: 0.0248\n",
            "Epoch 20/100\n",
            "357/357 [==============================] - 1s 2ms/step - loss: 0.0243\n",
            "Epoch 21/100\n",
            "357/357 [==============================] - 1s 2ms/step - loss: 0.0237\n",
            "Epoch 22/100\n",
            "357/357 [==============================] - 1s 2ms/step - loss: 0.0232\n",
            "Epoch 23/100\n",
            "357/357 [==============================] - 1s 2ms/step - loss: 0.0227\n",
            "Epoch 24/100\n",
            "357/357 [==============================] - 1s 2ms/step - loss: 0.0222\n",
            "Epoch 25/100\n",
            "357/357 [==============================] - 1s 2ms/step - loss: 0.0218\n",
            "Epoch 26/100\n",
            "357/357 [==============================] - 1s 2ms/step - loss: 0.0213\n",
            "Epoch 27/100\n",
            "357/357 [==============================] - 1s 2ms/step - loss: 0.0209\n",
            "Epoch 28/100\n",
            "357/357 [==============================] - 1s 2ms/step - loss: 0.0204\n",
            "Epoch 29/100\n",
            "357/357 [==============================] - 1s 2ms/step - loss: 0.0200\n",
            "Epoch 30/100\n",
            "357/357 [==============================] - 1s 2ms/step - loss: 0.0196\n",
            "Epoch 31/100\n",
            "357/357 [==============================] - 1s 2ms/step - loss: 0.0191\n",
            "Epoch 32/100\n",
            "357/357 [==============================] - 1s 2ms/step - loss: 0.0187\n",
            "Epoch 33/100\n",
            "357/357 [==============================] - 1s 2ms/step - loss: 0.0183\n",
            "Epoch 34/100\n",
            "357/357 [==============================] - 1s 2ms/step - loss: 0.0179\n",
            "Epoch 35/100\n",
            "357/357 [==============================] - 1s 2ms/step - loss: 0.0175\n",
            "Epoch 36/100\n",
            "357/357 [==============================] - 1s 2ms/step - loss: 0.0171\n",
            "Epoch 37/100\n",
            "357/357 [==============================] - 1s 2ms/step - loss: 0.0167\n",
            "Epoch 38/100\n",
            "357/357 [==============================] - 1s 2ms/step - loss: 0.0163\n",
            "Epoch 39/100\n",
            "357/357 [==============================] - 1s 2ms/step - loss: 0.0159\n",
            "Epoch 40/100\n",
            "357/357 [==============================] - 1s 2ms/step - loss: 0.0156\n",
            "Epoch 41/100\n",
            "357/357 [==============================] - 1s 2ms/step - loss: 0.0152\n",
            "Epoch 42/100\n",
            "357/357 [==============================] - 1s 2ms/step - loss: 0.0148\n",
            "Epoch 43/100\n",
            "357/357 [==============================] - 1s 2ms/step - loss: 0.0145\n",
            "Epoch 44/100\n",
            "357/357 [==============================] - 1s 2ms/step - loss: 0.0142\n",
            "Epoch 45/100\n",
            "357/357 [==============================] - 1s 2ms/step - loss: 0.0138\n",
            "Epoch 46/100\n",
            "357/357 [==============================] - 1s 2ms/step - loss: 0.0135\n",
            "Epoch 47/100\n",
            "357/357 [==============================] - 1s 2ms/step - loss: 0.0132\n",
            "Epoch 48/100\n",
            "357/357 [==============================] - 1s 2ms/step - loss: 0.0130\n",
            "Epoch 49/100\n",
            "357/357 [==============================] - 1s 2ms/step - loss: 0.0127\n",
            "Epoch 50/100\n",
            "357/357 [==============================] - 1s 2ms/step - loss: 0.0124\n",
            "Epoch 51/100\n",
            "357/357 [==============================] - 1s 2ms/step - loss: 0.0122\n",
            "Epoch 52/100\n",
            "357/357 [==============================] - 1s 2ms/step - loss: 0.0119\n",
            "Epoch 53/100\n",
            "357/357 [==============================] - 1s 2ms/step - loss: 0.0117\n",
            "Epoch 54/100\n",
            "357/357 [==============================] - 1s 2ms/step - loss: 0.0114\n",
            "Epoch 55/100\n",
            "357/357 [==============================] - 1s 2ms/step - loss: 0.0112\n",
            "Epoch 56/100\n",
            "357/357 [==============================] - 1s 2ms/step - loss: 0.0110\n",
            "Epoch 57/100\n",
            "357/357 [==============================] - 1s 2ms/step - loss: 0.0108\n",
            "Epoch 58/100\n",
            "357/357 [==============================] - 1s 2ms/step - loss: 0.0106\n",
            "Epoch 59/100\n",
            "357/357 [==============================] - 1s 2ms/step - loss: 0.0104\n",
            "Epoch 60/100\n",
            "357/357 [==============================] - 1s 2ms/step - loss: 0.0102\n",
            "Epoch 61/100\n",
            "357/357 [==============================] - 1s 2ms/step - loss: 0.0100\n",
            "Epoch 62/100\n",
            "357/357 [==============================] - 1s 2ms/step - loss: 0.0098\n",
            "Epoch 63/100\n",
            "357/357 [==============================] - 1s 2ms/step - loss: 0.0097\n",
            "Epoch 64/100\n",
            "357/357 [==============================] - 1s 2ms/step - loss: 0.0095\n",
            "Epoch 65/100\n",
            "357/357 [==============================] - 1s 2ms/step - loss: 0.0093\n",
            "Epoch 66/100\n",
            "357/357 [==============================] - 1s 2ms/step - loss: 0.0092\n",
            "Epoch 67/100\n",
            "357/357 [==============================] - 1s 2ms/step - loss: 0.0090\n",
            "Epoch 68/100\n",
            "357/357 [==============================] - 1s 2ms/step - loss: 0.0089\n",
            "Epoch 69/100\n",
            "357/357 [==============================] - 1s 2ms/step - loss: 0.0087\n",
            "Epoch 70/100\n",
            "357/357 [==============================] - 1s 2ms/step - loss: 0.0086\n",
            "Epoch 71/100\n",
            "357/357 [==============================] - 1s 2ms/step - loss: 0.0084\n",
            "Epoch 72/100\n",
            "357/357 [==============================] - 1s 2ms/step - loss: 0.0083\n",
            "Epoch 73/100\n",
            "357/357 [==============================] - 1s 2ms/step - loss: 0.0082\n",
            "Epoch 74/100\n",
            "357/357 [==============================] - 1s 2ms/step - loss: 0.0080\n",
            "Epoch 75/100\n",
            "357/357 [==============================] - 1s 2ms/step - loss: 0.0079\n",
            "Epoch 76/100\n",
            "357/357 [==============================] - 1s 2ms/step - loss: 0.0078\n",
            "Epoch 77/100\n",
            "357/357 [==============================] - 1s 2ms/step - loss: 0.0077\n",
            "Epoch 78/100\n",
            "357/357 [==============================] - 1s 2ms/step - loss: 0.0075\n",
            "Epoch 79/100\n",
            "357/357 [==============================] - 1s 2ms/step - loss: 0.0074\n",
            "Epoch 80/100\n",
            "357/357 [==============================] - 1s 2ms/step - loss: 0.0073\n",
            "Epoch 81/100\n",
            "357/357 [==============================] - 1s 2ms/step - loss: 0.0072\n",
            "Epoch 82/100\n",
            "357/357 [==============================] - 1s 2ms/step - loss: 0.0071\n",
            "Epoch 83/100\n",
            "357/357 [==============================] - 1s 2ms/step - loss: 0.0070\n",
            "Epoch 84/100\n",
            "357/357 [==============================] - 1s 2ms/step - loss: 0.0069\n",
            "Epoch 85/100\n",
            "357/357 [==============================] - 1s 2ms/step - loss: 0.0068\n",
            "Epoch 86/100\n",
            "357/357 [==============================] - 1s 2ms/step - loss: 0.0067\n",
            "Epoch 87/100\n",
            "357/357 [==============================] - 1s 2ms/step - loss: 0.0066\n",
            "Epoch 88/100\n",
            "357/357 [==============================] - 1s 2ms/step - loss: 0.0065\n",
            "Epoch 89/100\n",
            "357/357 [==============================] - 1s 2ms/step - loss: 0.0065\n",
            "Epoch 90/100\n",
            "357/357 [==============================] - 1s 2ms/step - loss: 0.0064\n",
            "Epoch 91/100\n",
            "357/357 [==============================] - 1s 2ms/step - loss: 0.0063\n",
            "Epoch 92/100\n",
            "357/357 [==============================] - 1s 2ms/step - loss: 0.0062\n",
            "Epoch 93/100\n",
            "357/357 [==============================] - 1s 2ms/step - loss: 0.0061\n",
            "Epoch 94/100\n",
            "357/357 [==============================] - 1s 2ms/step - loss: 0.0061\n",
            "Epoch 95/100\n",
            "357/357 [==============================] - 1s 2ms/step - loss: 0.0060\n",
            "Epoch 96/100\n",
            "357/357 [==============================] - 1s 2ms/step - loss: 0.0059\n",
            "Epoch 97/100\n",
            "357/357 [==============================] - 1s 2ms/step - loss: 0.0059\n",
            "Epoch 98/100\n",
            "357/357 [==============================] - 1s 2ms/step - loss: 0.0058\n",
            "Epoch 99/100\n",
            "357/357 [==============================] - 1s 2ms/step - loss: 0.0057\n",
            "Epoch 100/100\n",
            "357/357 [==============================] - 1s 2ms/step - loss: 0.0057\n"
          ]
        }
      ]
    },
    {
      "cell_type": "code",
      "source": [
        "model.compile(optimizer=Adam(learning_rate=0.001), loss='mse')\n",
        "\n",
        "history = model.fit(X_train, X_train,\n",
        "                    epochs=10,\n",
        "                    batch_size=12) # загружаем данные в модель(X_train'ы) и обучаем"
      ],
      "metadata": {
        "colab": {
          "base_uri": "https://localhost:8080/"
        },
        "id": "a9WzqbDJhmNU",
        "outputId": "280f5478-6927-4d9a-bf08-fe28a3594248"
      },
      "execution_count": null,
      "outputs": [
        {
          "output_type": "stream",
          "name": "stdout",
          "text": [
            "Epoch 1/10\n",
            "357/357 [==============================] - 1s 2ms/step - loss: 0.0054\n",
            "Epoch 2/10\n",
            "357/357 [==============================] - 1s 2ms/step - loss: 0.0049\n",
            "Epoch 3/10\n",
            "357/357 [==============================] - 1s 2ms/step - loss: 0.0046\n",
            "Epoch 4/10\n",
            "357/357 [==============================] - 1s 2ms/step - loss: 0.0043\n",
            "Epoch 5/10\n",
            "357/357 [==============================] - 1s 2ms/step - loss: 0.0041\n",
            "Epoch 6/10\n",
            "357/357 [==============================] - 1s 2ms/step - loss: 0.0039\n",
            "Epoch 7/10\n",
            "357/357 [==============================] - 1s 2ms/step - loss: 0.0038\n",
            "Epoch 8/10\n",
            "357/357 [==============================] - 1s 2ms/step - loss: 0.0037\n",
            "Epoch 9/10\n",
            "357/357 [==============================] - 1s 2ms/step - loss: 0.0036\n",
            "Epoch 10/10\n",
            "357/357 [==============================] - 1s 2ms/step - loss: 0.0035\n"
          ]
        }
      ]
    },
    {
      "cell_type": "code",
      "source": [
        "history = model.fit(X_train, X_train,\n",
        "                    epochs=100,\n",
        "                    batch_size=12) # загружаем данные в модель(X_train'ы) и обучаем"
      ],
      "metadata": {
        "colab": {
          "base_uri": "https://localhost:8080/"
        },
        "id": "jJ8nuEw2h2Xu",
        "outputId": "ac655b0c-4fa8-4583-a3d3-48241b092c0b"
      },
      "execution_count": null,
      "outputs": [
        {
          "output_type": "stream",
          "name": "stdout",
          "text": [
            "Epoch 1/100\n",
            "357/357 [==============================] - 1s 2ms/step - loss: 0.0034\n",
            "Epoch 2/100\n",
            "357/357 [==============================] - 1s 2ms/step - loss: 0.0033\n",
            "Epoch 3/100\n",
            "357/357 [==============================] - 1s 2ms/step - loss: 0.0032\n",
            "Epoch 4/100\n",
            "357/357 [==============================] - 1s 2ms/step - loss: 0.0031\n",
            "Epoch 5/100\n",
            "357/357 [==============================] - 1s 2ms/step - loss: 0.0031\n",
            "Epoch 6/100\n",
            "357/357 [==============================] - 1s 2ms/step - loss: 0.0030\n",
            "Epoch 7/100\n",
            "357/357 [==============================] - 1s 2ms/step - loss: 0.0029\n",
            "Epoch 8/100\n",
            "357/357 [==============================] - 1s 2ms/step - loss: 0.0029\n",
            "Epoch 9/100\n",
            "357/357 [==============================] - 1s 2ms/step - loss: 0.0028\n",
            "Epoch 10/100\n",
            "357/357 [==============================] - 1s 2ms/step - loss: 0.0028\n",
            "Epoch 11/100\n",
            "357/357 [==============================] - 1s 2ms/step - loss: 0.0027\n",
            "Epoch 12/100\n",
            "357/357 [==============================] - 1s 2ms/step - loss: 0.0027\n",
            "Epoch 13/100\n",
            "357/357 [==============================] - 1s 2ms/step - loss: 0.0026\n",
            "Epoch 14/100\n",
            "357/357 [==============================] - 1s 2ms/step - loss: 0.0026\n",
            "Epoch 15/100\n",
            "357/357 [==============================] - 1s 2ms/step - loss: 0.0025\n",
            "Epoch 16/100\n",
            "357/357 [==============================] - 1s 2ms/step - loss: 0.0025\n",
            "Epoch 17/100\n",
            "357/357 [==============================] - 1s 2ms/step - loss: 0.0024\n",
            "Epoch 18/100\n",
            "357/357 [==============================] - 1s 2ms/step - loss: 0.0024\n",
            "Epoch 19/100\n",
            "357/357 [==============================] - 1s 2ms/step - loss: 0.0023\n",
            "Epoch 20/100\n",
            "357/357 [==============================] - 1s 2ms/step - loss: 0.0023\n",
            "Epoch 21/100\n",
            "357/357 [==============================] - 1s 2ms/step - loss: 0.0022\n",
            "Epoch 22/100\n",
            "357/357 [==============================] - 1s 2ms/step - loss: 0.0022\n",
            "Epoch 23/100\n",
            "357/357 [==============================] - 1s 2ms/step - loss: 0.0021\n",
            "Epoch 24/100\n",
            "357/357 [==============================] - 1s 2ms/step - loss: 0.0021\n",
            "Epoch 25/100\n",
            "357/357 [==============================] - 1s 2ms/step - loss: 0.0021\n",
            "Epoch 26/100\n",
            "357/357 [==============================] - 1s 2ms/step - loss: 0.0020\n",
            "Epoch 27/100\n",
            "357/357 [==============================] - 1s 2ms/step - loss: 0.0020\n",
            "Epoch 28/100\n",
            "357/357 [==============================] - 1s 2ms/step - loss: 0.0020\n",
            "Epoch 29/100\n",
            "357/357 [==============================] - 1s 2ms/step - loss: 0.0019\n",
            "Epoch 30/100\n",
            "357/357 [==============================] - 1s 2ms/step - loss: 0.0019\n",
            "Epoch 31/100\n",
            "357/357 [==============================] - 1s 2ms/step - loss: 0.0019\n",
            "Epoch 32/100\n",
            "357/357 [==============================] - 1s 2ms/step - loss: 0.0019\n",
            "Epoch 33/100\n",
            "357/357 [==============================] - 1s 2ms/step - loss: 0.0018\n",
            "Epoch 34/100\n",
            "357/357 [==============================] - 1s 2ms/step - loss: 0.0018\n",
            "Epoch 35/100\n",
            "357/357 [==============================] - 1s 2ms/step - loss: 0.0018\n",
            "Epoch 36/100\n",
            "357/357 [==============================] - 1s 2ms/step - loss: 0.0018\n",
            "Epoch 37/100\n",
            "357/357 [==============================] - 1s 2ms/step - loss: 0.0018\n",
            "Epoch 38/100\n",
            "357/357 [==============================] - 1s 2ms/step - loss: 0.0017\n",
            "Epoch 39/100\n",
            "357/357 [==============================] - 1s 2ms/step - loss: 0.0017\n",
            "Epoch 40/100\n",
            "357/357 [==============================] - 1s 2ms/step - loss: 0.0017\n",
            "Epoch 41/100\n",
            "357/357 [==============================] - 1s 2ms/step - loss: 0.0017\n",
            "Epoch 42/100\n",
            "357/357 [==============================] - 1s 2ms/step - loss: 0.0017\n",
            "Epoch 43/100\n",
            "357/357 [==============================] - 1s 2ms/step - loss: 0.0016\n",
            "Epoch 44/100\n",
            "357/357 [==============================] - 1s 2ms/step - loss: 0.0016\n",
            "Epoch 45/100\n",
            "357/357 [==============================] - 1s 2ms/step - loss: 0.0016\n",
            "Epoch 46/100\n",
            "357/357 [==============================] - 1s 2ms/step - loss: 0.0016\n",
            "Epoch 47/100\n",
            "357/357 [==============================] - 1s 2ms/step - loss: 0.0016\n",
            "Epoch 48/100\n",
            "357/357 [==============================] - 1s 2ms/step - loss: 0.0016\n",
            "Epoch 49/100\n",
            "357/357 [==============================] - 1s 2ms/step - loss: 0.0015\n",
            "Epoch 50/100\n",
            "357/357 [==============================] - 1s 2ms/step - loss: 0.0015\n",
            "Epoch 51/100\n",
            "357/357 [==============================] - 1s 2ms/step - loss: 0.0015\n",
            "Epoch 52/100\n",
            "357/357 [==============================] - 1s 2ms/step - loss: 0.0015\n",
            "Epoch 53/100\n",
            "357/357 [==============================] - 1s 2ms/step - loss: 0.0015\n",
            "Epoch 54/100\n",
            "357/357 [==============================] - 1s 2ms/step - loss: 0.0015\n",
            "Epoch 55/100\n",
            "357/357 [==============================] - 1s 2ms/step - loss: 0.0014\n",
            "Epoch 56/100\n",
            "357/357 [==============================] - 1s 2ms/step - loss: 0.0014\n",
            "Epoch 57/100\n",
            "357/357 [==============================] - 1s 2ms/step - loss: 0.0014\n",
            "Epoch 58/100\n",
            "357/357 [==============================] - 1s 2ms/step - loss: 0.0014\n",
            "Epoch 59/100\n",
            "357/357 [==============================] - 1s 2ms/step - loss: 0.0014\n",
            "Epoch 60/100\n",
            "357/357 [==============================] - 1s 2ms/step - loss: 0.0014\n",
            "Epoch 61/100\n",
            "357/357 [==============================] - 1s 2ms/step - loss: 0.0014\n",
            "Epoch 62/100\n",
            "357/357 [==============================] - 1s 2ms/step - loss: 0.0014\n",
            "Epoch 63/100\n",
            "357/357 [==============================] - 1s 2ms/step - loss: 0.0014\n",
            "Epoch 64/100\n",
            "357/357 [==============================] - 1s 2ms/step - loss: 0.0014\n",
            "Epoch 65/100\n",
            "357/357 [==============================] - 1s 2ms/step - loss: 0.0014\n",
            "Epoch 66/100\n",
            "357/357 [==============================] - 1s 2ms/step - loss: 0.0014\n",
            "Epoch 67/100\n",
            "357/357 [==============================] - 1s 2ms/step - loss: 0.0013\n",
            "Epoch 68/100\n",
            "357/357 [==============================] - 1s 2ms/step - loss: 0.0013\n",
            "Epoch 69/100\n",
            "357/357 [==============================] - 1s 2ms/step - loss: 0.0013\n",
            "Epoch 70/100\n",
            "357/357 [==============================] - 1s 2ms/step - loss: 0.0013\n",
            "Epoch 71/100\n",
            "357/357 [==============================] - 1s 2ms/step - loss: 0.0013\n",
            "Epoch 72/100\n",
            "357/357 [==============================] - 1s 2ms/step - loss: 0.0013\n",
            "Epoch 73/100\n",
            "357/357 [==============================] - 1s 2ms/step - loss: 0.0013\n",
            "Epoch 74/100\n",
            "357/357 [==============================] - 1s 2ms/step - loss: 0.0013\n",
            "Epoch 75/100\n",
            "357/357 [==============================] - 1s 2ms/step - loss: 0.0013\n",
            "Epoch 76/100\n",
            "357/357 [==============================] - 1s 2ms/step - loss: 0.0013\n",
            "Epoch 77/100\n",
            "357/357 [==============================] - 1s 2ms/step - loss: 0.0013\n",
            "Epoch 78/100\n",
            "357/357 [==============================] - 1s 2ms/step - loss: 0.0013\n",
            "Epoch 79/100\n",
            "357/357 [==============================] - 1s 2ms/step - loss: 0.0013\n",
            "Epoch 80/100\n",
            "357/357 [==============================] - 1s 2ms/step - loss: 0.0013\n",
            "Epoch 81/100\n",
            "357/357 [==============================] - 1s 2ms/step - loss: 0.0013\n",
            "Epoch 82/100\n",
            "357/357 [==============================] - 1s 2ms/step - loss: 0.0013\n",
            "Epoch 83/100\n",
            "357/357 [==============================] - 1s 2ms/step - loss: 0.0013\n",
            "Epoch 84/100\n",
            "357/357 [==============================] - 1s 2ms/step - loss: 0.0013\n",
            "Epoch 85/100\n",
            "357/357 [==============================] - 1s 2ms/step - loss: 0.0013\n",
            "Epoch 86/100\n",
            "357/357 [==============================] - 1s 2ms/step - loss: 0.0012\n",
            "Epoch 87/100\n",
            "357/357 [==============================] - 1s 2ms/step - loss: 0.0012\n",
            "Epoch 88/100\n",
            "357/357 [==============================] - 1s 2ms/step - loss: 0.0012\n",
            "Epoch 89/100\n",
            "357/357 [==============================] - 1s 2ms/step - loss: 0.0012\n",
            "Epoch 90/100\n",
            "357/357 [==============================] - 1s 2ms/step - loss: 0.0012\n",
            "Epoch 91/100\n",
            "357/357 [==============================] - 1s 2ms/step - loss: 0.0012\n",
            "Epoch 92/100\n",
            "357/357 [==============================] - 1s 2ms/step - loss: 0.0012\n",
            "Epoch 93/100\n",
            "357/357 [==============================] - 1s 2ms/step - loss: 0.0012\n",
            "Epoch 94/100\n",
            "357/357 [==============================] - 1s 2ms/step - loss: 0.0012\n",
            "Epoch 95/100\n",
            "357/357 [==============================] - 1s 2ms/step - loss: 0.0012\n",
            "Epoch 96/100\n",
            "357/357 [==============================] - 1s 2ms/step - loss: 0.0012\n",
            "Epoch 97/100\n",
            "357/357 [==============================] - 1s 2ms/step - loss: 0.0012\n",
            "Epoch 98/100\n",
            "357/357 [==============================] - 1s 2ms/step - loss: 0.0012\n",
            "Epoch 99/100\n",
            "357/357 [==============================] - 1s 2ms/step - loss: 0.0012\n",
            "Epoch 100/100\n",
            "357/357 [==============================] - 1s 2ms/step - loss: 0.0012\n"
          ]
        }
      ]
    },
    {
      "cell_type": "code",
      "source": [
        "model.compile(optimizer=Adam(learning_rate=0.0001), loss='mse')\n",
        "\n",
        "history = model.fit(X_train, X_train,\n",
        "                    epochs=50,\n",
        "                    batch_size=12) # загружаем данные в модель(X_train'ы) и обучаем"
      ],
      "metadata": {
        "colab": {
          "base_uri": "https://localhost:8080/"
        },
        "id": "Eq5jNl09iPsi",
        "outputId": "28e55b4f-92a1-4c6e-ccba-989b723967d9"
      },
      "execution_count": null,
      "outputs": [
        {
          "output_type": "stream",
          "name": "stdout",
          "text": [
            "Epoch 1/50\n",
            "357/357 [==============================] - 1s 2ms/step - loss: 0.0012\n",
            "Epoch 2/50\n",
            "357/357 [==============================] - 1s 2ms/step - loss: 0.0012\n",
            "Epoch 3/50\n",
            "357/357 [==============================] - 1s 2ms/step - loss: 0.0012\n",
            "Epoch 4/50\n",
            "357/357 [==============================] - 1s 2ms/step - loss: 0.0012\n",
            "Epoch 5/50\n",
            "357/357 [==============================] - 1s 2ms/step - loss: 0.0012\n",
            "Epoch 6/50\n",
            "357/357 [==============================] - 1s 2ms/step - loss: 0.0012\n",
            "Epoch 7/50\n",
            "357/357 [==============================] - 1s 2ms/step - loss: 0.0012\n",
            "Epoch 8/50\n",
            "357/357 [==============================] - 1s 2ms/step - loss: 0.0012\n",
            "Epoch 9/50\n",
            "357/357 [==============================] - 1s 2ms/step - loss: 0.0012\n",
            "Epoch 10/50\n",
            "357/357 [==============================] - 1s 2ms/step - loss: 0.0012\n",
            "Epoch 11/50\n",
            "357/357 [==============================] - 1s 2ms/step - loss: 0.0012\n",
            "Epoch 12/50\n",
            "357/357 [==============================] - 1s 2ms/step - loss: 0.0012\n",
            "Epoch 13/50\n",
            "357/357 [==============================] - 1s 2ms/step - loss: 0.0012\n",
            "Epoch 14/50\n",
            "357/357 [==============================] - 1s 2ms/step - loss: 0.0012\n",
            "Epoch 15/50\n",
            "357/357 [==============================] - 1s 2ms/step - loss: 0.0012\n",
            "Epoch 16/50\n",
            "357/357 [==============================] - 1s 2ms/step - loss: 0.0012\n",
            "Epoch 17/50\n",
            "357/357 [==============================] - 1s 2ms/step - loss: 0.0012\n",
            "Epoch 18/50\n",
            "357/357 [==============================] - 1s 2ms/step - loss: 0.0012\n",
            "Epoch 19/50\n",
            "357/357 [==============================] - 1s 2ms/step - loss: 0.0012\n",
            "Epoch 20/50\n",
            "357/357 [==============================] - 1s 2ms/step - loss: 0.0012\n",
            "Epoch 21/50\n",
            "357/357 [==============================] - 1s 2ms/step - loss: 0.0012\n",
            "Epoch 22/50\n",
            "357/357 [==============================] - 1s 2ms/step - loss: 0.0012\n",
            "Epoch 23/50\n",
            "357/357 [==============================] - 1s 2ms/step - loss: 0.0012\n",
            "Epoch 24/50\n",
            "357/357 [==============================] - 1s 2ms/step - loss: 0.0012\n",
            "Epoch 25/50\n",
            "357/357 [==============================] - 1s 2ms/step - loss: 0.0012\n",
            "Epoch 26/50\n",
            "357/357 [==============================] - 1s 2ms/step - loss: 0.0012\n",
            "Epoch 27/50\n",
            "357/357 [==============================] - 1s 2ms/step - loss: 0.0012\n",
            "Epoch 28/50\n",
            "357/357 [==============================] - 1s 2ms/step - loss: 0.0012\n",
            "Epoch 29/50\n",
            "357/357 [==============================] - 1s 2ms/step - loss: 0.0012\n",
            "Epoch 30/50\n",
            "357/357 [==============================] - 1s 2ms/step - loss: 0.0012\n",
            "Epoch 31/50\n",
            "357/357 [==============================] - 1s 2ms/step - loss: 0.0012\n",
            "Epoch 32/50\n",
            "357/357 [==============================] - 1s 2ms/step - loss: 0.0012\n",
            "Epoch 33/50\n",
            "357/357 [==============================] - 1s 2ms/step - loss: 0.0012\n",
            "Epoch 34/50\n",
            "357/357 [==============================] - 1s 2ms/step - loss: 0.0012\n",
            "Epoch 35/50\n",
            "357/357 [==============================] - 1s 2ms/step - loss: 0.0012\n",
            "Epoch 36/50\n",
            "357/357 [==============================] - 1s 2ms/step - loss: 0.0012\n",
            "Epoch 37/50\n",
            "357/357 [==============================] - 1s 2ms/step - loss: 0.0012\n",
            "Epoch 38/50\n",
            "357/357 [==============================] - 1s 2ms/step - loss: 0.0012\n",
            "Epoch 39/50\n",
            "357/357 [==============================] - 1s 2ms/step - loss: 0.0012\n",
            "Epoch 40/50\n",
            "357/357 [==============================] - 1s 2ms/step - loss: 0.0012\n",
            "Epoch 41/50\n",
            "357/357 [==============================] - 1s 2ms/step - loss: 0.0012\n",
            "Epoch 42/50\n",
            "357/357 [==============================] - 1s 2ms/step - loss: 0.0012\n",
            "Epoch 43/50\n",
            "357/357 [==============================] - 1s 2ms/step - loss: 0.0012\n",
            "Epoch 44/50\n",
            "357/357 [==============================] - 1s 2ms/step - loss: 0.0012\n",
            "Epoch 45/50\n",
            "357/357 [==============================] - 1s 2ms/step - loss: 0.0012\n",
            "Epoch 46/50\n",
            "357/357 [==============================] - 1s 2ms/step - loss: 0.0012\n",
            "Epoch 47/50\n",
            "357/357 [==============================] - 1s 2ms/step - loss: 0.0012\n",
            "Epoch 48/50\n",
            "357/357 [==============================] - 1s 2ms/step - loss: 0.0012\n",
            "Epoch 49/50\n",
            "357/357 [==============================] - 1s 2ms/step - loss: 0.0012\n",
            "Epoch 50/50\n",
            "357/357 [==============================] - 1s 2ms/step - loss: 0.0012\n"
          ]
        }
      ]
    },
    {
      "cell_type": "code",
      "source": [
        "model.compile(optimizer=Adam(learning_rate=0.001), loss='mse')\n",
        "\n",
        "history = model.fit(X_train, X_train,\n",
        "                    epochs=20,\n",
        "                    batch_size=12) # загружаем данные в модель(X_train'ы) и обучаем"
      ],
      "metadata": {
        "colab": {
          "base_uri": "https://localhost:8080/"
        },
        "id": "zEbOcUIBiXwg",
        "outputId": "a7386b81-1f60-4007-88d5-b0c4f95e5393"
      },
      "execution_count": null,
      "outputs": [
        {
          "output_type": "stream",
          "name": "stdout",
          "text": [
            "Epoch 1/20\n",
            "357/357 [==============================] - 1s 2ms/step - loss: 0.0012\n",
            "Epoch 2/20\n",
            "357/357 [==============================] - 1s 2ms/step - loss: 0.0012\n",
            "Epoch 3/20\n",
            "357/357 [==============================] - 1s 2ms/step - loss: 0.0012\n",
            "Epoch 4/20\n",
            "357/357 [==============================] - 1s 2ms/step - loss: 0.0012\n",
            "Epoch 5/20\n",
            "357/357 [==============================] - 1s 2ms/step - loss: 0.0012\n",
            "Epoch 6/20\n",
            "357/357 [==============================] - 1s 2ms/step - loss: 0.0012\n",
            "Epoch 7/20\n",
            "357/357 [==============================] - 1s 2ms/step - loss: 0.0012\n",
            "Epoch 8/20\n",
            "357/357 [==============================] - 1s 2ms/step - loss: 0.0012\n",
            "Epoch 9/20\n",
            "357/357 [==============================] - 1s 2ms/step - loss: 0.0012\n",
            "Epoch 10/20\n",
            "357/357 [==============================] - 1s 2ms/step - loss: 0.0012\n",
            "Epoch 11/20\n",
            "357/357 [==============================] - 1s 2ms/step - loss: 0.0012\n",
            "Epoch 12/20\n",
            "357/357 [==============================] - 1s 2ms/step - loss: 0.0012\n",
            "Epoch 13/20\n",
            "357/357 [==============================] - 1s 2ms/step - loss: 0.0012\n",
            "Epoch 14/20\n",
            "357/357 [==============================] - 1s 2ms/step - loss: 0.0012\n",
            "Epoch 15/20\n",
            "357/357 [==============================] - 1s 2ms/step - loss: 0.0012\n",
            "Epoch 16/20\n",
            "357/357 [==============================] - 1s 2ms/step - loss: 0.0011\n",
            "Epoch 17/20\n",
            "357/357 [==============================] - 1s 2ms/step - loss: 0.0011\n",
            "Epoch 18/20\n",
            "357/357 [==============================] - 1s 2ms/step - loss: 0.0011\n",
            "Epoch 19/20\n",
            "357/357 [==============================] - 1s 2ms/step - loss: 0.0011\n",
            "Epoch 20/20\n",
            "357/357 [==============================] - 1s 2ms/step - loss: 0.0011\n"
          ]
        }
      ]
    },
    {
      "cell_type": "code",
      "source": [
        "predictions = model.predict(X_test) # делаем предсказание по X_test на неактивных и активных молекулах\n",
        "print(predictions.shape)\n",
        "\n",
        "# считаю mse\n",
        "mse = np.mean(np.power(X_test - predictions, 2), axis=1)\n",
        "\n",
        "mse_Inactivel = mse[:1071] # неактивные. Так как при concatenate X_test и smal_activeдо 1071 были неактивные, а после 1071 активные.\n",
        "mse_Active = mse[1071:] # активные\n",
        "\n",
        "# размеры\n",
        "print(mse_Inactivel.shape)\n",
        "print(mse_Active.shape)"
      ],
      "metadata": {
        "colab": {
          "base_uri": "https://localhost:8080/"
        },
        "id": "eN1gTwNpviAp",
        "outputId": "8de07939-b46a-4e13-e71b-603b3b3eb15e"
      },
      "execution_count": null,
      "outputs": [
        {
          "output_type": "stream",
          "name": "stdout",
          "text": [
            "(1277, 100)\n",
            "(1071,)\n",
            "(206,)\n"
          ]
        }
      ]
    },
    {
      "cell_type": "code",
      "source": [
        "print(\"Минимальная ошибка неактивных молекул:\", round(min(mse_Inactivel),4)) #\n",
        "print(\"Максимальная ошибка неактивных молекул:\", round(max(mse_Inactivel),4)) #\n",
        "print(\"Средняя ошибка неактивных молекул:\", round(sum(mse_Inactivel) / len(mse_Inactivel),8)) # средняя ошибка\n",
        "print()\n",
        "print(\"Минимальная ошибка активных молекул:\", round(min(mse_Active),4)) #\n",
        "print(\"Максимальная ошибка активных молекул:\", round(max(mse_Active),4)) #\n",
        "print(\"Средняя ошибка активных молекул:\", round(sum(mse_Active) / len(mse_Active),8)) # средняя ошибка"
      ],
      "metadata": {
        "id": "bQuWdR6uvsEW",
        "colab": {
          "base_uri": "https://localhost:8080/"
        },
        "outputId": "5fe80515-e00c-4304-c64b-c1043ad4ca2d"
      },
      "execution_count": null,
      "outputs": [
        {
          "output_type": "stream",
          "name": "stdout",
          "text": [
            "Минимальная ошибка неактивных молекул: 0.0\n",
            "Максимальная ошибка неактивных молекул: 0.0565\n",
            "Средняя ошибка неактивных молекул: 0.00135621\n",
            "\n",
            "Минимальная ошибка активных молекул: 0.0\n",
            "Максимальная ошибка активных молекул: 0.0663\n",
            "Средняя ошибка активных молекул: 0.00409747\n"
          ]
        }
      ]
    },
    {
      "cell_type": "code",
      "source": [
        "def getAccByBias(bias): \n",
        "  isInactive = mse_Inactivel < bias # тут поменял знаки, так как mse неактивных меньше\n",
        "  isActive = mse_Active > bias # поменял знаки\n",
        "\n",
        "  accInactive = sum(isInactive) / len(isInactive) # вычисляем процент неактивных\n",
        "  accActive = sum(isActive) / len(isActive) # вычисляем процент активных\n",
        "\n",
        "  print(\"Распознано неактивных молекул: \", round(100*accInactive), \"%\", sep=\"\")\n",
        "  print(\"Распознано активных молекул: \", round(100*accActive), \"%\", sep=\"\")\n",
        "  print(\"Средняя точность распознавания: \", round(50*(accInactive + accActive)), \"%\", sep=\"\")"
      ],
      "metadata": {
        "id": "7JGOGgG2v9cv"
      },
      "execution_count": null,
      "outputs": []
    },
    {
      "cell_type": "code",
      "source": [
        "getAccByBias(0.0013)"
      ],
      "metadata": {
        "colab": {
          "base_uri": "https://localhost:8080/"
        },
        "id": "8FSyTdGvwvTB",
        "outputId": "1f5ba6c6-ff8f-4f36-c4da-bb8cdbaed827"
      },
      "execution_count": null,
      "outputs": [
        {
          "output_type": "stream",
          "name": "stdout",
          "text": [
            "Распознано неактивных молекул: 87%\n",
            "Распознано активных молекул: 32%\n",
            "Средняя точность распознавания: 59%\n"
          ]
        }
      ]
    },
    {
      "cell_type": "code",
      "source": [
        "# функцию submit\n",
        "\n",
        "def submission(df_test, model, bias):\n",
        "\n",
        "  test_smiles = []\n",
        "  for i in df_test['Smiles']:\n",
        "    test_smiles.append(i)\n",
        "\n",
        "  test = []\n",
        "  for i in test_smiles:\n",
        "    sm = get_morgan_fingerprint(i)  # получаю вектор из smiles\n",
        "    test.append(sm)\n",
        "  test = np.array(test)             # преобразую в numpy\n",
        "  \n",
        "  predictions_test = model.predict(test) # делаем предсказание\n",
        "  \n",
        "  mse_test = np.mean(np.power(test - predictions_test, 2), axis=1)\n",
        "\n",
        "  # Формирую табличку \n",
        "  submission = df_test\n",
        "  submission['Active'] = ''\n",
        "  \n",
        "  for i in range(len(mse_test)):\n",
        "    if mse_test[i] >= bias:\n",
        "      submission['Active'].values[i] = 0\n",
        "    else:\n",
        "      submission['Active'].values[i] = 1\n",
        "  \n",
        "  submission.to_csv('submission.csv', index=False)\n",
        "\n",
        "   \n",
        "  print('Длинна test_smiles:', len(test_smiles))\n",
        "  print(\"Пример значения из test_smiles:\", test_smiles[1])\n",
        "  print(\"Минимальная ошибка молекул:\", round(min(mse_test),4)) #\n",
        "  print(\"Максимальная ошибка молекул:\", round(max(mse_test),4)) #\n",
        "  print(\"Средняя ошибка молекул:\", round(sum(mse_test) / len(mse_test),8)) # среднюю ошибку\n",
        "\n",
        "  return submission"
      ],
      "metadata": {
        "id": "UAZ6qbsj3v7v"
      },
      "execution_count": null,
      "outputs": []
    },
    {
      "cell_type": "code",
      "source": [
        "df_test = pd.read_csv('/content/test.csv', index_col = 0)\n",
        "df_test.head()"
      ],
      "metadata": {
        "colab": {
          "base_uri": "https://localhost:8080/",
          "height": 206
        },
        "id": "qiINr5Tl2M-m",
        "outputId": "2f20523a-c687-4583-9285-a53f149cc3ee"
      },
      "execution_count": null,
      "outputs": [
        {
          "output_type": "execute_result",
          "data": {
            "text/html": [
              "\n",
              "  <div id=\"df-f8efd9da-f16f-44ac-b5ed-78465ad1d4f4\">\n",
              "    <div class=\"colab-df-container\">\n",
              "      <div>\n",
              "<style scoped>\n",
              "    .dataframe tbody tr th:only-of-type {\n",
              "        vertical-align: middle;\n",
              "    }\n",
              "\n",
              "    .dataframe tbody tr th {\n",
              "        vertical-align: top;\n",
              "    }\n",
              "\n",
              "    .dataframe thead th {\n",
              "        text-align: right;\n",
              "    }\n",
              "</style>\n",
              "<table border=\"1\" class=\"dataframe\">\n",
              "  <thead>\n",
              "    <tr style=\"text-align: right;\">\n",
              "      <th></th>\n",
              "      <th>Smiles</th>\n",
              "    </tr>\n",
              "  </thead>\n",
              "  <tbody>\n",
              "    <tr>\n",
              "      <th>0</th>\n",
              "      <td>COC(=O)Nc1ccc(-c2nc(N3CCOCC3)c3cnn(C4CCN(Cc5cc...</td>\n",
              "    </tr>\n",
              "    <tr>\n",
              "      <th>1</th>\n",
              "      <td>O=Cc1cn(Cc2ccc(Cl)cc2)c2ccccc12</td>\n",
              "    </tr>\n",
              "    <tr>\n",
              "      <th>2</th>\n",
              "      <td>NC(CO)C(=O)NNCc1ccc(O)c(O)c1O</td>\n",
              "    </tr>\n",
              "    <tr>\n",
              "      <th>3</th>\n",
              "      <td>Nc1nc(=O)n([C@H]2C[C@H](O)[C@@H](CO)O2)cc1Cl</td>\n",
              "    </tr>\n",
              "    <tr>\n",
              "      <th>4</th>\n",
              "      <td>Nc1ccc(C(=O)Nc2cccc(-c3nc(N4CCOCC4)c4oc5ncccc5...</td>\n",
              "    </tr>\n",
              "  </tbody>\n",
              "</table>\n",
              "</div>\n",
              "      <button class=\"colab-df-convert\" onclick=\"convertToInteractive('df-f8efd9da-f16f-44ac-b5ed-78465ad1d4f4')\"\n",
              "              title=\"Convert this dataframe to an interactive table.\"\n",
              "              style=\"display:none;\">\n",
              "        \n",
              "  <svg xmlns=\"http://www.w3.org/2000/svg\" height=\"24px\"viewBox=\"0 0 24 24\"\n",
              "       width=\"24px\">\n",
              "    <path d=\"M0 0h24v24H0V0z\" fill=\"none\"/>\n",
              "    <path d=\"M18.56 5.44l.94 2.06.94-2.06 2.06-.94-2.06-.94-.94-2.06-.94 2.06-2.06.94zm-11 1L8.5 8.5l.94-2.06 2.06-.94-2.06-.94L8.5 2.5l-.94 2.06-2.06.94zm10 10l.94 2.06.94-2.06 2.06-.94-2.06-.94-.94-2.06-.94 2.06-2.06.94z\"/><path d=\"M17.41 7.96l-1.37-1.37c-.4-.4-.92-.59-1.43-.59-.52 0-1.04.2-1.43.59L10.3 9.45l-7.72 7.72c-.78.78-.78 2.05 0 2.83L4 21.41c.39.39.9.59 1.41.59.51 0 1.02-.2 1.41-.59l7.78-7.78 2.81-2.81c.8-.78.8-2.07 0-2.86zM5.41 20L4 18.59l7.72-7.72 1.47 1.35L5.41 20z\"/>\n",
              "  </svg>\n",
              "      </button>\n",
              "      \n",
              "  <style>\n",
              "    .colab-df-container {\n",
              "      display:flex;\n",
              "      flex-wrap:wrap;\n",
              "      gap: 12px;\n",
              "    }\n",
              "\n",
              "    .colab-df-convert {\n",
              "      background-color: #E8F0FE;\n",
              "      border: none;\n",
              "      border-radius: 50%;\n",
              "      cursor: pointer;\n",
              "      display: none;\n",
              "      fill: #1967D2;\n",
              "      height: 32px;\n",
              "      padding: 0 0 0 0;\n",
              "      width: 32px;\n",
              "    }\n",
              "\n",
              "    .colab-df-convert:hover {\n",
              "      background-color: #E2EBFA;\n",
              "      box-shadow: 0px 1px 2px rgba(60, 64, 67, 0.3), 0px 1px 3px 1px rgba(60, 64, 67, 0.15);\n",
              "      fill: #174EA6;\n",
              "    }\n",
              "\n",
              "    [theme=dark] .colab-df-convert {\n",
              "      background-color: #3B4455;\n",
              "      fill: #D2E3FC;\n",
              "    }\n",
              "\n",
              "    [theme=dark] .colab-df-convert:hover {\n",
              "      background-color: #434B5C;\n",
              "      box-shadow: 0px 1px 3px 1px rgba(0, 0, 0, 0.15);\n",
              "      filter: drop-shadow(0px 1px 2px rgba(0, 0, 0, 0.3));\n",
              "      fill: #FFFFFF;\n",
              "    }\n",
              "  </style>\n",
              "\n",
              "      <script>\n",
              "        const buttonEl =\n",
              "          document.querySelector('#df-f8efd9da-f16f-44ac-b5ed-78465ad1d4f4 button.colab-df-convert');\n",
              "        buttonEl.style.display =\n",
              "          google.colab.kernel.accessAllowed ? 'block' : 'none';\n",
              "\n",
              "        async function convertToInteractive(key) {\n",
              "          const element = document.querySelector('#df-f8efd9da-f16f-44ac-b5ed-78465ad1d4f4');\n",
              "          const dataTable =\n",
              "            await google.colab.kernel.invokeFunction('convertToInteractive',\n",
              "                                                     [key], {});\n",
              "          if (!dataTable) return;\n",
              "\n",
              "          const docLinkHtml = 'Like what you see? Visit the ' +\n",
              "            '<a target=\"_blank\" href=https://colab.research.google.com/notebooks/data_table.ipynb>data table notebook</a>'\n",
              "            + ' to learn more about interactive tables.';\n",
              "          element.innerHTML = '';\n",
              "          dataTable['output_type'] = 'display_data';\n",
              "          await google.colab.output.renderOutput(dataTable, element);\n",
              "          const docLink = document.createElement('div');\n",
              "          docLink.innerHTML = docLinkHtml;\n",
              "          element.appendChild(docLink);\n",
              "        }\n",
              "      </script>\n",
              "    </div>\n",
              "  </div>\n",
              "  "
            ],
            "text/plain": [
              "                                              Smiles\n",
              "0  COC(=O)Nc1ccc(-c2nc(N3CCOCC3)c3cnn(C4CCN(Cc5cc...\n",
              "1                    O=Cc1cn(Cc2ccc(Cl)cc2)c2ccccc12\n",
              "2                      NC(CO)C(=O)NNCc1ccc(O)c(O)c1O\n",
              "3       Nc1nc(=O)n([C@H]2C[C@H](O)[C@@H](CO)O2)cc1Cl\n",
              "4  Nc1ccc(C(=O)Nc2cccc(-c3nc(N4CCOCC4)c4oc5ncccc5..."
            ]
          },
          "metadata": {},
          "execution_count": 200
        }
      ]
    },
    {
      "cell_type": "code",
      "source": [
        "submission = submission(df_test, model, 0.00031)"
      ],
      "metadata": {
        "colab": {
          "base_uri": "https://localhost:8080/"
        },
        "id": "NJbY3iAz1njI",
        "outputId": "220ce1e1-6ab1-4f9e-dc79-c417538ece0f"
      },
      "execution_count": null,
      "outputs": [
        {
          "output_type": "stream",
          "name": "stdout",
          "text": [
            "Длинна test_smiles: 1614\n",
            "Пример значения из test_smiles: O=Cc1cn(Cc2ccc(Cl)cc2)c2ccccc12\n",
            "Минимальная ошибка молекул: 0.0058\n",
            "Максимальная ошибка молекул: 0.0805\n",
            "Средняя ошибка молекул: 0.03111169\n"
          ]
        }
      ]
    },
    {
      "cell_type": "code",
      "source": [
        "submission"
      ],
      "metadata": {
        "colab": {
          "base_uri": "https://localhost:8080/",
          "height": 424
        },
        "id": "VjyiW4-R2dNg",
        "outputId": "b492ebf4-c8bb-46dd-ee40-8a965d04b74f"
      },
      "execution_count": null,
      "outputs": [
        {
          "output_type": "execute_result",
          "data": {
            "text/html": [
              "\n",
              "  <div id=\"df-8fd77aa6-92d8-49b8-b48a-65d62e5f7d2d\">\n",
              "    <div class=\"colab-df-container\">\n",
              "      <div>\n",
              "<style scoped>\n",
              "    .dataframe tbody tr th:only-of-type {\n",
              "        vertical-align: middle;\n",
              "    }\n",
              "\n",
              "    .dataframe tbody tr th {\n",
              "        vertical-align: top;\n",
              "    }\n",
              "\n",
              "    .dataframe thead th {\n",
              "        text-align: right;\n",
              "    }\n",
              "</style>\n",
              "<table border=\"1\" class=\"dataframe\">\n",
              "  <thead>\n",
              "    <tr style=\"text-align: right;\">\n",
              "      <th></th>\n",
              "      <th>Smiles</th>\n",
              "      <th>Active</th>\n",
              "    </tr>\n",
              "  </thead>\n",
              "  <tbody>\n",
              "    <tr>\n",
              "      <th>0</th>\n",
              "      <td>COC(=O)Nc1ccc(-c2nc(N3CCOCC3)c3cnn(C4CCN(Cc5cc...</td>\n",
              "      <td>0</td>\n",
              "    </tr>\n",
              "    <tr>\n",
              "      <th>1</th>\n",
              "      <td>O=Cc1cn(Cc2ccc(Cl)cc2)c2ccccc12</td>\n",
              "      <td>0</td>\n",
              "    </tr>\n",
              "    <tr>\n",
              "      <th>2</th>\n",
              "      <td>NC(CO)C(=O)NNCc1ccc(O)c(O)c1O</td>\n",
              "      <td>0</td>\n",
              "    </tr>\n",
              "    <tr>\n",
              "      <th>3</th>\n",
              "      <td>Nc1nc(=O)n([C@H]2C[C@H](O)[C@@H](CO)O2)cc1Cl</td>\n",
              "      <td>0</td>\n",
              "    </tr>\n",
              "    <tr>\n",
              "      <th>4</th>\n",
              "      <td>Nc1ccc(C(=O)Nc2cccc(-c3nc(N4CCOCC4)c4oc5ncccc5...</td>\n",
              "      <td>0</td>\n",
              "    </tr>\n",
              "    <tr>\n",
              "      <th>...</th>\n",
              "      <td>...</td>\n",
              "      <td>...</td>\n",
              "    </tr>\n",
              "    <tr>\n",
              "      <th>1609</th>\n",
              "      <td>NS(=O)(=O)c1cc2c(cc1Cl)NC(C1CC3C=CC1C3)NS2(=O)=O</td>\n",
              "      <td>0</td>\n",
              "    </tr>\n",
              "    <tr>\n",
              "      <th>1610</th>\n",
              "      <td>Cc1cccc(Nc2ccncc2S(=O)(=O)NC(=O)NC(C)C)c1</td>\n",
              "      <td>0</td>\n",
              "    </tr>\n",
              "    <tr>\n",
              "      <th>1611</th>\n",
              "      <td>CCCC(=O)O[C@]1(C(=O)CO)CC[C@H]2[C@@H]3CCC4=CC(...</td>\n",
              "      <td>0</td>\n",
              "    </tr>\n",
              "    <tr>\n",
              "      <th>1612</th>\n",
              "      <td>CN(C)c1cccc(Oc2cnc(Nc3cccc(O)c3)nc2)c1</td>\n",
              "      <td>0</td>\n",
              "    </tr>\n",
              "    <tr>\n",
              "      <th>1613</th>\n",
              "      <td>O=C(O)c1ccccc1-c1c2ccc(=O)cc-2oc2cc(O)ccc12</td>\n",
              "      <td>0</td>\n",
              "    </tr>\n",
              "  </tbody>\n",
              "</table>\n",
              "<p>1614 rows × 2 columns</p>\n",
              "</div>\n",
              "      <button class=\"colab-df-convert\" onclick=\"convertToInteractive('df-8fd77aa6-92d8-49b8-b48a-65d62e5f7d2d')\"\n",
              "              title=\"Convert this dataframe to an interactive table.\"\n",
              "              style=\"display:none;\">\n",
              "        \n",
              "  <svg xmlns=\"http://www.w3.org/2000/svg\" height=\"24px\"viewBox=\"0 0 24 24\"\n",
              "       width=\"24px\">\n",
              "    <path d=\"M0 0h24v24H0V0z\" fill=\"none\"/>\n",
              "    <path d=\"M18.56 5.44l.94 2.06.94-2.06 2.06-.94-2.06-.94-.94-2.06-.94 2.06-2.06.94zm-11 1L8.5 8.5l.94-2.06 2.06-.94-2.06-.94L8.5 2.5l-.94 2.06-2.06.94zm10 10l.94 2.06.94-2.06 2.06-.94-2.06-.94-.94-2.06-.94 2.06-2.06.94z\"/><path d=\"M17.41 7.96l-1.37-1.37c-.4-.4-.92-.59-1.43-.59-.52 0-1.04.2-1.43.59L10.3 9.45l-7.72 7.72c-.78.78-.78 2.05 0 2.83L4 21.41c.39.39.9.59 1.41.59.51 0 1.02-.2 1.41-.59l7.78-7.78 2.81-2.81c.8-.78.8-2.07 0-2.86zM5.41 20L4 18.59l7.72-7.72 1.47 1.35L5.41 20z\"/>\n",
              "  </svg>\n",
              "      </button>\n",
              "      \n",
              "  <style>\n",
              "    .colab-df-container {\n",
              "      display:flex;\n",
              "      flex-wrap:wrap;\n",
              "      gap: 12px;\n",
              "    }\n",
              "\n",
              "    .colab-df-convert {\n",
              "      background-color: #E8F0FE;\n",
              "      border: none;\n",
              "      border-radius: 50%;\n",
              "      cursor: pointer;\n",
              "      display: none;\n",
              "      fill: #1967D2;\n",
              "      height: 32px;\n",
              "      padding: 0 0 0 0;\n",
              "      width: 32px;\n",
              "    }\n",
              "\n",
              "    .colab-df-convert:hover {\n",
              "      background-color: #E2EBFA;\n",
              "      box-shadow: 0px 1px 2px rgba(60, 64, 67, 0.3), 0px 1px 3px 1px rgba(60, 64, 67, 0.15);\n",
              "      fill: #174EA6;\n",
              "    }\n",
              "\n",
              "    [theme=dark] .colab-df-convert {\n",
              "      background-color: #3B4455;\n",
              "      fill: #D2E3FC;\n",
              "    }\n",
              "\n",
              "    [theme=dark] .colab-df-convert:hover {\n",
              "      background-color: #434B5C;\n",
              "      box-shadow: 0px 1px 3px 1px rgba(0, 0, 0, 0.15);\n",
              "      filter: drop-shadow(0px 1px 2px rgba(0, 0, 0, 0.3));\n",
              "      fill: #FFFFFF;\n",
              "    }\n",
              "  </style>\n",
              "\n",
              "      <script>\n",
              "        const buttonEl =\n",
              "          document.querySelector('#df-8fd77aa6-92d8-49b8-b48a-65d62e5f7d2d button.colab-df-convert');\n",
              "        buttonEl.style.display =\n",
              "          google.colab.kernel.accessAllowed ? 'block' : 'none';\n",
              "\n",
              "        async function convertToInteractive(key) {\n",
              "          const element = document.querySelector('#df-8fd77aa6-92d8-49b8-b48a-65d62e5f7d2d');\n",
              "          const dataTable =\n",
              "            await google.colab.kernel.invokeFunction('convertToInteractive',\n",
              "                                                     [key], {});\n",
              "          if (!dataTable) return;\n",
              "\n",
              "          const docLinkHtml = 'Like what you see? Visit the ' +\n",
              "            '<a target=\"_blank\" href=https://colab.research.google.com/notebooks/data_table.ipynb>data table notebook</a>'\n",
              "            + ' to learn more about interactive tables.';\n",
              "          element.innerHTML = '';\n",
              "          dataTable['output_type'] = 'display_data';\n",
              "          await google.colab.output.renderOutput(dataTable, element);\n",
              "          const docLink = document.createElement('div');\n",
              "          docLink.innerHTML = docLinkHtml;\n",
              "          element.appendChild(docLink);\n",
              "        }\n",
              "      </script>\n",
              "    </div>\n",
              "  </div>\n",
              "  "
            ],
            "text/plain": [
              "                                                 Smiles Active\n",
              "0     COC(=O)Nc1ccc(-c2nc(N3CCOCC3)c3cnn(C4CCN(Cc5cc...      0\n",
              "1                       O=Cc1cn(Cc2ccc(Cl)cc2)c2ccccc12      0\n",
              "2                         NC(CO)C(=O)NNCc1ccc(O)c(O)c1O      0\n",
              "3          Nc1nc(=O)n([C@H]2C[C@H](O)[C@@H](CO)O2)cc1Cl      0\n",
              "4     Nc1ccc(C(=O)Nc2cccc(-c3nc(N4CCOCC4)c4oc5ncccc5...      0\n",
              "...                                                 ...    ...\n",
              "1609   NS(=O)(=O)c1cc2c(cc1Cl)NC(C1CC3C=CC1C3)NS2(=O)=O      0\n",
              "1610          Cc1cccc(Nc2ccncc2S(=O)(=O)NC(=O)NC(C)C)c1      0\n",
              "1611  CCCC(=O)O[C@]1(C(=O)CO)CC[C@H]2[C@@H]3CCC4=CC(...      0\n",
              "1612             CN(C)c1cccc(Oc2cnc(Nc3cccc(O)c3)nc2)c1      0\n",
              "1613        O=C(O)c1ccccc1-c1c2ccc(=O)cc-2oc2cc(O)ccc12      0\n",
              "\n",
              "[1614 rows x 2 columns]"
            ]
          },
          "metadata": {},
          "execution_count": 203
        }
      ]
    },
    {
      "cell_type": "markdown",
      "source": [
        "#**Классификация на маленькой выборке**"
      ],
      "metadata": {
        "id": "zPfccVpnwv59"
      }
    },
    {
      "cell_type": "code",
      "source": [
        ""
      ],
      "metadata": {
        "id": "94DyjVubG3Q5"
      },
      "execution_count": null,
      "outputs": []
    },
    {
      "cell_type": "markdown",
      "source": [
        "**Всего по 206 примеров**"
      ],
      "metadata": {
        "id": "2ViNY9p36pG_"
      }
    },
    {
      "cell_type": "code",
      "source": [
        "# загружаю датасет\n",
        "df_train_new = pd.read_csv('/content/train.csv', index_col = 0)\n",
        "df_train_new.head()"
      ],
      "metadata": {
        "colab": {
          "base_uri": "https://localhost:8080/",
          "height": 206
        },
        "id": "9BNiI3QF5RPN",
        "outputId": "ba26d338-0f35-455c-f296-fcb49ac12b63"
      },
      "execution_count": null,
      "outputs": [
        {
          "output_type": "execute_result",
          "data": {
            "text/html": [
              "\n",
              "  <div id=\"df-49fd2763-81ca-4176-9578-b4a45be1de62\">\n",
              "    <div class=\"colab-df-container\">\n",
              "      <div>\n",
              "<style scoped>\n",
              "    .dataframe tbody tr th:only-of-type {\n",
              "        vertical-align: middle;\n",
              "    }\n",
              "\n",
              "    .dataframe tbody tr th {\n",
              "        vertical-align: top;\n",
              "    }\n",
              "\n",
              "    .dataframe thead th {\n",
              "        text-align: right;\n",
              "    }\n",
              "</style>\n",
              "<table border=\"1\" class=\"dataframe\">\n",
              "  <thead>\n",
              "    <tr style=\"text-align: right;\">\n",
              "      <th></th>\n",
              "      <th>Smiles</th>\n",
              "      <th>Active</th>\n",
              "    </tr>\n",
              "  </thead>\n",
              "  <tbody>\n",
              "    <tr>\n",
              "      <th>0</th>\n",
              "      <td>COc1ccc2[nH]cc(CCN)c2c1</td>\n",
              "      <td>False</td>\n",
              "    </tr>\n",
              "    <tr>\n",
              "      <th>1</th>\n",
              "      <td>CCCN1CCC[C@H](c2cccc(O)c2)C1.Cl</td>\n",
              "      <td>False</td>\n",
              "    </tr>\n",
              "    <tr>\n",
              "      <th>2</th>\n",
              "      <td>O=C(NO)c1cnc(N2CCN(S(=O)(=O)c3ccc4ccccc4c3)CC2...</td>\n",
              "      <td>False</td>\n",
              "    </tr>\n",
              "    <tr>\n",
              "      <th>3</th>\n",
              "      <td>Nc1cccc(CNC(=O)c2ccc(Oc3ccc(OCc4cccc(F)c4)cc3)...</td>\n",
              "      <td>False</td>\n",
              "    </tr>\n",
              "    <tr>\n",
              "      <th>4</th>\n",
              "      <td>Fc1ccccc1CNCc1ccc(-c2ccnc3[nH]ccc23)cc1</td>\n",
              "      <td>False</td>\n",
              "    </tr>\n",
              "  </tbody>\n",
              "</table>\n",
              "</div>\n",
              "      <button class=\"colab-df-convert\" onclick=\"convertToInteractive('df-49fd2763-81ca-4176-9578-b4a45be1de62')\"\n",
              "              title=\"Convert this dataframe to an interactive table.\"\n",
              "              style=\"display:none;\">\n",
              "        \n",
              "  <svg xmlns=\"http://www.w3.org/2000/svg\" height=\"24px\"viewBox=\"0 0 24 24\"\n",
              "       width=\"24px\">\n",
              "    <path d=\"M0 0h24v24H0V0z\" fill=\"none\"/>\n",
              "    <path d=\"M18.56 5.44l.94 2.06.94-2.06 2.06-.94-2.06-.94-.94-2.06-.94 2.06-2.06.94zm-11 1L8.5 8.5l.94-2.06 2.06-.94-2.06-.94L8.5 2.5l-.94 2.06-2.06.94zm10 10l.94 2.06.94-2.06 2.06-.94-2.06-.94-.94-2.06-.94 2.06-2.06.94z\"/><path d=\"M17.41 7.96l-1.37-1.37c-.4-.4-.92-.59-1.43-.59-.52 0-1.04.2-1.43.59L10.3 9.45l-7.72 7.72c-.78.78-.78 2.05 0 2.83L4 21.41c.39.39.9.59 1.41.59.51 0 1.02-.2 1.41-.59l7.78-7.78 2.81-2.81c.8-.78.8-2.07 0-2.86zM5.41 20L4 18.59l7.72-7.72 1.47 1.35L5.41 20z\"/>\n",
              "  </svg>\n",
              "      </button>\n",
              "      \n",
              "  <style>\n",
              "    .colab-df-container {\n",
              "      display:flex;\n",
              "      flex-wrap:wrap;\n",
              "      gap: 12px;\n",
              "    }\n",
              "\n",
              "    .colab-df-convert {\n",
              "      background-color: #E8F0FE;\n",
              "      border: none;\n",
              "      border-radius: 50%;\n",
              "      cursor: pointer;\n",
              "      display: none;\n",
              "      fill: #1967D2;\n",
              "      height: 32px;\n",
              "      padding: 0 0 0 0;\n",
              "      width: 32px;\n",
              "    }\n",
              "\n",
              "    .colab-df-convert:hover {\n",
              "      background-color: #E2EBFA;\n",
              "      box-shadow: 0px 1px 2px rgba(60, 64, 67, 0.3), 0px 1px 3px 1px rgba(60, 64, 67, 0.15);\n",
              "      fill: #174EA6;\n",
              "    }\n",
              "\n",
              "    [theme=dark] .colab-df-convert {\n",
              "      background-color: #3B4455;\n",
              "      fill: #D2E3FC;\n",
              "    }\n",
              "\n",
              "    [theme=dark] .colab-df-convert:hover {\n",
              "      background-color: #434B5C;\n",
              "      box-shadow: 0px 1px 3px 1px rgba(0, 0, 0, 0.15);\n",
              "      filter: drop-shadow(0px 1px 2px rgba(0, 0, 0, 0.3));\n",
              "      fill: #FFFFFF;\n",
              "    }\n",
              "  </style>\n",
              "\n",
              "      <script>\n",
              "        const buttonEl =\n",
              "          document.querySelector('#df-49fd2763-81ca-4176-9578-b4a45be1de62 button.colab-df-convert');\n",
              "        buttonEl.style.display =\n",
              "          google.colab.kernel.accessAllowed ? 'block' : 'none';\n",
              "\n",
              "        async function convertToInteractive(key) {\n",
              "          const element = document.querySelector('#df-49fd2763-81ca-4176-9578-b4a45be1de62');\n",
              "          const dataTable =\n",
              "            await google.colab.kernel.invokeFunction('convertToInteractive',\n",
              "                                                     [key], {});\n",
              "          if (!dataTable) return;\n",
              "\n",
              "          const docLinkHtml = 'Like what you see? Visit the ' +\n",
              "            '<a target=\"_blank\" href=https://colab.research.google.com/notebooks/data_table.ipynb>data table notebook</a>'\n",
              "            + ' to learn more about interactive tables.';\n",
              "          element.innerHTML = '';\n",
              "          dataTable['output_type'] = 'display_data';\n",
              "          await google.colab.output.renderOutput(dataTable, element);\n",
              "          const docLink = document.createElement('div');\n",
              "          docLink.innerHTML = docLinkHtml;\n",
              "          element.appendChild(docLink);\n",
              "        }\n",
              "      </script>\n",
              "    </div>\n",
              "  </div>\n",
              "  "
            ],
            "text/plain": [
              "                                              Smiles  Active\n",
              "0                            COc1ccc2[nH]cc(CCN)c2c1   False\n",
              "1                    CCCN1CCC[C@H](c2cccc(O)c2)C1.Cl   False\n",
              "2  O=C(NO)c1cnc(N2CCN(S(=O)(=O)c3ccc4ccccc4c3)CC2...   False\n",
              "3  Nc1cccc(CNC(=O)c2ccc(Oc3ccc(OCc4cccc(F)c4)cc3)...   False\n",
              "4            Fc1ccccc1CNCc1ccc(-c2ccnc3[nH]ccc23)cc1   False"
            ]
          },
          "metadata": {},
          "execution_count": 331
        }
      ]
    },
    {
      "cell_type": "code",
      "source": [
        "# df активные молекулы\n",
        "df_train_True = df_train_new[df_train_new.Active==True]\n",
        "# df неактивные молекулы\n",
        "df_train_False = df_train_new[df_train_new.Active==False]"
      ],
      "metadata": {
        "id": "rGsWLEnO5Tv8"
      },
      "execution_count": null,
      "outputs": []
    },
    {
      "cell_type": "code",
      "source": [
        "# собираю значения Smiles неактивных молекул в лист\n",
        "s_inactive = []\n",
        "for i in df_train_False['Smiles']:\n",
        "  s_inactive.append(i)\n",
        "\n",
        "print('Длинна s_inactive:', len(s_inactive))\n",
        "print(\"Пример значения из s_inactive:\", s_inactive[1])"
      ],
      "metadata": {
        "colab": {
          "base_uri": "https://localhost:8080/"
        },
        "id": "Nk2nT8f-5WLp",
        "outputId": "0e42db7f-9e6c-4236-97f4-f2308a980b2e"
      },
      "execution_count": null,
      "outputs": [
        {
          "output_type": "stream",
          "name": "stdout",
          "text": [
            "Длинна s_inactive: 5351\n",
            "Пример значения из s_inactive: CCCN1CCC[C@H](c2cccc(O)c2)C1.Cl\n"
          ]
        }
      ]
    },
    {
      "cell_type": "code",
      "source": [
        "# активные молекулы\n",
        "s_active = []\n",
        "for i in df_train_True['Smiles']:\n",
        "  s_active.append(i)\n",
        "\n",
        "print('Длинна s_active:', len(s_active))\n",
        "print(\"Пример значения из s_active:\", s_active[1])"
      ],
      "metadata": {
        "colab": {
          "base_uri": "https://localhost:8080/"
        },
        "id": "R2liU1g05Zxm",
        "outputId": "d5d5a88c-2d0b-46e1-cf92-e95be1a70fe5"
      },
      "execution_count": null,
      "outputs": [
        {
          "output_type": "stream",
          "name": "stdout",
          "text": [
            "Длинна s_active: 206\n",
            "Пример значения из s_active: C[C@H]1COc2c(N3CCN(C)CC3)c(F)cc3c(=O)c(C(=O)O)cn1c23\n"
          ]
        }
      ]
    },
    {
      "cell_type": "code",
      "source": [
        "# функция перефода smiles в вектор 0 и 1\n",
        "def get_morgan_fingerprint(smiles: str, radius=1, nBits=16384):\n",
        "    mol = Chem.MolFromSmiles(smiles)\n",
        "    morgan_fp = AllChem.GetMorganFingerprintAsBitVect(mol, radius=radius, nBits=nBits)\n",
        "    return (list(morgan_fp))"
      ],
      "metadata": {
        "id": "lYLb8j_35cE3"
      },
      "execution_count": null,
      "outputs": []
    },
    {
      "cell_type": "code",
      "source": [
        "# для активных\n",
        "smal_active = []\n",
        "for i in s_active:\n",
        "  sm = get_morgan_fingerprint(i)      # получаю вектор из smiles\n",
        "  smal_active.append(sm)\n",
        "smal_active = np.array(smal_active)   # преобразую в numpy\n",
        "\n",
        "print(f\"Количество молекул активных: {len(smal_active)}\\nДлинна вектора одной молекулы: {len(smal_active[77])}\")\n",
        "print(f'Пример вектора smal_active: {smal_active[77]}')\n",
        "print(f'Размер массива smal_active: {smal_active.shape}')"
      ],
      "metadata": {
        "colab": {
          "base_uri": "https://localhost:8080/"
        },
        "id": "52YRcN_l5e7r",
        "outputId": "1bac74b0-41f1-43aa-bb14-c075cc6cef1a"
      },
      "execution_count": null,
      "outputs": [
        {
          "output_type": "stream",
          "name": "stdout",
          "text": [
            "Количество молекул активных: 206\n",
            "Длинна вектора одной молекулы: 16384\n",
            "Пример вектора smal_active: [0 0 0 ... 0 0 0]\n",
            "Размер массива smal_active: (206, 16384)\n"
          ]
        }
      ]
    },
    {
      "cell_type": "code",
      "source": [
        "# для неактивных\n",
        "smal_inactive = []\n",
        "for i in s_inactive:\n",
        "  sm = get_morgan_fingerprint(i)       # получаю вектор из smiles\n",
        "  smal_inactive.append(sm)\n",
        "smal_inactive = np.array(smal_inactive)# преобразую в numpy\n",
        "\n",
        "print(f\"Количество молекул не активных: {len(smal_inactive)}\\nДлинна вектора одной молекулы: {len(smal_inactive[77])}\")\n",
        "print(f'Пример вектора smal_active: {smal_inactive[77]}')\n",
        "print(f'Размер массива smal_inactive: {smal_inactive.shape}')"
      ],
      "metadata": {
        "colab": {
          "base_uri": "https://localhost:8080/"
        },
        "id": "8ova8rA85hPJ",
        "outputId": "8e56810e-809b-4647-88c5-1bc33f15e849"
      },
      "execution_count": null,
      "outputs": [
        {
          "output_type": "stream",
          "name": "stdout",
          "text": [
            "Количество молекул не активных: 5351\n",
            "Длинна вектора одной молекулы: 16384\n",
            "Пример вектора smal_active: [0 0 0 ... 0 0 0]\n",
            "Размер массива smal_inactive: (5351, 16384)\n"
          ]
        }
      ]
    },
    {
      "cell_type": "code",
      "source": [
        "smal_i = np.random.choice(5351, 206, replace = False)\n",
        "smal_inactive = smal_inactive[smal_i]"
      ],
      "metadata": {
        "id": "Gu-fkTzN5kNB"
      },
      "execution_count": null,
      "outputs": []
    },
    {
      "cell_type": "code",
      "source": [
        "Y_active = np.ones(206,)\n",
        "Y_active.shape"
      ],
      "metadata": {
        "colab": {
          "base_uri": "https://localhost:8080/"
        },
        "id": "y9uzgLLZ5vVq",
        "outputId": "91fb1bea-f288-464e-91eb-f8e6d058e5ec"
      },
      "execution_count": null,
      "outputs": [
        {
          "output_type": "execute_result",
          "data": {
            "text/plain": [
              "(206,)"
            ]
          },
          "metadata": {},
          "execution_count": 368
        }
      ]
    },
    {
      "cell_type": "code",
      "source": [
        "Y_inactive = np.zeros(206,)\n",
        "Y_inactive.shape"
      ],
      "metadata": {
        "colab": {
          "base_uri": "https://localhost:8080/"
        },
        "id": "gHtRh64G51Gl",
        "outputId": "22c0dd7c-8bcb-42dc-d310-5744e9a6bea3"
      },
      "execution_count": null,
      "outputs": [
        {
          "output_type": "execute_result",
          "data": {
            "text/plain": [
              "(206,)"
            ]
          },
          "metadata": {},
          "execution_count": 369
        }
      ]
    },
    {
      "cell_type": "code",
      "source": [
        "X_tr = np.concatenate((smal_inactive, smal_active))\n",
        "Y_tr = np.concatenate((Y_inactive, Y_active))\n",
        "X_tr.shape, Y_tr.shape"
      ],
      "metadata": {
        "colab": {
          "base_uri": "https://localhost:8080/"
        },
        "id": "g6odhSqH55bh",
        "outputId": "200e7bc5-d157-414c-fac1-0ce49c37ebf9"
      },
      "execution_count": null,
      "outputs": [
        {
          "output_type": "execute_result",
          "data": {
            "text/plain": [
              "((412, 16384), (412,))"
            ]
          },
          "metadata": {},
          "execution_count": 370
        }
      ]
    },
    {
      "cell_type": "code",
      "source": [
        "X_train_1, X_test_1, Y_train_1, Y_test_1 = train_test_split(X_tr, Y_tr, test_size=0.05, shuffle=True) #shuffle=True - перемешиваем\n",
        "X_train_1.shape, X_test_1.shape, Y_train_1.shape, Y_test_1.shape"
      ],
      "metadata": {
        "id": "1P5_LINg581M",
        "colab": {
          "base_uri": "https://localhost:8080/"
        },
        "outputId": "c2ddf5df-c961-4e6c-bde9-bef31bb4b4f9"
      },
      "execution_count": null,
      "outputs": [
        {
          "output_type": "execute_result",
          "data": {
            "text/plain": [
              "((391, 16384), (21, 16384), (391,), (21,))"
            ]
          },
          "metadata": {},
          "execution_count": 371
        }
      ]
    },
    {
      "cell_type": "code",
      "source": [
        "X_train, X_test, Y_train, Y_test = train_test_split(X_train_1, Y_train_1, test_size=0.1, shuffle=True) #shuffle=True - перемешиваем\n",
        "X_train.shape, X_test.shape, Y_train.shape, Y_test.shape"
      ],
      "metadata": {
        "colab": {
          "base_uri": "https://localhost:8080/"
        },
        "id": "DUjGiWLU82cV",
        "outputId": "60fb4275-c350-4914-96a1-8ffc8f91e1e3"
      },
      "execution_count": null,
      "outputs": [
        {
          "output_type": "execute_result",
          "data": {
            "text/plain": [
              "((351, 16384), (40, 16384), (351,), (40,))"
            ]
          },
          "metadata": {},
          "execution_count": 372
        }
      ]
    },
    {
      "cell_type": "code",
      "source": [
        "def Model_cl(): \n",
        "  dataSize = 16384 # размер входного слоя\n",
        "  dataInput = Input(shape=(dataSize)) \n",
        "  \n",
        "  x = Dense(99, activation='relu')(dataInput) \n",
        "  x = BatchNormalization()(x)\n",
        "  x = Dropout(0.7) (x)\n",
        "  x = Dense(13, activation='relu') (x)\n",
        "  x = BatchNormalization()(x)\n",
        "  x = Dropout(0.1) (x)\n",
        "  x = Dense(7, activation='relu') (x)\n",
        "  x = BatchNormalization()(x)\n",
        "  x = Dense(1, activation='sigmoid')(x) \n",
        "  \n",
        "  model = Model(inputs=dataInput, outputs=x) # собрали модель \n",
        "  \n",
        "  model.compile(loss='binary_crossentropy', optimizer=Adam(learning_rate=0.0001), metrics=['accuracy'])\n",
        "  \n",
        "  return model"
      ],
      "metadata": {
        "id": "V30wSL9I6Gts"
      },
      "execution_count": null,
      "outputs": []
    },
    {
      "cell_type": "code",
      "source": [
        "model.summary()"
      ],
      "metadata": {
        "colab": {
          "base_uri": "https://localhost:8080/"
        },
        "id": "-Ii2bJ6C6JHA",
        "outputId": "fb64b4cc-2df5-4aa1-d5c1-3514df522788"
      },
      "execution_count": null,
      "outputs": [
        {
          "output_type": "stream",
          "name": "stdout",
          "text": [
            "Model: \"model_58\"\n",
            "_________________________________________________________________\n",
            " Layer (type)                Output Shape              Param #   \n",
            "=================================================================\n",
            " input_59 (InputLayer)       [(None, 16384)]           0         \n",
            "                                                                 \n",
            " dense_175 (Dense)           (None, 99)                1622115   \n",
            "                                                                 \n",
            " batch_normalization_70 (Bat  (None, 99)               396       \n",
            " chNormalization)                                                \n",
            "                                                                 \n",
            " dropout_66 (Dropout)        (None, 99)                0         \n",
            "                                                                 \n",
            " dense_176 (Dense)           (None, 13)                1300      \n",
            "                                                                 \n",
            " batch_normalization_71 (Bat  (None, 13)               52        \n",
            " chNormalization)                                                \n",
            "                                                                 \n",
            " dropout_67 (Dropout)        (None, 13)                0         \n",
            "                                                                 \n",
            " dense_177 (Dense)           (None, 7)                 98        \n",
            "                                                                 \n",
            " batch_normalization_72 (Bat  (None, 7)                28        \n",
            " chNormalization)                                                \n",
            "                                                                 \n",
            " dense_178 (Dense)           (None, 1)                 8         \n",
            "                                                                 \n",
            "=================================================================\n",
            "Total params: 1,623,997\n",
            "Trainable params: 1,623,759\n",
            "Non-trainable params: 238\n",
            "_________________________________________________________________\n"
          ]
        }
      ]
    },
    {
      "cell_type": "code",
      "source": [
        "model = Model_cl()\n",
        "\n",
        "# Обучаем сеть\n",
        "history = model.fit(X_train,         \n",
        "          Y_train,         \n",
        "          batch_size=16,    # Размер батча\n",
        "          epochs=100,        # Количество эпох\n",
        "          validation_data= (X_test, Y_test),\n",
        "          verbose=1)        # Выводить процесс обучения на каждой эпохе\n",
        "\n",
        "plt.plot(history.history['accuracy'], label='Точность на обучающей выборке')\n",
        "plt.plot(history.history['val_accuracy'], label ='Точность на проверочной выборке')\n",
        "plt.xlabel('Эпохи обучения')\n",
        "plt.ylabel('Точность')\n",
        "plt.legend()\n",
        "plt.show()\n",
        "\n",
        "plt.plot(history.history['loss'], label ='Ошибка на обучающей')\n",
        "plt.plot(history.history['val_loss'], label ='Ошибка на проверочной')\n",
        "plt.xlabel('Эпохи обучения')\n",
        "plt.ylabel('Ошибка')\n",
        "plt.legend()\n",
        "plt.show()"
      ],
      "metadata": {
        "id": "2QqvB6T06NJc",
        "colab": {
          "base_uri": "https://localhost:8080/",
          "height": 1000
        },
        "outputId": "6e262469-8521-41b0-a70f-e024658b5dda"
      },
      "execution_count": null,
      "outputs": [
        {
          "output_type": "stream",
          "name": "stdout",
          "text": [
            "Epoch 1/100\n",
            "22/22 [==============================] - 2s 31ms/step - loss: 0.9252 - accuracy: 0.5328 - val_loss: 0.6850 - val_accuracy: 0.5500\n",
            "Epoch 2/100\n",
            "22/22 [==============================] - 0s 9ms/step - loss: 0.8685 - accuracy: 0.5641 - val_loss: 0.6969 - val_accuracy: 0.5250\n",
            "Epoch 3/100\n",
            "22/22 [==============================] - 0s 15ms/step - loss: 0.8326 - accuracy: 0.5413 - val_loss: 0.7168 - val_accuracy: 0.5250\n",
            "Epoch 4/100\n",
            "22/22 [==============================] - 0s 12ms/step - loss: 0.8295 - accuracy: 0.5670 - val_loss: 0.7357 - val_accuracy: 0.5250\n",
            "Epoch 5/100\n",
            "22/22 [==============================] - 0s 10ms/step - loss: 0.7043 - accuracy: 0.6382 - val_loss: 0.7548 - val_accuracy: 0.5250\n",
            "Epoch 6/100\n",
            "22/22 [==============================] - 0s 11ms/step - loss: 0.6888 - accuracy: 0.6353 - val_loss: 0.7701 - val_accuracy: 0.5250\n",
            "Epoch 7/100\n",
            "22/22 [==============================] - 0s 16ms/step - loss: 0.6725 - accuracy: 0.6439 - val_loss: 0.7820 - val_accuracy: 0.5250\n",
            "Epoch 8/100\n",
            "22/22 [==============================] - 0s 10ms/step - loss: 0.6185 - accuracy: 0.6895 - val_loss: 0.7968 - val_accuracy: 0.5250\n",
            "Epoch 9/100\n",
            "22/22 [==============================] - 0s 10ms/step - loss: 0.6907 - accuracy: 0.6410 - val_loss: 0.7999 - val_accuracy: 0.5250\n",
            "Epoch 10/100\n",
            "22/22 [==============================] - 0s 10ms/step - loss: 0.6311 - accuracy: 0.7094 - val_loss: 0.7984 - val_accuracy: 0.5250\n",
            "Epoch 11/100\n",
            "22/22 [==============================] - 0s 10ms/step - loss: 0.5949 - accuracy: 0.7094 - val_loss: 0.7918 - val_accuracy: 0.5250\n",
            "Epoch 12/100\n",
            "22/22 [==============================] - 0s 10ms/step - loss: 0.5580 - accuracy: 0.7094 - val_loss: 0.7823 - val_accuracy: 0.5250\n",
            "Epoch 13/100\n",
            "22/22 [==============================] - 0s 10ms/step - loss: 0.5062 - accuracy: 0.7635 - val_loss: 0.7780 - val_accuracy: 0.5250\n",
            "Epoch 14/100\n",
            "22/22 [==============================] - 0s 10ms/step - loss: 0.5268 - accuracy: 0.7578 - val_loss: 0.7655 - val_accuracy: 0.5250\n",
            "Epoch 15/100\n",
            "22/22 [==============================] - 0s 9ms/step - loss: 0.5425 - accuracy: 0.7265 - val_loss: 0.7526 - val_accuracy: 0.5500\n",
            "Epoch 16/100\n",
            "22/22 [==============================] - 0s 10ms/step - loss: 0.5512 - accuracy: 0.7151 - val_loss: 0.7439 - val_accuracy: 0.5500\n",
            "Epoch 17/100\n",
            "22/22 [==============================] - 0s 10ms/step - loss: 0.5048 - accuracy: 0.7493 - val_loss: 0.7176 - val_accuracy: 0.5500\n",
            "Epoch 18/100\n",
            "22/22 [==============================] - 0s 9ms/step - loss: 0.4819 - accuracy: 0.7578 - val_loss: 0.6999 - val_accuracy: 0.5500\n",
            "Epoch 19/100\n",
            "22/22 [==============================] - 0s 9ms/step - loss: 0.4561 - accuracy: 0.7863 - val_loss: 0.6811 - val_accuracy: 0.6250\n",
            "Epoch 20/100\n",
            "22/22 [==============================] - 0s 9ms/step - loss: 0.5087 - accuracy: 0.7607 - val_loss: 0.6699 - val_accuracy: 0.6000\n",
            "Epoch 21/100\n",
            "22/22 [==============================] - 0s 10ms/step - loss: 0.4555 - accuracy: 0.7835 - val_loss: 0.6587 - val_accuracy: 0.6250\n",
            "Epoch 22/100\n",
            "22/22 [==============================] - 0s 9ms/step - loss: 0.4416 - accuracy: 0.7863 - val_loss: 0.6568 - val_accuracy: 0.6250\n",
            "Epoch 23/100\n",
            "22/22 [==============================] - 0s 9ms/step - loss: 0.4265 - accuracy: 0.8091 - val_loss: 0.6395 - val_accuracy: 0.6750\n",
            "Epoch 24/100\n",
            "22/22 [==============================] - 0s 9ms/step - loss: 0.3961 - accuracy: 0.8319 - val_loss: 0.6272 - val_accuracy: 0.6750\n",
            "Epoch 25/100\n",
            "22/22 [==============================] - 0s 9ms/step - loss: 0.4411 - accuracy: 0.7977 - val_loss: 0.6192 - val_accuracy: 0.6750\n",
            "Epoch 26/100\n",
            "22/22 [==============================] - 0s 10ms/step - loss: 0.4442 - accuracy: 0.8006 - val_loss: 0.6172 - val_accuracy: 0.6750\n",
            "Epoch 27/100\n",
            "22/22 [==============================] - 0s 10ms/step - loss: 0.4573 - accuracy: 0.7721 - val_loss: 0.6160 - val_accuracy: 0.6750\n",
            "Epoch 28/100\n",
            "22/22 [==============================] - 0s 9ms/step - loss: 0.3944 - accuracy: 0.8205 - val_loss: 0.6055 - val_accuracy: 0.6500\n",
            "Epoch 29/100\n",
            "22/22 [==============================] - 0s 9ms/step - loss: 0.3759 - accuracy: 0.8462 - val_loss: 0.5967 - val_accuracy: 0.6500\n",
            "Epoch 30/100\n",
            "22/22 [==============================] - 0s 10ms/step - loss: 0.4412 - accuracy: 0.8006 - val_loss: 0.5885 - val_accuracy: 0.6500\n",
            "Epoch 31/100\n",
            "22/22 [==============================] - 0s 9ms/step - loss: 0.3658 - accuracy: 0.8433 - val_loss: 0.5832 - val_accuracy: 0.6500\n",
            "Epoch 32/100\n",
            "22/22 [==============================] - 0s 9ms/step - loss: 0.4206 - accuracy: 0.8091 - val_loss: 0.5842 - val_accuracy: 0.6750\n",
            "Epoch 33/100\n",
            "22/22 [==============================] - 0s 10ms/step - loss: 0.3925 - accuracy: 0.7920 - val_loss: 0.5843 - val_accuracy: 0.6250\n",
            "Epoch 34/100\n",
            "22/22 [==============================] - 0s 10ms/step - loss: 0.3929 - accuracy: 0.8433 - val_loss: 0.5827 - val_accuracy: 0.6500\n",
            "Epoch 35/100\n",
            "22/22 [==============================] - 0s 10ms/step - loss: 0.3920 - accuracy: 0.8348 - val_loss: 0.5832 - val_accuracy: 0.6500\n",
            "Epoch 36/100\n",
            "22/22 [==============================] - 0s 9ms/step - loss: 0.3614 - accuracy: 0.8575 - val_loss: 0.5818 - val_accuracy: 0.6500\n",
            "Epoch 37/100\n",
            "22/22 [==============================] - 0s 10ms/step - loss: 0.3538 - accuracy: 0.8661 - val_loss: 0.5674 - val_accuracy: 0.6750\n",
            "Epoch 38/100\n",
            "22/22 [==============================] - 0s 10ms/step - loss: 0.3396 - accuracy: 0.8661 - val_loss: 0.5566 - val_accuracy: 0.6250\n",
            "Epoch 39/100\n",
            "22/22 [==============================] - 0s 9ms/step - loss: 0.3983 - accuracy: 0.8490 - val_loss: 0.5509 - val_accuracy: 0.6500\n",
            "Epoch 40/100\n",
            "22/22 [==============================] - 0s 10ms/step - loss: 0.3516 - accuracy: 0.8632 - val_loss: 0.5423 - val_accuracy: 0.6250\n",
            "Epoch 41/100\n",
            "22/22 [==============================] - 0s 9ms/step - loss: 0.3258 - accuracy: 0.8718 - val_loss: 0.5418 - val_accuracy: 0.6250\n",
            "Epoch 42/100\n",
            "22/22 [==============================] - 0s 10ms/step - loss: 0.3593 - accuracy: 0.8319 - val_loss: 0.5337 - val_accuracy: 0.6500\n",
            "Epoch 43/100\n",
            "22/22 [==============================] - 0s 10ms/step - loss: 0.3490 - accuracy: 0.8547 - val_loss: 0.5349 - val_accuracy: 0.6250\n",
            "Epoch 44/100\n",
            "22/22 [==============================] - 0s 10ms/step - loss: 0.3153 - accuracy: 0.8889 - val_loss: 0.5359 - val_accuracy: 0.6250\n",
            "Epoch 45/100\n",
            "22/22 [==============================] - 0s 10ms/step - loss: 0.3277 - accuracy: 0.8803 - val_loss: 0.5397 - val_accuracy: 0.6500\n",
            "Epoch 46/100\n",
            "22/22 [==============================] - 0s 9ms/step - loss: 0.3318 - accuracy: 0.8689 - val_loss: 0.5402 - val_accuracy: 0.6500\n",
            "Epoch 47/100\n",
            "22/22 [==============================] - 0s 9ms/step - loss: 0.3430 - accuracy: 0.8860 - val_loss: 0.5317 - val_accuracy: 0.6750\n",
            "Epoch 48/100\n",
            "22/22 [==============================] - 0s 10ms/step - loss: 0.2943 - accuracy: 0.8917 - val_loss: 0.5314 - val_accuracy: 0.6750\n",
            "Epoch 49/100\n",
            "22/22 [==============================] - 0s 10ms/step - loss: 0.3262 - accuracy: 0.8803 - val_loss: 0.5429 - val_accuracy: 0.6750\n",
            "Epoch 50/100\n",
            "22/22 [==============================] - 0s 9ms/step - loss: 0.2895 - accuracy: 0.8860 - val_loss: 0.5402 - val_accuracy: 0.6750\n",
            "Epoch 51/100\n",
            "22/22 [==============================] - 0s 10ms/step - loss: 0.2940 - accuracy: 0.8917 - val_loss: 0.5364 - val_accuracy: 0.6750\n",
            "Epoch 52/100\n",
            "22/22 [==============================] - 0s 9ms/step - loss: 0.3306 - accuracy: 0.8718 - val_loss: 0.5481 - val_accuracy: 0.7000\n",
            "Epoch 53/100\n",
            "22/22 [==============================] - 0s 10ms/step - loss: 0.3407 - accuracy: 0.8718 - val_loss: 0.5468 - val_accuracy: 0.7000\n",
            "Epoch 54/100\n",
            "22/22 [==============================] - 0s 10ms/step - loss: 0.3321 - accuracy: 0.8575 - val_loss: 0.5578 - val_accuracy: 0.6750\n",
            "Epoch 55/100\n",
            "22/22 [==============================] - 0s 10ms/step - loss: 0.3136 - accuracy: 0.8718 - val_loss: 0.5603 - val_accuracy: 0.6750\n",
            "Epoch 56/100\n",
            "22/22 [==============================] - 0s 9ms/step - loss: 0.2970 - accuracy: 0.8974 - val_loss: 0.5697 - val_accuracy: 0.6500\n",
            "Epoch 57/100\n",
            "22/22 [==============================] - 0s 9ms/step - loss: 0.2987 - accuracy: 0.8775 - val_loss: 0.5705 - val_accuracy: 0.6750\n",
            "Epoch 58/100\n",
            "22/22 [==============================] - 0s 9ms/step - loss: 0.3416 - accuracy: 0.8718 - val_loss: 0.5575 - val_accuracy: 0.7000\n",
            "Epoch 59/100\n",
            "22/22 [==============================] - 0s 9ms/step - loss: 0.3191 - accuracy: 0.8746 - val_loss: 0.5654 - val_accuracy: 0.7000\n",
            "Epoch 60/100\n",
            "22/22 [==============================] - 0s 10ms/step - loss: 0.2968 - accuracy: 0.8775 - val_loss: 0.5545 - val_accuracy: 0.6750\n",
            "Epoch 61/100\n",
            "22/22 [==============================] - 0s 10ms/step - loss: 0.3034 - accuracy: 0.8889 - val_loss: 0.5543 - val_accuracy: 0.6750\n",
            "Epoch 62/100\n",
            "22/22 [==============================] - 0s 10ms/step - loss: 0.2668 - accuracy: 0.9202 - val_loss: 0.5571 - val_accuracy: 0.7000\n",
            "Epoch 63/100\n",
            "22/22 [==============================] - 0s 10ms/step - loss: 0.2834 - accuracy: 0.9088 - val_loss: 0.5551 - val_accuracy: 0.7000\n",
            "Epoch 64/100\n",
            "22/22 [==============================] - 0s 9ms/step - loss: 0.2735 - accuracy: 0.9088 - val_loss: 0.5513 - val_accuracy: 0.7250\n",
            "Epoch 65/100\n",
            "22/22 [==============================] - 0s 9ms/step - loss: 0.2890 - accuracy: 0.8917 - val_loss: 0.5537 - val_accuracy: 0.7250\n",
            "Epoch 66/100\n",
            "22/22 [==============================] - 0s 9ms/step - loss: 0.2925 - accuracy: 0.8832 - val_loss: 0.5530 - val_accuracy: 0.7000\n",
            "Epoch 67/100\n",
            "22/22 [==============================] - 0s 10ms/step - loss: 0.3033 - accuracy: 0.8917 - val_loss: 0.5450 - val_accuracy: 0.7250\n",
            "Epoch 68/100\n",
            "22/22 [==============================] - 0s 18ms/step - loss: 0.2645 - accuracy: 0.9117 - val_loss: 0.5417 - val_accuracy: 0.7250\n",
            "Epoch 69/100\n",
            "22/22 [==============================] - 0s 20ms/step - loss: 0.2628 - accuracy: 0.9174 - val_loss: 0.5386 - val_accuracy: 0.6750\n",
            "Epoch 70/100\n",
            "22/22 [==============================] - 0s 13ms/step - loss: 0.2521 - accuracy: 0.9288 - val_loss: 0.5416 - val_accuracy: 0.7000\n",
            "Epoch 71/100\n",
            "22/22 [==============================] - 0s 9ms/step - loss: 0.2572 - accuracy: 0.9117 - val_loss: 0.5481 - val_accuracy: 0.6750\n",
            "Epoch 72/100\n",
            "22/22 [==============================] - 0s 9ms/step - loss: 0.2495 - accuracy: 0.9231 - val_loss: 0.5355 - val_accuracy: 0.6750\n",
            "Epoch 73/100\n",
            "22/22 [==============================] - 0s 9ms/step - loss: 0.2618 - accuracy: 0.9117 - val_loss: 0.5393 - val_accuracy: 0.7000\n",
            "Epoch 74/100\n",
            "22/22 [==============================] - 0s 9ms/step - loss: 0.2533 - accuracy: 0.9174 - val_loss: 0.5430 - val_accuracy: 0.7500\n",
            "Epoch 75/100\n",
            "22/22 [==============================] - 0s 10ms/step - loss: 0.2395 - accuracy: 0.9231 - val_loss: 0.5455 - val_accuracy: 0.7000\n",
            "Epoch 76/100\n",
            "22/22 [==============================] - 0s 10ms/step - loss: 0.2735 - accuracy: 0.8860 - val_loss: 0.5346 - val_accuracy: 0.7250\n",
            "Epoch 77/100\n",
            "22/22 [==============================] - 0s 9ms/step - loss: 0.2721 - accuracy: 0.9031 - val_loss: 0.5314 - val_accuracy: 0.7250\n",
            "Epoch 78/100\n",
            "22/22 [==============================] - 0s 10ms/step - loss: 0.2358 - accuracy: 0.9231 - val_loss: 0.5334 - val_accuracy: 0.7000\n",
            "Epoch 79/100\n",
            "22/22 [==============================] - 0s 10ms/step - loss: 0.2565 - accuracy: 0.9031 - val_loss: 0.5438 - val_accuracy: 0.7000\n",
            "Epoch 80/100\n",
            "22/22 [==============================] - 0s 10ms/step - loss: 0.2415 - accuracy: 0.9202 - val_loss: 0.5336 - val_accuracy: 0.7000\n",
            "Epoch 81/100\n",
            "22/22 [==============================] - 0s 9ms/step - loss: 0.2475 - accuracy: 0.9145 - val_loss: 0.5365 - val_accuracy: 0.7000\n",
            "Epoch 82/100\n",
            "22/22 [==============================] - 0s 9ms/step - loss: 0.2288 - accuracy: 0.9402 - val_loss: 0.5439 - val_accuracy: 0.7000\n",
            "Epoch 83/100\n",
            "22/22 [==============================] - 0s 9ms/step - loss: 0.2498 - accuracy: 0.9174 - val_loss: 0.5602 - val_accuracy: 0.7000\n",
            "Epoch 84/100\n",
            "22/22 [==============================] - 0s 10ms/step - loss: 0.2227 - accuracy: 0.9288 - val_loss: 0.5678 - val_accuracy: 0.6500\n",
            "Epoch 85/100\n",
            "22/22 [==============================] - 0s 10ms/step - loss: 0.2275 - accuracy: 0.9288 - val_loss: 0.5643 - val_accuracy: 0.6750\n",
            "Epoch 86/100\n",
            "22/22 [==============================] - 0s 10ms/step - loss: 0.2338 - accuracy: 0.9288 - val_loss: 0.5607 - val_accuracy: 0.6500\n",
            "Epoch 87/100\n",
            "22/22 [==============================] - 0s 9ms/step - loss: 0.2080 - accuracy: 0.9373 - val_loss: 0.5639 - val_accuracy: 0.7000\n",
            "Epoch 88/100\n",
            "22/22 [==============================] - 0s 9ms/step - loss: 0.2307 - accuracy: 0.9231 - val_loss: 0.5722 - val_accuracy: 0.7000\n",
            "Epoch 89/100\n",
            "22/22 [==============================] - 0s 10ms/step - loss: 0.2149 - accuracy: 0.9259 - val_loss: 0.5744 - val_accuracy: 0.7000\n",
            "Epoch 90/100\n",
            "22/22 [==============================] - 0s 10ms/step - loss: 0.2031 - accuracy: 0.9459 - val_loss: 0.5514 - val_accuracy: 0.7000\n",
            "Epoch 91/100\n",
            "22/22 [==============================] - 0s 10ms/step - loss: 0.2059 - accuracy: 0.9459 - val_loss: 0.5527 - val_accuracy: 0.6750\n",
            "Epoch 92/100\n",
            "22/22 [==============================] - 0s 10ms/step - loss: 0.2085 - accuracy: 0.9373 - val_loss: 0.5421 - val_accuracy: 0.7000\n",
            "Epoch 93/100\n",
            "22/22 [==============================] - 0s 9ms/step - loss: 0.1980 - accuracy: 0.9487 - val_loss: 0.5279 - val_accuracy: 0.7250\n",
            "Epoch 94/100\n",
            "22/22 [==============================] - 0s 10ms/step - loss: 0.2284 - accuracy: 0.9202 - val_loss: 0.5436 - val_accuracy: 0.7250\n",
            "Epoch 95/100\n",
            "22/22 [==============================] - 0s 9ms/step - loss: 0.2381 - accuracy: 0.9145 - val_loss: 0.5447 - val_accuracy: 0.7250\n",
            "Epoch 96/100\n",
            "22/22 [==============================] - 0s 10ms/step - loss: 0.1856 - accuracy: 0.9487 - val_loss: 0.5363 - val_accuracy: 0.7250\n",
            "Epoch 97/100\n",
            "22/22 [==============================] - 0s 9ms/step - loss: 0.2033 - accuracy: 0.9345 - val_loss: 0.5390 - val_accuracy: 0.7500\n",
            "Epoch 98/100\n",
            "22/22 [==============================] - 0s 9ms/step - loss: 0.1992 - accuracy: 0.9430 - val_loss: 0.5371 - val_accuracy: 0.7250\n",
            "Epoch 99/100\n",
            "22/22 [==============================] - 0s 10ms/step - loss: 0.2173 - accuracy: 0.9402 - val_loss: 0.5320 - val_accuracy: 0.7500\n",
            "Epoch 100/100\n",
            "22/22 [==============================] - 0s 10ms/step - loss: 0.2435 - accuracy: 0.9003 - val_loss: 0.5367 - val_accuracy: 0.7500\n"
          ]
        },
        {
          "output_type": "display_data",
          "data": {
            "image/png": "[encoded data removed]",
            "text/plain": [
              "<Figure size 432x288 with 1 Axes>"
            ]
          },
          "metadata": {
            "needs_background": "light"
          }
        },
        {
          "output_type": "display_data",
          "data": {
            "image/png": "[encoded data removed]",
            "text/plain": [
              "<Figure size 432x288 with 1 Axes>"
            ]
          },
          "metadata": {
            "needs_background": "light"
          }
        }
      ]
    },
    {
      "cell_type": "code",
      "source": [
        "model.compile(loss='binary_crossentropy', optimizer=Adam(learning_rate=0.00001), metrics=['accuracy'])\n",
        "\n",
        "# Обучаем сеть\n",
        "history = model.fit(X_train,         \n",
        "          Y_train,         \n",
        "          batch_size=16,    # Размер батча\n",
        "          epochs=100,        # Количество эпох\n",
        "          validation_data= (X_test, Y_test),\n",
        "          verbose=1)        # Выводить процесс обучения на каждой эпохе\n",
        "\n",
        "plt.plot(history.history['accuracy'], label='Точность на обучающей выборке')\n",
        "plt.plot(history.history['val_accuracy'], label ='Точность на проверочной выборке')\n",
        "plt.xlabel('Эпохи обучения')\n",
        "plt.ylabel('Точность')\n",
        "plt.legend()\n",
        "plt.show()\n",
        "\n",
        "plt.plot(history.history['loss'], label ='Ошибка на обучающей')\n",
        "plt.plot(history.history['val_loss'], label ='Ошибка на проверочной')\n",
        "plt.xlabel('Эпохи обучения')\n",
        "plt.ylabel('Ошибка')\n",
        "plt.legend()\n",
        "plt.show()"
      ],
      "metadata": {
        "colab": {
          "base_uri": "https://localhost:8080/",
          "height": 1000
        },
        "id": "GrWhwItHZIvB",
        "outputId": "993a0861-5f2c-438e-9600-5c5ff7a195ab"
      },
      "execution_count": null,
      "outputs": [
        {
          "output_type": "stream",
          "name": "stdout",
          "text": [
            "Epoch 1/100\n",
            "22/22 [==============================] - 2s 19ms/step - loss: 0.2116 - accuracy: 0.9345 - val_loss: 0.5372 - val_accuracy: 0.7500\n",
            "Epoch 2/100\n",
            "22/22 [==============================] - 0s 10ms/step - loss: 0.1929 - accuracy: 0.9402 - val_loss: 0.5381 - val_accuracy: 0.7500\n",
            "Epoch 3/100\n",
            "22/22 [==============================] - 0s 9ms/step - loss: 0.1913 - accuracy: 0.9316 - val_loss: 0.5400 - val_accuracy: 0.7500\n",
            "Epoch 4/100\n",
            "22/22 [==============================] - 0s 10ms/step - loss: 0.2385 - accuracy: 0.9145 - val_loss: 0.5412 - val_accuracy: 0.7500\n",
            "Epoch 5/100\n",
            "22/22 [==============================] - 0s 10ms/step - loss: 0.2081 - accuracy: 0.9430 - val_loss: 0.5416 - val_accuracy: 0.7500\n",
            "Epoch 6/100\n",
            "22/22 [==============================] - 0s 9ms/step - loss: 0.2001 - accuracy: 0.9459 - val_loss: 0.5441 - val_accuracy: 0.7500\n",
            "Epoch 7/100\n",
            "22/22 [==============================] - 0s 10ms/step - loss: 0.2262 - accuracy: 0.9202 - val_loss: 0.5452 - val_accuracy: 0.7500\n",
            "Epoch 8/100\n",
            "22/22 [==============================] - 0s 9ms/step - loss: 0.1816 - accuracy: 0.9516 - val_loss: 0.5464 - val_accuracy: 0.7500\n",
            "Epoch 9/100\n",
            "22/22 [==============================] - 0s 10ms/step - loss: 0.1811 - accuracy: 0.9544 - val_loss: 0.5455 - val_accuracy: 0.7500\n",
            "Epoch 10/100\n",
            "22/22 [==============================] - 0s 10ms/step - loss: 0.1885 - accuracy: 0.9516 - val_loss: 0.5455 - val_accuracy: 0.7500\n",
            "Epoch 11/100\n",
            "22/22 [==============================] - 0s 10ms/step - loss: 0.1913 - accuracy: 0.9459 - val_loss: 0.5474 - val_accuracy: 0.7500\n",
            "Epoch 12/100\n",
            "22/22 [==============================] - 0s 10ms/step - loss: 0.1723 - accuracy: 0.9430 - val_loss: 0.5478 - val_accuracy: 0.7500\n",
            "Epoch 13/100\n",
            "22/22 [==============================] - 0s 10ms/step - loss: 0.2235 - accuracy: 0.9288 - val_loss: 0.5463 - val_accuracy: 0.7500\n",
            "Epoch 14/100\n",
            "22/22 [==============================] - 0s 10ms/step - loss: 0.1873 - accuracy: 0.9516 - val_loss: 0.5491 - val_accuracy: 0.7500\n",
            "Epoch 15/100\n",
            "22/22 [==============================] - 0s 10ms/step - loss: 0.2033 - accuracy: 0.9202 - val_loss: 0.5498 - val_accuracy: 0.7500\n",
            "Epoch 16/100\n",
            "22/22 [==============================] - 0s 10ms/step - loss: 0.2226 - accuracy: 0.9231 - val_loss: 0.5491 - val_accuracy: 0.7500\n",
            "Epoch 17/100\n",
            "22/22 [==============================] - 0s 9ms/step - loss: 0.1769 - accuracy: 0.9516 - val_loss: 0.5499 - val_accuracy: 0.7500\n",
            "Epoch 18/100\n",
            "22/22 [==============================] - 0s 10ms/step - loss: 0.1702 - accuracy: 0.9544 - val_loss: 0.5508 - val_accuracy: 0.7500\n",
            "Epoch 19/100\n",
            "22/22 [==============================] - 0s 10ms/step - loss: 0.1855 - accuracy: 0.9345 - val_loss: 0.5520 - val_accuracy: 0.7500\n",
            "Epoch 20/100\n",
            "22/22 [==============================] - 0s 10ms/step - loss: 0.2088 - accuracy: 0.9174 - val_loss: 0.5524 - val_accuracy: 0.7500\n",
            "Epoch 21/100\n",
            "22/22 [==============================] - 0s 10ms/step - loss: 0.1607 - accuracy: 0.9601 - val_loss: 0.5520 - val_accuracy: 0.7500\n",
            "Epoch 22/100\n",
            "22/22 [==============================] - 0s 10ms/step - loss: 0.1920 - accuracy: 0.9402 - val_loss: 0.5528 - val_accuracy: 0.7500\n",
            "Epoch 23/100\n",
            "22/22 [==============================] - 0s 10ms/step - loss: 0.1930 - accuracy: 0.9373 - val_loss: 0.5524 - val_accuracy: 0.7500\n",
            "Epoch 24/100\n",
            "22/22 [==============================] - 0s 10ms/step - loss: 0.2028 - accuracy: 0.9459 - val_loss: 0.5534 - val_accuracy: 0.7500\n",
            "Epoch 25/100\n",
            "22/22 [==============================] - 0s 10ms/step - loss: 0.1726 - accuracy: 0.9516 - val_loss: 0.5544 - val_accuracy: 0.7500\n",
            "Epoch 26/100\n",
            "22/22 [==============================] - 0s 10ms/step - loss: 0.1998 - accuracy: 0.9402 - val_loss: 0.5548 - val_accuracy: 0.7500\n",
            "Epoch 27/100\n",
            "22/22 [==============================] - 0s 9ms/step - loss: 0.1945 - accuracy: 0.9288 - val_loss: 0.5560 - val_accuracy: 0.7500\n",
            "Epoch 28/100\n",
            "22/22 [==============================] - 0s 10ms/step - loss: 0.1779 - accuracy: 0.9573 - val_loss: 0.5544 - val_accuracy: 0.7500\n",
            "Epoch 29/100\n",
            "22/22 [==============================] - 0s 10ms/step - loss: 0.1731 - accuracy: 0.9487 - val_loss: 0.5537 - val_accuracy: 0.7500\n",
            "Epoch 30/100\n",
            "22/22 [==============================] - 0s 10ms/step - loss: 0.1830 - accuracy: 0.9459 - val_loss: 0.5528 - val_accuracy: 0.7500\n",
            "Epoch 31/100\n",
            "22/22 [==============================] - 0s 9ms/step - loss: 0.1861 - accuracy: 0.9373 - val_loss: 0.5523 - val_accuracy: 0.7500\n",
            "Epoch 32/100\n",
            "22/22 [==============================] - 0s 10ms/step - loss: 0.1835 - accuracy: 0.9516 - val_loss: 0.5529 - val_accuracy: 0.7500\n",
            "Epoch 33/100\n",
            "22/22 [==============================] - 0s 9ms/step - loss: 0.1847 - accuracy: 0.9402 - val_loss: 0.5524 - val_accuracy: 0.7500\n",
            "Epoch 34/100\n",
            "22/22 [==============================] - 0s 10ms/step - loss: 0.1879 - accuracy: 0.9345 - val_loss: 0.5519 - val_accuracy: 0.7500\n",
            "Epoch 35/100\n",
            "22/22 [==============================] - 0s 9ms/step - loss: 0.2059 - accuracy: 0.9288 - val_loss: 0.5506 - val_accuracy: 0.7500\n",
            "Epoch 36/100\n",
            "22/22 [==============================] - 0s 10ms/step - loss: 0.1837 - accuracy: 0.9459 - val_loss: 0.5501 - val_accuracy: 0.7500\n",
            "Epoch 37/100\n",
            "22/22 [==============================] - 0s 9ms/step - loss: 0.1547 - accuracy: 0.9601 - val_loss: 0.5510 - val_accuracy: 0.7500\n",
            "Epoch 38/100\n",
            "22/22 [==============================] - 0s 9ms/step - loss: 0.1699 - accuracy: 0.9601 - val_loss: 0.5508 - val_accuracy: 0.7500\n",
            "Epoch 39/100\n",
            "22/22 [==============================] - 0s 10ms/step - loss: 0.1756 - accuracy: 0.9516 - val_loss: 0.5498 - val_accuracy: 0.7500\n",
            "Epoch 40/100\n",
            "22/22 [==============================] - 0s 10ms/step - loss: 0.2088 - accuracy: 0.9202 - val_loss: 0.5513 - val_accuracy: 0.7500\n",
            "Epoch 41/100\n",
            "22/22 [==============================] - 0s 10ms/step - loss: 0.1889 - accuracy: 0.9345 - val_loss: 0.5521 - val_accuracy: 0.7500\n",
            "Epoch 42/100\n",
            "22/22 [==============================] - 0s 9ms/step - loss: 0.2254 - accuracy: 0.9345 - val_loss: 0.5564 - val_accuracy: 0.7750\n",
            "Epoch 43/100\n",
            "22/22 [==============================] - 0s 10ms/step - loss: 0.2115 - accuracy: 0.9345 - val_loss: 0.5583 - val_accuracy: 0.7750\n",
            "Epoch 44/100\n",
            "22/22 [==============================] - 0s 10ms/step - loss: 0.1991 - accuracy: 0.9459 - val_loss: 0.5581 - val_accuracy: 0.7750\n",
            "Epoch 45/100\n",
            "22/22 [==============================] - 0s 9ms/step - loss: 0.1550 - accuracy: 0.9658 - val_loss: 0.5558 - val_accuracy: 0.7750\n",
            "Epoch 46/100\n",
            "22/22 [==============================] - 0s 9ms/step - loss: 0.2098 - accuracy: 0.9231 - val_loss: 0.5544 - val_accuracy: 0.7750\n",
            "Epoch 47/100\n",
            "22/22 [==============================] - 0s 10ms/step - loss: 0.1942 - accuracy: 0.9402 - val_loss: 0.5542 - val_accuracy: 0.7500\n",
            "Epoch 48/100\n",
            "22/22 [==============================] - 0s 10ms/step - loss: 0.1702 - accuracy: 0.9544 - val_loss: 0.5518 - val_accuracy: 0.7500\n",
            "Epoch 49/100\n",
            "22/22 [==============================] - 0s 9ms/step - loss: 0.1831 - accuracy: 0.9459 - val_loss: 0.5514 - val_accuracy: 0.7500\n",
            "Epoch 50/100\n",
            "22/22 [==============================] - 0s 10ms/step - loss: 0.1685 - accuracy: 0.9601 - val_loss: 0.5487 - val_accuracy: 0.7750\n",
            "Epoch 51/100\n",
            "22/22 [==============================] - 0s 10ms/step - loss: 0.2573 - accuracy: 0.9060 - val_loss: 0.5497 - val_accuracy: 0.7750\n",
            "Epoch 52/100\n",
            "22/22 [==============================] - 0s 9ms/step - loss: 0.2608 - accuracy: 0.8974 - val_loss: 0.5519 - val_accuracy: 0.7750\n",
            "Epoch 53/100\n",
            "22/22 [==============================] - 0s 10ms/step - loss: 0.2213 - accuracy: 0.9202 - val_loss: 0.5532 - val_accuracy: 0.7750\n",
            "Epoch 54/100\n",
            "22/22 [==============================] - 0s 10ms/step - loss: 0.1816 - accuracy: 0.9487 - val_loss: 0.5569 - val_accuracy: 0.7750\n",
            "Epoch 55/100\n",
            "22/22 [==============================] - 0s 10ms/step - loss: 0.1564 - accuracy: 0.9487 - val_loss: 0.5574 - val_accuracy: 0.7750\n",
            "Epoch 56/100\n",
            "22/22 [==============================] - 0s 10ms/step - loss: 0.2041 - accuracy: 0.9288 - val_loss: 0.5567 - val_accuracy: 0.7750\n",
            "Epoch 57/100\n",
            "22/22 [==============================] - 0s 10ms/step - loss: 0.2108 - accuracy: 0.9117 - val_loss: 0.5555 - val_accuracy: 0.7750\n",
            "Epoch 58/100\n",
            "22/22 [==============================] - 0s 10ms/step - loss: 0.1617 - accuracy: 0.9544 - val_loss: 0.5563 - val_accuracy: 0.7750\n",
            "Epoch 59/100\n",
            "22/22 [==============================] - 0s 10ms/step - loss: 0.1766 - accuracy: 0.9459 - val_loss: 0.5554 - val_accuracy: 0.7750\n",
            "Epoch 60/100\n",
            "22/22 [==============================] - 0s 10ms/step - loss: 0.2125 - accuracy: 0.9231 - val_loss: 0.5562 - val_accuracy: 0.7500\n",
            "Epoch 61/100\n",
            "22/22 [==============================] - 0s 10ms/step - loss: 0.1873 - accuracy: 0.9459 - val_loss: 0.5543 - val_accuracy: 0.7500\n",
            "Epoch 62/100\n",
            "22/22 [==============================] - 0s 10ms/step - loss: 0.1818 - accuracy: 0.9459 - val_loss: 0.5525 - val_accuracy: 0.7750\n",
            "Epoch 63/100\n",
            "22/22 [==============================] - 0s 10ms/step - loss: 0.1559 - accuracy: 0.9630 - val_loss: 0.5543 - val_accuracy: 0.7750\n",
            "Epoch 64/100\n",
            "22/22 [==============================] - 0s 10ms/step - loss: 0.1911 - accuracy: 0.9316 - val_loss: 0.5544 - val_accuracy: 0.7750\n",
            "Epoch 65/100\n",
            "22/22 [==============================] - 0s 10ms/step - loss: 0.1730 - accuracy: 0.9516 - val_loss: 0.5557 - val_accuracy: 0.7750\n",
            "Epoch 66/100\n",
            "22/22 [==============================] - 0s 10ms/step - loss: 0.1785 - accuracy: 0.9487 - val_loss: 0.5561 - val_accuracy: 0.7750\n",
            "Epoch 67/100\n",
            "22/22 [==============================] - 0s 10ms/step - loss: 0.1597 - accuracy: 0.9516 - val_loss: 0.5554 - val_accuracy: 0.7750\n",
            "Epoch 68/100\n",
            "22/22 [==============================] - 0s 10ms/step - loss: 0.1981 - accuracy: 0.9316 - val_loss: 0.5560 - val_accuracy: 0.7750\n",
            "Epoch 69/100\n",
            "22/22 [==============================] - 0s 9ms/step - loss: 0.1899 - accuracy: 0.9373 - val_loss: 0.5565 - val_accuracy: 0.7750\n",
            "Epoch 70/100\n",
            "22/22 [==============================] - 0s 10ms/step - loss: 0.1901 - accuracy: 0.9430 - val_loss: 0.5564 - val_accuracy: 0.7750\n",
            "Epoch 71/100\n",
            "22/22 [==============================] - 0s 10ms/step - loss: 0.1744 - accuracy: 0.9373 - val_loss: 0.5552 - val_accuracy: 0.7750\n",
            "Epoch 72/100\n",
            "22/22 [==============================] - 0s 10ms/step - loss: 0.1549 - accuracy: 0.9544 - val_loss: 0.5580 - val_accuracy: 0.7750\n",
            "Epoch 73/100\n",
            "22/22 [==============================] - 0s 10ms/step - loss: 0.1604 - accuracy: 0.9573 - val_loss: 0.5579 - val_accuracy: 0.7750\n",
            "Epoch 74/100\n",
            "22/22 [==============================] - 0s 9ms/step - loss: 0.1586 - accuracy: 0.9630 - val_loss: 0.5550 - val_accuracy: 0.7750\n",
            "Epoch 75/100\n",
            "22/22 [==============================] - 0s 9ms/step - loss: 0.1717 - accuracy: 0.9459 - val_loss: 0.5571 - val_accuracy: 0.7750\n",
            "Epoch 76/100\n",
            "22/22 [==============================] - 0s 11ms/step - loss: 0.1757 - accuracy: 0.9402 - val_loss: 0.5609 - val_accuracy: 0.7750\n",
            "Epoch 77/100\n",
            "22/22 [==============================] - 0s 9ms/step - loss: 0.1841 - accuracy: 0.9373 - val_loss: 0.5590 - val_accuracy: 0.7750\n",
            "Epoch 78/100\n",
            "22/22 [==============================] - 0s 9ms/step - loss: 0.1869 - accuracy: 0.9288 - val_loss: 0.5586 - val_accuracy: 0.7750\n",
            "Epoch 79/100\n",
            "22/22 [==============================] - 0s 10ms/step - loss: 0.1596 - accuracy: 0.9516 - val_loss: 0.5568 - val_accuracy: 0.7750\n",
            "Epoch 80/100\n",
            "22/22 [==============================] - 0s 10ms/step - loss: 0.1533 - accuracy: 0.9601 - val_loss: 0.5582 - val_accuracy: 0.7750\n",
            "Epoch 81/100\n",
            "22/22 [==============================] - 0s 11ms/step - loss: 0.1889 - accuracy: 0.9231 - val_loss: 0.5584 - val_accuracy: 0.7750\n",
            "Epoch 82/100\n",
            "22/22 [==============================] - 0s 10ms/step - loss: 0.1785 - accuracy: 0.9516 - val_loss: 0.5595 - val_accuracy: 0.7750\n",
            "Epoch 83/100\n",
            "22/22 [==============================] - 0s 10ms/step - loss: 0.1605 - accuracy: 0.9516 - val_loss: 0.5595 - val_accuracy: 0.7750\n",
            "Epoch 84/100\n",
            "22/22 [==============================] - 0s 10ms/step - loss: 0.2288 - accuracy: 0.9202 - val_loss: 0.5564 - val_accuracy: 0.7750\n",
            "Epoch 85/100\n",
            "22/22 [==============================] - 0s 10ms/step - loss: 0.1739 - accuracy: 0.9487 - val_loss: 0.5536 - val_accuracy: 0.7750\n",
            "Epoch 86/100\n",
            "22/22 [==============================] - 0s 10ms/step - loss: 0.1812 - accuracy: 0.9544 - val_loss: 0.5567 - val_accuracy: 0.7750\n",
            "Epoch 87/100\n",
            "22/22 [==============================] - 0s 9ms/step - loss: 0.1914 - accuracy: 0.9402 - val_loss: 0.5572 - val_accuracy: 0.7750\n",
            "Epoch 88/100\n",
            "22/22 [==============================] - 0s 10ms/step - loss: 0.1923 - accuracy: 0.9373 - val_loss: 0.5563 - val_accuracy: 0.7750\n",
            "Epoch 89/100\n",
            "22/22 [==============================] - 0s 9ms/step - loss: 0.1651 - accuracy: 0.9516 - val_loss: 0.5586 - val_accuracy: 0.7750\n",
            "Epoch 90/100\n",
            "22/22 [==============================] - 0s 10ms/step - loss: 0.1711 - accuracy: 0.9459 - val_loss: 0.5620 - val_accuracy: 0.7500\n",
            "Epoch 91/100\n",
            "22/22 [==============================] - 0s 9ms/step - loss: 0.1673 - accuracy: 0.9459 - val_loss: 0.5616 - val_accuracy: 0.7500\n",
            "Epoch 92/100\n",
            "22/22 [==============================] - 0s 10ms/step - loss: 0.1599 - accuracy: 0.9630 - val_loss: 0.5602 - val_accuracy: 0.7500\n",
            "Epoch 93/100\n",
            "22/22 [==============================] - 0s 10ms/step - loss: 0.1908 - accuracy: 0.9316 - val_loss: 0.5580 - val_accuracy: 0.7750\n",
            "Epoch 94/100\n",
            "22/22 [==============================] - 0s 10ms/step - loss: 0.1828 - accuracy: 0.9573 - val_loss: 0.5592 - val_accuracy: 0.7750\n",
            "Epoch 95/100\n",
            "22/22 [==============================] - 0s 9ms/step - loss: 0.1594 - accuracy: 0.9516 - val_loss: 0.5566 - val_accuracy: 0.7750\n",
            "Epoch 96/100\n",
            "22/22 [==============================] - 0s 10ms/step - loss: 0.1647 - accuracy: 0.9487 - val_loss: 0.5570 - val_accuracy: 0.7750\n",
            "Epoch 97/100\n",
            "22/22 [==============================] - 0s 9ms/step - loss: 0.1585 - accuracy: 0.9658 - val_loss: 0.5572 - val_accuracy: 0.7750\n",
            "Epoch 98/100\n",
            "22/22 [==============================] - 0s 10ms/step - loss: 0.1698 - accuracy: 0.9544 - val_loss: 0.5581 - val_accuracy: 0.7750\n",
            "Epoch 99/100\n",
            "22/22 [==============================] - 0s 10ms/step - loss: 0.1988 - accuracy: 0.9459 - val_loss: 0.5611 - val_accuracy: 0.7750\n",
            "Epoch 100/100\n",
            "22/22 [==============================] - 0s 9ms/step - loss: 0.1838 - accuracy: 0.9459 - val_loss: 0.5631 - val_accuracy: 0.7750\n"
          ]
        },
        {
          "output_type": "display_data",
          "data": {
            "image/png": "[encoded data removed]",
            "text/plain": [
              "<Figure size 432x288 with 1 Axes>"
            ]
          },
          "metadata": {
            "needs_background": "light"
          }
        },
        {
          "output_type": "display_data",
          "data": {
            "image/png": "[encoded data removed]",
            "text/plain": [
              "<Figure size 432x288 with 1 Axes>"
            ]
          },
          "metadata": {
            "needs_background": "light"
          }
        }
      ]
    },
    {
      "cell_type": "code",
      "source": [
        "# Вычисляем результаты сети на тестовом наборе\n",
        "scores = model.evaluate(X_test_1, Y_test_1, verbose=1)\n",
        "\n",
        "# scores состоит из двух знанчений\n",
        "# scores[0] - loss сети на тестовой выборке\n",
        "# scores[1] - процент правильно распознанных примеров на тестовой выборке\n",
        "print(scores)\n",
        "print(\"Доля верных ответов на тестовых данных, в процентах: \", round(scores[1] * 100, 4), \"%\", sep=\"\")"
      ],
      "metadata": {
        "colab": {
          "base_uri": "https://localhost:8080/"
        },
        "id": "8vragVxX_jD4",
        "outputId": "6e9f9268-bd34-4f60-d14d-f2c0ca3b69f1"
      },
      "execution_count": null,
      "outputs": [
        {
          "output_type": "stream",
          "name": "stdout",
          "text": [
            "1/1 [==============================] - 0s 28ms/step - loss: 0.4770 - accuracy: 0.8095\n",
            "[0.47699660062789917, 0.8095238208770752]\n",
            "Доля верных ответов на тестовых данных, в процентах: 80.9524%\n"
          ]
        }
      ]
    },
    {
      "cell_type": "code",
      "source": [
        "pred = model.predict(X_test_1)"
      ],
      "metadata": {
        "id": "qh5b9izRCUMF"
      },
      "execution_count": null,
      "outputs": []
    },
    {
      "cell_type": "code",
      "source": [
        "mse = np.mean(np.power(X_test_1 - pred, 2), axis=1) # определяем среднеквадратичную ошибку по X_test и предсказанием по X_test"
      ],
      "metadata": {
        "id": "x_PmydNxDcUu"
      },
      "execution_count": null,
      "outputs": []
    },
    {
      "cell_type": "code",
      "source": [
        "mse_IN = mse[Y_test_1 == 0] # среднеквадратичная ошибка на нормальных операциях\n",
        "mse_AC = mse[Y_test_1 == 1] # среднеквадратичная ошибка на мошеннических операциях"
      ],
      "metadata": {
        "id": "TbFIIZAODdX2"
      },
      "execution_count": null,
      "outputs": []
    },
    {
      "cell_type": "code",
      "source": [
        "print(\"Минимальная ошибка неактивных молекул:\", round(min(mse_IN),4)) #\n",
        "print(\"Максимальная ошибка неактивных молекул:\", round(max(mse_IN),4)) #\n",
        "print(\"Средняя ошибка неактивных молекул:\", round(sum(mse_IN) / len(mse_IN),8)) # средняя ошибка"
      ],
      "metadata": {
        "colab": {
          "base_uri": "https://localhost:8080/"
        },
        "id": "Pg-GPWq6DdcT",
        "outputId": "fe7a147d-2aad-46ac-d5a5-023f08dc3dc7"
      },
      "execution_count": null,
      "outputs": [
        {
          "output_type": "stream",
          "name": "stdout",
          "text": [
            "Минимальная ошибка неактивных молекул: 0.0051\n",
            "Максимальная ошибка неактивных молекул: 0.8616\n",
            "Средняя ошибка неактивных молекул: 0.23753831\n"
          ]
        }
      ]
    },
    {
      "cell_type": "code",
      "source": [
        "print(\"Минимальная ошибка активных молекул:\", round(min(mse_AC),4)) #\n",
        "print(\"Максимальная ошибка активных молекул:\", round(max(mse_AC),4)) #\n",
        "print(\"Средняя ошибка активных молекул:\", round(sum(mse_AC) / len(mse_AC),8)) # средняя ошибка"
      ],
      "metadata": {
        "colab": {
          "base_uri": "https://localhost:8080/"
        },
        "id": "d3DyOU6_D9My",
        "outputId": "b3573544-46aa-4a74-de23-b24ac1945214"
      },
      "execution_count": null,
      "outputs": [
        {
          "output_type": "stream",
          "name": "stdout",
          "text": [
            "Минимальная ошибка активных молекул: 0.0161\n",
            "Максимальная ошибка активных молекул: 0.9512\n",
            "Средняя ошибка активных молекул: 0.70573876\n"
          ]
        }
      ]
    },
    {
      "cell_type": "code",
      "source": [
        "def getAccByBias(bias): # функция будет принимать какое то пороговое значение\n",
        "  isInactive = mse_IN < bias # если ошибка больше порога - то неактивная\n",
        "  isActive = mse_AC > bias # если ошибка меньше порога - то активная\n",
        "\n",
        "  accInactive = sum(isInactive) / len(isInactive) # вычисляем процент неактивных\n",
        "  accActive = sum(isActive) / len(isActive) # вычисляем процент активных\n",
        "\n",
        "  print(\"Распознано неактивных молекул: \", round(100*accInactive), \"%\", sep=\"\")\n",
        "  print(\"Распознано активных молекул: \", round(100*accActive), \"%\", sep=\"\")\n",
        "  print(\"Средняя точность распознавания: \", round(50*(accInactive + accActive)), \"%\", sep=\"\")"
      ],
      "metadata": {
        "id": "Y9kO5m6xEJbK"
      },
      "execution_count": null,
      "outputs": []
    },
    {
      "cell_type": "code",
      "source": [
        "getAccByBias(0.7)"
      ],
      "metadata": {
        "colab": {
          "base_uri": "https://localhost:8080/"
        },
        "id": "aY3_TGeAFFR4",
        "outputId": "7fcf6577-8fc3-463b-a5c3-9680fe80fbf2"
      },
      "execution_count": null,
      "outputs": [
        {
          "output_type": "stream",
          "name": "stdout",
          "text": [
            "Распознано неактивных молекул: 86%\n",
            "Распознано активных молекул: 79%\n",
            "Средняя точность распознавания: 82%\n"
          ]
        }
      ]
    },
    {
      "cell_type": "markdown",
      "source": [
        "**Пока это самый лучший результат из нейросетей.**"
      ],
      "metadata": {
        "id": "sEt9IJ6XH2FT"
      }
    },
    {
      "cell_type": "markdown",
      "source": [
        "##Данные в Bag Of Words"
      ],
      "metadata": {
        "id": "TDdJKwXhH7ql"
      }
    },
    {
      "cell_type": "code",
      "source": [
        "smal_inactive = tokenizer.sequences_to_matrix(s_inactive_WordIndexes)\n",
        "smal_active = tokenizer.sequences_to_matrix(s_active_WordIndexes)\n",
        "\n",
        "print(X_tr.shape, smal_active.shape)       # Размер обучающей выборки, сформированной по Bag of Words\n",
        "print(X_tr[0][0:100]) # Фрагмент в виде Bag of Words"
      ],
      "metadata": {
        "colab": {
          "base_uri": "https://localhost:8080/"
        },
        "id": "bh7SP9U1IM-6",
        "outputId": "75a172b5-1ff6-4443-b7a0-aec593efd70b"
      },
      "execution_count": null,
      "outputs": [
        {
          "output_type": "stream",
          "name": "stdout",
          "text": [
            "(5351, 10000) (206, 10000)\n",
            "[0. 1. 1. 1. 1. 1. 1. 1. 0. 0. 1. 1. 1. 1. 1. 0. 0. 0. 0. 0. 0. 0. 0. 0.\n",
            " 0. 0. 0. 0. 0. 0. 0. 0. 0. 0. 0. 0. 0. 0. 0. 0. 0. 0. 0. 0. 0. 0. 0. 0.\n",
            " 0. 0. 0. 0. 0. 0. 0. 0. 0. 0. 0. 0. 0. 0. 0. 0. 0. 0. 0. 0. 0. 0. 0. 0.\n",
            " 0. 0. 0. 0. 0. 0. 0. 0. 0. 0. 0. 0. 0. 0. 0. 0. 0. 0. 0. 0. 0. 0. 0. 0.\n",
            " 0. 0. 0. 0.]\n"
          ]
        }
      ]
    },
    {
      "cell_type": "code",
      "source": [
        "def Model_cl(): \n",
        "  dataSize = 10000 # размер входного слоя\n",
        "  dataInput = Input(shape=(dataSize)) \n",
        "  \n",
        "  x = Dense(3000, activation='relu')(dataInput) \n",
        "  #x = BatchNormalization()(x)\n",
        "  x = Dropout(0.7) (x)\n",
        "  x = BatchNormalization()(x)\n",
        "  #x = Dense(3, activation='relu') (x)\n",
        "  #x = BatchNormalization()(x)\n",
        "  #x = Dropout(0.5) (x)\n",
        "  x = Dense(2, activation='relu') (x)\n",
        "  #x = BatchNormalization()(x)\n",
        "  #x = Dropout(0.1) (x)\n",
        "  x = Dense(1, activation='sigmoid')(x) \n",
        "  \n",
        "  model = Model(inputs=dataInput, outputs=x) # собрали модель \n",
        "  \n",
        "  model.compile(loss='binary_crossentropy', optimizer=Adam(learning_rate=0.00001), metrics=['accuracy'])\n",
        "  \n",
        "  return model"
      ],
      "metadata": {
        "id": "LILP5koeIND4"
      },
      "execution_count": null,
      "outputs": []
    },
    {
      "cell_type": "code",
      "source": [
        "model.summary()"
      ],
      "metadata": {
        "colab": {
          "base_uri": "https://localhost:8080/"
        },
        "id": "NDOfWBPkINKF",
        "outputId": "d5be010f-2037-495a-c0cd-8918cfe9f539"
      },
      "execution_count": null,
      "outputs": [
        {
          "output_type": "stream",
          "name": "stdout",
          "text": [
            "Model: \"model_46\"\n",
            "_________________________________________________________________\n",
            " Layer (type)                Output Shape              Param #   \n",
            "=================================================================\n",
            " input_47 (InputLayer)       [(None, 10000)]           0         \n",
            "                                                                 \n",
            " dense_136 (Dense)           (None, 3000)              30003000  \n",
            "                                                                 \n",
            " dropout_51 (Dropout)        (None, 3000)              0         \n",
            "                                                                 \n",
            " batch_normalization_52 (Bat  (None, 3000)             12000     \n",
            " chNormalization)                                                \n",
            "                                                                 \n",
            " dense_137 (Dense)           (None, 2)                 6002      \n",
            "                                                                 \n",
            " dense_138 (Dense)           (None, 1)                 3         \n",
            "                                                                 \n",
            "=================================================================\n",
            "Total params: 30,021,005\n",
            "Trainable params: 30,015,005\n",
            "Non-trainable params: 6,000\n",
            "_________________________________________________________________\n"
          ]
        }
      ]
    },
    {
      "cell_type": "code",
      "source": [
        "model = Model_cl()\n",
        "\n",
        "# Обучаем сеть\n",
        "history = model.fit(X_train,         \n",
        "          Y_train,         \n",
        "          batch_size=50,    # Размер батча\n",
        "          epochs=50,        # Количество эпох\n",
        "          validation_data= (X_test, Y_test),\n",
        "          verbose=1)        # Выводить процесс обучения на каждой эпохе\n",
        "\n",
        "plt.plot(history.history['accuracy'], label='Точность на обучающей выборке')\n",
        "plt.plot(history.history['val_accuracy'], label ='Точность на проверочной выборке')\n",
        "plt.xlabel('Эпохи обучения')\n",
        "plt.ylabel('Точность')\n",
        "plt.legend()\n",
        "plt.show()\n",
        "\n",
        "plt.plot(history.history['loss'], label ='Ошибка на обучающей')\n",
        "plt.plot(history.history['val_loss'], label ='Ошибка на проверочной')\n",
        "plt.xlabel('Эпохи обучения')\n",
        "plt.ylabel('Ошибка')\n",
        "plt.legend()\n",
        "plt.show()"
      ],
      "metadata": {
        "colab": {
          "base_uri": "https://localhost:8080/",
          "height": 1000
        },
        "id": "D4vSDCZqINPe",
        "outputId": "69eb4107-fab9-4804-daf2-f7a3155b6e8a"
      },
      "execution_count": null,
      "outputs": [
        {
          "output_type": "stream",
          "name": "stdout",
          "text": [
            "Epoch 1/50\n",
            "8/8 [==============================] - 1s 51ms/step - loss: 0.7249 - accuracy: 0.4986 - val_loss: 0.6970 - val_accuracy: 0.3750\n",
            "Epoch 2/50\n",
            "8/8 [==============================] - 0s 23ms/step - loss: 0.7058 - accuracy: 0.5385 - val_loss: 0.6965 - val_accuracy: 0.3750\n",
            "Epoch 3/50\n",
            "8/8 [==============================] - 0s 22ms/step - loss: 0.7030 - accuracy: 0.5299 - val_loss: 0.6961 - val_accuracy: 0.3750\n",
            "Epoch 4/50\n",
            "8/8 [==============================] - 0s 21ms/step - loss: 0.7406 - accuracy: 0.4587 - val_loss: 0.6956 - val_accuracy: 0.3750\n",
            "Epoch 5/50\n",
            "8/8 [==============================] - 0s 21ms/step - loss: 0.7077 - accuracy: 0.5328 - val_loss: 0.6951 - val_accuracy: 0.3750\n",
            "Epoch 6/50\n",
            "8/8 [==============================] - 0s 21ms/step - loss: 0.6984 - accuracy: 0.5698 - val_loss: 0.6946 - val_accuracy: 0.4250\n",
            "Epoch 7/50\n",
            "8/8 [==============================] - 0s 21ms/step - loss: 0.7234 - accuracy: 0.5299 - val_loss: 0.6942 - val_accuracy: 0.4500\n",
            "Epoch 8/50\n",
            "8/8 [==============================] - 0s 21ms/step - loss: 0.6974 - accuracy: 0.5442 - val_loss: 0.6940 - val_accuracy: 0.4750\n",
            "Epoch 9/50\n",
            "8/8 [==============================] - 0s 22ms/step - loss: 0.7108 - accuracy: 0.5356 - val_loss: 0.6937 - val_accuracy: 0.4750\n",
            "Epoch 10/50\n",
            "8/8 [==============================] - 0s 21ms/step - loss: 0.7104 - accuracy: 0.4900 - val_loss: 0.6935 - val_accuracy: 0.5000\n",
            "Epoch 11/50\n",
            "8/8 [==============================] - 0s 21ms/step - loss: 0.6923 - accuracy: 0.5442 - val_loss: 0.6934 - val_accuracy: 0.5500\n",
            "Epoch 12/50\n",
            "8/8 [==============================] - 0s 21ms/step - loss: 0.6997 - accuracy: 0.5584 - val_loss: 0.6933 - val_accuracy: 0.5500\n",
            "Epoch 13/50\n",
            "8/8 [==============================] - 0s 22ms/step - loss: 0.6933 - accuracy: 0.5641 - val_loss: 0.6931 - val_accuracy: 0.5000\n",
            "Epoch 14/50\n",
            "8/8 [==============================] - 0s 21ms/step - loss: 0.7072 - accuracy: 0.5527 - val_loss: 0.6929 - val_accuracy: 0.5000\n",
            "Epoch 15/50\n",
            "8/8 [==============================] - 0s 21ms/step - loss: 0.6915 - accuracy: 0.5926 - val_loss: 0.6928 - val_accuracy: 0.5250\n",
            "Epoch 16/50\n",
            "8/8 [==============================] - 0s 21ms/step - loss: 0.7013 - accuracy: 0.5783 - val_loss: 0.6927 - val_accuracy: 0.6250\n",
            "Epoch 17/50\n",
            "8/8 [==============================] - 0s 20ms/step - loss: 0.6969 - accuracy: 0.5641 - val_loss: 0.6926 - val_accuracy: 0.6750\n",
            "Epoch 18/50\n",
            "8/8 [==============================] - 0s 19ms/step - loss: 0.6997 - accuracy: 0.5328 - val_loss: 0.6925 - val_accuracy: 0.6750\n",
            "Epoch 19/50\n",
            "8/8 [==============================] - 0s 20ms/step - loss: 0.6934 - accuracy: 0.5413 - val_loss: 0.6923 - val_accuracy: 0.7000\n",
            "Epoch 20/50\n",
            "8/8 [==============================] - 0s 19ms/step - loss: 0.6940 - accuracy: 0.5869 - val_loss: 0.6922 - val_accuracy: 0.7250\n",
            "Epoch 21/50\n",
            "8/8 [==============================] - 0s 22ms/step - loss: 0.6901 - accuracy: 0.5869 - val_loss: 0.6922 - val_accuracy: 0.7250\n",
            "Epoch 22/50\n",
            "8/8 [==============================] - 0s 20ms/step - loss: 0.6723 - accuracy: 0.5641 - val_loss: 0.6920 - val_accuracy: 0.7250\n",
            "Epoch 23/50\n",
            "8/8 [==============================] - 0s 20ms/step - loss: 0.6916 - accuracy: 0.5869 - val_loss: 0.6917 - val_accuracy: 0.7250\n",
            "Epoch 24/50\n",
            "8/8 [==============================] - 0s 19ms/step - loss: 0.7058 - accuracy: 0.5413 - val_loss: 0.6917 - val_accuracy: 0.7250\n",
            "Epoch 25/50\n",
            "8/8 [==============================] - 0s 19ms/step - loss: 0.6965 - accuracy: 0.5641 - val_loss: 0.6914 - val_accuracy: 0.7250\n",
            "Epoch 26/50\n",
            "8/8 [==============================] - 0s 20ms/step - loss: 0.6926 - accuracy: 0.5413 - val_loss: 0.6911 - val_accuracy: 0.7500\n",
            "Epoch 27/50\n",
            "8/8 [==============================] - 0s 21ms/step - loss: 0.6701 - accuracy: 0.5897 - val_loss: 0.6909 - val_accuracy: 0.7500\n",
            "Epoch 28/50\n",
            "8/8 [==============================] - 0s 19ms/step - loss: 0.7000 - accuracy: 0.5527 - val_loss: 0.6907 - val_accuracy: 0.7750\n",
            "Epoch 29/50\n",
            "8/8 [==============================] - 0s 20ms/step - loss: 0.6789 - accuracy: 0.5527 - val_loss: 0.6904 - val_accuracy: 0.7750\n",
            "Epoch 30/50\n",
            "8/8 [==============================] - 0s 20ms/step - loss: 0.6954 - accuracy: 0.5641 - val_loss: 0.6900 - val_accuracy: 0.7750\n",
            "Epoch 31/50\n",
            "8/8 [==============================] - 0s 19ms/step - loss: 0.6711 - accuracy: 0.5869 - val_loss: 0.6899 - val_accuracy: 0.7500\n",
            "Epoch 32/50\n",
            "8/8 [==============================] - 0s 19ms/step - loss: 0.6798 - accuracy: 0.5470 - val_loss: 0.6896 - val_accuracy: 0.7500\n",
            "Epoch 33/50\n",
            "8/8 [==============================] - 0s 20ms/step - loss: 0.6722 - accuracy: 0.5926 - val_loss: 0.6894 - val_accuracy: 0.7500\n",
            "Epoch 34/50\n",
            "8/8 [==============================] - 0s 19ms/step - loss: 0.6671 - accuracy: 0.5926 - val_loss: 0.6893 - val_accuracy: 0.7500\n",
            "Epoch 35/50\n",
            "8/8 [==============================] - 0s 21ms/step - loss: 0.6701 - accuracy: 0.5812 - val_loss: 0.6890 - val_accuracy: 0.7500\n",
            "Epoch 36/50\n",
            "8/8 [==============================] - 0s 19ms/step - loss: 0.6798 - accuracy: 0.5613 - val_loss: 0.6887 - val_accuracy: 0.7500\n",
            "Epoch 37/50\n",
            "8/8 [==============================] - 0s 19ms/step - loss: 0.6633 - accuracy: 0.6068 - val_loss: 0.6883 - val_accuracy: 0.7500\n",
            "Epoch 38/50\n",
            "8/8 [==============================] - 0s 19ms/step - loss: 0.6732 - accuracy: 0.5926 - val_loss: 0.6879 - val_accuracy: 0.7500\n",
            "Epoch 39/50\n",
            "8/8 [==============================] - 0s 20ms/step - loss: 0.6826 - accuracy: 0.5584 - val_loss: 0.6877 - val_accuracy: 0.7500\n",
            "Epoch 40/50\n",
            "8/8 [==============================] - 0s 20ms/step - loss: 0.6669 - accuracy: 0.5954 - val_loss: 0.6873 - val_accuracy: 0.7500\n",
            "Epoch 41/50\n",
            "8/8 [==============================] - 0s 19ms/step - loss: 0.6792 - accuracy: 0.5670 - val_loss: 0.6870 - val_accuracy: 0.7750\n",
            "Epoch 42/50\n",
            "8/8 [==============================] - 0s 19ms/step - loss: 0.6653 - accuracy: 0.5755 - val_loss: 0.6866 - val_accuracy: 0.7500\n",
            "Epoch 43/50\n",
            "8/8 [==============================] - 0s 19ms/step - loss: 0.6711 - accuracy: 0.5983 - val_loss: 0.6864 - val_accuracy: 0.7500\n",
            "Epoch 44/50\n",
            "8/8 [==============================] - 0s 19ms/step - loss: 0.6853 - accuracy: 0.5783 - val_loss: 0.6860 - val_accuracy: 0.7750\n",
            "Epoch 45/50\n",
            "8/8 [==============================] - 0s 19ms/step - loss: 0.6550 - accuracy: 0.6211 - val_loss: 0.6854 - val_accuracy: 0.7750\n",
            "Epoch 46/50\n",
            "8/8 [==============================] - 0s 20ms/step - loss: 0.6646 - accuracy: 0.6154 - val_loss: 0.6850 - val_accuracy: 0.7750\n",
            "Epoch 47/50\n",
            "8/8 [==============================] - 0s 19ms/step - loss: 0.6807 - accuracy: 0.6182 - val_loss: 0.6842 - val_accuracy: 0.7250\n",
            "Epoch 48/50\n",
            "8/8 [==============================] - 0s 20ms/step - loss: 0.6657 - accuracy: 0.6239 - val_loss: 0.6836 - val_accuracy: 0.7500\n",
            "Epoch 49/50\n",
            "8/8 [==============================] - 0s 22ms/step - loss: 0.6584 - accuracy: 0.6154 - val_loss: 0.6834 - val_accuracy: 0.8000\n",
            "Epoch 50/50\n",
            "8/8 [==============================] - 0s 19ms/step - loss: 0.6650 - accuracy: 0.6182 - val_loss: 0.6825 - val_accuracy: 0.7750\n"
          ]
        },
        {
          "output_type": "display_data",
          "data": {
            "image/png": "[encoded data removed]",
            "text/plain": [
              "<Figure size 432x288 with 1 Axes>"
            ]
          },
          "metadata": {
            "needs_background": "light"
          }
        },
        {
          "output_type": "display_data",
          "data": {
            "image/png": "[encoded data removed]",
            "text/plain": [
              "<Figure size 432x288 with 1 Axes>"
            ]
          },
          "metadata": {
            "needs_background": "light"
          }
        }
      ]
    },
    {
      "cell_type": "code",
      "source": [
        "model.compile(loss='binary_crossentropy', optimizer=Adam(learning_rate=0.000001), metrics=['accuracy'])\n",
        "# Обучаем сеть\n",
        "history = model.fit(X_train,         \n",
        "          Y_train,         \n",
        "          batch_size=12,    # Размер батча\n",
        "          epochs=50,        # Количество эпох\n",
        "          validation_data= (X_test, Y_test),\n",
        "          verbose=1)        # Выводить процесс обучения на каждой эпохе\n",
        "\n",
        "plt.plot(history.history['accuracy'], label='Точность на обучающей выборке')\n",
        "plt.plot(history.history['val_accuracy'], label ='Точность на проверочной выборке')\n",
        "plt.xlabel('Эпохи обучения')\n",
        "plt.ylabel('Точность')\n",
        "plt.legend()\n",
        "plt.show()\n",
        "\n",
        "plt.plot(history.history['loss'], label ='Ошибка на обучающей')\n",
        "plt.plot(history.history['val_loss'], label ='Ошибка на проверочной')\n",
        "plt.xlabel('Эпохи обучения')\n",
        "plt.ylabel('Ошибка')\n",
        "plt.legend()\n",
        "plt.show()"
      ],
      "metadata": {
        "colab": {
          "base_uri": "https://localhost:8080/",
          "height": 1000
        },
        "id": "MwtiaozbPBaO",
        "outputId": "9ccd9b8a-0084-4206-d2eb-17ab85410a0f"
      },
      "execution_count": null,
      "outputs": [
        {
          "output_type": "stream",
          "name": "stdout",
          "text": [
            "Epoch 1/50\n",
            "30/30 [==============================] - 3s 34ms/step - loss: 0.6421 - accuracy: 0.6524 - val_loss: 0.6063 - val_accuracy: 0.6750\n",
            "Epoch 2/50\n",
            "30/30 [==============================] - 1s 20ms/step - loss: 0.6443 - accuracy: 0.6268 - val_loss: 0.6093 - val_accuracy: 0.6750\n",
            "Epoch 3/50\n",
            "30/30 [==============================] - 1s 17ms/step - loss: 0.6528 - accuracy: 0.6325 - val_loss: 0.6106 - val_accuracy: 0.6750\n",
            "Epoch 4/50\n",
            "30/30 [==============================] - 1s 17ms/step - loss: 0.6886 - accuracy: 0.6211 - val_loss: 0.6101 - val_accuracy: 0.7000\n",
            "Epoch 5/50\n",
            "30/30 [==============================] - 0s 16ms/step - loss: 0.6537 - accuracy: 0.6581 - val_loss: 0.6121 - val_accuracy: 0.7000\n",
            "Epoch 6/50\n",
            "30/30 [==============================] - 0s 16ms/step - loss: 0.5967 - accuracy: 0.6752 - val_loss: 0.6134 - val_accuracy: 0.7000\n",
            "Epoch 7/50\n",
            "30/30 [==============================] - 0s 16ms/step - loss: 0.6313 - accuracy: 0.6439 - val_loss: 0.6104 - val_accuracy: 0.7000\n",
            "Epoch 8/50\n",
            "30/30 [==============================] - 1s 17ms/step - loss: 0.6701 - accuracy: 0.6296 - val_loss: 0.6130 - val_accuracy: 0.7000\n",
            "Epoch 9/50\n",
            "30/30 [==============================] - 0s 16ms/step - loss: 0.6284 - accuracy: 0.6268 - val_loss: 0.6132 - val_accuracy: 0.7000\n",
            "Epoch 10/50\n",
            "30/30 [==============================] - 0s 16ms/step - loss: 0.6388 - accuracy: 0.6724 - val_loss: 0.6151 - val_accuracy: 0.7000\n",
            "Epoch 11/50\n",
            "30/30 [==============================] - 0s 16ms/step - loss: 0.6896 - accuracy: 0.6125 - val_loss: 0.6122 - val_accuracy: 0.7000\n",
            "Epoch 12/50\n",
            "30/30 [==============================] - 0s 16ms/step - loss: 0.6832 - accuracy: 0.6382 - val_loss: 0.6114 - val_accuracy: 0.6750\n",
            "Epoch 13/50\n",
            "30/30 [==============================] - 0s 16ms/step - loss: 0.6365 - accuracy: 0.6325 - val_loss: 0.6087 - val_accuracy: 0.6750\n",
            "Epoch 14/50\n",
            "30/30 [==============================] - 0s 16ms/step - loss: 0.6319 - accuracy: 0.6610 - val_loss: 0.6088 - val_accuracy: 0.6500\n",
            "Epoch 15/50\n",
            "30/30 [==============================] - 0s 16ms/step - loss: 0.6175 - accuracy: 0.6667 - val_loss: 0.6072 - val_accuracy: 0.6500\n",
            "Epoch 16/50\n",
            "30/30 [==============================] - 0s 16ms/step - loss: 0.5838 - accuracy: 0.6980 - val_loss: 0.6074 - val_accuracy: 0.6500\n",
            "Epoch 17/50\n",
            "30/30 [==============================] - 0s 16ms/step - loss: 0.6105 - accuracy: 0.6610 - val_loss: 0.6086 - val_accuracy: 0.6500\n",
            "Epoch 18/50\n",
            "30/30 [==============================] - 1s 17ms/step - loss: 0.6509 - accuracy: 0.6667 - val_loss: 0.6092 - val_accuracy: 0.6500\n",
            "Epoch 19/50\n",
            "30/30 [==============================] - 0s 17ms/step - loss: 0.5951 - accuracy: 0.6781 - val_loss: 0.6099 - val_accuracy: 0.6750\n",
            "Epoch 20/50\n",
            "30/30 [==============================] - 1s 17ms/step - loss: 0.6225 - accuracy: 0.6895 - val_loss: 0.6136 - val_accuracy: 0.6750\n",
            "Epoch 21/50\n",
            "30/30 [==============================] - 0s 16ms/step - loss: 0.6618 - accuracy: 0.6410 - val_loss: 0.6134 - val_accuracy: 0.6750\n",
            "Epoch 22/50\n",
            "30/30 [==============================] - 0s 17ms/step - loss: 0.6347 - accuracy: 0.6467 - val_loss: 0.6128 - val_accuracy: 0.6750\n",
            "Epoch 23/50\n",
            "30/30 [==============================] - 1s 17ms/step - loss: 0.6672 - accuracy: 0.6239 - val_loss: 0.6149 - val_accuracy: 0.6500\n",
            "Epoch 24/50\n",
            "30/30 [==============================] - 1s 17ms/step - loss: 0.6372 - accuracy: 0.6781 - val_loss: 0.6161 - val_accuracy: 0.6750\n",
            "Epoch 25/50\n",
            "30/30 [==============================] - 1s 17ms/step - loss: 0.6191 - accuracy: 0.6638 - val_loss: 0.6145 - val_accuracy: 0.7000\n",
            "Epoch 26/50\n",
            "30/30 [==============================] - 1s 17ms/step - loss: 0.6433 - accuracy: 0.6439 - val_loss: 0.6165 - val_accuracy: 0.6750\n",
            "Epoch 27/50\n",
            "30/30 [==============================] - 0s 17ms/step - loss: 0.6750 - accuracy: 0.6154 - val_loss: 0.6163 - val_accuracy: 0.6750\n",
            "Epoch 28/50\n",
            "30/30 [==============================] - 1s 17ms/step - loss: 0.6723 - accuracy: 0.6154 - val_loss: 0.6160 - val_accuracy: 0.7000\n",
            "Epoch 29/50\n",
            "30/30 [==============================] - 0s 17ms/step - loss: 0.6524 - accuracy: 0.6496 - val_loss: 0.6170 - val_accuracy: 0.7000\n",
            "Epoch 30/50\n",
            "30/30 [==============================] - 1s 17ms/step - loss: 0.6461 - accuracy: 0.6581 - val_loss: 0.6169 - val_accuracy: 0.6750\n",
            "Epoch 31/50\n",
            "30/30 [==============================] - 1s 17ms/step - loss: 0.5996 - accuracy: 0.7009 - val_loss: 0.6148 - val_accuracy: 0.6750\n",
            "Epoch 32/50\n",
            "30/30 [==============================] - 0s 16ms/step - loss: 0.6436 - accuracy: 0.6524 - val_loss: 0.6166 - val_accuracy: 0.6750\n",
            "Epoch 33/50\n",
            "30/30 [==============================] - 0s 17ms/step - loss: 0.6444 - accuracy: 0.6610 - val_loss: 0.6168 - val_accuracy: 0.6750\n",
            "Epoch 34/50\n",
            "30/30 [==============================] - 0s 17ms/step - loss: 0.6571 - accuracy: 0.6610 - val_loss: 0.6142 - val_accuracy: 0.7000\n",
            "Epoch 35/50\n",
            "30/30 [==============================] - 0s 16ms/step - loss: 0.6401 - accuracy: 0.6268 - val_loss: 0.6121 - val_accuracy: 0.6500\n",
            "Epoch 36/50\n",
            "30/30 [==============================] - 0s 17ms/step - loss: 0.6289 - accuracy: 0.6382 - val_loss: 0.6126 - val_accuracy: 0.6500\n",
            "Epoch 37/50\n",
            "30/30 [==============================] - 1s 17ms/step - loss: 0.6614 - accuracy: 0.6610 - val_loss: 0.6143 - val_accuracy: 0.6500\n",
            "Epoch 38/50\n",
            "30/30 [==============================] - 0s 17ms/step - loss: 0.6552 - accuracy: 0.6496 - val_loss: 0.6169 - val_accuracy: 0.6750\n",
            "Epoch 39/50\n",
            "30/30 [==============================] - 0s 17ms/step - loss: 0.6435 - accuracy: 0.6353 - val_loss: 0.6156 - val_accuracy: 0.6500\n",
            "Epoch 40/50\n",
            "30/30 [==============================] - 1s 17ms/step - loss: 0.6349 - accuracy: 0.6553 - val_loss: 0.6183 - val_accuracy: 0.6750\n",
            "Epoch 41/50\n",
            "30/30 [==============================] - 0s 17ms/step - loss: 0.6381 - accuracy: 0.6610 - val_loss: 0.6243 - val_accuracy: 0.6750\n",
            "Epoch 42/50\n",
            "30/30 [==============================] - 0s 16ms/step - loss: 0.6727 - accuracy: 0.6296 - val_loss: 0.6223 - val_accuracy: 0.6750\n",
            "Epoch 43/50\n",
            "30/30 [==============================] - 0s 16ms/step - loss: 0.6702 - accuracy: 0.6239 - val_loss: 0.6179 - val_accuracy: 0.6500\n",
            "Epoch 44/50\n",
            "30/30 [==============================] - 1s 17ms/step - loss: 0.6308 - accuracy: 0.6553 - val_loss: 0.6154 - val_accuracy: 0.6750\n",
            "Epoch 45/50\n",
            "30/30 [==============================] - 0s 16ms/step - loss: 0.6429 - accuracy: 0.6467 - val_loss: 0.6169 - val_accuracy: 0.6750\n",
            "Epoch 46/50\n",
            "30/30 [==============================] - 0s 16ms/step - loss: 0.6617 - accuracy: 0.6296 - val_loss: 0.6145 - val_accuracy: 0.6500\n",
            "Epoch 47/50\n",
            "30/30 [==============================] - 0s 16ms/step - loss: 0.6634 - accuracy: 0.6154 - val_loss: 0.6105 - val_accuracy: 0.6500\n",
            "Epoch 48/50\n",
            "30/30 [==============================] - 1s 17ms/step - loss: 0.6392 - accuracy: 0.6382 - val_loss: 0.6105 - val_accuracy: 0.6750\n",
            "Epoch 49/50\n",
            "30/30 [==============================] - 0s 17ms/step - loss: 0.6975 - accuracy: 0.5954 - val_loss: 0.6106 - val_accuracy: 0.6500\n",
            "Epoch 50/50\n",
            "30/30 [==============================] - 0s 17ms/step - loss: 0.6420 - accuracy: 0.6752 - val_loss: 0.6122 - val_accuracy: 0.6750\n"
          ]
        },
        {
          "output_type": "display_data",
          "data": {
            "image/png": "[encoded data removed]",
            "text/plain": [
              "<Figure size 432x288 with 1 Axes>"
            ]
          },
          "metadata": {
            "needs_background": "light"
          }
        },
        {
          "output_type": "display_data",
          "data": {
            "image/png": "[encoded data removed]",
            "text/plain": [
              "<Figure size 432x288 with 1 Axes>"
            ]
          },
          "metadata": {
            "needs_background": "light"
          }
        }
      ]
    },
    {
      "cell_type": "code",
      "source": [
        ""
      ],
      "metadata": {
        "id": "l8eBQ0tTINUc"
      },
      "execution_count": null,
      "outputs": []
    },
    {
      "cell_type": "markdown",
      "source": [
        "#**Embedding**"
      ],
      "metadata": {
        "id": "p06RDVqGkkCZ"
      }
    },
    {
      "cell_type": "code",
      "source": [
        "# загружаю датасет\n",
        "df_train_new = pd.read_csv('/content/train.csv', index_col = 0)\n",
        "df_train_new.head()"
      ],
      "metadata": {
        "colab": {
          "base_uri": "https://localhost:8080/",
          "height": 206
        },
        "id": "SDNFXntMqP-Z",
        "outputId": "a3b2ee75-a28d-4366-cf23-79eb6012b0ee"
      },
      "execution_count": null,
      "outputs": [
        {
          "output_type": "execute_result",
          "data": {
            "text/html": [
              "\n",
              "  <div id=\"df-c0a1867b-42b3-47f4-972f-60e8e116b568\">\n",
              "    <div class=\"colab-df-container\">\n",
              "      <div>\n",
              "<style scoped>\n",
              "    .dataframe tbody tr th:only-of-type {\n",
              "        vertical-align: middle;\n",
              "    }\n",
              "\n",
              "    .dataframe tbody tr th {\n",
              "        vertical-align: top;\n",
              "    }\n",
              "\n",
              "    .dataframe thead th {\n",
              "        text-align: right;\n",
              "    }\n",
              "</style>\n",
              "<table border=\"1\" class=\"dataframe\">\n",
              "  <thead>\n",
              "    <tr style=\"text-align: right;\">\n",
              "      <th></th>\n",
              "      <th>Smiles</th>\n",
              "      <th>Active</th>\n",
              "    </tr>\n",
              "  </thead>\n",
              "  <tbody>\n",
              "    <tr>\n",
              "      <th>0</th>\n",
              "      <td>COc1ccc2[nH]cc(CCN)c2c1</td>\n",
              "      <td>False</td>\n",
              "    </tr>\n",
              "    <tr>\n",
              "      <th>1</th>\n",
              "      <td>CCCN1CCC[C@H](c2cccc(O)c2)C1.Cl</td>\n",
              "      <td>False</td>\n",
              "    </tr>\n",
              "    <tr>\n",
              "      <th>2</th>\n",
              "      <td>O=C(NO)c1cnc(N2CCN(S(=O)(=O)c3ccc4ccccc4c3)CC2...</td>\n",
              "      <td>False</td>\n",
              "    </tr>\n",
              "    <tr>\n",
              "      <th>3</th>\n",
              "      <td>Nc1cccc(CNC(=O)c2ccc(Oc3ccc(OCc4cccc(F)c4)cc3)...</td>\n",
              "      <td>False</td>\n",
              "    </tr>\n",
              "    <tr>\n",
              "      <th>4</th>\n",
              "      <td>Fc1ccccc1CNCc1ccc(-c2ccnc3[nH]ccc23)cc1</td>\n",
              "      <td>False</td>\n",
              "    </tr>\n",
              "  </tbody>\n",
              "</table>\n",
              "</div>\n",
              "      <button class=\"colab-df-convert\" onclick=\"convertToInteractive('df-c0a1867b-42b3-47f4-972f-60e8e116b568')\"\n",
              "              title=\"Convert this dataframe to an interactive table.\"\n",
              "              style=\"display:none;\">\n",
              "        \n",
              "  <svg xmlns=\"http://www.w3.org/2000/svg\" height=\"24px\"viewBox=\"0 0 24 24\"\n",
              "       width=\"24px\">\n",
              "    <path d=\"M0 0h24v24H0V0z\" fill=\"none\"/>\n",
              "    <path d=\"M18.56 5.44l.94 2.06.94-2.06 2.06-.94-2.06-.94-.94-2.06-.94 2.06-2.06.94zm-11 1L8.5 8.5l.94-2.06 2.06-.94-2.06-.94L8.5 2.5l-.94 2.06-2.06.94zm10 10l.94 2.06.94-2.06 2.06-.94-2.06-.94-.94-2.06-.94 2.06-2.06.94z\"/><path d=\"M17.41 7.96l-1.37-1.37c-.4-.4-.92-.59-1.43-.59-.52 0-1.04.2-1.43.59L10.3 9.45l-7.72 7.72c-.78.78-.78 2.05 0 2.83L4 21.41c.39.39.9.59 1.41.59.51 0 1.02-.2 1.41-.59l7.78-7.78 2.81-2.81c.8-.78.8-2.07 0-2.86zM5.41 20L4 18.59l7.72-7.72 1.47 1.35L5.41 20z\"/>\n",
              "  </svg>\n",
              "      </button>\n",
              "      \n",
              "  <style>\n",
              "    .colab-df-container {\n",
              "      display:flex;\n",
              "      flex-wrap:wrap;\n",
              "      gap: 12px;\n",
              "    }\n",
              "\n",
              "    .colab-df-convert {\n",
              "      background-color: #E8F0FE;\n",
              "      border: none;\n",
              "      border-radius: 50%;\n",
              "      cursor: pointer;\n",
              "      display: none;\n",
              "      fill: #1967D2;\n",
              "      height: 32px;\n",
              "      padding: 0 0 0 0;\n",
              "      width: 32px;\n",
              "    }\n",
              "\n",
              "    .colab-df-convert:hover {\n",
              "      background-color: #E2EBFA;\n",
              "      box-shadow: 0px 1px 2px rgba(60, 64, 67, 0.3), 0px 1px 3px 1px rgba(60, 64, 67, 0.15);\n",
              "      fill: #174EA6;\n",
              "    }\n",
              "\n",
              "    [theme=dark] .colab-df-convert {\n",
              "      background-color: #3B4455;\n",
              "      fill: #D2E3FC;\n",
              "    }\n",
              "\n",
              "    [theme=dark] .colab-df-convert:hover {\n",
              "      background-color: #434B5C;\n",
              "      box-shadow: 0px 1px 3px 1px rgba(0, 0, 0, 0.15);\n",
              "      filter: drop-shadow(0px 1px 2px rgba(0, 0, 0, 0.3));\n",
              "      fill: #FFFFFF;\n",
              "    }\n",
              "  </style>\n",
              "\n",
              "      <script>\n",
              "        const buttonEl =\n",
              "          document.querySelector('#df-c0a1867b-42b3-47f4-972f-60e8e116b568 button.colab-df-convert');\n",
              "        buttonEl.style.display =\n",
              "          google.colab.kernel.accessAllowed ? 'block' : 'none';\n",
              "\n",
              "        async function convertToInteractive(key) {\n",
              "          const element = document.querySelector('#df-c0a1867b-42b3-47f4-972f-60e8e116b568');\n",
              "          const dataTable =\n",
              "            await google.colab.kernel.invokeFunction('convertToInteractive',\n",
              "                                                     [key], {});\n",
              "          if (!dataTable) return;\n",
              "\n",
              "          const docLinkHtml = 'Like what you see? Visit the ' +\n",
              "            '<a target=\"_blank\" href=https://colab.research.google.com/notebooks/data_table.ipynb>data table notebook</a>'\n",
              "            + ' to learn more about interactive tables.';\n",
              "          element.innerHTML = '';\n",
              "          dataTable['output_type'] = 'display_data';\n",
              "          await google.colab.output.renderOutput(dataTable, element);\n",
              "          const docLink = document.createElement('div');\n",
              "          docLink.innerHTML = docLinkHtml;\n",
              "          element.appendChild(docLink);\n",
              "        }\n",
              "      </script>\n",
              "    </div>\n",
              "  </div>\n",
              "  "
            ],
            "text/plain": [
              "                                              Smiles  Active\n",
              "0                            COc1ccc2[nH]cc(CCN)c2c1   False\n",
              "1                    CCCN1CCC[C@H](c2cccc(O)c2)C1.Cl   False\n",
              "2  O=C(NO)c1cnc(N2CCN(S(=O)(=O)c3ccc4ccccc4c3)CC2...   False\n",
              "3  Nc1cccc(CNC(=O)c2ccc(Oc3ccc(OCc4cccc(F)c4)cc3)...   False\n",
              "4            Fc1ccccc1CNCc1ccc(-c2ccnc3[nH]ccc23)cc1   False"
            ]
          },
          "metadata": {},
          "execution_count": 2
        }
      ]
    },
    {
      "cell_type": "code",
      "source": [
        "# df активные молекулы\n",
        "df_train_True = df_train_new[df_train_new.Active==True]\n",
        "\n",
        "# df неактивные молекулы\n",
        "df_train_False = df_train_new[df_train_new.Active==False]"
      ],
      "metadata": {
        "id": "rQiB2i7LqS2m"
      },
      "execution_count": null,
      "outputs": []
    },
    {
      "cell_type": "code",
      "source": [
        "# собираю значения Smiles неактивных молекул в лист\n",
        "s_inactive = []\n",
        "for i in df_train_False['Smiles']:\n",
        "  s_inactive.append(i)\n",
        "\n",
        "print('Длинна s_inactive:', len(s_inactive))\n",
        "print(\"Пример значения из s_inactive:\", s_inactive[1])"
      ],
      "metadata": {
        "colab": {
          "base_uri": "https://localhost:8080/"
        },
        "id": "fsB_YrbSqXCU",
        "outputId": "f6af33af-4cbf-4f71-9128-92ae6f8bd2f2"
      },
      "execution_count": null,
      "outputs": [
        {
          "output_type": "stream",
          "name": "stdout",
          "text": [
            "Длинна s_inactive: 5351\n",
            "Пример значения из s_inactive: CCCN1CCC[C@H](c2cccc(O)c2)C1.Cl\n"
          ]
        }
      ]
    },
    {
      "cell_type": "code",
      "source": [
        "l = []\n",
        "for i in s_inactive:\n",
        "  l.append(len(i))\n",
        "print(max(l), min(l))\n"
      ],
      "metadata": {
        "colab": {
          "base_uri": "https://localhost:8080/"
        },
        "id": "arVCyU9OmNsn",
        "outputId": "3c51cc6a-4cdd-4744-cdc6-5cf2c7a23357"
      },
      "execution_count": null,
      "outputs": [
        {
          "output_type": "stream",
          "name": "stdout",
          "text": [
            "598 6\n"
          ]
        }
      ]
    },
    {
      "cell_type": "code",
      "source": [
        "# самая длинная молекула\n",
        "for i in s_inactive:\n",
        "  if len(i) == 598:\n",
        "    print(i)"
      ],
      "metadata": {
        "colab": {
          "base_uri": "https://localhost:8080/"
        },
        "id": "4ERnexLxmY6C",
        "outputId": "09084e64-686e-4f62-c39f-263a399c753f"
      },
      "execution_count": null,
      "outputs": [
        {
          "output_type": "stream",
          "name": "stdout",
          "text": [
            "C=C(NC(=O)[C@@H](NC(=O)[C@H](Cc1cnc[nH]1)NC(=O)[C@@H](NC(=O)[C@H](CO)NC(=O)[C@@H]1CS[C@@H](C)[C@H]2NC(=O)C(=C)NC(=O)[C@H](NC(=O)[C@H](CCCCN)NC(=O)[C@H](CCSC)NC(=O)[C@H](CC(N)=O)NC(=O)[C@@H]3CS[C@@H](C)[C@@H](NC(=O)[C@H](CCCNN)NC(=O)[C@@H]4CS[C@@H](C)[C@@H](NC(=O)[C@@H]5CSC[C@@H](NC(=O)/C(=C\\C)NC(=O)[C@@H](N)[C@@H](C)CC)C(=O)N[C@@H]([C@@H](C)CC)C(=O)NC(=C)C(=O)N[C@@H]([C@@H](C)CC)C(=O)N5)C(=O)N5CCC[C@H]5C(=O)NCC(=O)N4)C(=O)NCC(=O)N[C@@H](C)C(=O)N[C@@H]([C@@H](C)CC)C(=O)N[C@@H](CCSC)C(=O)NCC(=O)N3)[C@H](C)SC[C@H](NC2=O)C(=O)N[C@H](Cc2cnc[nH]2)C(=O)N1)[C@@H](C)CC)C(C)C)C(=O)N[C@@H](CCCCN)C(=O)O\n"
          ]
        }
      ]
    },
    {
      "cell_type": "code",
      "source": [
        "# активные молекулы\n",
        "s_active = []\n",
        "for i in df_train_True['Smiles']:\n",
        "  s_active.append(i)\n",
        "\n",
        "print('Длинна s_active:', len(s_active))\n",
        "print(\"Пример значения из s_active:\", s_active[1])"
      ],
      "metadata": {
        "colab": {
          "base_uri": "https://localhost:8080/"
        },
        "id": "h0uwGs27qcqT",
        "outputId": "28906659-8994-496a-d135-6955be660cef"
      },
      "execution_count": null,
      "outputs": [
        {
          "output_type": "stream",
          "name": "stdout",
          "text": [
            "Длинна s_active: 206\n",
            "Пример значения из s_active: C[C@H]1COc2c(N3CCN(C)CC3)c(F)cc3c(=O)c(C(=O)O)cn1c23\n"
          ]
        }
      ]
    },
    {
      "cell_type": "code",
      "source": [
        "# все молекулы\n",
        "Smiles = s_active + s_inactive\n",
        "len(Smiles)"
      ],
      "metadata": {
        "colab": {
          "base_uri": "https://localhost:8080/"
        },
        "id": "SgzJWP4Bqh-v",
        "outputId": "ea65208b-4e0d-4bf8-a6b1-240982c4fabd"
      },
      "execution_count": null,
      "outputs": [
        {
          "output_type": "execute_result",
          "data": {
            "text/plain": [
              "5557"
            ]
          },
          "metadata": {},
          "execution_count": 8
        }
      ]
    },
    {
      "cell_type": "code",
      "source": [
        "maxWordsCount = 1024 # Определяем максимальное количество слов/индексов, учитываемое при обучении текстов\n",
        "\n",
        "tokenizer = Tokenizer(num_words=maxWordsCount, filters='', lower=False, split='', oov_token=None, char_level=True)\n",
        "\n",
        "tokenizer.fit_on_texts(Smiles) # \"Скармливаем\" наши тексты, т.е. даём в обработку методу, который соберет словарь частотности\n",
        "items = list(tokenizer.word_index.items()) # Вытаскиваем индексы слов для просмотра"
      ],
      "metadata": {
        "id": "CqycmPh9qmPM"
      },
      "execution_count": null,
      "outputs": []
    },
    {
      "cell_type": "code",
      "source": [
        "# Преобразовываем текст в последовательность индексов согласно частотному словарю\n",
        "s_inactive_WordIndexes = tokenizer.texts_to_sequences(s_inactive) # тесты в индексы\n",
        "s_active_WordIndexes = tokenizer.texts_to_sequences(s_active) # тесты в индексы\n",
        "\n",
        "print(\"Взглянем на Smiles:\")\n",
        "print(\"Как в таблице:              \", s_inactive[1])\n",
        "print(\"В виде последовательности индексов: \", s_inactive_WordIndexes[1], '\\n')\n",
        "len(s_inactive[1]), len(s_inactive_WordIndexes[1])"
      ],
      "metadata": {
        "colab": {
          "base_uri": "https://localhost:8080/"
        },
        "id": "rZeXyOLZpGYj",
        "outputId": "7bfe68be-cd61-4b17-91ef-44039bea1bf2"
      },
      "execution_count": null,
      "outputs": [
        {
          "output_type": "stream",
          "name": "stdout",
          "text": [
            "Взглянем на Smiles:\n",
            "Как в таблице:               CCCN1CCC[C@H](c2cccc(O)c2)C1.Cl\n",
            "В виде последовательности индексов:  [2, 2, 2, 10, 6, 2, 2, 2, 11, 2, 9, 13, 12, 3, 1, 7, 1, 1, 1, 1, 3, 5, 4, 1, 7, 4, 2, 6, 22, 2, 19] \n",
            "\n"
          ]
        },
        {
          "output_type": "execute_result",
          "data": {
            "text/plain": [
              "(31, 31)"
            ]
          },
          "metadata": {},
          "execution_count": 11
        }
      ]
    },
    {
      "cell_type": "code",
      "source": [
        "len(s_inactive[9]), len(s_inactive_WordIndexes[9])"
      ],
      "metadata": {
        "colab": {
          "base_uri": "https://localhost:8080/"
        },
        "id": "HE-wb9P8rfhW",
        "outputId": "8282d01c-6797-4ff1-d803-1e4d3fbcea05"
      },
      "execution_count": null,
      "outputs": [
        {
          "output_type": "execute_result",
          "data": {
            "text/plain": [
              "(35, 35)"
            ]
          },
          "metadata": {},
          "execution_count": 12
        }
      ]
    },
    {
      "cell_type": "code",
      "source": [
        "# самая длинная молекула\n",
        "for i in s_inactive_WordIndexes:\n",
        "  if len(i) == 598:\n",
        "    print(i)"
      ],
      "metadata": {
        "colab": {
          "base_uri": "https://localhost:8080/"
        },
        "id": "YwlyA3R4jaAg",
        "outputId": "c4c30359-0b7c-4648-ba11-c608059dd607"
      },
      "execution_count": null,
      "outputs": [
        {
          "output_type": "stream",
          "name": "stdout",
          "text": [
            "[2, 8, 2, 3, 10, 2, 3, 8, 5, 4, 11, 2, 9, 9, 13, 12, 3, 10, 2, 3, 8, 5, 4, 11, 2, 9, 13, 12, 3, 2, 1, 6, 1, 14, 1, 11, 14, 13, 12, 6, 4, 10, 2, 3, 8, 5, 4, 11, 2, 9, 9, 13, 12, 3, 10, 2, 3, 8, 5, 4, 11, 2, 9, 13, 12, 3, 2, 5, 4, 10, 2, 3, 8, 5, 4, 11, 2, 9, 9, 13, 12, 6, 2, 20, 11, 2, 9, 9, 13, 12, 3, 2, 4, 11, 2, 9, 13, 12, 7, 10, 2, 3, 8, 5, 4, 2, 3, 8, 2, 4, 10, 2, 3, 8, 5, 4, 11, 2, 9, 13, 12, 3, 10, 2, 3, 8, 5, 4, 11, 2, 9, 13, 12, 3, 2, 2, 2, 2, 10, 4, 10, 2, 3, 8, 5, 4, 11, 2, 9, 13, 12, 3, 2, 2, 20, 2, 4, 10, 2, 3, 8, 5, 4, 11, 2, 9, 13, 12, 3, 2, 2, 3, 10, 4, 8, 5, 4, 10, 2, 3, 8, 5, 4, 11, 2, 9, 9, 13, 12, 15, 2, 20, 11, 2, 9, 9, 13, 12, 3, 2, 4, 11, 2, 9, 9, 13, 12, 3, 10, 2, 3, 8, 5, 4, 11, 2, 9, 13, 12, 3, 2, 2, 2, 10, 10, 4, 10, 2, 3, 8, 5, 4, 11, 2, 9, 9, 13, 12, 17, 2, 20, 11, 2, 9, 9, 13, 12, 3, 2, 4, 11, 2, 9, 9, 13, 12, 3, 10, 2, 3, 8, 5, 4, 11, 2, 9, 9, 13, 12, 23, 2, 20, 2, 11, 2, 9, 9, 13, 12, 3, 10, 2, 3, 8, 5, 4, 21, 2, 3, 8, 2, 28, 2, 4, 10, 2, 3, 8, 5, 4, 11, 2, 9, 9, 13, 12, 3, 10, 4, 11, 2, 9, 9, 13, 12, 3, 2, 4, 2, 2, 4, 2, 3, 8, 5, 4, 10, 11, 2, 9, 9, 13, 12, 3, 11, 2, 9, 9, 13, 12, 3, 2, 4, 2, 2, 4, 2, 3, 8, 5, 4, 10, 2, 3, 8, 2, 4, 2, 3, 8, 5, 4, 10, 11, 2, 9, 9, 13, 12, 3, 11, 2, 9, 9, 13, 12, 3, 2, 4, 2, 2, 4, 2, 3, 8, 5, 4, 10, 23, 4, 2, 3, 8, 5, 4, 10, 23, 2, 2, 2, 11, 2, 9, 13, 12, 23, 2, 3, 8, 5, 4, 10, 2, 2, 3, 8, 5, 4, 10, 17, 4, 2, 3, 8, 5, 4, 10, 2, 2, 3, 8, 5, 4, 10, 11, 2, 9, 9, 13, 12, 3, 2, 4, 2, 3, 8, 5, 4, 10, 11, 2, 9, 9, 13, 12, 3, 11, 2, 9, 9, 13, 12, 3, 2, 4, 2, 2, 4, 2, 3, 8, 5, 4, 10, 11, 2, 9, 9, 13, 12, 3, 2, 2, 20, 2, 4, 2, 3, 8, 5, 4, 10, 2, 2, 3, 8, 5, 4, 10, 15, 4, 11, 2, 9, 13, 12, 3, 2, 4, 20, 2, 11, 2, 9, 13, 12, 3, 10, 2, 7, 8, 5, 4, 2, 3, 8, 5, 4, 10, 11, 2, 9, 13, 12, 3, 2, 1, 7, 1, 14, 1, 11, 14, 13, 12, 7, 4, 2, 3, 8, 5, 4, 10, 6, 4, 11, 2, 9, 9, 13, 12, 3, 2, 4, 2, 2, 4, 2, 3, 2, 4, 2, 4, 2, 3, 8, 5, 4, 10, 11, 2, 9, 9, 13, 12, 3, 2, 2, 2, 2, 10, 4, 2, 3, 8, 5, 4, 5]\n"
          ]
        }
      ]
    },
    {
      "cell_type": "code",
      "source": [
        "lenXTrainE = [len(x) for x in s_inactive]\n",
        "plt.hist(lenXTrainE, 100)\n",
        "plt.show()"
      ],
      "metadata": {
        "colab": {
          "base_uri": "https://localhost:8080/",
          "height": 265
        },
        "id": "MxqkGrBNvCcJ",
        "outputId": "90d0ad78-08d3-42f4-aaf0-341164826fb8"
      },
      "execution_count": null,
      "outputs": [
        {
          "output_type": "display_data",
          "data": {
            "image/png": "[encoded data removed]",
            "text/plain": [
              "<Figure size 432x288 with 1 Axes>"
            ]
          },
          "metadata": {
            "needs_background": "light"
          }
        }
      ]
    },
    {
      "cell_type": "code",
      "source": [
        "maxlen = 600\n",
        "\n",
        "xTrainE = pad_sequences(s_inactive_WordIndexes, maxlen=maxlen) #Преобразуем входные векторы\n",
        "xActivE = pad_sequences(s_active_WordIndexes, maxlen=maxlen) #Преобразуем входные векторы"
      ],
      "metadata": {
        "id": "J10d2UwawGia"
      },
      "execution_count": null,
      "outputs": []
    },
    {
      "cell_type": "code",
      "source": [
        "print(xTrainE.shape, xActivE.shape)"
      ],
      "metadata": {
        "colab": {
          "base_uri": "https://localhost:8080/"
        },
        "id": "lVGZMC9WwmoG",
        "outputId": "e8726d3e-8bd1-4f49-e0e5-60c081fdd8b7"
      },
      "execution_count": null,
      "outputs": [
        {
          "output_type": "stream",
          "name": "stdout",
          "text": [
            "(5351, 600) (206, 600)\n"
          ]
        }
      ]
    },
    {
      "cell_type": "code",
      "source": [
        "Y_tr = np.zeros(5351)\n",
        "print(Y_tr.shape)\n",
        "print(Y_tr[9])"
      ],
      "metadata": {
        "colab": {
          "base_uri": "https://localhost:8080/"
        },
        "id": "WNfWEoyMqB9-",
        "outputId": "ac2d7712-fb10-4621-a6ff-96145154fb2f"
      },
      "execution_count": null,
      "outputs": [
        {
          "output_type": "stream",
          "name": "stdout",
          "text": [
            "(5351,)\n",
            "0.0\n"
          ]
        }
      ]
    },
    {
      "cell_type": "code",
      "source": [
        "# берём неактивные молекулы разбиваем на train_test(только 'X')\n",
        "X_train, X_test, Y_train, Y_test = train_test_split(xTrainE, Y_tr, test_size=0.04, shuffle=True) #shuffle=True - перемешиваем\n",
        "X_train.shape, Y_train.shape, X_test.shape, Y_test.shape"
      ],
      "metadata": {
        "id": "0bQHkwa9yvbS",
        "colab": {
          "base_uri": "https://localhost:8080/"
        },
        "outputId": "970da8d6-c0db-4d50-a5e3-f0dc57f249e8"
      },
      "execution_count": null,
      "outputs": [
        {
          "output_type": "execute_result",
          "data": {
            "text/plain": [
              "((5136, 600), (5136,), (215, 600), (215,))"
            ]
          },
          "metadata": {},
          "execution_count": 73
        }
      ]
    },
    {
      "cell_type": "code",
      "source": [
        "X_train.max(), X_train.min()"
      ],
      "metadata": {
        "colab": {
          "base_uri": "https://localhost:8080/"
        },
        "id": "y3PdPfnWxlgA",
        "outputId": "3075ce5d-a116-4a5e-d008-ee4bc082c3f9"
      },
      "execution_count": null,
      "outputs": [
        {
          "output_type": "execute_result",
          "data": {
            "text/plain": [
              "(45, 0)"
            ]
          },
          "metadata": {},
          "execution_count": 74
        }
      ]
    },
    {
      "cell_type": "code",
      "source": [
        "#X_train, X_test_2, Y_train, Y_test_2 = train_test_split(X_t, Y_t, test_size=0.1, shuffle=True) #shuffle=True - перемешиваем\n",
        "#X_train.shape, Y_train.shape, X_test_2.shape, Y_test_2.shape"
      ],
      "metadata": {
        "id": "emDzVNl0rHpp"
      },
      "execution_count": null,
      "outputs": []
    },
    {
      "cell_type": "markdown",
      "source": [
        ""
      ],
      "metadata": {
        "id": "fxzNYsVGx8iw"
      }
    },
    {
      "cell_type": "code",
      "source": [
        "def Smiles_Autoencoder(): \n",
        "  dataSize = 600 # размер входного слоя\n",
        "  dataInput = Input(shape=(dataSize, )) \n",
        "  \n",
        "  x = Embedding(maxWordsCount, 20, input_length=maxlen) (dataInput)\n",
        "  x = Dense(10, activation='relu')(x) \n",
        "  #x = Dense(20, activation='sigmoid')(x) #\n",
        "  x = Flatten() (x)\n",
        "  x = Dense(600, activation='relu')(x)\n",
        "\n",
        "  autoencoder = Model(inputs=dataInput, outputs=x) # собрали модель \n",
        "  \n",
        "  autoencoder.compile(optimizer=Adam(learning_rate=0.001), loss='mse') \n",
        "  \n",
        "  return autoencoder "
      ],
      "metadata": {
        "id": "9p1pAv-Vm0-h"
      },
      "execution_count": null,
      "outputs": []
    },
    {
      "cell_type": "code",
      "source": [
        "model = Smiles_Autoencoder()\n",
        "model.summary()"
      ],
      "metadata": {
        "colab": {
          "base_uri": "https://localhost:8080/"
        },
        "id": "zV73iKx_xBlp",
        "outputId": "d2c67550-3ebc-46f9-d579-ffb3dc390339"
      },
      "execution_count": null,
      "outputs": [
        {
          "output_type": "stream",
          "name": "stdout",
          "text": [
            "Model: \"model_11\"\n",
            "_________________________________________________________________\n",
            " Layer (type)                Output Shape              Param #   \n",
            "=================================================================\n",
            " input_12 (InputLayer)       [(None, 600)]             0         \n",
            "                                                                 \n",
            " embedding_11 (Embedding)    (None, 600, 20)           20480     \n",
            "                                                                 \n",
            " dense_22 (Dense)            (None, 600, 10)           210       \n",
            "                                                                 \n",
            " flatten_11 (Flatten)        (None, 6000)              0         \n",
            "                                                                 \n",
            " dense_23 (Dense)            (None, 600)               3600600   \n",
            "                                                                 \n",
            "=================================================================\n",
            "Total params: 3,621,290\n",
            "Trainable params: 3,621,290\n",
            "Non-trainable params: 0\n",
            "_________________________________________________________________\n"
          ]
        }
      ]
    },
    {
      "cell_type": "code",
      "source": [
        "model = Smiles_Autoencoder()\n",
        "history = model.fit(X_train, X_train,\n",
        "                    epochs=50,\n",
        "                    batch_size=12,\n",
        "                    )"
      ],
      "metadata": {
        "colab": {
          "base_uri": "https://localhost:8080/"
        },
        "id": "IpREP5ibw_0b",
        "outputId": "621f053d-3faa-4bbc-8ed8-a1c6779df07b"
      },
      "execution_count": null,
      "outputs": [
        {
          "output_type": "stream",
          "name": "stdout",
          "text": [
            "Epoch 1/50\n",
            "428/428 [==============================] - 5s 9ms/step - loss: 2.6083\n",
            "Epoch 2/50\n",
            "428/428 [==============================] - 3s 7ms/step - loss: 0.6413\n",
            "Epoch 3/50\n",
            "428/428 [==============================] - 3s 7ms/step - loss: 0.3035\n",
            "Epoch 4/50\n",
            "428/428 [==============================] - 3s 7ms/step - loss: 0.2476\n",
            "Epoch 5/50\n",
            "428/428 [==============================] - 3s 7ms/step - loss: 0.2218\n",
            "Epoch 6/50\n",
            "428/428 [==============================] - 3s 7ms/step - loss: 0.2078\n",
            "Epoch 7/50\n",
            "428/428 [==============================] - 3s 7ms/step - loss: 0.2024\n",
            "Epoch 8/50\n",
            "428/428 [==============================] - 3s 7ms/step - loss: 0.1970\n",
            "Epoch 9/50\n",
            "428/428 [==============================] - 3s 7ms/step - loss: 0.1951\n",
            "Epoch 10/50\n",
            "428/428 [==============================] - 3s 7ms/step - loss: 0.1939\n",
            "Epoch 11/50\n",
            "428/428 [==============================] - 3s 7ms/step - loss: 0.1913\n",
            "Epoch 12/50\n",
            "428/428 [==============================] - 3s 7ms/step - loss: 0.1853\n",
            "Epoch 13/50\n",
            "428/428 [==============================] - 3s 7ms/step - loss: 0.1840\n",
            "Epoch 14/50\n",
            "428/428 [==============================] - 3s 7ms/step - loss: 0.1843\n",
            "Epoch 15/50\n",
            "428/428 [==============================] - 3s 7ms/step - loss: 0.1783\n",
            "Epoch 16/50\n",
            "428/428 [==============================] - 3s 7ms/step - loss: 0.1778\n",
            "Epoch 17/50\n",
            "428/428 [==============================] - 3s 7ms/step - loss: 0.1758\n",
            "Epoch 18/50\n",
            "428/428 [==============================] - 4s 9ms/step - loss: 0.1764\n",
            "Epoch 19/50\n",
            "428/428 [==============================] - 4s 9ms/step - loss: 0.1732\n",
            "Epoch 20/50\n",
            "428/428 [==============================] - 4s 9ms/step - loss: 0.1735\n",
            "Epoch 21/50\n",
            "428/428 [==============================] - 4s 9ms/step - loss: 0.1732\n",
            "Epoch 22/50\n",
            "428/428 [==============================] - 3s 7ms/step - loss: 0.1720\n",
            "Epoch 23/50\n",
            "428/428 [==============================] - 3s 7ms/step - loss: 0.1718\n",
            "Epoch 24/50\n",
            "428/428 [==============================] - 3s 7ms/step - loss: 0.1745\n",
            "Epoch 25/50\n",
            "428/428 [==============================] - 3s 7ms/step - loss: 0.1716\n",
            "Epoch 26/50\n",
            "428/428 [==============================] - 3s 7ms/step - loss: 0.1692\n",
            "Epoch 27/50\n",
            "428/428 [==============================] - 3s 7ms/step - loss: 0.1690\n",
            "Epoch 28/50\n",
            "428/428 [==============================] - 3s 7ms/step - loss: 0.1682\n",
            "Epoch 29/50\n",
            "428/428 [==============================] - 3s 7ms/step - loss: 0.1680\n",
            "Epoch 30/50\n",
            "428/428 [==============================] - 3s 7ms/step - loss: 0.1688\n",
            "Epoch 31/50\n",
            "428/428 [==============================] - 3s 7ms/step - loss: 0.1683\n",
            "Epoch 32/50\n",
            "428/428 [==============================] - 3s 7ms/step - loss: 0.1692\n",
            "Epoch 33/50\n",
            "428/428 [==============================] - 3s 7ms/step - loss: 0.1677\n",
            "Epoch 34/50\n",
            "428/428 [==============================] - 3s 7ms/step - loss: 0.1659\n",
            "Epoch 35/50\n",
            "428/428 [==============================] - 3s 7ms/step - loss: 0.1670\n",
            "Epoch 36/50\n",
            "428/428 [==============================] - 3s 7ms/step - loss: 0.1663\n",
            "Epoch 37/50\n",
            "428/428 [==============================] - 3s 7ms/step - loss: 0.1671\n",
            "Epoch 38/50\n",
            "428/428 [==============================] - 3s 7ms/step - loss: 0.1642\n",
            "Epoch 39/50\n",
            "428/428 [==============================] - 3s 7ms/step - loss: 0.1664\n",
            "Epoch 40/50\n",
            "428/428 [==============================] - 3s 7ms/step - loss: 0.1675\n",
            "Epoch 41/50\n",
            "428/428 [==============================] - 3s 7ms/step - loss: 0.1644\n",
            "Epoch 42/50\n",
            "428/428 [==============================] - 3s 7ms/step - loss: 0.1655\n",
            "Epoch 43/50\n",
            "428/428 [==============================] - 3s 7ms/step - loss: 0.1643\n",
            "Epoch 44/50\n",
            "428/428 [==============================] - 3s 7ms/step - loss: 0.1660\n",
            "Epoch 45/50\n",
            "428/428 [==============================] - 3s 7ms/step - loss: 0.1636\n",
            "Epoch 46/50\n",
            "428/428 [==============================] - 3s 7ms/step - loss: 0.1634\n",
            "Epoch 47/50\n",
            "428/428 [==============================] - 3s 7ms/step - loss: 0.1624\n",
            "Epoch 48/50\n",
            "428/428 [==============================] - 3s 7ms/step - loss: 0.1650\n",
            "Epoch 49/50\n",
            "428/428 [==============================] - 3s 7ms/step - loss: 0.1655\n",
            "Epoch 50/50\n",
            "428/428 [==============================] - 3s 7ms/step - loss: 0.1635\n"
          ]
        }
      ]
    },
    {
      "cell_type": "code",
      "source": [
        "X_test.shape, Y_test.shape"
      ],
      "metadata": {
        "colab": {
          "base_uri": "https://localhost:8080/"
        },
        "id": "L_FRPwkL4uzQ",
        "outputId": "f3a36b8e-cc41-4ec9-9082-4cb485d15c65"
      },
      "execution_count": null,
      "outputs": [
        {
          "output_type": "execute_result",
          "data": {
            "text/plain": [
              "((215, 600), (215,))"
            ]
          },
          "metadata": {},
          "execution_count": 84
        }
      ]
    },
    {
      "cell_type": "code",
      "source": [
        "xActivE.shape"
      ],
      "metadata": {
        "colab": {
          "base_uri": "https://localhost:8080/"
        },
        "id": "Ujm87Nbn5bma",
        "outputId": "60a8364f-84f0-4c7f-c7fc-d572ece99032"
      },
      "execution_count": null,
      "outputs": [
        {
          "output_type": "execute_result",
          "data": {
            "text/plain": [
              "(206, 600)"
            ]
          },
          "metadata": {},
          "execution_count": 87
        }
      ]
    },
    {
      "cell_type": "code",
      "source": [
        "Y_test[22]"
      ],
      "metadata": {
        "colab": {
          "base_uri": "https://localhost:8080/"
        },
        "id": "QNgs2tCH5f7w",
        "outputId": "d085c4bf-fdae-49d9-d693-cf278f85cb53"
      },
      "execution_count": null,
      "outputs": [
        {
          "output_type": "execute_result",
          "data": {
            "text/plain": [
              "0.0"
            ]
          },
          "metadata": {},
          "execution_count": 88
        }
      ]
    },
    {
      "cell_type": "code",
      "source": [
        "X_test = np.concatenate((X_test, xActivE))\n",
        "X_test.shape"
      ],
      "metadata": {
        "colab": {
          "base_uri": "https://localhost:8080/"
        },
        "id": "kdEh4pyv44ou",
        "outputId": "d779d760-227b-46ba-b6b4-08b2900b652d"
      },
      "execution_count": null,
      "outputs": [
        {
          "output_type": "execute_result",
          "data": {
            "text/plain": [
              "(421, 600)"
            ]
          },
          "metadata": {},
          "execution_count": 86
        }
      ]
    },
    {
      "cell_type": "code",
      "source": [
        "predictions = model.predict(X_test) # делаем предсказание по X_test на неактивных и активных молекулах\n",
        "print(predictions.shape)\n",
        "\n",
        "# считаю mse\n",
        "mse = np.mean(np.power(X_test - predictions, 2), axis=1)\n",
        "\n",
        "mse_Inactivel = mse[:206] # неактивные. Так как при concatenate X_test и smal_activeдо 1071 были неактивные, а после 1071 активные.\n",
        "mse_Active = mse[206:] # активные\n",
        "\n",
        "# размеры\n",
        "print(mse_Inactivel.shape)\n",
        "print(mse_Active.shape)"
      ],
      "metadata": {
        "colab": {
          "base_uri": "https://localhost:8080/"
        },
        "id": "a7oU01WO03rV",
        "outputId": "25e449ab-e962-44d9-de4c-b3b6a4c248d9"
      },
      "execution_count": null,
      "outputs": [
        {
          "output_type": "stream",
          "name": "stdout",
          "text": [
            "(421, 600)\n",
            "(206,)\n",
            "(215,)\n"
          ]
        }
      ]
    },
    {
      "cell_type": "code",
      "source": [
        "print(\"Минимальная ошибка неактивных молекул:\", round(min(mse_Inactivel),4)) #\n",
        "print(\"Максимальная ошибка неактивных молекул:\", round(max(mse_Inactivel),4)) #\n",
        "print(\"Средняя ошибка неактивных молекул:\", round(sum(mse_Inactivel) / len(mse_Inactivel),8)) # средняя ошибка\n",
        "print()\n",
        "print(\"Минимальная ошибка активных молекул:\", round(min(mse_Active),4)) #\n",
        "print(\"Максимальная ошибка активных молекул:\", round(max(mse_Active),4)) #\n",
        "print(\"Средняя ошибка активных молекул:\", round(sum(mse_Active) / len(mse_Active),8)) # средняя ошибка"
      ],
      "metadata": {
        "id": "mSpBviUGm1B0",
        "colab": {
          "base_uri": "https://localhost:8080/"
        },
        "outputId": "6b5e8819-6bf0-40cb-badd-abc540212228"
      },
      "execution_count": null,
      "outputs": [
        {
          "output_type": "stream",
          "name": "stdout",
          "text": [
            "Минимальная ошибка неактивных молекул: 0.0002\n",
            "Максимальная ошибка неактивных молекул: 11.6977\n",
            "Средняя ошибка неактивных молекул: 0.1818317\n",
            "\n",
            "Минимальная ошибка активных молекул: 0.0003\n",
            "Максимальная ошибка активных молекул: 12.3277\n",
            "Средняя ошибка активных молекул: 0.15677472\n"
          ]
        }
      ]
    },
    {
      "cell_type": "code",
      "source": [
        "def getAccByBias(bias): \n",
        "  isInactive = mse_Inactivel > bias # тут поменял знаки, так как mse неактивных меньше\n",
        "  isActive = mse_Active < bias # поменял знаки\n",
        "\n",
        "  accInactive = sum(isInactive) / len(isInactive) # вычисляем процент неактивных\n",
        "  accActive = sum(isActive) / len(isActive) # вычисляем процент активных\n",
        "\n",
        "  print(\"Распознано неактивных молекул: \", round(100*accInactive), \"%\", sep=\"\")\n",
        "  print(\"Распознано активных молекул: \", round(100*accActive), \"%\", sep=\"\")\n",
        "  print(\"Средняя точность распознавания: \", round(50*(accInactive + accActive)), \"%\", sep=\"\")"
      ],
      "metadata": {
        "id": "OkPQaMN61Ga_"
      },
      "execution_count": null,
      "outputs": []
    },
    {
      "cell_type": "code",
      "source": [
        "getAccByBias(0.165)"
      ],
      "metadata": {
        "colab": {
          "base_uri": "https://localhost:8080/"
        },
        "id": "wTosQwRH7iVZ",
        "outputId": "9b22f0a3-715d-4df8-f681-92b6e4d47ed6"
      },
      "execution_count": null,
      "outputs": [
        {
          "output_type": "stream",
          "name": "stdout",
          "text": [
            "Распознано неактивных молекул: 14%\n",
            "Распознано активных молекул: 91%\n",
            "Средняя точность распознавания: 52%\n"
          ]
        }
      ]
    },
    {
      "cell_type": "markdown",
      "source": [
        "#**1 нейрон на выходе**"
      ],
      "metadata": {
        "id": "D-ufethgjAtt"
      }
    },
    {
      "cell_type": "markdown",
      "source": [
        ""
      ],
      "metadata": {
        "id": "f8dSYQR5Vr0A"
      }
    },
    {
      "cell_type": "markdown",
      "source": [
        "**Обучение на неактивных (INactive)**"
      ],
      "metadata": {
        "id": "OqwLGUB-23pe"
      }
    },
    {
      "cell_type": "code",
      "source": [
        "# загружаю датасет\n",
        "df_train_new = pd.read_csv('/content/train.csv', index_col = 0)\n",
        "df_train_new.head()"
      ],
      "metadata": {
        "colab": {
          "base_uri": "https://localhost:8080/",
          "height": 206
        },
        "id": "dt2ZEN_-jVGD",
        "outputId": "8c53bc6a-0cd3-4949-8c5d-36338a4c8636"
      },
      "execution_count": null,
      "outputs": [
        {
          "output_type": "execute_result",
          "data": {
            "text/html": [
              "\n",
              "  <div id=\"df-99fb0972-cae4-40d4-a88c-a18ce0d83e45\">\n",
              "    <div class=\"colab-df-container\">\n",
              "      <div>\n",
              "<style scoped>\n",
              "    .dataframe tbody tr th:only-of-type {\n",
              "        vertical-align: middle;\n",
              "    }\n",
              "\n",
              "    .dataframe tbody tr th {\n",
              "        vertical-align: top;\n",
              "    }\n",
              "\n",
              "    .dataframe thead th {\n",
              "        text-align: right;\n",
              "    }\n",
              "</style>\n",
              "<table border=\"1\" class=\"dataframe\">\n",
              "  <thead>\n",
              "    <tr style=\"text-align: right;\">\n",
              "      <th></th>\n",
              "      <th>Smiles</th>\n",
              "      <th>Active</th>\n",
              "    </tr>\n",
              "  </thead>\n",
              "  <tbody>\n",
              "    <tr>\n",
              "      <th>0</th>\n",
              "      <td>COc1ccc2[nH]cc(CCN)c2c1</td>\n",
              "      <td>False</td>\n",
              "    </tr>\n",
              "    <tr>\n",
              "      <th>1</th>\n",
              "      <td>CCCN1CCC[C@H](c2cccc(O)c2)C1.Cl</td>\n",
              "      <td>False</td>\n",
              "    </tr>\n",
              "    <tr>\n",
              "      <th>2</th>\n",
              "      <td>O=C(NO)c1cnc(N2CCN(S(=O)(=O)c3ccc4ccccc4c3)CC2...</td>\n",
              "      <td>False</td>\n",
              "    </tr>\n",
              "    <tr>\n",
              "      <th>3</th>\n",
              "      <td>Nc1cccc(CNC(=O)c2ccc(Oc3ccc(OCc4cccc(F)c4)cc3)...</td>\n",
              "      <td>False</td>\n",
              "    </tr>\n",
              "    <tr>\n",
              "      <th>4</th>\n",
              "      <td>Fc1ccccc1CNCc1ccc(-c2ccnc3[nH]ccc23)cc1</td>\n",
              "      <td>False</td>\n",
              "    </tr>\n",
              "  </tbody>\n",
              "</table>\n",
              "</div>\n",
              "      <button class=\"colab-df-convert\" onclick=\"convertToInteractive('df-99fb0972-cae4-40d4-a88c-a18ce0d83e45')\"\n",
              "              title=\"Convert this dataframe to an interactive table.\"\n",
              "              style=\"display:none;\">\n",
              "        \n",
              "  <svg xmlns=\"http://www.w3.org/2000/svg\" height=\"24px\"viewBox=\"0 0 24 24\"\n",
              "       width=\"24px\">\n",
              "    <path d=\"M0 0h24v24H0V0z\" fill=\"none\"/>\n",
              "    <path d=\"M18.56 5.44l.94 2.06.94-2.06 2.06-.94-2.06-.94-.94-2.06-.94 2.06-2.06.94zm-11 1L8.5 8.5l.94-2.06 2.06-.94-2.06-.94L8.5 2.5l-.94 2.06-2.06.94zm10 10l.94 2.06.94-2.06 2.06-.94-2.06-.94-.94-2.06-.94 2.06-2.06.94z\"/><path d=\"M17.41 7.96l-1.37-1.37c-.4-.4-.92-.59-1.43-.59-.52 0-1.04.2-1.43.59L10.3 9.45l-7.72 7.72c-.78.78-.78 2.05 0 2.83L4 21.41c.39.39.9.59 1.41.59.51 0 1.02-.2 1.41-.59l7.78-7.78 2.81-2.81c.8-.78.8-2.07 0-2.86zM5.41 20L4 18.59l7.72-7.72 1.47 1.35L5.41 20z\"/>\n",
              "  </svg>\n",
              "      </button>\n",
              "      \n",
              "  <style>\n",
              "    .colab-df-container {\n",
              "      display:flex;\n",
              "      flex-wrap:wrap;\n",
              "      gap: 12px;\n",
              "    }\n",
              "\n",
              "    .colab-df-convert {\n",
              "      background-color: #E8F0FE;\n",
              "      border: none;\n",
              "      border-radius: 50%;\n",
              "      cursor: pointer;\n",
              "      display: none;\n",
              "      fill: #1967D2;\n",
              "      height: 32px;\n",
              "      padding: 0 0 0 0;\n",
              "      width: 32px;\n",
              "    }\n",
              "\n",
              "    .colab-df-convert:hover {\n",
              "      background-color: #E2EBFA;\n",
              "      box-shadow: 0px 1px 2px rgba(60, 64, 67, 0.3), 0px 1px 3px 1px rgba(60, 64, 67, 0.15);\n",
              "      fill: #174EA6;\n",
              "    }\n",
              "\n",
              "    [theme=dark] .colab-df-convert {\n",
              "      background-color: #3B4455;\n",
              "      fill: #D2E3FC;\n",
              "    }\n",
              "\n",
              "    [theme=dark] .colab-df-convert:hover {\n",
              "      background-color: #434B5C;\n",
              "      box-shadow: 0px 1px 3px 1px rgba(0, 0, 0, 0.15);\n",
              "      filter: drop-shadow(0px 1px 2px rgba(0, 0, 0, 0.3));\n",
              "      fill: #FFFFFF;\n",
              "    }\n",
              "  </style>\n",
              "\n",
              "      <script>\n",
              "        const buttonEl =\n",
              "          document.querySelector('#df-99fb0972-cae4-40d4-a88c-a18ce0d83e45 button.colab-df-convert');\n",
              "        buttonEl.style.display =\n",
              "          google.colab.kernel.accessAllowed ? 'block' : 'none';\n",
              "\n",
              "        async function convertToInteractive(key) {\n",
              "          const element = document.querySelector('#df-99fb0972-cae4-40d4-a88c-a18ce0d83e45');\n",
              "          const dataTable =\n",
              "            await google.colab.kernel.invokeFunction('convertToInteractive',\n",
              "                                                     [key], {});\n",
              "          if (!dataTable) return;\n",
              "\n",
              "          const docLinkHtml = 'Like what you see? Visit the ' +\n",
              "            '<a target=\"_blank\" href=https://colab.research.google.com/notebooks/data_table.ipynb>data table notebook</a>'\n",
              "            + ' to learn more about interactive tables.';\n",
              "          element.innerHTML = '';\n",
              "          dataTable['output_type'] = 'display_data';\n",
              "          await google.colab.output.renderOutput(dataTable, element);\n",
              "          const docLink = document.createElement('div');\n",
              "          docLink.innerHTML = docLinkHtml;\n",
              "          element.appendChild(docLink);\n",
              "        }\n",
              "      </script>\n",
              "    </div>\n",
              "  </div>\n",
              "  "
            ],
            "text/plain": [
              "                                              Smiles  Active\n",
              "0                            COc1ccc2[nH]cc(CCN)c2c1   False\n",
              "1                    CCCN1CCC[C@H](c2cccc(O)c2)C1.Cl   False\n",
              "2  O=C(NO)c1cnc(N2CCN(S(=O)(=O)c3ccc4ccccc4c3)CC2...   False\n",
              "3  Nc1cccc(CNC(=O)c2ccc(Oc3ccc(OCc4cccc(F)c4)cc3)...   False\n",
              "4            Fc1ccccc1CNCc1ccc(-c2ccnc3[nH]ccc23)cc1   False"
            ]
          },
          "metadata": {},
          "execution_count": 3
        }
      ]
    },
    {
      "cell_type": "code",
      "source": [
        "# df активные молекулы\n",
        "df_train_True = df_train_new[df_train_new.Active==True]\n",
        "\n",
        "# df неактивные молекулы\n",
        "df_train_False = df_train_new[df_train_new.Active==False]\n",
        "df_train_False.head()"
      ],
      "metadata": {
        "colab": {
          "base_uri": "https://localhost:8080/",
          "height": 206
        },
        "id": "To0DTxdkjb7F",
        "outputId": "bd71daee-8ccf-4c56-c764-4bdcfde50c1b"
      },
      "execution_count": null,
      "outputs": [
        {
          "output_type": "execute_result",
          "data": {
            "text/html": [
              "\n",
              "  <div id=\"df-5fefb02c-ba93-4f53-b529-60b760736d72\">\n",
              "    <div class=\"colab-df-container\">\n",
              "      <div>\n",
              "<style scoped>\n",
              "    .dataframe tbody tr th:only-of-type {\n",
              "        vertical-align: middle;\n",
              "    }\n",
              "\n",
              "    .dataframe tbody tr th {\n",
              "        vertical-align: top;\n",
              "    }\n",
              "\n",
              "    .dataframe thead th {\n",
              "        text-align: right;\n",
              "    }\n",
              "</style>\n",
              "<table border=\"1\" class=\"dataframe\">\n",
              "  <thead>\n",
              "    <tr style=\"text-align: right;\">\n",
              "      <th></th>\n",
              "      <th>Smiles</th>\n",
              "      <th>Active</th>\n",
              "    </tr>\n",
              "  </thead>\n",
              "  <tbody>\n",
              "    <tr>\n",
              "      <th>0</th>\n",
              "      <td>COc1ccc2[nH]cc(CCN)c2c1</td>\n",
              "      <td>False</td>\n",
              "    </tr>\n",
              "    <tr>\n",
              "      <th>1</th>\n",
              "      <td>CCCN1CCC[C@H](c2cccc(O)c2)C1.Cl</td>\n",
              "      <td>False</td>\n",
              "    </tr>\n",
              "    <tr>\n",
              "      <th>2</th>\n",
              "      <td>O=C(NO)c1cnc(N2CCN(S(=O)(=O)c3ccc4ccccc4c3)CC2...</td>\n",
              "      <td>False</td>\n",
              "    </tr>\n",
              "    <tr>\n",
              "      <th>3</th>\n",
              "      <td>Nc1cccc(CNC(=O)c2ccc(Oc3ccc(OCc4cccc(F)c4)cc3)...</td>\n",
              "      <td>False</td>\n",
              "    </tr>\n",
              "    <tr>\n",
              "      <th>4</th>\n",
              "      <td>Fc1ccccc1CNCc1ccc(-c2ccnc3[nH]ccc23)cc1</td>\n",
              "      <td>False</td>\n",
              "    </tr>\n",
              "  </tbody>\n",
              "</table>\n",
              "</div>\n",
              "      <button class=\"colab-df-convert\" onclick=\"convertToInteractive('df-5fefb02c-ba93-4f53-b529-60b760736d72')\"\n",
              "              title=\"Convert this dataframe to an interactive table.\"\n",
              "              style=\"display:none;\">\n",
              "        \n",
              "  <svg xmlns=\"http://www.w3.org/2000/svg\" height=\"24px\"viewBox=\"0 0 24 24\"\n",
              "       width=\"24px\">\n",
              "    <path d=\"M0 0h24v24H0V0z\" fill=\"none\"/>\n",
              "    <path d=\"M18.56 5.44l.94 2.06.94-2.06 2.06-.94-2.06-.94-.94-2.06-.94 2.06-2.06.94zm-11 1L8.5 8.5l.94-2.06 2.06-.94-2.06-.94L8.5 2.5l-.94 2.06-2.06.94zm10 10l.94 2.06.94-2.06 2.06-.94-2.06-.94-.94-2.06-.94 2.06-2.06.94z\"/><path d=\"M17.41 7.96l-1.37-1.37c-.4-.4-.92-.59-1.43-.59-.52 0-1.04.2-1.43.59L10.3 9.45l-7.72 7.72c-.78.78-.78 2.05 0 2.83L4 21.41c.39.39.9.59 1.41.59.51 0 1.02-.2 1.41-.59l7.78-7.78 2.81-2.81c.8-.78.8-2.07 0-2.86zM5.41 20L4 18.59l7.72-7.72 1.47 1.35L5.41 20z\"/>\n",
              "  </svg>\n",
              "      </button>\n",
              "      \n",
              "  <style>\n",
              "    .colab-df-container {\n",
              "      display:flex;\n",
              "      flex-wrap:wrap;\n",
              "      gap: 12px;\n",
              "    }\n",
              "\n",
              "    .colab-df-convert {\n",
              "      background-color: #E8F0FE;\n",
              "      border: none;\n",
              "      border-radius: 50%;\n",
              "      cursor: pointer;\n",
              "      display: none;\n",
              "      fill: #1967D2;\n",
              "      height: 32px;\n",
              "      padding: 0 0 0 0;\n",
              "      width: 32px;\n",
              "    }\n",
              "\n",
              "    .colab-df-convert:hover {\n",
              "      background-color: #E2EBFA;\n",
              "      box-shadow: 0px 1px 2px rgba(60, 64, 67, 0.3), 0px 1px 3px 1px rgba(60, 64, 67, 0.15);\n",
              "      fill: #174EA6;\n",
              "    }\n",
              "\n",
              "    [theme=dark] .colab-df-convert {\n",
              "      background-color: #3B4455;\n",
              "      fill: #D2E3FC;\n",
              "    }\n",
              "\n",
              "    [theme=dark] .colab-df-convert:hover {\n",
              "      background-color: #434B5C;\n",
              "      box-shadow: 0px 1px 3px 1px rgba(0, 0, 0, 0.15);\n",
              "      filter: drop-shadow(0px 1px 2px rgba(0, 0, 0, 0.3));\n",
              "      fill: #FFFFFF;\n",
              "    }\n",
              "  </style>\n",
              "\n",
              "      <script>\n",
              "        const buttonEl =\n",
              "          document.querySelector('#df-5fefb02c-ba93-4f53-b529-60b760736d72 button.colab-df-convert');\n",
              "        buttonEl.style.display =\n",
              "          google.colab.kernel.accessAllowed ? 'block' : 'none';\n",
              "\n",
              "        async function convertToInteractive(key) {\n",
              "          const element = document.querySelector('#df-5fefb02c-ba93-4f53-b529-60b760736d72');\n",
              "          const dataTable =\n",
              "            await google.colab.kernel.invokeFunction('convertToInteractive',\n",
              "                                                     [key], {});\n",
              "          if (!dataTable) return;\n",
              "\n",
              "          const docLinkHtml = 'Like what you see? Visit the ' +\n",
              "            '<a target=\"_blank\" href=https://colab.research.google.com/notebooks/data_table.ipynb>data table notebook</a>'\n",
              "            + ' to learn more about interactive tables.';\n",
              "          element.innerHTML = '';\n",
              "          dataTable['output_type'] = 'display_data';\n",
              "          await google.colab.output.renderOutput(dataTable, element);\n",
              "          const docLink = document.createElement('div');\n",
              "          docLink.innerHTML = docLinkHtml;\n",
              "          element.appendChild(docLink);\n",
              "        }\n",
              "      </script>\n",
              "    </div>\n",
              "  </div>\n",
              "  "
            ],
            "text/plain": [
              "                                              Smiles  Active\n",
              "0                            COc1ccc2[nH]cc(CCN)c2c1   False\n",
              "1                    CCCN1CCC[C@H](c2cccc(O)c2)C1.Cl   False\n",
              "2  O=C(NO)c1cnc(N2CCN(S(=O)(=O)c3ccc4ccccc4c3)CC2...   False\n",
              "3  Nc1cccc(CNC(=O)c2ccc(Oc3ccc(OCc4cccc(F)c4)cc3)...   False\n",
              "4            Fc1ccccc1CNCc1ccc(-c2ccnc3[nH]ccc23)cc1   False"
            ]
          },
          "metadata": {},
          "execution_count": 4
        }
      ]
    },
    {
      "cell_type": "code",
      "source": [
        "# собираю значения Smiles неактивных молекул в лист\n",
        "s_inactive = []\n",
        "for i in df_train_False['Smiles']:\n",
        "  s_inactive.append(i)\n",
        "\n",
        "print('Длинна s_inactive:', len(s_inactive))\n",
        "print(\"Пример значения из s_inactive:\", s_inactive[1])\n",
        "print()\n",
        "\n",
        "# активные молекулы\n",
        "s_active = []\n",
        "for i in df_train_True['Smiles']:\n",
        "  s_active.append(i)\n",
        "\n",
        "print('Длинна s_active:', len(s_active))\n",
        "print(\"Пример значения из s_active:\", s_active[1])"
      ],
      "metadata": {
        "colab": {
          "base_uri": "https://localhost:8080/"
        },
        "id": "JeeEm2imjorD",
        "outputId": "223db900-d112-4b0f-a274-137a6666237b"
      },
      "execution_count": null,
      "outputs": [
        {
          "output_type": "stream",
          "name": "stdout",
          "text": [
            "Длинна s_inactive: 5351\n",
            "Пример значения из s_inactive: CCCN1CCC[C@H](c2cccc(O)c2)C1.Cl\n",
            "\n",
            "Длинна s_active: 206\n",
            "Пример значения из s_active: C[C@H]1COc2c(N3CCN(C)CC3)c(F)cc3c(=O)c(C(=O)O)cn1c23\n"
          ]
        }
      ]
    },
    {
      "cell_type": "code",
      "source": [
        "# функция перефода smiles в вектор 0 и 1\n",
        "def get_morgan_fingerprint(smiles: str, radius=2, nBits=4096): # сделал nBits=4096\n",
        "    mol = Chem.MolFromSmiles(smiles)\n",
        "    morgan_fp = AllChem.GetMorganFingerprintAsBitVect(mol, radius=radius, nBits=nBits)\n",
        "    return (list(morgan_fp))"
      ],
      "metadata": {
        "id": "vdeQ_SWBjwGl"
      },
      "execution_count": null,
      "outputs": []
    },
    {
      "cell_type": "code",
      "source": [
        "# для активных\n",
        "smal_active = []\n",
        "for i in s_active:\n",
        "  sm = get_morgan_fingerprint(i)      # получаю вектор из smiles\n",
        "  smal_active.append(sm)\n",
        "smal_active = np.array(smal_active)   # преобразую в numpy\n",
        "\n",
        "print(f\"Количество молекул активных: {len(smal_active)}\\nДлинна вектора одной молекулы: {len(smal_active[77])}\")\n",
        "print(f'Пример части вектора smal_active: {smal_active[77][:100]}')\n",
        "print(f'Размер массива smal_active: {smal_active.shape}')\n",
        "print()\n",
        "\n",
        "# для неактивных\n",
        "smal_inactive = []\n",
        "for i in s_inactive:\n",
        "  sm = get_morgan_fingerprint(i)       # получаю вектор из smiles\n",
        "  smal_inactive.append(sm)\n",
        "smal_inactive = np.array(smal_inactive)# преобразую в numpy\n",
        "\n",
        "print(f\"Количество молекул не активных: {len(smal_inactive)}\\nДлинна вектора одной молекулы: {len(smal_inactive[77])}\")\n",
        "print(f'Пример части вектора smal_active: {smal_inactive[77][:100]}')\n",
        "print(f'Размер массива smal_inactive: {smal_inactive.shape}')\n",
        "\n"
      ],
      "metadata": {
        "colab": {
          "base_uri": "https://localhost:8080/"
        },
        "id": "hffX6Y_gjz4W",
        "outputId": "1b8a0fc9-00fb-4df1-cefe-4b0edc6afe54"
      },
      "execution_count": null,
      "outputs": [
        {
          "output_type": "stream",
          "name": "stdout",
          "text": [
            "Количество молекул активных: 206\n",
            "Длинна вектора одной молекулы: 4096\n",
            "Пример части вектора smal_active: [0 0 0 0 0 0 0 0 0 0 0 0 0 0 0 0 0 0 0 0 0 0 0 0 0 0 0 0 0 0 0 0 0 0 0 0 0\n",
            " 0 0 0 0 0 0 0 0 0 0 0 0 0 0 0 0 0 0 0 0 0 0 0 0 0 0 0 0 0 0 0 0 0 0 0 0 0\n",
            " 0 0 0 0 0 0 0 0 0 0 0 0 0 0 0 0 0 0 0 0 0 0 0 0 0 0]\n",
            "Размер массива smal_active: (206, 4096)\n",
            "\n",
            "Количество молекул не активных: 5351\n",
            "Длинна вектора одной молекулы: 4096\n",
            "Пример части вектора smal_active: [0 0 0 0 0 0 0 0 0 0 0 0 0 0 0 0 0 0 0 0 0 0 0 0 0 0 0 0 0 0 0 0 0 0 0 0 0\n",
            " 0 0 0 0 0 0 0 0 0 0 0 0 0 0 0 0 0 0 0 0 0 0 0 0 0 0 0 0 0 0 0 0 0 0 0 0 0\n",
            " 0 0 0 0 0 0 0 0 0 0 0 0 0 0 0 0 0 0 0 0 0 0 0 0 0 0]\n",
            "Размер массива smal_inactive: (5351, 4096)\n"
          ]
        }
      ]
    },
    {
      "cell_type": "code",
      "source": [
        "# смотрю максимальные и минимальные значения\n",
        "smal_inactive.max(), smal_inactive.min(), "
      ],
      "metadata": {
        "colab": {
          "base_uri": "https://localhost:8080/"
        },
        "id": "fV9CxPyej7f5",
        "outputId": "cdc1b3bc-62a9-47f7-fd30-ef4157cf7df8"
      },
      "execution_count": null,
      "outputs": [
        {
          "output_type": "execute_result",
          "data": {
            "text/plain": [
              "(1, 0)"
            ]
          },
          "metadata": {},
          "execution_count": 34
        }
      ]
    },
    {
      "cell_type": "code",
      "source": [
        "# X_Train это наш smal_inactive\n",
        "x_tr = smal_inactive\n",
        "\n",
        "# ДЛя Y_Train создаю вектор из нулей\n",
        "y_tr = np.zeros(x_tr.shape[0],)\n",
        "x_tr.shape, y_tr.shape"
      ],
      "metadata": {
        "colab": {
          "base_uri": "https://localhost:8080/"
        },
        "id": "ufUwAgtxmW_o",
        "outputId": "f9c9c513-e408-410b-9526-d580bc6a97cd"
      },
      "execution_count": null,
      "outputs": [
        {
          "output_type": "execute_result",
          "data": {
            "text/plain": [
              "((5351, 4096), (5351,))"
            ]
          },
          "metadata": {},
          "execution_count": 41
        }
      ]
    },
    {
      "cell_type": "code",
      "source": [
        "# разбиваю на выборки\n",
        "X_train, X_test, Y_train, Y_test = train_test_split(x_tr, y_tr, test_size=0.04, shuffle=True) #shuffle=True - перемешиваем\n",
        "\n",
        "# размеры\n",
        "X_train.shape, Y_train.shape, X_test.shape, Y_test.shape"
      ],
      "metadata": {
        "colab": {
          "base_uri": "https://localhost:8080/"
        },
        "id": "4oG2cwUrkBFv",
        "outputId": "36ba3aec-3fdf-4137-828d-a0eac884099b"
      },
      "execution_count": null,
      "outputs": [
        {
          "output_type": "execute_result",
          "data": {
            "text/plain": [
              "((5136, 4096), (5136,), (215, 4096), (215,))"
            ]
          },
          "metadata": {},
          "execution_count": 58
        }
      ]
    },
    {
      "cell_type": "code",
      "source": [
        "def Smiles_Autoencoder(): \n",
        "  dataSize = 4096 # размер входного слоя\n",
        "  dataInput = Input(shape=(dataSize, )) # задаем эти размеры как входные в сеть\n",
        "  \n",
        "  x = Dense(10, activation='relu')(dataInput) # пропускаем через полносвязный слой размером 10\n",
        "  x = Dense(1, activation='sigmoid')(x) # выход это полносвязный слой размером 4096\n",
        "  \n",
        "  autoencoder = Model(inputs=dataInput, outputs=x) # собрали модель \n",
        "  \n",
        "  autoencoder.compile(optimizer=Adam(learning_rate=0.0001), loss='binary_crossentropy', metrics=['accuracy']) # компилируем модель также, с выбором оптимайзера и среднеквадратичной ошибки\n",
        "  \n",
        "  return autoencoder "
      ],
      "metadata": {
        "id": "hQPsy9uAkhfr"
      },
      "execution_count": null,
      "outputs": []
    },
    {
      "cell_type": "code",
      "source": [
        "model = Smiles_Autoencoder()\n",
        "model.summary()"
      ],
      "metadata": {
        "colab": {
          "base_uri": "https://localhost:8080/"
        },
        "id": "wRcSApGKkzEV",
        "outputId": "0f3100ba-97de-49b5-ed46-8ac8f672a276"
      },
      "execution_count": null,
      "outputs": [
        {
          "output_type": "stream",
          "name": "stdout",
          "text": [
            "Model: \"model_1\"\n",
            "_________________________________________________________________\n",
            " Layer (type)                Output Shape              Param #   \n",
            "=================================================================\n",
            " input_2 (InputLayer)        [(None, 4096)]            0         \n",
            "                                                                 \n",
            " dense_2 (Dense)             (None, 10)                40970     \n",
            "                                                                 \n",
            " dense_3 (Dense)             (None, 1)                 11        \n",
            "                                                                 \n",
            "=================================================================\n",
            "Total params: 40,981\n",
            "Trainable params: 40,981\n",
            "Non-trainable params: 0\n",
            "_________________________________________________________________\n"
          ]
        }
      ]
    },
    {
      "cell_type": "code",
      "source": [
        "model = Smiles_Autoencoder()\n",
        "history = model.fit(X_train[:4500], Y_train[:4500],\n",
        "                    epochs=100,\n",
        "                    batch_size=12,\n",
        "                    validation_data= (X_train[4500:], Y_train[4500:]), verbose=1\n",
        "                    )\n",
        "\n",
        "plt.plot(history.history['accuracy'], label='Точность на обучающей выборке')\n",
        "plt.plot(history.history['val_accuracy'], label ='Точность на проверочной выборке')\n",
        "plt.xlabel('Эпохи обучения')\n",
        "plt.ylabel('Точность')\n",
        "plt.legend()\n",
        "plt.show()\n",
        "\n",
        "plt.plot(history.history['loss'], label ='Ошибка на обучающей')\n",
        "plt.plot(history.history['val_loss'], label ='Ошибка на проверочной')\n",
        "plt.xlabel('Эпохи обучения')\n",
        "plt.ylabel('Ошибка')\n",
        "plt.legend()\n",
        "plt.show()"
      ],
      "metadata": {
        "colab": {
          "base_uri": "https://localhost:8080/",
          "height": 1000
        },
        "id": "IFSVy4dSknAj",
        "outputId": "bf1cf2d7-6a3d-4d6f-d6c8-9e84756bc93f"
      },
      "execution_count": null,
      "outputs": [
        {
          "output_type": "stream",
          "name": "stdout",
          "text": [
            "Epoch 1/100\n",
            "375/375 [==============================] - 1s 3ms/step - loss: 0.3397 - accuracy: 0.9807 - val_loss: 0.1392 - val_accuracy: 1.0000\n",
            "Epoch 2/100\n",
            "375/375 [==============================] - 1s 3ms/step - loss: 0.0896 - accuracy: 1.0000 - val_loss: 0.0550 - val_accuracy: 1.0000\n",
            "Epoch 3/100\n",
            "375/375 [==============================] - 1s 2ms/step - loss: 0.0421 - accuracy: 1.0000 - val_loss: 0.0298 - val_accuracy: 1.0000\n",
            "Epoch 4/100\n",
            "375/375 [==============================] - 1s 3ms/step - loss: 0.0248 - accuracy: 1.0000 - val_loss: 0.0188 - val_accuracy: 1.0000\n",
            "Epoch 5/100\n",
            "375/375 [==============================] - 1s 3ms/step - loss: 0.0164 - accuracy: 1.0000 - val_loss: 0.0129 - val_accuracy: 1.0000\n",
            "Epoch 6/100\n",
            "375/375 [==============================] - 1s 3ms/step - loss: 0.0116 - accuracy: 1.0000 - val_loss: 0.0094 - val_accuracy: 1.0000\n",
            "Epoch 7/100\n",
            "375/375 [==============================] - 1s 3ms/step - loss: 0.0086 - accuracy: 1.0000 - val_loss: 0.0071 - val_accuracy: 1.0000\n",
            "Epoch 8/100\n",
            "375/375 [==============================] - 1s 3ms/step - loss: 0.0066 - accuracy: 1.0000 - val_loss: 0.0055 - val_accuracy: 1.0000\n",
            "Epoch 9/100\n",
            "375/375 [==============================] - 1s 3ms/step - loss: 0.0052 - accuracy: 1.0000 - val_loss: 0.0044 - val_accuracy: 1.0000\n",
            "Epoch 10/100\n",
            "375/375 [==============================] - 1s 3ms/step - loss: 0.0041 - accuracy: 1.0000 - val_loss: 0.0035 - val_accuracy: 1.0000\n",
            "Epoch 11/100\n",
            "375/375 [==============================] - 1s 3ms/step - loss: 0.0033 - accuracy: 1.0000 - val_loss: 0.0029 - val_accuracy: 1.0000\n",
            "Epoch 12/100\n",
            "375/375 [==============================] - 1s 3ms/step - loss: 0.0027 - accuracy: 1.0000 - val_loss: 0.0023 - val_accuracy: 1.0000\n",
            "Epoch 13/100\n",
            "375/375 [==============================] - 1s 3ms/step - loss: 0.0022 - accuracy: 1.0000 - val_loss: 0.0019 - val_accuracy: 1.0000\n",
            "Epoch 14/100\n",
            "375/375 [==============================] - 1s 3ms/step - loss: 0.0019 - accuracy: 1.0000 - val_loss: 0.0016 - val_accuracy: 1.0000\n",
            "Epoch 15/100\n",
            "375/375 [==============================] - 1s 3ms/step - loss: 0.0016 - accuracy: 1.0000 - val_loss: 0.0014 - val_accuracy: 1.0000\n",
            "Epoch 16/100\n",
            "375/375 [==============================] - 1s 3ms/step - loss: 0.0013 - accuracy: 1.0000 - val_loss: 0.0011 - val_accuracy: 1.0000\n",
            "Epoch 17/100\n",
            "375/375 [==============================] - 1s 3ms/step - loss: 0.0011 - accuracy: 1.0000 - val_loss: 9.6647e-04 - val_accuracy: 1.0000\n",
            "Epoch 18/100\n",
            "375/375 [==============================] - 1s 4ms/step - loss: 9.3077e-04 - accuracy: 1.0000 - val_loss: 8.1864e-04 - val_accuracy: 1.0000\n",
            "Epoch 19/100\n",
            "375/375 [==============================] - 2s 4ms/step - loss: 7.9141e-04 - accuracy: 1.0000 - val_loss: 6.9653e-04 - val_accuracy: 1.0000\n",
            "Epoch 20/100\n",
            "375/375 [==============================] - 1s 4ms/step - loss: 6.7496e-04 - accuracy: 1.0000 - val_loss: 5.9250e-04 - val_accuracy: 1.0000\n",
            "Epoch 21/100\n",
            "375/375 [==============================] - 1s 3ms/step - loss: 5.7708e-04 - accuracy: 1.0000 - val_loss: 5.0465e-04 - val_accuracy: 1.0000\n",
            "Epoch 22/100\n",
            "375/375 [==============================] - 1s 3ms/step - loss: 4.9506e-04 - accuracy: 1.0000 - val_loss: 4.3125e-04 - val_accuracy: 1.0000\n",
            "Epoch 23/100\n",
            "375/375 [==============================] - 1s 3ms/step - loss: 4.2670e-04 - accuracy: 1.0000 - val_loss: 3.7003e-04 - val_accuracy: 1.0000\n",
            "Epoch 24/100\n",
            "375/375 [==============================] - 1s 3ms/step - loss: 3.6871e-04 - accuracy: 1.0000 - val_loss: 3.1696e-04 - val_accuracy: 1.0000\n",
            "Epoch 25/100\n",
            "375/375 [==============================] - 1s 3ms/step - loss: 3.1989e-04 - accuracy: 1.0000 - val_loss: 2.7288e-04 - val_accuracy: 1.0000\n",
            "Epoch 26/100\n",
            "375/375 [==============================] - 1s 3ms/step - loss: 2.7834e-04 - accuracy: 1.0000 - val_loss: 2.3493e-04 - val_accuracy: 1.0000\n",
            "Epoch 27/100\n",
            "375/375 [==============================] - 1s 3ms/step - loss: 2.4243e-04 - accuracy: 1.0000 - val_loss: 2.0292e-04 - val_accuracy: 1.0000\n",
            "Epoch 28/100\n",
            "375/375 [==============================] - 1s 3ms/step - loss: 2.1196e-04 - accuracy: 1.0000 - val_loss: 1.7478e-04 - val_accuracy: 1.0000\n",
            "Epoch 29/100\n",
            "375/375 [==============================] - 1s 3ms/step - loss: 1.8579e-04 - accuracy: 1.0000 - val_loss: 1.5188e-04 - val_accuracy: 1.0000\n",
            "Epoch 30/100\n",
            "375/375 [==============================] - 1s 3ms/step - loss: 1.6320e-04 - accuracy: 1.0000 - val_loss: 1.3050e-04 - val_accuracy: 1.0000\n",
            "Epoch 31/100\n",
            "375/375 [==============================] - 1s 3ms/step - loss: 1.4380e-04 - accuracy: 1.0000 - val_loss: 1.1335e-04 - val_accuracy: 1.0000\n",
            "Epoch 32/100\n",
            "375/375 [==============================] - 1s 3ms/step - loss: 1.2735e-04 - accuracy: 1.0000 - val_loss: 9.8977e-05 - val_accuracy: 1.0000\n",
            "Epoch 33/100\n",
            "375/375 [==============================] - 1s 4ms/step - loss: 1.1314e-04 - accuracy: 1.0000 - val_loss: 8.6091e-05 - val_accuracy: 1.0000\n",
            "Epoch 34/100\n",
            "375/375 [==============================] - 1s 3ms/step - loss: 1.0061e-04 - accuracy: 1.0000 - val_loss: 7.5133e-05 - val_accuracy: 1.0000\n",
            "Epoch 35/100\n",
            "375/375 [==============================] - 1s 2ms/step - loss: 8.9719e-05 - accuracy: 1.0000 - val_loss: 6.5720e-05 - val_accuracy: 1.0000\n",
            "Epoch 36/100\n",
            "375/375 [==============================] - 1s 3ms/step - loss: 8.0381e-05 - accuracy: 1.0000 - val_loss: 5.7743e-05 - val_accuracy: 1.0000\n",
            "Epoch 37/100\n",
            "375/375 [==============================] - 1s 3ms/step - loss: 7.2219e-05 - accuracy: 1.0000 - val_loss: 5.0620e-05 - val_accuracy: 1.0000\n",
            "Epoch 38/100\n",
            "375/375 [==============================] - 2s 5ms/step - loss: 6.4967e-05 - accuracy: 1.0000 - val_loss: 4.4642e-05 - val_accuracy: 1.0000\n",
            "Epoch 39/100\n",
            "375/375 [==============================] - 2s 5ms/step - loss: 5.8747e-05 - accuracy: 1.0000 - val_loss: 3.9719e-05 - val_accuracy: 1.0000\n",
            "Epoch 40/100\n",
            "375/375 [==============================] - 1s 3ms/step - loss: 5.3147e-05 - accuracy: 1.0000 - val_loss: 3.4832e-05 - val_accuracy: 1.0000\n",
            "Epoch 41/100\n",
            "375/375 [==============================] - 1s 3ms/step - loss: 4.8227e-05 - accuracy: 1.0000 - val_loss: 3.0927e-05 - val_accuracy: 1.0000\n",
            "Epoch 42/100\n",
            "375/375 [==============================] - 1s 3ms/step - loss: 4.3787e-05 - accuracy: 1.0000 - val_loss: 2.7432e-05 - val_accuracy: 1.0000\n",
            "Epoch 43/100\n",
            "375/375 [==============================] - 1s 3ms/step - loss: 3.9768e-05 - accuracy: 1.0000 - val_loss: 2.4215e-05 - val_accuracy: 1.0000\n",
            "Epoch 44/100\n",
            "375/375 [==============================] - 1s 3ms/step - loss: 3.6300e-05 - accuracy: 1.0000 - val_loss: 2.1529e-05 - val_accuracy: 1.0000\n",
            "Epoch 45/100\n",
            "375/375 [==============================] - 1s 3ms/step - loss: 3.3242e-05 - accuracy: 1.0000 - val_loss: 1.9217e-05 - val_accuracy: 1.0000\n",
            "Epoch 46/100\n",
            "375/375 [==============================] - 1s 3ms/step - loss: 3.0525e-05 - accuracy: 1.0000 - val_loss: 1.7156e-05 - val_accuracy: 1.0000\n",
            "Epoch 47/100\n",
            "375/375 [==============================] - 1s 3ms/step - loss: 2.8060e-05 - accuracy: 1.0000 - val_loss: 1.5356e-05 - val_accuracy: 1.0000\n",
            "Epoch 48/100\n",
            "375/375 [==============================] - 1s 3ms/step - loss: 2.5791e-05 - accuracy: 1.0000 - val_loss: 1.3678e-05 - val_accuracy: 1.0000\n",
            "Epoch 49/100\n",
            "375/375 [==============================] - 1s 3ms/step - loss: 2.3664e-05 - accuracy: 1.0000 - val_loss: 1.2228e-05 - val_accuracy: 1.0000\n",
            "Epoch 50/100\n",
            "375/375 [==============================] - 1s 3ms/step - loss: 2.1810e-05 - accuracy: 1.0000 - val_loss: 1.0943e-05 - val_accuracy: 1.0000\n",
            "Epoch 51/100\n",
            "375/375 [==============================] - 1s 3ms/step - loss: 2.0153e-05 - accuracy: 1.0000 - val_loss: 9.8101e-06 - val_accuracy: 1.0000\n",
            "Epoch 52/100\n",
            "375/375 [==============================] - 1s 3ms/step - loss: 1.8659e-05 - accuracy: 1.0000 - val_loss: 8.8336e-06 - val_accuracy: 1.0000\n",
            "Epoch 53/100\n",
            "375/375 [==============================] - 1s 3ms/step - loss: 1.7289e-05 - accuracy: 1.0000 - val_loss: 7.9420e-06 - val_accuracy: 1.0000\n",
            "Epoch 54/100\n",
            "375/375 [==============================] - 1s 3ms/step - loss: 1.5993e-05 - accuracy: 1.0000 - val_loss: 7.1687e-06 - val_accuracy: 1.0000\n",
            "Epoch 55/100\n",
            "375/375 [==============================] - 1s 3ms/step - loss: 1.4859e-05 - accuracy: 1.0000 - val_loss: 6.4272e-06 - val_accuracy: 1.0000\n",
            "Epoch 56/100\n",
            "375/375 [==============================] - 1s 3ms/step - loss: 1.3827e-05 - accuracy: 1.0000 - val_loss: 5.8091e-06 - val_accuracy: 1.0000\n",
            "Epoch 57/100\n",
            "375/375 [==============================] - 1s 3ms/step - loss: 1.2881e-05 - accuracy: 1.0000 - val_loss: 5.2524e-06 - val_accuracy: 1.0000\n",
            "Epoch 58/100\n",
            "375/375 [==============================] - 1s 3ms/step - loss: 1.2034e-05 - accuracy: 1.0000 - val_loss: 4.7742e-06 - val_accuracy: 1.0000\n",
            "Epoch 59/100\n",
            "375/375 [==============================] - 1s 3ms/step - loss: 1.1242e-05 - accuracy: 1.0000 - val_loss: 4.3063e-06 - val_accuracy: 1.0000\n",
            "Epoch 60/100\n",
            "375/375 [==============================] - 1s 3ms/step - loss: 1.0502e-05 - accuracy: 1.0000 - val_loss: 3.9293e-06 - val_accuracy: 1.0000\n",
            "Epoch 61/100\n",
            "375/375 [==============================] - 1s 3ms/step - loss: 9.8201e-06 - accuracy: 1.0000 - val_loss: 3.5464e-06 - val_accuracy: 1.0000\n",
            "Epoch 62/100\n",
            "375/375 [==============================] - 1s 3ms/step - loss: 9.1772e-06 - accuracy: 1.0000 - val_loss: 3.2162e-06 - val_accuracy: 1.0000\n",
            "Epoch 63/100\n",
            "375/375 [==============================] - 1s 3ms/step - loss: 8.5956e-06 - accuracy: 1.0000 - val_loss: 2.9216e-06 - val_accuracy: 1.0000\n",
            "Epoch 64/100\n",
            "375/375 [==============================] - 1s 3ms/step - loss: 8.0514e-06 - accuracy: 1.0000 - val_loss: 2.6564e-06 - val_accuracy: 1.0000\n",
            "Epoch 65/100\n",
            "375/375 [==============================] - 1s 3ms/step - loss: 7.5313e-06 - accuracy: 1.0000 - val_loss: 2.4030e-06 - val_accuracy: 1.0000\n",
            "Epoch 66/100\n",
            "375/375 [==============================] - 1s 3ms/step - loss: 7.0496e-06 - accuracy: 1.0000 - val_loss: 2.1940e-06 - val_accuracy: 1.0000\n",
            "Epoch 67/100\n",
            "375/375 [==============================] - 1s 3ms/step - loss: 6.6251e-06 - accuracy: 1.0000 - val_loss: 1.9942e-06 - val_accuracy: 1.0000\n",
            "Epoch 68/100\n",
            "375/375 [==============================] - 1s 3ms/step - loss: 6.2311e-06 - accuracy: 1.0000 - val_loss: 1.8245e-06 - val_accuracy: 1.0000\n",
            "Epoch 69/100\n",
            "375/375 [==============================] - 1s 3ms/step - loss: 5.8702e-06 - accuracy: 1.0000 - val_loss: 1.6678e-06 - val_accuracy: 1.0000\n",
            "Epoch 70/100\n",
            "375/375 [==============================] - 1s 3ms/step - loss: 5.5180e-06 - accuracy: 1.0000 - val_loss: 1.5313e-06 - val_accuracy: 1.0000\n",
            "Epoch 71/100\n",
            "375/375 [==============================] - 1s 3ms/step - loss: 5.2021e-06 - accuracy: 1.0000 - val_loss: 1.4004e-06 - val_accuracy: 1.0000\n",
            "Epoch 72/100\n",
            "375/375 [==============================] - 1s 3ms/step - loss: 4.9122e-06 - accuracy: 1.0000 - val_loss: 1.2869e-06 - val_accuracy: 1.0000\n",
            "Epoch 73/100\n",
            "375/375 [==============================] - 1s 3ms/step - loss: 4.6433e-06 - accuracy: 1.0000 - val_loss: 1.1788e-06 - val_accuracy: 1.0000\n",
            "Epoch 74/100\n",
            "375/375 [==============================] - 1s 3ms/step - loss: 4.3689e-06 - accuracy: 1.0000 - val_loss: 1.0812e-06 - val_accuracy: 1.0000\n",
            "Epoch 75/100\n",
            "375/375 [==============================] - 1s 3ms/step - loss: 4.1121e-06 - accuracy: 1.0000 - val_loss: 9.9276e-07 - val_accuracy: 1.0000\n",
            "Epoch 76/100\n",
            "375/375 [==============================] - 1s 3ms/step - loss: 3.8744e-06 - accuracy: 1.0000 - val_loss: 9.2817e-07 - val_accuracy: 1.0000\n",
            "Epoch 77/100\n",
            "375/375 [==============================] - 1s 3ms/step - loss: 3.6573e-06 - accuracy: 1.0000 - val_loss: 8.3706e-07 - val_accuracy: 1.0000\n",
            "Epoch 78/100\n",
            "375/375 [==============================] - 1s 3ms/step - loss: 3.4528e-06 - accuracy: 1.0000 - val_loss: 7.7092e-07 - val_accuracy: 1.0000\n",
            "Epoch 79/100\n",
            "375/375 [==============================] - 1s 3ms/step - loss: 3.2626e-06 - accuracy: 1.0000 - val_loss: 7.1302e-07 - val_accuracy: 1.0000\n",
            "Epoch 80/100\n",
            "375/375 [==============================] - 1s 3ms/step - loss: 3.0897e-06 - accuracy: 1.0000 - val_loss: 6.5964e-07 - val_accuracy: 1.0000\n",
            "Epoch 81/100\n",
            "375/375 [==============================] - 1s 3ms/step - loss: 2.9225e-06 - accuracy: 1.0000 - val_loss: 6.1096e-07 - val_accuracy: 1.0000\n",
            "Epoch 82/100\n",
            "375/375 [==============================] - 1s 3ms/step - loss: 2.7740e-06 - accuracy: 1.0000 - val_loss: 5.6555e-07 - val_accuracy: 1.0000\n",
            "Epoch 83/100\n",
            "375/375 [==============================] - 1s 3ms/step - loss: 2.6272e-06 - accuracy: 1.0000 - val_loss: 5.2494e-07 - val_accuracy: 1.0000\n",
            "Epoch 84/100\n",
            "375/375 [==============================] - 1s 3ms/step - loss: 2.4921e-06 - accuracy: 1.0000 - val_loss: 4.8745e-07 - val_accuracy: 1.0000\n",
            "Epoch 85/100\n",
            "375/375 [==============================] - 1s 3ms/step - loss: 2.3626e-06 - accuracy: 1.0000 - val_loss: 4.5320e-07 - val_accuracy: 1.0000\n",
            "Epoch 86/100\n",
            "375/375 [==============================] - 1s 3ms/step - loss: 2.2421e-06 - accuracy: 1.0000 - val_loss: 4.2048e-07 - val_accuracy: 1.0000\n",
            "Epoch 87/100\n",
            "375/375 [==============================] - 1s 3ms/step - loss: 2.1236e-06 - accuracy: 1.0000 - val_loss: 3.9205e-07 - val_accuracy: 1.0000\n",
            "Epoch 88/100\n",
            "375/375 [==============================] - 1s 3ms/step - loss: 2.0155e-06 - accuracy: 1.0000 - val_loss: 3.6416e-07 - val_accuracy: 1.0000\n",
            "Epoch 89/100\n",
            "375/375 [==============================] - 1s 3ms/step - loss: 1.9082e-06 - accuracy: 1.0000 - val_loss: 3.4010e-07 - val_accuracy: 1.0000\n",
            "Epoch 90/100\n",
            "375/375 [==============================] - 1s 3ms/step - loss: 1.8117e-06 - accuracy: 1.0000 - val_loss: 3.1771e-07 - val_accuracy: 1.0000\n",
            "Epoch 91/100\n",
            "375/375 [==============================] - 1s 3ms/step - loss: 1.7204e-06 - accuracy: 1.0000 - val_loss: 2.9673e-07 - val_accuracy: 1.0000\n",
            "Epoch 92/100\n",
            "375/375 [==============================] - 1s 3ms/step - loss: 1.6309e-06 - accuracy: 1.0000 - val_loss: 2.7734e-07 - val_accuracy: 1.0000\n",
            "Epoch 93/100\n",
            "375/375 [==============================] - 1s 3ms/step - loss: 1.5484e-06 - accuracy: 1.0000 - val_loss: 2.6050e-07 - val_accuracy: 1.0000\n",
            "Epoch 94/100\n",
            "375/375 [==============================] - 1s 3ms/step - loss: 1.4748e-06 - accuracy: 1.0000 - val_loss: 2.4408e-07 - val_accuracy: 1.0000\n",
            "Epoch 95/100\n",
            "375/375 [==============================] - 1s 3ms/step - loss: 1.3981e-06 - accuracy: 1.0000 - val_loss: 2.2873e-07 - val_accuracy: 1.0000\n",
            "Epoch 96/100\n",
            "375/375 [==============================] - 1s 3ms/step - loss: 1.3257e-06 - accuracy: 1.0000 - val_loss: 2.1448e-07 - val_accuracy: 1.0000\n",
            "Epoch 97/100\n",
            "375/375 [==============================] - 1s 3ms/step - loss: 1.2582e-06 - accuracy: 1.0000 - val_loss: 2.0160e-07 - val_accuracy: 1.0000\n",
            "Epoch 98/100\n",
            "375/375 [==============================] - 1s 3ms/step - loss: 1.1956e-06 - accuracy: 1.0000 - val_loss: 1.8984e-07 - val_accuracy: 1.0000\n",
            "Epoch 99/100\n",
            "375/375 [==============================] - 1s 3ms/step - loss: 1.1373e-06 - accuracy: 1.0000 - val_loss: 1.7978e-07 - val_accuracy: 1.0000\n",
            "Epoch 100/100\n",
            "375/375 [==============================] - 1s 3ms/step - loss: 1.0846e-06 - accuracy: 1.0000 - val_loss: 1.7158e-07 - val_accuracy: 1.0000\n"
          ]
        },
        {
          "output_type": "display_data",
          "data": {
            "image/png": "[encoded data removed]",
            "text/plain": [
              "<Figure size 432x288 with 1 Axes>"
            ]
          },
          "metadata": {
            "needs_background": "light"
          }
        },
        {
          "output_type": "display_data",
          "data": {
            "image/png": "[encoded data removed]",
            "text/plain": [
              "<Figure size 432x288 with 1 Axes>"
            ]
          },
          "metadata": {
            "needs_background": "light"
          }
        }
      ]
    },
    {
      "cell_type": "markdown",
      "source": [
        "Данные неактивных молекул, котоые сеть не видела"
      ],
      "metadata": {
        "id": "D1GeLK18ut73"
      }
    },
    {
      "cell_type": "code",
      "source": [
        "# готовлю вектор для проверки на данных, которые сеть не видела"
      ],
      "metadata": {
        "id": "IKiQIFABtktw"
      },
      "execution_count": null,
      "outputs": []
    },
    {
      "cell_type": "code",
      "source": [
        "predictions_IN = model.predict(X_test) # делаем предсказание по X_test на неактивных и активных молекулах\n",
        "print(predictions_IN.shape)\n",
        "predictions_IN[1]\n"
      ],
      "metadata": {
        "colab": {
          "base_uri": "https://localhost:8080/"
        },
        "id": "VO1tku9jpKwx",
        "outputId": "bfda71c9-4b67-4f17-9827-635417b039d6"
      },
      "execution_count": null,
      "outputs": [
        {
          "output_type": "stream",
          "name": "stdout",
          "text": [
            "(215, 1)\n"
          ]
        },
        {
          "output_type": "execute_result",
          "data": {
            "text/plain": [
              "array([8.1603916e-16], dtype=float32)"
            ]
          },
          "metadata": {},
          "execution_count": 78
        }
      ]
    },
    {
      "cell_type": "code",
      "source": [
        "# считаю среднее значение на X_test - на данных которые сеть не видела, неактивные молекулы\n",
        "Inactiv_pred = sum(predictions_IN)/len(predictions_IN)\n",
        "print(predictions_IN.shape)\n",
        "print(Inactiv_pred)"
      ],
      "metadata": {
        "colab": {
          "base_uri": "https://localhost:8080/"
        },
        "id": "WuenRpTquWSm",
        "outputId": "a6e87502-69c9-4230-a242-db9ca378475f"
      },
      "execution_count": null,
      "outputs": [
        {
          "output_type": "stream",
          "name": "stdout",
          "text": [
            "(215, 1)\n",
            "[1.5070235e-08]\n"
          ]
        }
      ]
    },
    {
      "cell_type": "markdown",
      "source": [
        "Данные активных молекул, которые сеть не видела"
      ],
      "metadata": {
        "id": "6vb4Pjr1uyun"
      }
    },
    {
      "cell_type": "code",
      "source": [
        "predictions_AC = model.predict(smal_active) # делаем предсказание по X_test на неактивных и активных молекулах\n",
        "print(predictions_AC.shape)\n",
        "predictions_AC[1]"
      ],
      "metadata": {
        "id": "s-UV5jH4u3ml"
      },
      "execution_count": null,
      "outputs": []
    },
    {
      "cell_type": "code",
      "source": [
        "# считаю среднее значение на X_test - на данных которые сеть не видела, неактивные молекулы\n",
        "Activ_pred = sum(predictions_AC)/len(predictions_AC)\n",
        "print(predictions_IN.shape)\n",
        "print(Activ_pred)"
      ],
      "metadata": {
        "colab": {
          "base_uri": "https://localhost:8080/"
        },
        "id": "Vui13VdGvMYl",
        "outputId": "7fa48759-c1ff-4acf-cb28-fe2faf2e351b"
      },
      "execution_count": null,
      "outputs": [
        {
          "output_type": "stream",
          "name": "stdout",
          "text": [
            "(215, 1)\n",
            "[3.766762e-08]\n"
          ]
        }
      ]
    },
    {
      "cell_type": "code",
      "source": [
        "# По значениям предикта попробую отличать активные молекулы от неактивных"
      ],
      "metadata": {
        "id": "PZhzIxWcwWIX"
      },
      "execution_count": null,
      "outputs": []
    },
    {
      "cell_type": "code",
      "source": [
        "x_test_IN_AC = np.concatenate((X_test, smal_active))\n",
        "x_test_IN_AC.shape"
      ],
      "metadata": {
        "colab": {
          "base_uri": "https://localhost:8080/"
        },
        "id": "fHXs8Vg1wNjR",
        "outputId": "1dfc3f56-8056-4eec-df4f-eae84eb17ecf"
      },
      "execution_count": null,
      "outputs": [
        {
          "output_type": "execute_result",
          "data": {
            "text/plain": [
              "(421, 4096)"
            ]
          },
          "metadata": {},
          "execution_count": 86
        }
      ]
    },
    {
      "cell_type": "code",
      "source": [
        "(3.766762 * 10 ** -8) > (1.5070235 * 10 ** -8)"
      ],
      "metadata": {
        "colab": {
          "base_uri": "https://localhost:8080/"
        },
        "id": "7AzI0mFpymax",
        "outputId": "ead1f2f2-983c-462d-9bad-d5590bc4e259"
      },
      "execution_count": null,
      "outputs": [
        {
          "output_type": "execute_result",
          "data": {
            "text/plain": [
              "True"
            ]
          },
          "metadata": {},
          "execution_count": 90
        }
      ]
    },
    {
      "cell_type": "code",
      "source": [
        "def getAccByBias(bias): \n",
        "  In_pred = predictions_IN > bias \n",
        "  Ac_pred = predictions_AC < bias \n",
        "\n",
        "  accInactive = sum(In_pred) / len(In_pred)\n",
        "  accActive = sum(Ac_pred) / len(Ac_pred) \n",
        "\n",
        "  print(\"Распознано неактивных молекул: \", (100*accInactive), \"%\", sep=\"\")\n",
        "  print(\"Распознано активных молекул: \", (100*accActive), \"%\", sep=\"\")\n",
        "  print(\"Средняя точность распознавания: \", (50*(accInactive + accActive)), \"%\", sep=\"\")"
      ],
      "metadata": {
        "id": "zx11NaDWz1dm"
      },
      "execution_count": null,
      "outputs": []
    },
    {
      "cell_type": "code",
      "source": [
        "getAccByBias((3.766762 * 10 ** -8))"
      ],
      "metadata": {
        "colab": {
          "base_uri": "https://localhost:8080/"
        },
        "id": "tMxWgDz1z1jI",
        "outputId": "02804fe0-4549-40f9-ee5b-2298de60174b"
      },
      "execution_count": null,
      "outputs": [
        {
          "output_type": "stream",
          "name": "stdout",
          "text": [
            "Распознано неактивных молекул: [98.60465116]%\n",
            "Распознано активных молекул: [4.36893204]%\n",
            "Средняя точность распознавания: [51.4867916]%\n"
          ]
        }
      ]
    },
    {
      "cell_type": "code",
      "source": [
        ""
      ],
      "metadata": {
        "id": "OHcXpQhyz1pF"
      },
      "execution_count": null,
      "outputs": []
    },
    {
      "cell_type": "code",
      "source": [
        "predictions_test = model.predict(test) # делаем предсказание"
      ],
      "metadata": {
        "id": "HN9Ap9jNzjL8"
      },
      "execution_count": null,
      "outputs": []
    },
    {
      "cell_type": "code",
      "source": [
        "# Формирую табличку \n",
        "submission = df_test\n",
        "submission['Active'] = ''\n",
        "\n",
        "for i in range(len(predictions_test)):\n",
        "  if i > (1.5070235 * 10 ** -8):\n",
        "    submission['Active'].values[i] = True\n",
        "  else:\n",
        "    submission['Active'].values[i] = False"
      ],
      "metadata": {
        "id": "dE-FmOtTzb0_"
      },
      "execution_count": null,
      "outputs": []
    },
    {
      "cell_type": "code",
      "source": [
        "submission.to_csv('submission.csv', index=False)"
      ],
      "metadata": {
        "id": "00sxBwUV3_-j"
      },
      "execution_count": null,
      "outputs": []
    },
    {
      "cell_type": "markdown",
      "source": [
        "**Для активных**"
      ],
      "metadata": {
        "id": "gbduQBJE4FxQ"
      }
    },
    {
      "cell_type": "code",
      "source": [
        "# функция перефода smiles в вектор 0 и 1\n",
        "def get_morgan_fingerprint(smiles: str, radius=2, nBits=1024): # сделал nBits=1024\n",
        "    mol = Chem.MolFromSmiles(smiles)\n",
        "    morgan_fp = AllChem.GetMorganFingerprintAsBitVect(mol, radius=radius, nBits=nBits)\n",
        "    return (list(morgan_fp))"
      ],
      "metadata": {
        "id": "9nGdFgxJ4I51"
      },
      "execution_count": null,
      "outputs": []
    },
    {
      "cell_type": "code",
      "source": [
        "# для активных\n",
        "smal_active = []\n",
        "for i in s_active:\n",
        "  sm = get_morgan_fingerprint(i)      # получаю вектор из smiles\n",
        "  smal_active.append(sm)\n",
        "smal_active = np.array(smal_active)   # преобразую в numpy\n",
        "\n",
        "print(f\"Количество молекул активных: {len(smal_active)}\\nДлинна вектора одной молекулы: {len(smal_active[77])}\")\n",
        "print(f'Пример части вектора smal_active: {smal_active[77][:100]}')\n",
        "print(f'Размер массива smal_active: {smal_active.shape}')\n",
        "print()\n",
        "\n",
        "# для неактивных\n",
        "smal_inactive = []\n",
        "for i in s_inactive:\n",
        "  sm = get_morgan_fingerprint(i)       # получаю вектор из smiles\n",
        "  smal_inactive.append(sm)\n",
        "smal_inactive = np.array(smal_inactive)# преобразую в numpy\n",
        "\n",
        "print(f\"Количество молекул не активных: {len(smal_inactive)}\\nДлинна вектора одной молекулы: {len(smal_inactive[77])}\")\n",
        "print(f'Пример части вектора smal_active: {smal_inactive[77][:100]}')\n",
        "print(f'Размер массива smal_inactive: {smal_inactive.shape}')"
      ],
      "metadata": {
        "colab": {
          "base_uri": "https://localhost:8080/"
        },
        "id": "mVKEGf605BkM",
        "outputId": "c1364d20-ac9e-4483-ea27-39b5bd5018a1"
      },
      "execution_count": null,
      "outputs": [
        {
          "output_type": "stream",
          "name": "stdout",
          "text": [
            "Количество молекул активных: 206\n",
            "Длинна вектора одной молекулы: 1024\n",
            "Пример части вектора smal_active: [0 0 0 0 0 0 0 0 0 0 0 0 0 0 0 0 0 0 0 0 0 0 0 0 0 0 0 0 0 0 0 0 0 0 0 0 0\n",
            " 0 0 0 0 0 0 0 0 0 0 0 0 0 0 0 0 0 0 0 0 0 0 0 0 0 0 0 1 0 1 0 0 0 0 0 0 1\n",
            " 0 0 0 0 0 0 0 0 0 0 0 0 0 0 0 0 0 0 0 0 0 0 0 0 0 0]\n",
            "Размер массива smal_active: (206, 1024)\n",
            "\n",
            "Количество молекул не активных: 5351\n",
            "Длинна вектора одной молекулы: 1024\n",
            "Пример части вектора smal_active: [0 0 0 0 0 0 0 0 0 0 0 0 0 0 0 0 0 0 0 0 0 0 0 0 0 0 0 0 0 0 0 0 0 0 0 0 0\n",
            " 0 0 0 0 0 0 0 0 0 0 0 0 0 0 0 0 0 0 0 0 0 0 0 0 0 0 1 1 0 0 0 0 0 0 0 0 0\n",
            " 0 0 0 0 0 0 0 0 0 0 0 0 0 0 0 0 0 0 0 0 0 0 0 0 0 0]\n",
            "Размер массива smal_inactive: (5351, 1024)\n"
          ]
        }
      ]
    },
    {
      "cell_type": "code",
      "source": [
        "# смотрю максимальные и минимальные значения\n",
        "smal_active.max(), smal_active.min(), "
      ],
      "metadata": {
        "colab": {
          "base_uri": "https://localhost:8080/"
        },
        "id": "afxsbktK5Kqw",
        "outputId": "844f730f-8ebc-43b3-8d51-5db64e4f17b3"
      },
      "execution_count": null,
      "outputs": [
        {
          "output_type": "execute_result",
          "data": {
            "text/plain": [
              "(1, 0)"
            ]
          },
          "metadata": {},
          "execution_count": 50
        }
      ]
    },
    {
      "cell_type": "code",
      "source": [
        "# X_Tr это наш smal_active\n",
        "x_tr = smal_active\n",
        "\n",
        "# ДЛя Y_Train создаю вектор из нулей\n",
        "y_tr = np.ones(x_tr.shape[0],)\n",
        "x_tr.shape, y_tr.shape"
      ],
      "metadata": {
        "colab": {
          "base_uri": "https://localhost:8080/"
        },
        "id": "51_zwP8t5PuV",
        "outputId": "1821b030-e7e9-4115-a920-b8bcc5402907"
      },
      "execution_count": null,
      "outputs": [
        {
          "output_type": "execute_result",
          "data": {
            "text/plain": [
              "((206, 1024), (206,))"
            ]
          },
          "metadata": {},
          "execution_count": 51
        }
      ]
    },
    {
      "cell_type": "code",
      "source": [
        "# разбиваю на выборки\n",
        "X_train, X_test, Y_train, Y_test = train_test_split(x_tr, y_tr, test_size=0.1, shuffle=True) #shuffle=True - перемешиваем\n",
        "\n",
        "# размеры\n",
        "X_train.shape, Y_train.shape, X_test.shape, Y_test.shape"
      ],
      "metadata": {
        "colab": {
          "base_uri": "https://localhost:8080/"
        },
        "id": "_RV0uOgh5kr1",
        "outputId": "3f1760af-c73d-4070-aef9-4997c4f33421"
      },
      "execution_count": null,
      "outputs": [
        {
          "output_type": "execute_result",
          "data": {
            "text/plain": [
              "((185, 1024), (185,), (21, 1024), (21,))"
            ]
          },
          "metadata": {},
          "execution_count": 52
        }
      ]
    },
    {
      "cell_type": "code",
      "source": [
        "# рандомно выбираю 21 НЕактивную молекулы для будущего теста\n",
        "smal_in = np.random.choice(5351, 21, replace = False)\n",
        "smal_INactive = smal_inactive[smal_in]\n",
        "y_inctive = np.zeros(21,)\n",
        "\n",
        "print(smal_INactive.shape)\n",
        "\n",
        "X_test = np.concatenate((X_test, smal_INactive))\n",
        "print(X_test.shape)\n",
        "\n",
        "Y_test = np.concatenate((Y_test, y_inctive))\n",
        "print(Y_test.shape)"
      ],
      "metadata": {
        "colab": {
          "base_uri": "https://localhost:8080/"
        },
        "id": "jff7XW7t7G7M",
        "outputId": "8e488ed8-8fae-45e5-d272-a59d2b3584d8"
      },
      "execution_count": null,
      "outputs": [
        {
          "output_type": "stream",
          "name": "stdout",
          "text": [
            "(21, 1024)\n",
            "(42, 1024)\n",
            "(42,)\n"
          ]
        }
      ]
    },
    {
      "cell_type": "code",
      "source": [
        "def Smiles_Autoencoder(): \n",
        "  dataSize = 1024 # размер входного слоя\n",
        "  dataInput = Input(shape=(dataSize, )) # задаем эти размеры как входные в сеть\n",
        "  \n",
        "  x = Dense(10, activation='relu')(dataInput) # пропускаем через полносвязный слой размером 10\n",
        "  x = Dense(1, activation='sigmoid')(x) # выход это полносвязный слой размером 4096\n",
        "  \n",
        "  autoencoder = Model(inputs=dataInput, outputs=x) # собрали модель \n",
        "  \n",
        "  autoencoder.compile(optimizer=Adam(learning_rate=0.0001), loss='binary_crossentropy', metrics=['accuracy']) # компилируем модель также, с выбором оптимайзера и среднеквадратичной ошибки\n",
        "  \n",
        "  return autoencoder "
      ],
      "metadata": {
        "id": "TmlN0tAN5vtH"
      },
      "execution_count": null,
      "outputs": []
    },
    {
      "cell_type": "code",
      "source": [
        "model = Smiles_Autoencoder()\n",
        "model.summary()"
      ],
      "metadata": {
        "colab": {
          "base_uri": "https://localhost:8080/"
        },
        "id": "CeUpDty25y-b",
        "outputId": "3f33c1df-9403-426b-c0b2-a9c23ffaee21"
      },
      "execution_count": null,
      "outputs": [
        {
          "output_type": "stream",
          "name": "stdout",
          "text": [
            "Model: \"model_4\"\n",
            "_________________________________________________________________\n",
            " Layer (type)                Output Shape              Param #   \n",
            "=================================================================\n",
            " input_5 (InputLayer)        [(None, 1024)]            0         \n",
            "                                                                 \n",
            " dense_8 (Dense)             (None, 10)                10250     \n",
            "                                                                 \n",
            " dense_9 (Dense)             (None, 1)                 11        \n",
            "                                                                 \n",
            "=================================================================\n",
            "Total params: 10,261\n",
            "Trainable params: 10,261\n",
            "Non-trainable params: 0\n",
            "_________________________________________________________________\n"
          ]
        }
      ]
    },
    {
      "cell_type": "code",
      "source": [
        "model = Smiles_Autoencoder()\n",
        "history = model.fit(X_train[:170], Y_train[:170],\n",
        "                    epochs=100,\n",
        "                    batch_size=6,\n",
        "                    validation_data= (X_train[170:], Y_train[170:]), verbose=1\n",
        "                    )\n",
        "\n",
        "plt.plot(history.history['accuracy'], label='Точность на обучающей выборке')\n",
        "plt.plot(history.history['val_accuracy'], label ='Точность на проверочной выборке')\n",
        "plt.xlabel('Эпохи обучения')\n",
        "plt.ylabel('Точность')\n",
        "plt.legend()\n",
        "plt.show()\n",
        "\n",
        "plt.plot(history.history['loss'], label ='Ошибка на обучающей')\n",
        "plt.plot(history.history['val_loss'], label ='Ошибка на проверочной')\n",
        "plt.xlabel('Эпохи обучения')\n",
        "plt.ylabel('Ошибка')\n",
        "plt.legend()\n",
        "plt.show()\n"
      ],
      "metadata": {
        "colab": {
          "base_uri": "https://localhost:8080/",
          "height": 1000
        },
        "id": "R2iMWJvs5-8p",
        "outputId": "7853d6d9-8333-4659-fc55-8d57d0be288f"
      },
      "execution_count": null,
      "outputs": [
        {
          "output_type": "stream",
          "name": "stdout",
          "text": [
            "Epoch 1/100\n",
            "29/29 [==============================] - 1s 10ms/step - loss: 0.5345 - accuracy: 0.9588 - val_loss: 0.5312 - val_accuracy: 1.0000\n",
            "Epoch 2/100\n",
            "29/29 [==============================] - 0s 6ms/step - loss: 0.4751 - accuracy: 0.9941 - val_loss: 0.4768 - val_accuracy: 1.0000\n",
            "Epoch 3/100\n",
            "29/29 [==============================] - 0s 5ms/step - loss: 0.4191 - accuracy: 1.0000 - val_loss: 0.4235 - val_accuracy: 1.0000\n",
            "Epoch 4/100\n",
            "29/29 [==============================] - 0s 4ms/step - loss: 0.3650 - accuracy: 1.0000 - val_loss: 0.3741 - val_accuracy: 1.0000\n",
            "Epoch 5/100\n",
            "29/29 [==============================] - 0s 4ms/step - loss: 0.3157 - accuracy: 1.0000 - val_loss: 0.3300 - val_accuracy: 1.0000\n",
            "Epoch 6/100\n",
            "29/29 [==============================] - 0s 5ms/step - loss: 0.2724 - accuracy: 1.0000 - val_loss: 0.2913 - val_accuracy: 1.0000\n",
            "Epoch 7/100\n",
            "29/29 [==============================] - 0s 4ms/step - loss: 0.2346 - accuracy: 1.0000 - val_loss: 0.2565 - val_accuracy: 1.0000\n",
            "Epoch 8/100\n",
            "29/29 [==============================] - 0s 4ms/step - loss: 0.2024 - accuracy: 1.0000 - val_loss: 0.2273 - val_accuracy: 1.0000\n",
            "Epoch 9/100\n",
            "29/29 [==============================] - 0s 4ms/step - loss: 0.1757 - accuracy: 1.0000 - val_loss: 0.2028 - val_accuracy: 1.0000\n",
            "Epoch 10/100\n",
            "29/29 [==============================] - 0s 5ms/step - loss: 0.1537 - accuracy: 1.0000 - val_loss: 0.1825 - val_accuracy: 1.0000\n",
            "Epoch 11/100\n",
            "29/29 [==============================] - 0s 5ms/step - loss: 0.1354 - accuracy: 1.0000 - val_loss: 0.1651 - val_accuracy: 1.0000\n",
            "Epoch 12/100\n",
            "29/29 [==============================] - 0s 5ms/step - loss: 0.1202 - accuracy: 1.0000 - val_loss: 0.1511 - val_accuracy: 1.0000\n",
            "Epoch 13/100\n",
            "29/29 [==============================] - 0s 5ms/step - loss: 0.1078 - accuracy: 1.0000 - val_loss: 0.1390 - val_accuracy: 1.0000\n",
            "Epoch 14/100\n",
            "29/29 [==============================] - 0s 5ms/step - loss: 0.0971 - accuracy: 1.0000 - val_loss: 0.1281 - val_accuracy: 1.0000\n",
            "Epoch 15/100\n",
            "29/29 [==============================] - 0s 4ms/step - loss: 0.0881 - accuracy: 1.0000 - val_loss: 0.1189 - val_accuracy: 1.0000\n",
            "Epoch 16/100\n",
            "29/29 [==============================] - 0s 5ms/step - loss: 0.0803 - accuracy: 1.0000 - val_loss: 0.1112 - val_accuracy: 1.0000\n",
            "Epoch 17/100\n",
            "29/29 [==============================] - 0s 5ms/step - loss: 0.0736 - accuracy: 1.0000 - val_loss: 0.1041 - val_accuracy: 1.0000\n",
            "Epoch 18/100\n",
            "29/29 [==============================] - 0s 4ms/step - loss: 0.0676 - accuracy: 1.0000 - val_loss: 0.0980 - val_accuracy: 1.0000\n",
            "Epoch 19/100\n",
            "29/29 [==============================] - 0s 4ms/step - loss: 0.0624 - accuracy: 1.0000 - val_loss: 0.0924 - val_accuracy: 1.0000\n",
            "Epoch 20/100\n",
            "29/29 [==============================] - 0s 5ms/step - loss: 0.0579 - accuracy: 1.0000 - val_loss: 0.0875 - val_accuracy: 1.0000\n",
            "Epoch 21/100\n",
            "29/29 [==============================] - 0s 4ms/step - loss: 0.0538 - accuracy: 1.0000 - val_loss: 0.0829 - val_accuracy: 1.0000\n",
            "Epoch 22/100\n",
            "29/29 [==============================] - 0s 5ms/step - loss: 0.0501 - accuracy: 1.0000 - val_loss: 0.0789 - val_accuracy: 1.0000\n",
            "Epoch 23/100\n",
            "29/29 [==============================] - 0s 5ms/step - loss: 0.0469 - accuracy: 1.0000 - val_loss: 0.0752 - val_accuracy: 1.0000\n",
            "Epoch 24/100\n",
            "29/29 [==============================] - 0s 4ms/step - loss: 0.0439 - accuracy: 1.0000 - val_loss: 0.0717 - val_accuracy: 1.0000\n",
            "Epoch 25/100\n",
            "29/29 [==============================] - 0s 4ms/step - loss: 0.0412 - accuracy: 1.0000 - val_loss: 0.0685 - val_accuracy: 1.0000\n",
            "Epoch 26/100\n",
            "29/29 [==============================] - 0s 4ms/step - loss: 0.0388 - accuracy: 1.0000 - val_loss: 0.0655 - val_accuracy: 1.0000\n",
            "Epoch 27/100\n",
            "29/29 [==============================] - 0s 5ms/step - loss: 0.0366 - accuracy: 1.0000 - val_loss: 0.0627 - val_accuracy: 1.0000\n",
            "Epoch 28/100\n",
            "29/29 [==============================] - 0s 5ms/step - loss: 0.0345 - accuracy: 1.0000 - val_loss: 0.0602 - val_accuracy: 1.0000\n",
            "Epoch 29/100\n",
            "29/29 [==============================] - 0s 5ms/step - loss: 0.0326 - accuracy: 1.0000 - val_loss: 0.0578 - val_accuracy: 1.0000\n",
            "Epoch 30/100\n",
            "29/29 [==============================] - 0s 5ms/step - loss: 0.0309 - accuracy: 1.0000 - val_loss: 0.0555 - val_accuracy: 1.0000\n",
            "Epoch 31/100\n",
            "29/29 [==============================] - 0s 5ms/step - loss: 0.0293 - accuracy: 1.0000 - val_loss: 0.0533 - val_accuracy: 1.0000\n",
            "Epoch 32/100\n",
            "29/29 [==============================] - 0s 5ms/step - loss: 0.0278 - accuracy: 1.0000 - val_loss: 0.0512 - val_accuracy: 1.0000\n",
            "Epoch 33/100\n",
            "29/29 [==============================] - 0s 5ms/step - loss: 0.0264 - accuracy: 1.0000 - val_loss: 0.0493 - val_accuracy: 1.0000\n",
            "Epoch 34/100\n",
            "29/29 [==============================] - 0s 5ms/step - loss: 0.0252 - accuracy: 1.0000 - val_loss: 0.0476 - val_accuracy: 1.0000\n",
            "Epoch 35/100\n",
            "29/29 [==============================] - 0s 5ms/step - loss: 0.0240 - accuracy: 1.0000 - val_loss: 0.0459 - val_accuracy: 1.0000\n",
            "Epoch 36/100\n",
            "29/29 [==============================] - 0s 5ms/step - loss: 0.0229 - accuracy: 1.0000 - val_loss: 0.0445 - val_accuracy: 1.0000\n",
            "Epoch 37/100\n",
            "29/29 [==============================] - 0s 6ms/step - loss: 0.0219 - accuracy: 1.0000 - val_loss: 0.0429 - val_accuracy: 1.0000\n",
            "Epoch 38/100\n",
            "29/29 [==============================] - 0s 5ms/step - loss: 0.0209 - accuracy: 1.0000 - val_loss: 0.0416 - val_accuracy: 1.0000\n",
            "Epoch 39/100\n",
            "29/29 [==============================] - 0s 5ms/step - loss: 0.0200 - accuracy: 1.0000 - val_loss: 0.0402 - val_accuracy: 1.0000\n",
            "Epoch 40/100\n",
            "29/29 [==============================] - 0s 5ms/step - loss: 0.0192 - accuracy: 1.0000 - val_loss: 0.0389 - val_accuracy: 1.0000\n",
            "Epoch 41/100\n",
            "29/29 [==============================] - 0s 4ms/step - loss: 0.0184 - accuracy: 1.0000 - val_loss: 0.0377 - val_accuracy: 1.0000\n",
            "Epoch 42/100\n",
            "29/29 [==============================] - 0s 5ms/step - loss: 0.0177 - accuracy: 1.0000 - val_loss: 0.0366 - val_accuracy: 1.0000\n",
            "Epoch 43/100\n",
            "29/29 [==============================] - 0s 4ms/step - loss: 0.0170 - accuracy: 1.0000 - val_loss: 0.0354 - val_accuracy: 1.0000\n",
            "Epoch 44/100\n",
            "29/29 [==============================] - 0s 5ms/step - loss: 0.0163 - accuracy: 1.0000 - val_loss: 0.0344 - val_accuracy: 1.0000\n",
            "Epoch 45/100\n",
            "29/29 [==============================] - 0s 4ms/step - loss: 0.0157 - accuracy: 1.0000 - val_loss: 0.0334 - val_accuracy: 1.0000\n",
            "Epoch 46/100\n",
            "29/29 [==============================] - 0s 5ms/step - loss: 0.0151 - accuracy: 1.0000 - val_loss: 0.0325 - val_accuracy: 1.0000\n",
            "Epoch 47/100\n",
            "29/29 [==============================] - 0s 5ms/step - loss: 0.0145 - accuracy: 1.0000 - val_loss: 0.0316 - val_accuracy: 1.0000\n",
            "Epoch 48/100\n",
            "29/29 [==============================] - 0s 5ms/step - loss: 0.0140 - accuracy: 1.0000 - val_loss: 0.0308 - val_accuracy: 1.0000\n",
            "Epoch 49/100\n",
            "29/29 [==============================] - 0s 5ms/step - loss: 0.0135 - accuracy: 1.0000 - val_loss: 0.0299 - val_accuracy: 1.0000\n",
            "Epoch 50/100\n",
            "29/29 [==============================] - 0s 4ms/step - loss: 0.0130 - accuracy: 1.0000 - val_loss: 0.0291 - val_accuracy: 1.0000\n",
            "Epoch 51/100\n",
            "29/29 [==============================] - 0s 5ms/step - loss: 0.0126 - accuracy: 1.0000 - val_loss: 0.0284 - val_accuracy: 1.0000\n",
            "Epoch 52/100\n",
            "29/29 [==============================] - 0s 5ms/step - loss: 0.0122 - accuracy: 1.0000 - val_loss: 0.0276 - val_accuracy: 1.0000\n",
            "Epoch 53/100\n",
            "29/29 [==============================] - 0s 5ms/step - loss: 0.0118 - accuracy: 1.0000 - val_loss: 0.0269 - val_accuracy: 1.0000\n",
            "Epoch 54/100\n",
            "29/29 [==============================] - 0s 5ms/step - loss: 0.0114 - accuracy: 1.0000 - val_loss: 0.0263 - val_accuracy: 1.0000\n",
            "Epoch 55/100\n",
            "29/29 [==============================] - 0s 5ms/step - loss: 0.0110 - accuracy: 1.0000 - val_loss: 0.0256 - val_accuracy: 1.0000\n",
            "Epoch 56/100\n",
            "29/29 [==============================] - 0s 5ms/step - loss: 0.0106 - accuracy: 1.0000 - val_loss: 0.0250 - val_accuracy: 1.0000\n",
            "Epoch 57/100\n",
            "29/29 [==============================] - 0s 5ms/step - loss: 0.0103 - accuracy: 1.0000 - val_loss: 0.0244 - val_accuracy: 1.0000\n",
            "Epoch 58/100\n",
            "29/29 [==============================] - 0s 5ms/step - loss: 0.0100 - accuracy: 1.0000 - val_loss: 0.0238 - val_accuracy: 1.0000\n",
            "Epoch 59/100\n",
            "29/29 [==============================] - 0s 5ms/step - loss: 0.0097 - accuracy: 1.0000 - val_loss: 0.0233 - val_accuracy: 1.0000\n",
            "Epoch 60/100\n",
            "29/29 [==============================] - 0s 5ms/step - loss: 0.0094 - accuracy: 1.0000 - val_loss: 0.0227 - val_accuracy: 1.0000\n",
            "Epoch 61/100\n",
            "29/29 [==============================] - 0s 5ms/step - loss: 0.0091 - accuracy: 1.0000 - val_loss: 0.0222 - val_accuracy: 1.0000\n",
            "Epoch 62/100\n",
            "29/29 [==============================] - 0s 5ms/step - loss: 0.0088 - accuracy: 1.0000 - val_loss: 0.0217 - val_accuracy: 1.0000\n",
            "Epoch 63/100\n",
            "29/29 [==============================] - 0s 5ms/step - loss: 0.0085 - accuracy: 1.0000 - val_loss: 0.0213 - val_accuracy: 1.0000\n",
            "Epoch 64/100\n",
            "29/29 [==============================] - 0s 5ms/step - loss: 0.0083 - accuracy: 1.0000 - val_loss: 0.0207 - val_accuracy: 1.0000\n",
            "Epoch 65/100\n",
            "29/29 [==============================] - 0s 5ms/step - loss: 0.0080 - accuracy: 1.0000 - val_loss: 0.0203 - val_accuracy: 1.0000\n",
            "Epoch 66/100\n",
            "29/29 [==============================] - 0s 5ms/step - loss: 0.0078 - accuracy: 1.0000 - val_loss: 0.0198 - val_accuracy: 1.0000\n",
            "Epoch 67/100\n",
            "29/29 [==============================] - 0s 5ms/step - loss: 0.0076 - accuracy: 1.0000 - val_loss: 0.0194 - val_accuracy: 1.0000\n",
            "Epoch 68/100\n",
            "29/29 [==============================] - 0s 4ms/step - loss: 0.0074 - accuracy: 1.0000 - val_loss: 0.0190 - val_accuracy: 1.0000\n",
            "Epoch 69/100\n",
            "29/29 [==============================] - 0s 4ms/step - loss: 0.0072 - accuracy: 1.0000 - val_loss: 0.0186 - val_accuracy: 1.0000\n",
            "Epoch 70/100\n",
            "29/29 [==============================] - 0s 5ms/step - loss: 0.0070 - accuracy: 1.0000 - val_loss: 0.0182 - val_accuracy: 1.0000\n",
            "Epoch 71/100\n",
            "29/29 [==============================] - 0s 5ms/step - loss: 0.0068 - accuracy: 1.0000 - val_loss: 0.0178 - val_accuracy: 1.0000\n",
            "Epoch 72/100\n",
            "29/29 [==============================] - 0s 4ms/step - loss: 0.0066 - accuracy: 1.0000 - val_loss: 0.0175 - val_accuracy: 1.0000\n",
            "Epoch 73/100\n",
            "29/29 [==============================] - 0s 5ms/step - loss: 0.0064 - accuracy: 1.0000 - val_loss: 0.0171 - val_accuracy: 1.0000\n",
            "Epoch 74/100\n",
            "29/29 [==============================] - 0s 5ms/step - loss: 0.0062 - accuracy: 1.0000 - val_loss: 0.0167 - val_accuracy: 1.0000\n",
            "Epoch 75/100\n",
            "29/29 [==============================] - 0s 5ms/step - loss: 0.0061 - accuracy: 1.0000 - val_loss: 0.0164 - val_accuracy: 1.0000\n",
            "Epoch 76/100\n",
            "29/29 [==============================] - 0s 5ms/step - loss: 0.0059 - accuracy: 1.0000 - val_loss: 0.0161 - val_accuracy: 1.0000\n",
            "Epoch 77/100\n",
            "29/29 [==============================] - 0s 4ms/step - loss: 0.0058 - accuracy: 1.0000 - val_loss: 0.0157 - val_accuracy: 1.0000\n",
            "Epoch 78/100\n",
            "29/29 [==============================] - 0s 5ms/step - loss: 0.0056 - accuracy: 1.0000 - val_loss: 0.0154 - val_accuracy: 1.0000\n",
            "Epoch 79/100\n",
            "29/29 [==============================] - 0s 5ms/step - loss: 0.0055 - accuracy: 1.0000 - val_loss: 0.0151 - val_accuracy: 1.0000\n",
            "Epoch 80/100\n",
            "29/29 [==============================] - 0s 4ms/step - loss: 0.0053 - accuracy: 1.0000 - val_loss: 0.0148 - val_accuracy: 1.0000\n",
            "Epoch 81/100\n",
            "29/29 [==============================] - 0s 5ms/step - loss: 0.0052 - accuracy: 1.0000 - val_loss: 0.0145 - val_accuracy: 1.0000\n",
            "Epoch 82/100\n",
            "29/29 [==============================] - 0s 5ms/step - loss: 0.0050 - accuracy: 1.0000 - val_loss: 0.0143 - val_accuracy: 1.0000\n",
            "Epoch 83/100\n",
            "29/29 [==============================] - 0s 5ms/step - loss: 0.0049 - accuracy: 1.0000 - val_loss: 0.0140 - val_accuracy: 1.0000\n",
            "Epoch 84/100\n",
            "29/29 [==============================] - 0s 5ms/step - loss: 0.0048 - accuracy: 1.0000 - val_loss: 0.0137 - val_accuracy: 1.0000\n",
            "Epoch 85/100\n",
            "29/29 [==============================] - 0s 4ms/step - loss: 0.0047 - accuracy: 1.0000 - val_loss: 0.0135 - val_accuracy: 1.0000\n",
            "Epoch 86/100\n",
            "29/29 [==============================] - 0s 5ms/step - loss: 0.0046 - accuracy: 1.0000 - val_loss: 0.0132 - val_accuracy: 1.0000\n",
            "Epoch 87/100\n",
            "29/29 [==============================] - 0s 5ms/step - loss: 0.0044 - accuracy: 1.0000 - val_loss: 0.0129 - val_accuracy: 1.0000\n",
            "Epoch 88/100\n",
            "29/29 [==============================] - 0s 5ms/step - loss: 0.0043 - accuracy: 1.0000 - val_loss: 0.0127 - val_accuracy: 1.0000\n",
            "Epoch 89/100\n",
            "29/29 [==============================] - 0s 4ms/step - loss: 0.0042 - accuracy: 1.0000 - val_loss: 0.0125 - val_accuracy: 1.0000\n",
            "Epoch 90/100\n",
            "29/29 [==============================] - 0s 5ms/step - loss: 0.0041 - accuracy: 1.0000 - val_loss: 0.0123 - val_accuracy: 1.0000\n",
            "Epoch 91/100\n",
            "29/29 [==============================] - 0s 5ms/step - loss: 0.0040 - accuracy: 1.0000 - val_loss: 0.0121 - val_accuracy: 1.0000\n",
            "Epoch 92/100\n",
            "29/29 [==============================] - 0s 4ms/step - loss: 0.0040 - accuracy: 1.0000 - val_loss: 0.0118 - val_accuracy: 1.0000\n",
            "Epoch 93/100\n",
            "29/29 [==============================] - 0s 5ms/step - loss: 0.0039 - accuracy: 1.0000 - val_loss: 0.0116 - val_accuracy: 1.0000\n",
            "Epoch 94/100\n",
            "29/29 [==============================] - 0s 4ms/step - loss: 0.0038 - accuracy: 1.0000 - val_loss: 0.0114 - val_accuracy: 1.0000\n",
            "Epoch 95/100\n",
            "29/29 [==============================] - 0s 4ms/step - loss: 0.0037 - accuracy: 1.0000 - val_loss: 0.0112 - val_accuracy: 1.0000\n",
            "Epoch 96/100\n",
            "29/29 [==============================] - 0s 5ms/step - loss: 0.0036 - accuracy: 1.0000 - val_loss: 0.0110 - val_accuracy: 1.0000\n",
            "Epoch 97/100\n",
            "29/29 [==============================] - 0s 5ms/step - loss: 0.0035 - accuracy: 1.0000 - val_loss: 0.0108 - val_accuracy: 1.0000\n",
            "Epoch 98/100\n",
            "29/29 [==============================] - 0s 5ms/step - loss: 0.0034 - accuracy: 1.0000 - val_loss: 0.0106 - val_accuracy: 1.0000\n",
            "Epoch 99/100\n",
            "29/29 [==============================] - 0s 5ms/step - loss: 0.0034 - accuracy: 1.0000 - val_loss: 0.0105 - val_accuracy: 1.0000\n",
            "Epoch 100/100\n",
            "29/29 [==============================] - 0s 4ms/step - loss: 0.0033 - accuracy: 1.0000 - val_loss: 0.0103 - val_accuracy: 1.0000\n"
          ]
        },
        {
          "output_type": "display_data",
          "data": {
            "image/png": "[encoded data removed]",
            "text/plain": [
              "<Figure size 432x288 with 1 Axes>"
            ]
          },
          "metadata": {
            "needs_background": "light"
          }
        },
        {
          "output_type": "display_data",
          "data": {
            "image/png": "[encoded data removed]",
            "text/plain": [
              "<Figure size 432x288 with 1 Axes>"
            ]
          },
          "metadata": {
            "needs_background": "light"
          }
        }
      ]
    },
    {
      "cell_type": "code",
      "source": [
        "predictions_AC = model.predict(X_test) \n",
        "print(predictions_AC.shape)\n",
        "predictions_AC[1]"
      ],
      "metadata": {
        "colab": {
          "base_uri": "https://localhost:8080/"
        },
        "id": "gYzpyQVh-dpw",
        "outputId": "e0589cef-2ee5-4a7c-c2eb-ab3c927b843d"
      },
      "execution_count": null,
      "outputs": [
        {
          "output_type": "stream",
          "name": "stdout",
          "text": [
            "(42, 1)\n"
          ]
        },
        {
          "output_type": "execute_result",
          "data": {
            "text/plain": [
              "array([0.9996915], dtype=float32)"
            ]
          },
          "metadata": {},
          "execution_count": 57
        }
      ]
    },
    {
      "cell_type": "code",
      "source": [
        "# считаю среднее значение на X_test - на данных которые сеть не видела, неактивные молекулы\n",
        "Activ_pred = sum(predictions_AC)/len(predictions_AC)\n",
        "print(predictions_AC.shape)\n",
        "print(Activ_pred)"
      ],
      "metadata": {
        "colab": {
          "base_uri": "https://localhost:8080/"
        },
        "id": "VIJcHRF1_eEJ",
        "outputId": "c64a7dd6-dcc1-41f8-eea1-4db1cc72edbd"
      },
      "execution_count": null,
      "outputs": [
        {
          "output_type": "stream",
          "name": "stdout",
          "text": [
            "(42, 1)\n",
            "[0.99313754]\n"
          ]
        }
      ]
    },
    {
      "cell_type": "code",
      "source": [
        "predictions_IN = model.predict(smal_INactive) \n",
        "print(predictions_IN.shape)\n",
        "predictions_IN[1]\n"
      ],
      "metadata": {
        "colab": {
          "base_uri": "https://localhost:8080/"
        },
        "id": "Ve-_Ity6AFzX",
        "outputId": "3c85c7dc-8386-4fbe-c097-4be4afdefbad"
      },
      "execution_count": null,
      "outputs": [
        {
          "output_type": "stream",
          "name": "stdout",
          "text": [
            "(21, 1)\n"
          ]
        },
        {
          "output_type": "execute_result",
          "data": {
            "text/plain": [
              "array([0.9954562], dtype=float32)"
            ]
          },
          "metadata": {},
          "execution_count": 60
        }
      ]
    },
    {
      "cell_type": "code",
      "source": [
        "# считаю среднее значение на X_test - на данных которые сеть не видела, неактивные молекулы\n",
        "INactiv_pred = sum(predictions_IN)/len(predictions_IN)\n",
        "print(predictions_IN.shape)\n",
        "print(INactiv_pred)"
      ],
      "metadata": {
        "colab": {
          "base_uri": "https://localhost:8080/"
        },
        "id": "GSj-KEQXATXD",
        "outputId": "7e01b46e-8ffa-41d0-b459-caeaaf85dd84"
      },
      "execution_count": null,
      "outputs": [
        {
          "output_type": "stream",
          "name": "stdout",
          "text": [
            "(21, 1)\n",
            "[0.98834854]\n"
          ]
        }
      ]
    },
    {
      "cell_type": "code",
      "source": [
        ""
      ],
      "metadata": {
        "id": "c0asD8q9VuFH"
      },
      "execution_count": null,
      "outputs": []
    },
    {
      "cell_type": "markdown",
      "source": [
        "#Составная нейронка с несколькими входами"
      ],
      "metadata": {
        "id": "5DaQlrSDVuP0"
      }
    },
    {
      "cell_type": "code",
      "source": [
        ""
      ],
      "metadata": {
        "id": "E4G36wtjeWk9"
      },
      "execution_count": null,
      "outputs": []
    },
    {
      "cell_type": "code",
      "source": [
        ""
      ],
      "metadata": {
        "id": "f3qckaSReWpT"
      },
      "execution_count": null,
      "outputs": []
    },
    {
      "cell_type": "code",
      "source": [
        ""
      ],
      "metadata": {
        "id": "8w3yixP_eWvD"
      },
      "execution_count": null,
      "outputs": []
    }
  ]
}